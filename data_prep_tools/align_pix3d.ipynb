{
 "cells": [
  {
   "cell_type": "code",
   "execution_count": 1,
   "metadata": {
    "ExecuteTime": {
     "end_time": "2020-10-11T04:12:31.053820Z",
     "start_time": "2020-10-11T04:12:31.042195Z"
    }
   },
   "outputs": [],
   "source": [
    "%load_ext autoreload\n",
    "%autoreload 2\n",
    "notebook_fixed_dir = False"
   ]
  },
  {
   "cell_type": "code",
   "execution_count": 2,
   "metadata": {
    "ExecuteTime": {
     "end_time": "2020-10-11T04:12:31.695150Z",
     "start_time": "2020-10-11T04:12:31.686191Z"
    }
   },
   "outputs": [
    {
     "name": "stdout",
     "output_type": "stream",
     "text": [
      "/home/svcl-oowl/brandon/research/sil_consistent_at_inference\n"
     ]
    }
   ],
   "source": [
    "# this cell can only be called once\n",
    "import os\n",
    "if not notebook_fixed_dir:\n",
    "    os.chdir('..')\n",
    "    notebook_fixed_dir = True\n",
    "print(os.getcwd())"
   ]
  },
  {
   "cell_type": "code",
   "execution_count": 3,
   "metadata": {
    "ExecuteTime": {
     "end_time": "2020-10-11T04:12:34.002864Z",
     "start_time": "2020-10-11T04:12:32.622624Z"
    }
   },
   "outputs": [],
   "source": [
    "from pathlib import Path\n",
    "import os\n",
    "\n",
    "import torch\n",
    "from pytorch3d.io import save_obj\n",
    "from tqdm.autonotebook import tqdm\n",
    "import numpy as np\n",
    "\n",
    "from utils import utils"
   ]
  },
  {
   "cell_type": "code",
   "execution_count": 26,
   "metadata": {
    "ExecuteTime": {
     "end_time": "2020-10-11T04:26:33.718335Z",
     "start_time": "2020-10-11T04:26:33.694577Z"
    }
   },
   "outputs": [],
   "source": [
    "PIX3D_PATH = \"/home/svcl-oowl/dataset/pix3d\"\n",
    "CLASS = \"wardrobe\"\n",
    "#device = torch.device(\"cuda:\"+str(gpu_num))\n",
    "device = torch.device(\"cpu\")"
   ]
  },
  {
   "cell_type": "code",
   "execution_count": 27,
   "metadata": {
    "ExecuteTime": {
     "end_time": "2020-10-11T04:26:34.823053Z",
     "start_time": "2020-10-11T04:26:34.391418Z"
    }
   },
   "outputs": [
    {
     "name": "stdout",
     "output_type": "stream",
     "text": [
      "['/home/svcl-oowl/dataset/pix3d/model/wardrobe/IKEA_PAX_3/model.obj', '/home/svcl-oowl/dataset/pix3d/model/wardrobe/IKEA_PAX_2/model.obj', '/home/svcl-oowl/dataset/pix3d/model/wardrobe/IKEA_PAX_4/model.obj', '/home/svcl-oowl/dataset/pix3d/model/wardrobe/IKEA_ANEBODA_1/model.obj', '/home/svcl-oowl/dataset/pix3d/model/wardrobe/IKEA_DOMBAS/model.obj', '/home/svcl-oowl/dataset/pix3d/model/wardrobe/IKEA_ODDA_1/model.obj', '/home/svcl-oowl/dataset/pix3d/model/wardrobe/IKEA_PAX_1/model.obj', '/home/svcl-oowl/dataset/pix3d/model/wardrobe/IKEA_HEMNES/model.obj', '/home/svcl-oowl/dataset/pix3d/model/wardrobe/IKEA_ODDA_2/model.obj', '/home/svcl-oowl/dataset/pix3d/model/wardrobe/IKEA_ANEBODA_2/model.obj']\n"
     ]
    }
   ],
   "source": [
    "obj_paths = [str(path) for path in list(Path(os.path.join(PIX3D_PATH, \"model\", CLASS)).rglob('*.obj'))]\n",
    "print(obj_paths)"
   ]
  },
  {
   "cell_type": "code",
   "execution_count": 28,
   "metadata": {
    "ExecuteTime": {
     "end_time": "2020-10-11T04:26:40.726291Z",
     "start_time": "2020-10-11T04:26:35.578199Z"
    }
   },
   "outputs": [
    {
     "data": {
      "application/vnd.jupyter.widget-view+json": {
       "model_id": "5e7cf1b0ef4641c485fe4f44c33e0c26",
       "version_major": 2,
       "version_minor": 0
      },
      "text/plain": [
       "HBox(children=(FloatProgress(value=0.0, max=10.0), HTML(value='')))"
      ]
     },
     "metadata": {},
     "output_type": "display_data"
    },
    {
     "name": "stdout",
     "output_type": "stream",
     "text": [
      "\n"
     ]
    }
   ],
   "source": [
    " # y-axis ccw by 90 deg\n",
    "rot_mat = torch.tensor([[0,0,1],[0,1,0],[-1,0,0]], dtype=torch.float)\n",
    "\n",
    "for obj_path in tqdm(obj_paths):\n",
    "    with torch.no_grad():\n",
    "        mesh = utils.load_untextured_mesh(obj_path, device)\n",
    "        aligned_verts = mesh.verts_packed() @ rot_mat\n",
    "    \n",
    "    aligned_obj_path = '/'.join(obj_path.split('/')[:-1]) + \"/aligned_\"+obj_path.split('/')[-1]\n",
    "    save_obj(aligned_obj_path, aligned_verts, mesh.faces_packed())"
   ]
  },
  {
   "cell_type": "code",
   "execution_count": null,
   "metadata": {},
   "outputs": [],
   "source": []
  },
  {
   "cell_type": "code",
   "execution_count": null,
   "metadata": {},
   "outputs": [],
   "source": []
  },
  {
   "cell_type": "code",
   "execution_count": null,
   "metadata": {},
   "outputs": [],
   "source": []
  }
 ],
 "metadata": {
  "kernelspec": {
   "display_name": "Python [conda env:standard] *",
   "language": "python",
   "name": "conda-env-standard-py"
  },
  "language_info": {
   "codemirror_mode": {
    "name": "ipython",
    "version": 3
   },
   "file_extension": ".py",
   "mimetype": "text/x-python",
   "name": "python",
   "nbconvert_exporter": "python",
   "pygments_lexer": "ipython3",
   "version": "3.6.9"
  }
 },
 "nbformat": 4,
 "nbformat_minor": 4
}
