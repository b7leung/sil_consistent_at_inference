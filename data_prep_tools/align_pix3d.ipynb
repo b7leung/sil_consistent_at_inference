{
 "cells": [
  {
   "cell_type": "code",
   "execution_count": 1,
   "metadata": {
    "ExecuteTime": {
     "end_time": "2020-09-19T00:15:40.715653Z",
     "start_time": "2020-09-19T00:15:40.700822Z"
    }
   },
   "outputs": [],
   "source": [
    "%load_ext autoreload\n",
    "%autoreload 2\n",
    "notebook_fixed_dir = False"
   ]
  },
  {
   "cell_type": "code",
   "execution_count": 2,
   "metadata": {
    "ExecuteTime": {
     "end_time": "2020-09-19T00:15:41.405294Z",
     "start_time": "2020-09-19T00:15:41.393864Z"
    }
   },
   "outputs": [
    {
     "name": "stdout",
     "output_type": "stream",
     "text": [
      "/home/svcl-oowl/brandon/research/sil_consistent_at_inference\n"
     ]
    }
   ],
   "source": [
    "# this cell can only be called once\n",
    "import os\n",
    "if not notebook_fixed_dir:\n",
    "    os.chdir('..')\n",
    "    notebook_fixed_dir = True\n",
    "print(os.getcwd())"
   ]
  },
  {
   "cell_type": "code",
   "execution_count": 3,
   "metadata": {
    "ExecuteTime": {
     "end_time": "2020-09-19T00:15:44.211441Z",
     "start_time": "2020-09-19T00:15:42.581831Z"
    }
   },
   "outputs": [],
   "source": [
    "from pathlib import Path\n",
    "import os\n",
    "\n",
    "import torch\n",
    "from pytorch3d.io import save_obj\n",
    "from tqdm.autonotebook import tqdm\n",
    "import numpy as np\n",
    "\n",
    "from utils import utils"
   ]
  },
  {
   "cell_type": "code",
   "execution_count": 4,
   "metadata": {
    "ExecuteTime": {
     "end_time": "2020-09-19T00:15:44.808898Z",
     "start_time": "2020-09-19T00:15:44.784465Z"
    }
   },
   "outputs": [],
   "source": [
    "PIX3D_PATH = \"/home/svcl-oowl/dataset/pix3d\"\n",
    "CLASS = \"chair\"\n",
    "#device = torch.device(\"cuda:\"+str(gpu_num))\n",
    "device = torch.device(\"cpu\")"
   ]
  },
  {
   "cell_type": "code",
   "execution_count": 5,
   "metadata": {
    "ExecuteTime": {
     "end_time": "2020-09-19T00:15:46.813540Z",
     "start_time": "2020-09-19T00:15:46.771547Z"
    }
   },
   "outputs": [],
   "source": [
    "obj_paths = [str(path) for path in list(Path(os.path.join(PIX3D_PATH, \"model\", CLASS)).rglob('*.obj'))]"
   ]
  },
  {
   "cell_type": "code",
   "execution_count": 10,
   "metadata": {
    "ExecuteTime": {
     "end_time": "2020-09-19T00:52:35.475747Z",
     "start_time": "2020-09-19T00:21:05.858434Z"
    }
   },
   "outputs": [
    {
     "data": {
      "application/vnd.jupyter.widget-view+json": {
       "model_id": "9c95adb17e314bccab23eef3d9a78282",
       "version_major": 2,
       "version_minor": 0
      },
      "text/plain": [
       "HBox(children=(FloatProgress(value=0.0, max=561.0), HTML(value='')))"
      ]
     },
     "metadata": {},
     "output_type": "display_data"
    },
    {
     "name": "stdout",
     "output_type": "stream",
     "text": [
      "\n"
     ]
    }
   ],
   "source": [
    " # y-axis ccw by 90 deg\n",
    "rot_mat = torch.tensor([[0,0,1],[0,1,0],[-1,0,0]], dtype=torch.float)\n",
    "\n",
    "for obj_path in tqdm(obj_paths):\n",
    "    with torch.no_grad():\n",
    "        mesh = utils.load_untextured_mesh(obj_path, device)\n",
    "        aligned_verts = mesh.verts_packed() @ rot_mat\n",
    "    \n",
    "    aligned_obj_path = '/'.join(obj_path.split('/')[:-1]) + \"/aligned_\"+obj_path.split('/')[-1]\n",
    "    save_obj(aligned_obj_path, aligned_verts, mesh.faces_packed())"
   ]
  },
  {
   "cell_type": "code",
   "execution_count": null,
   "metadata": {},
   "outputs": [],
   "source": []
  },
  {
   "cell_type": "code",
   "execution_count": null,
   "metadata": {},
   "outputs": [],
   "source": []
  },
  {
   "cell_type": "code",
   "execution_count": null,
   "metadata": {},
   "outputs": [],
   "source": []
  }
 ],
 "metadata": {
  "kernelspec": {
   "display_name": "Python [conda env:standard] *",
   "language": "python",
   "name": "conda-env-standard-py"
  },
  "language_info": {
   "codemirror_mode": {
    "name": "ipython",
    "version": 3
   },
   "file_extension": ".py",
   "mimetype": "text/x-python",
   "name": "python",
   "nbconvert_exporter": "python",
   "pygments_lexer": "ipython3",
   "version": "3.6.9"
  }
 },
 "nbformat": 4,
 "nbformat_minor": 4
}
