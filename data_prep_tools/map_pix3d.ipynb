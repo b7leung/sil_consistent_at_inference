{
 "cells": [
  {
   "cell_type": "code",
   "execution_count": 1,
   "metadata": {
    "ExecuteTime": {
     "end_time": "2020-09-19T00:23:25.601734Z",
     "start_time": "2020-09-19T00:23:25.524042Z"
    }
   },
   "outputs": [],
   "source": [
    "import numpy as np\n",
    "import os\n",
    "import json\n",
    "import pprint\n",
    "import subprocess\n",
    "from PIL import Image\n",
    "import PIL.ImageOps    \n",
    "import glob\n",
    "from tqdm import tqdm"
   ]
  },
  {
   "cell_type": "code",
   "execution_count": 2,
   "metadata": {
    "ExecuteTime": {
     "end_time": "2020-09-19T00:23:26.259297Z",
     "start_time": "2020-09-19T00:23:26.256410Z"
    }
   },
   "outputs": [],
   "source": [
    "PIX3D_PATH = \"/home/svcl-oowl/dataset/pix3d\"\n",
    "CLASS = \"chair\"\n",
    "OUTPUT_FILE = \"/home/svcl-oowl/brandon/research/sil_consistent_at_inference/data_evaluation/pix3d_{}/pix3d_{}_gt_shapes.lst\".format(CLASS, CLASS)"
   ]
  },
  {
   "cell_type": "code",
   "execution_count": 3,
   "metadata": {
    "ExecuteTime": {
     "end_time": "2020-09-19T00:23:28.532684Z",
     "start_time": "2020-09-19T00:23:27.004778Z"
    }
   },
   "outputs": [],
   "source": [
    "with open(os.path.join(PIX3D_PATH, \"pix3d.json\")) as f:\n",
    "    pix3d_data_json = json.loads(f.read())\n",
    "# convert list of dicts into a dict (keyed by image path) of dicts\n",
    "pix3d_data_dict = { entry[\"img\"]:entry for entry in pix3d_data_json}"
   ]
  },
  {
   "cell_type": "code",
   "execution_count": 5,
   "metadata": {
    "ExecuteTime": {
     "end_time": "2020-09-19T00:23:44.169160Z",
     "start_time": "2020-09-19T00:23:44.112242Z"
    }
   },
   "outputs": [],
   "source": [
    "#pprint.pprint(pix3d_data_dict)\n",
    "with open(OUTPUT_FILE, \"w\") as output_file:\n",
    "    for root, dirs, files in os.walk(os.path.join(PIX3D_PATH, \"img\", CLASS)):\n",
    "        for f in files:\n",
    "            model_path = pix3d_data_dict[\"img/{}/{}\".format(CLASS, f)][\"model\"]\n",
    "            model_path = os.path.join(PIX3D_PATH, model_path)\n",
    "            model_path = '/'.join(model_path.split('/')[:-1]) + \"/aligned_\" + model_path.split('/')[-1]\n",
    "            output_file.write(\"{} {}\\n\".format(f.split('.')[0], model_path))\n",
    "        "
   ]
  },
  {
   "cell_type": "code",
   "execution_count": null,
   "metadata": {},
   "outputs": [],
   "source": []
  },
  {
   "cell_type": "code",
   "execution_count": null,
   "metadata": {},
   "outputs": [],
   "source": []
  },
  {
   "cell_type": "code",
   "execution_count": null,
   "metadata": {},
   "outputs": [],
   "source": []
  }
 ],
 "metadata": {
  "kernelspec": {
   "display_name": "Python [conda env:standard] *",
   "language": "python",
   "name": "conda-env-standard-py"
  },
  "language_info": {
   "codemirror_mode": {
    "name": "ipython",
    "version": 3
   },
   "file_extension": ".py",
   "mimetype": "text/x-python",
   "name": "python",
   "nbconvert_exporter": "python",
   "pygments_lexer": "ipython3",
   "version": "3.6.9"
  }
 },
 "nbformat": 4,
 "nbformat_minor": 4
}
