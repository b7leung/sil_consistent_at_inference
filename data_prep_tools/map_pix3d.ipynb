{
 "cells": [
  {
   "cell_type": "code",
   "execution_count": 1,
   "metadata": {
    "ExecuteTime": {
     "end_time": "2020-10-12T05:09:48.956137Z",
     "start_time": "2020-10-12T05:09:48.878390Z"
    }
   },
   "outputs": [],
   "source": [
    "import numpy as np\n",
    "import os\n",
    "import json\n",
    "import pprint\n",
    "import subprocess\n",
    "from PIL import Image\n",
    "import PIL.ImageOps    \n",
    "import glob\n",
    "from tqdm import tqdm"
   ]
  },
  {
   "cell_type": "code",
   "execution_count": 21,
   "metadata": {
    "ExecuteTime": {
     "end_time": "2020-10-12T05:12:58.452912Z",
     "start_time": "2020-10-12T05:12:58.450187Z"
    }
   },
   "outputs": [],
   "source": [
    "PIX3D_PATH = \"/home/svcl-oowl/dataset/pix3d\"\n",
    "CLASS = \"wardrobe\"\n",
    "#OUTPUT_FILE = \"/home/svcl-oowl/brandon/research/sil_consistent_at_inference/data_evaluation/pix3d_{}/pix3d_{}_gt_shapes.lst\".format(CLASS, CLASS)\n",
    "OUTPUT_FILE = \"/home/svcl-oowl/brandon/research/sil_consistent_at_inference/data/gt_shapes_path_lists/pix3d_{}_gt_shapes.lst\".format(CLASS)"
   ]
  },
  {
   "cell_type": "code",
   "execution_count": 3,
   "metadata": {
    "ExecuteTime": {
     "end_time": "2020-10-12T05:09:55.115646Z",
     "start_time": "2020-10-12T05:09:53.913882Z"
    }
   },
   "outputs": [],
   "source": [
    "with open(os.path.join(PIX3D_PATH, \"pix3d.json\")) as f:\n",
    "    pix3d_data_json = json.loads(f.read())\n",
    "# convert list of dicts into a dict (keyed by image path) of dicts\n",
    "pix3d_data_dict = { entry[\"img\"]:entry for entry in pix3d_data_json}"
   ]
  },
  {
   "cell_type": "code",
   "execution_count": 22,
   "metadata": {
    "ExecuteTime": {
     "end_time": "2020-10-12T05:13:00.581783Z",
     "start_time": "2020-10-12T05:13:00.459834Z"
    }
   },
   "outputs": [],
   "source": [
    "with open(OUTPUT_FILE, \"w\") as output_file:\n",
    "    for root, dirs, files in os.walk(os.path.join(PIX3D_PATH, \"img\", CLASS)):\n",
    "        for f in files:\n",
    "            model_path = pix3d_data_dict[\"img/{}/{}\".format(CLASS, f)][\"model\"]\n",
    "            model_path = os.path.join(PIX3D_PATH, model_path)\n",
    "            model_path = '/'.join(model_path.split('/')[:-1]) + \"/aligned_\" + model_path.split('/')[-1].replace(\".obj\", \"_watertight.obj\")\n",
    "            output_file.write(\"{} {}\\n\".format(f.split('.')[0], model_path))\n",
    "        "
   ]
  },
  {
   "cell_type": "code",
   "execution_count": null,
   "metadata": {},
   "outputs": [],
   "source": []
  },
  {
   "cell_type": "code",
   "execution_count": null,
   "metadata": {},
   "outputs": [],
   "source": []
  },
  {
   "cell_type": "code",
   "execution_count": null,
   "metadata": {},
   "outputs": [],
   "source": []
  }
 ],
 "metadata": {
  "kernelspec": {
   "display_name": "Python [conda env:standard] *",
   "language": "python",
   "name": "conda-env-standard-py"
  },
  "language_info": {
   "codemirror_mode": {
    "name": "ipython",
    "version": 3
   },
   "file_extension": ".py",
   "mimetype": "text/x-python",
   "name": "python",
   "nbconvert_exporter": "python",
   "pygments_lexer": "ipython3",
   "version": "3.6.9"
  }
 },
 "nbformat": 4,
 "nbformat_minor": 4
}
