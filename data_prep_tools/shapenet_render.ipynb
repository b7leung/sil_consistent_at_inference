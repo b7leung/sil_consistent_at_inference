{
 "cells": [
  {
   "cell_type": "code",
   "execution_count": 1,
   "metadata": {
    "ExecuteTime": {
     "end_time": "2020-10-01T10:53:15.059939Z",
     "start_time": "2020-10-01T10:53:15.044655Z"
    }
   },
   "outputs": [],
   "source": [
    "%load_ext autoreload\n",
    "%autoreload 2\n",
    "notebook_fixed_dir = False"
   ]
  },
  {
   "cell_type": "code",
   "execution_count": 2,
   "metadata": {
    "ExecuteTime": {
     "end_time": "2020-10-01T10:53:15.701206Z",
     "start_time": "2020-10-01T10:53:15.687342Z"
    }
   },
   "outputs": [
    {
     "name": "stdout",
     "output_type": "stream",
     "text": [
      "/home/svcl-oowl/brandon/research/sil_consistent_at_inference\n"
     ]
    }
   ],
   "source": [
    "# this cell can only be called once\n",
    "import os\n",
    "if not notebook_fixed_dir:\n",
    "    os.chdir('..')\n",
    "    notebook_fixed_dir = True\n",
    "print(os.getcwd())"
   ]
  },
  {
   "cell_type": "code",
   "execution_count": 16,
   "metadata": {
    "ExecuteTime": {
     "end_time": "2020-10-01T11:32:56.451311Z",
     "start_time": "2020-10-01T11:32:56.416904Z"
    }
   },
   "outputs": [],
   "source": [
    "import pprint\n",
    "import glob\n",
    "from pathlib import Path\n",
    "import pickle\n",
    "import random\n",
    "\n",
    "import torch\n",
    "from PIL import Image\n",
    "import numpy as np\n",
    "from pytorch3d.renderer import look_at_view_transform\n",
    "from pytorch3d.structures.meshes import Meshes\n",
    "import matplotlib.pyplot as plt\n",
    "import trimesh\n",
    "from tqdm.autonotebook import tqdm\n",
    "from pytorch3d.io import save_obj, load_obj\n",
    "from pytorch3d.renderer.mesh import TexturesAtlas\n",
    "\n",
    "import postprocess_dataset\n",
    "from utils import utils, visualization_tools, nn_pose_est, eval_utils\n",
    "from evaluation import compute_iou_2d, compute_iou_2d_given_pose, compute_iou_3d, compute_chamfer_L1\n",
    "from utils.brute_force_pose_est import brute_force_estimate_pose\n",
    "from mesh_refiner import MeshRefiner"
   ]
  },
  {
   "cell_type": "code",
   "execution_count": 32,
   "metadata": {
    "ExecuteTime": {
     "end_time": "2020-10-01T11:47:09.269976Z",
     "start_time": "2020-10-01T11:47:09.238531Z"
    }
   },
   "outputs": [],
   "source": [
    "mesh_path = \"/home/svcl-oowl/dataset/shapenet_test/03001627/f9cdefd31b167f95e8f8c11a24c52ebb/model.obj\"\n",
    "#mesh_path = \"data/cow_mesh/cow.obj\"\n",
    "gpu_device = torch.device(\"cuda:0\")"
   ]
  },
  {
   "cell_type": "code",
   "execution_count": 35,
   "metadata": {
    "ExecuteTime": {
     "end_time": "2020-10-01T11:51:42.817232Z",
     "start_time": "2020-10-01T11:51:38.856122Z"
    }
   },
   "outputs": [
    {
     "ename": "ValueError",
     "evalue": "Expected atlas to be a list of tensors of shape (F, R, R, D) with the same value of R.",
     "output_type": "error",
     "traceback": [
      "\u001b[0;31m---------------------------------------------------------------------------\u001b[0m",
      "\u001b[0;31mValueError\u001b[0m                                Traceback (most recent call last)",
      "\u001b[0;32m<ipython-input-35-22565a94eaac>\u001b[0m in \u001b[0;36m<module>\u001b[0;34m\u001b[0m\n\u001b[1;32m      3\u001b[0m     \u001b[0mverts\u001b[0m\u001b[0;34m=\u001b[0m\u001b[0;34m[\u001b[0m\u001b[0mverts\u001b[0m\u001b[0;34m]\u001b[0m\u001b[0;34m,\u001b[0m\u001b[0;34m\u001b[0m\u001b[0;34m\u001b[0m\u001b[0m\n\u001b[1;32m      4\u001b[0m     \u001b[0mfaces\u001b[0m\u001b[0;34m=\u001b[0m\u001b[0;34m[\u001b[0m\u001b[0mfaces\u001b[0m\u001b[0;34m.\u001b[0m\u001b[0mverts_idx\u001b[0m\u001b[0;34m]\u001b[0m\u001b[0;34m,\u001b[0m\u001b[0;34m\u001b[0m\u001b[0;34m\u001b[0m\u001b[0m\n\u001b[0;32m----> 5\u001b[0;31m     \u001b[0mtextures\u001b[0m\u001b[0;34m=\u001b[0m\u001b[0mTexturesAtlas\u001b[0m\u001b[0;34m(\u001b[0m\u001b[0matlas\u001b[0m\u001b[0;34m=\u001b[0m\u001b[0;34m[\u001b[0m\u001b[0maux\u001b[0m\u001b[0;34m.\u001b[0m\u001b[0mtexture_atlas\u001b[0m\u001b[0;34m]\u001b[0m\u001b[0;34m)\u001b[0m\u001b[0;34m,\u001b[0m\u001b[0;34m\u001b[0m\u001b[0;34m\u001b[0m\u001b[0m\n\u001b[0m\u001b[1;32m      6\u001b[0m )\n",
      "\u001b[0;32m/opt/conda/envs/standard/lib/python3.6/site-packages/pytorch3d/renderer/mesh/textures.py\u001b[0m in \u001b[0;36m__init__\u001b[0;34m(self, atlas)\u001b[0m\n\u001b[1;32m    348\u001b[0m                     \u001b[0;34m\"with the same value of R.\"\u001b[0m\u001b[0;34m\u001b[0m\u001b[0;34m\u001b[0m\u001b[0m\n\u001b[1;32m    349\u001b[0m                 )\n\u001b[0;32m--> 350\u001b[0;31m                 \u001b[0;32mraise\u001b[0m \u001b[0mValueError\u001b[0m\u001b[0;34m(\u001b[0m\u001b[0mmsg\u001b[0m\u001b[0;34m)\u001b[0m\u001b[0;34m\u001b[0m\u001b[0;34m\u001b[0m\u001b[0m\n\u001b[0m\u001b[1;32m    351\u001b[0m             \u001b[0mself\u001b[0m\u001b[0;34m.\u001b[0m\u001b[0m_atlas_list\u001b[0m \u001b[0;34m=\u001b[0m \u001b[0matlas\u001b[0m\u001b[0;34m\u001b[0m\u001b[0;34m\u001b[0m\u001b[0m\n\u001b[1;32m    352\u001b[0m             \u001b[0mself\u001b[0m\u001b[0;34m.\u001b[0m\u001b[0m_atlas_padded\u001b[0m \u001b[0;34m=\u001b[0m \u001b[0;32mNone\u001b[0m\u001b[0;34m\u001b[0m\u001b[0;34m\u001b[0m\u001b[0m\n",
      "\u001b[0;31mValueError\u001b[0m: Expected atlas to be a list of tensors of shape (F, R, R, D) with the same value of R."
     ]
    }
   ],
   "source": [
    "from pytorch3d.io import load_obj\n",
    "from pytorch3d.renderer.mesh import TexturesAtlas\n",
    "from pytorch3d.structures.meshes import Meshes\n",
    "\n",
    "mesh_path = \"f9cdefd31b167f95e8f8c11a24c52ebb/model.obj\"\n",
    "verts, faces, aux = load_obj(mesh_path, load_textures=True, create_texture_atlas=True)\n",
    "mesh = Meshes(\n",
    "    verts=[verts],\n",
    "    faces=[faces.verts_idx],\n",
    "    textures=TexturesAtlas(atlas=[aux.texture_atlas]),\n",
    ")"
   ]
  },
  {
   "cell_type": "code",
   "execution_count": null,
   "metadata": {},
   "outputs": [],
   "source": []
  },
  {
   "cell_type": "code",
   "execution_count": null,
   "metadata": {},
   "outputs": [],
   "source": []
  },
  {
   "cell_type": "code",
   "execution_count": null,
   "metadata": {},
   "outputs": [],
   "source": []
  },
  {
   "cell_type": "code",
   "execution_count": null,
   "metadata": {},
   "outputs": [],
   "source": []
  },
  {
   "cell_type": "code",
   "execution_count": null,
   "metadata": {},
   "outputs": [],
   "source": []
  },
  {
   "cell_type": "code",
   "execution_count": null,
   "metadata": {},
   "outputs": [],
   "source": []
  }
 ],
 "metadata": {
  "kernelspec": {
   "display_name": "Python [conda env:standard] *",
   "language": "python",
   "name": "conda-env-standard-py"
  },
  "language_info": {
   "codemirror_mode": {
    "name": "ipython",
    "version": 3
   },
   "file_extension": ".py",
   "mimetype": "text/x-python",
   "name": "python",
   "nbconvert_exporter": "python",
   "pygments_lexer": "ipython3",
   "version": "3.6.9"
  }
 },
 "nbformat": 4,
 "nbformat_minor": 4
}
