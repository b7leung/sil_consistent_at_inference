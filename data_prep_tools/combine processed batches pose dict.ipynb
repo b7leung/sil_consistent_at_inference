{
 "cells": [
  {
   "cell_type": "code",
   "execution_count": 1,
   "metadata": {
    "ExecuteTime": {
     "end_time": "2020-08-26T10:49:16.729902Z",
     "start_time": "2020-08-26T10:49:16.543978Z"
    }
   },
   "outputs": [],
   "source": [
    "%load_ext autoreload\n",
    "%autoreload 2\n",
    "notebook_fixed_dir = False"
   ]
  },
  {
   "cell_type": "code",
   "execution_count": 2,
   "metadata": {
    "ExecuteTime": {
     "end_time": "2020-08-26T10:49:17.606851Z",
     "start_time": "2020-08-26T10:49:17.594005Z"
    }
   },
   "outputs": [
    {
     "name": "stdout",
     "output_type": "stream",
     "text": [
      "/home/svcl-oowl/brandon/research/sil_consistent_at_inference\n"
     ]
    }
   ],
   "source": [
    "# this cell can only be called once\n",
    "import os\n",
    "if not notebook_fixed_dir:\n",
    "    os.chdir('..')\n",
    "    notebook_fixed_dir = True\n",
    "print(os.getcwd())"
   ]
  },
  {
   "cell_type": "code",
   "execution_count": 3,
   "metadata": {
    "ExecuteTime": {
     "end_time": "2020-08-26T10:49:18.505445Z",
     "start_time": "2020-08-26T10:49:18.495803Z"
    }
   },
   "outputs": [],
   "source": [
    "from pathlib import Path\n",
    "import pprint\n",
    "import pickle"
   ]
  },
  {
   "cell_type": "code",
   "execution_count": 4,
   "metadata": {
    "ExecuteTime": {
     "end_time": "2020-08-26T10:49:21.748974Z",
     "start_time": "2020-08-26T10:49:21.739680Z"
    }
   },
   "outputs": [],
   "source": [
    "# given the path to a processed mesh folder, combines all the pickled cached poses and saves into one pickle\n",
    "INPUT_PROCESSED_DIR = \"data/onet_chair_pix3d_dann_simplified_processed\""
   ]
  },
  {
   "cell_type": "code",
   "execution_count": 13,
   "metadata": {
    "ExecuteTime": {
     "end_time": "2020-08-26T10:54:18.044924Z",
     "start_time": "2020-08-26T10:54:17.391695Z"
    }
   },
   "outputs": [],
   "source": [
    "combined_pred_pose_dict = {}\n",
    "batch_pred_pose_paths = list(Path(INPUT_PROCESSED_DIR).rglob('pred_poses.p'))\n",
    "for i in range(len(batch_pred_pose_paths)):\n",
    "    pred_pose_dict = pickle.load(open(batch_pred_pose_paths[i], \"rb\"))\n",
    "    combined_pred_pose_dict = {**combined_pred_pose_dict, **pred_pose_dict}"
   ]
  },
  {
   "cell_type": "code",
   "execution_count": 15,
   "metadata": {
    "ExecuteTime": {
     "end_time": "2020-08-26T10:54:25.011637Z",
     "start_time": "2020-08-26T10:54:25.001325Z"
    }
   },
   "outputs": [
    {
     "name": "stdout",
     "output_type": "stream",
     "text": [
      "3833\n"
     ]
    }
   ],
   "source": [
    "pprint.pprint(len(combined_pred_pose_dict))"
   ]
  },
  {
   "cell_type": "code",
   "execution_count": 16,
   "metadata": {
    "ExecuteTime": {
     "end_time": "2020-08-26T10:56:10.282115Z",
     "start_time": "2020-08-26T10:56:10.240863Z"
    }
   },
   "outputs": [],
   "source": [
    "pickle.dump(combined_pred_pose_dict, open(os.path.join(INPUT_PROCESSED_DIR, \"pred_poses.p\"), \"wb\"))"
   ]
  },
  {
   "cell_type": "code",
   "execution_count": null,
   "metadata": {},
   "outputs": [],
   "source": []
  }
 ],
 "metadata": {
  "kernelspec": {
   "display_name": "Python [conda env:standard] *",
   "language": "python",
   "name": "conda-env-standard-py"
  },
  "language_info": {
   "codemirror_mode": {
    "name": "ipython",
    "version": 3
   },
   "file_extension": ".py",
   "mimetype": "text/x-python",
   "name": "python",
   "nbconvert_exporter": "python",
   "pygments_lexer": "ipython3",
   "version": "3.6.9"
  }
 },
 "nbformat": 4,
 "nbformat_minor": 4
}
