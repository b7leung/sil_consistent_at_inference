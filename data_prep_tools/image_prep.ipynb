{
 "cells": [
  {
   "cell_type": "code",
   "execution_count": 1,
   "metadata": {
    "ExecuteTime": {
     "end_time": "2020-08-16T10:51:19.144871Z",
     "start_time": "2020-08-16T10:51:19.130417Z"
    }
   },
   "outputs": [],
   "source": [
    "%load_ext autoreload\n",
    "%autoreload 2\n",
    "notebook_fixed_dir = False"
   ]
  },
  {
   "cell_type": "code",
   "execution_count": 2,
   "metadata": {
    "ExecuteTime": {
     "end_time": "2020-08-16T10:51:20.918305Z",
     "start_time": "2020-08-16T10:51:20.907438Z"
    }
   },
   "outputs": [
    {
     "name": "stdout",
     "output_type": "stream",
     "text": [
      "/home/svcl-oowl/brandon/research/sil_consistent_at_inference\n"
     ]
    }
   ],
   "source": [
    "# this cell can only be called once\n",
    "import os\n",
    "if not notebook_fixed_dir:\n",
    "    os.chdir('..')\n",
    "    notebook_fixed_dir = True\n",
    "print(os.getcwd())"
   ]
  },
  {
   "cell_type": "code",
   "execution_count": 16,
   "metadata": {
    "ExecuteTime": {
     "end_time": "2020-08-16T11:34:27.447635Z",
     "start_time": "2020-08-16T11:34:27.432117Z"
    }
   },
   "outputs": [],
   "source": [
    "import pprint\n",
    "import glob\n",
    "import os\n",
    "\n",
    "import cv2\n",
    "import torch\n",
    "import numpy as np\n",
    "import matplotlib.pyplot as plt\n",
    "import PIL\n",
    "from PIL import Image\n"
   ]
  },
  {
   "cell_type": "code",
   "execution_count": 17,
   "metadata": {
    "ExecuteTime": {
     "end_time": "2020-08-16T11:34:29.071685Z",
     "start_time": "2020-08-16T11:34:29.056799Z"
    }
   },
   "outputs": [],
   "source": [
    "IMAGE_DATASET_PATH = 'data/test'\n",
    "#IMAGE_DATASET_PATH = 'data/pix3d_transparent_224/chair'\n",
    "new_image_size = 224\n"
   ]
  },
  {
   "cell_type": "code",
   "execution_count": 18,
   "metadata": {
    "ExecuteTime": {
     "end_time": "2020-08-16T11:35:05.224831Z",
     "start_time": "2020-08-16T11:35:05.076657Z"
    }
   },
   "outputs": [],
   "source": [
    "# convert images to make all white pixels transparent\n",
    "# based off https://stackoverflow.com/questions/765736/using-pil-to-make-all-white-pixels-transparent\n",
    "\n",
    "for root, dirs, files in os.walk(os.path.join(IMAGE_DATASET_PATH)):\n",
    "    for f in files:\n",
    "        \n",
    "        image_path = os.path.join(root,f)\n",
    "        img = Image.open(image_path)\n",
    "        img = img.convert(\"RGBA\")\n",
    "        datas = img.getdata()\n",
    "\n",
    "        newData = []\n",
    "        for item in datas:\n",
    "            if item[0] >= 255 and item[1] >= 255 and item[2] >= 255:\n",
    "                newData.append((255, 255, 255, 0))\n",
    "            else:\n",
    "                newData.append(item)\n",
    "\n",
    "        img.putdata(newData)\n",
    "        new_img_path = image_path.split('.')\n",
    "        new_img_path[-1] = 'png'\n",
    "        new_img_path = '.'.join(new_img_path)\n",
    "        img.save(new_img_path, \"PNG\")"
   ]
  },
  {
   "cell_type": "code",
   "execution_count": 15,
   "metadata": {
    "ExecuteTime": {
     "end_time": "2020-08-16T11:33:25.360793Z",
     "start_time": "2020-08-16T11:03:05.670230Z"
    }
   },
   "outputs": [],
   "source": [
    "# resize images\n",
    "for root, dirs, files in os.walk(os.path.join(IMAGE_DATASET_PATH)):\n",
    "    for f in files:\n",
    "        image_path = os.path.join(root,f)\n",
    "        image = Image.open(image_path).resize((new_image_size,new_image_size), resample = PIL.Image.BILINEAR)\n",
    "        image.save(image_path)"
   ]
  },
  {
   "cell_type": "code",
   "execution_count": 20,
   "metadata": {
    "ExecuteTime": {
     "end_time": "2020-08-16T11:50:59.861875Z",
     "start_time": "2020-08-16T11:50:59.827844Z"
    }
   },
   "outputs": [
    {
     "data": {
      "text/plain": [
       "True"
      ]
     },
     "execution_count": 20,
     "metadata": {},
     "output_type": "execute_result"
    }
   ],
   "source": [
    "im = cv2.imread(\"data/test/df7735e2bce09a511f98c0761af40e04.jpg\")\n",
    "h,w,chn = im.shape\n",
    "seed = (1,1)\n",
    "#seed = (w/2,h/2)\n",
    "\n",
    "mask = np.zeros((h+2,w+2),np.uint8)\n",
    "\n",
    "floodflags = 4\n",
    "floodflags |= cv2.FLOODFILL_MASK_ONLY\n",
    "floodflags |= (255 << 8)\n",
    "\n",
    "num,im,mask,rect = cv2.floodFill(im, mask, seed, (255,0,0), (10,)*3, (10,)*3, floodflags)\n",
    "\n",
    "cv2.imwrite(\"data/test/flood.png\", mask)"
   ]
  },
  {
   "cell_type": "code",
   "execution_count": null,
   "metadata": {},
   "outputs": [],
   "source": [
    "# do binary/adaptive thresholding\n",
    "# find contours\n",
    "# choose largest contour and fill in"
   ]
  },
  {
   "cell_type": "code",
   "execution_count": null,
   "metadata": {},
   "outputs": [],
   "source": []
  },
  {
   "cell_type": "code",
   "execution_count": null,
   "metadata": {},
   "outputs": [],
   "source": []
  }
 ],
 "metadata": {
  "kernelspec": {
   "display_name": "Python [conda env:standard] *",
   "language": "python",
   "name": "conda-env-standard-py"
  },
  "language_info": {
   "codemirror_mode": {
    "name": "ipython",
    "version": 3
   },
   "file_extension": ".py",
   "mimetype": "text/x-python",
   "name": "python",
   "nbconvert_exporter": "python",
   "pygments_lexer": "ipython3",
   "version": "3.6.9"
  }
 },
 "nbformat": 4,
 "nbformat_minor": 4
}
