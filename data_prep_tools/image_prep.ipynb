{
 "cells": [
  {
   "cell_type": "code",
   "execution_count": 1,
   "metadata": {
    "ExecuteTime": {
     "end_time": "2020-08-16T23:02:36.667666Z",
     "start_time": "2020-08-16T23:02:36.653152Z"
    }
   },
   "outputs": [],
   "source": [
    "%load_ext autoreload\n",
    "%autoreload 2\n",
    "notebook_fixed_dir = False"
   ]
  },
  {
   "cell_type": "code",
   "execution_count": 2,
   "metadata": {
    "ExecuteTime": {
     "end_time": "2020-08-16T23:02:37.383899Z",
     "start_time": "2020-08-16T23:02:37.372794Z"
    }
   },
   "outputs": [
    {
     "name": "stdout",
     "output_type": "stream",
     "text": [
      "/home/svcl-oowl/brandon/research/sil_consistent_at_inference\n"
     ]
    }
   ],
   "source": [
    "# this cell can only be called once\n",
    "import os\n",
    "if not notebook_fixed_dir:\n",
    "    os.chdir('..')\n",
    "    notebook_fixed_dir = True\n",
    "print(os.getcwd())"
   ]
  },
  {
   "cell_type": "code",
   "execution_count": 95,
   "metadata": {
    "ExecuteTime": {
     "end_time": "2020-08-17T00:01:28.258605Z",
     "start_time": "2020-08-17T00:01:28.244240Z"
    }
   },
   "outputs": [],
   "source": [
    "import pprint\n",
    "import glob\n",
    "import os\n",
    "\n",
    "import cv2\n",
    "import torch\n",
    "import numpy as np\n",
    "import matplotlib.pyplot as plt\n",
    "import PIL\n",
    "from PIL import Image\n",
    "from tqdm import tqdm\n"
   ]
  },
  {
   "cell_type": "code",
   "execution_count": 98,
   "metadata": {
    "ExecuteTime": {
     "end_time": "2020-08-17T00:02:19.781900Z",
     "start_time": "2020-08-17T00:02:19.768492Z"
    }
   },
   "outputs": [],
   "source": [
    "#IMAGE_DATASET_PATH = 'data/pix3d_transparent_224/chair'\n",
    "IMAGE_DATASET_PATH = 'data/shapenet_chair_images_transparent'\n",
    "\n",
    "new_image_size = 224"
   ]
  },
  {
   "cell_type": "code",
   "execution_count": 99,
   "metadata": {
    "ExecuteTime": {
     "end_time": "2020-08-17T00:02:27.501996Z",
     "start_time": "2020-08-17T00:02:27.485254Z"
    }
   },
   "outputs": [],
   "source": [
    "# given an RGB image of an object on a white background, will segment the white background out and return an RGBA image\n",
    "# this is done by binary contouring and some morphological operations to clean up noise\n",
    "\n",
    "def get_mask(rgb_img):\n",
    "    gray_img = cv2.cvtColor(rgb_img, cv2.COLOR_BGR2GRAY)\n",
    "    ret,mask = cv2.threshold(gray_img,245,255,cv2.THRESH_BINARY)\n",
    "    kernel = np.ones((3,3),np.uint8)\n",
    "    mask = cv2.dilate(mask,kernel,iterations = 1)\n",
    "    mask = cv2.erode(mask,kernel,iterations = 1)\n",
    "    return mask\n",
    "\n",
    "def remove_white_background(rgb_img):\n",
    "    mask = get_mask(rgb_img)\n",
    "    rgba_img = cv2.cvtColor(rgb_img, cv2.COLOR_RGB2RGBA)\n",
    "    rgba_img[:, :, 3] = cv2.bitwise_not(mask)\n",
    "    return rgba_img"
   ]
  },
  {
   "cell_type": "code",
   "execution_count": null,
   "metadata": {
    "ExecuteTime": {
     "end_time": "2020-08-17T00:32:14.868096Z",
     "start_time": "2020-08-17T00:27:47.385627Z"
    },
    "scrolled": true
   },
   "outputs": [],
   "source": [
    "# convert images to make all white pixels transparent\n",
    "# based off https://stackoverflow.com/questions/765736/using-pil-to-make-all-white-pixels-transparent\n",
    "#TODO: check bgr\n",
    "i = 0\n",
    "for root, dirs, files in os.walk(os.path.join(IMAGE_DATASET_PATH)):\n",
    "    for f in tqdm(files):\n",
    "        image_path = os.path.join(root,f)\n",
    "        print(image_path)\n",
    "        rgb_img = cv2.cvtColor(cv2.imread(image_path), cv2.COLOR_BGR2RGB)\n",
    "        rgba_img = remove_white_background(rgb_img)\n",
    "        \n",
    "        rgba_img_name = f.split('.')\n",
    "        rgba_img_name[-1] = 'png'\n",
    "        rgba_img_name = '.'.join(rgba_img_name)\n",
    "        cv2.imwrite(os.path.join(root,rgba_img_name), rgba_img)\n",
    "        cv2.imwrite(os.path.join(root,rgba_img_name), cv2.cvtColor(rgba_img, cv2.COLOR_RGBA2BGRA))\n",
    "        \n",
    "        os.remove(image_path)\n"
   ]
  },
  {
   "cell_type": "code",
   "execution_count": null,
   "metadata": {},
   "outputs": [],
   "source": []
  },
  {
   "cell_type": "code",
   "execution_count": null,
   "metadata": {},
   "outputs": [],
   "source": []
  },
  {
   "cell_type": "code",
   "execution_count": null,
   "metadata": {},
   "outputs": [],
   "source": []
  },
  {
   "cell_type": "code",
   "execution_count": null,
   "metadata": {
    "ExecuteTime": {
     "end_time": "2020-08-16T11:33:25.360793Z",
     "start_time": "2020-08-16T11:03:05.670230Z"
    }
   },
   "outputs": [],
   "source": [
    "# resize images\n",
    "for root, dirs, files in os.walk(os.path.join(IMAGE_DATASET_PATH)):\n",
    "    for f in files:\n",
    "        image_path = os.path.join(root,f)\n",
    "        image = Image.open(image_path).resize((new_image_size,new_image_size), resample = PIL.Image.BILINEAR)\n",
    "        image.save(image_path)"
   ]
  },
  {
   "cell_type": "code",
   "execution_count": null,
   "metadata": {},
   "outputs": [],
   "source": []
  },
  {
   "cell_type": "code",
   "execution_count": null,
   "metadata": {},
   "outputs": [],
   "source": []
  },
  {
   "cell_type": "code",
   "execution_count": null,
   "metadata": {},
   "outputs": [],
   "source": []
  }
 ],
 "metadata": {
  "kernelspec": {
   "display_name": "Python [conda env:standard] *",
   "language": "python",
   "name": "conda-env-standard-py"
  },
  "language_info": {
   "codemirror_mode": {
    "name": "ipython",
    "version": 3
   },
   "file_extension": ".py",
   "mimetype": "text/x-python",
   "name": "python",
   "nbconvert_exporter": "python",
   "pygments_lexer": "ipython3",
   "version": "3.6.9"
  }
 },
 "nbformat": 4,
 "nbformat_minor": 4
}
