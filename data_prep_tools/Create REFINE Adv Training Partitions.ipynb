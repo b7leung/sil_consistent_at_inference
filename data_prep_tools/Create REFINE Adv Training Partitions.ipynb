{
 "cells": [
  {
   "cell_type": "code",
   "execution_count": 1,
   "metadata": {
    "ExecuteTime": {
     "end_time": "2021-01-09T04:11:33.712606Z",
     "start_time": "2021-01-09T04:11:33.697029Z"
    }
   },
   "outputs": [
    {
     "name": "stdout",
     "output_type": "stream",
     "text": [
      "/home/svcl-oowl/brandon/research/CVPR_2021_REFINE/sil_consistent_at_inference\n"
     ]
    }
   ],
   "source": [
    "%load_ext autoreload\n",
    "%autoreload 2\n",
    "import os\n",
    "os.chdir('/home/svcl-oowl/brandon/research/CVPR_2021_REFINE/sil_consistent_at_inference')\n",
    "print(os.getcwd())"
   ]
  },
  {
   "cell_type": "code",
   "execution_count": 10,
   "metadata": {
    "ExecuteTime": {
     "end_time": "2021-01-09T04:26:00.523324Z",
     "start_time": "2021-01-09T04:26:00.483058Z"
    }
   },
   "outputs": [],
   "source": [
    "import os\n",
    "from pathlib import Path\n",
    "import random\n",
    "\n",
    "from utils import general_utils"
   ]
  },
  {
   "cell_type": "code",
   "execution_count": 28,
   "metadata": {
    "ExecuteTime": {
     "end_time": "2021-01-09T04:39:08.288244Z",
     "start_time": "2021-01-09T04:39:07.758206Z"
    }
   },
   "outputs": [],
   "source": [
    "classes_to_partition = ['03001627']\n",
    "input_mesh_dir_temp = \"../occupancy_networks/out/pytorch3d_renders_training/{}/generation/meshes\"\n",
    "test_set_lists_dir_temp = \"data_prep_tools/occnet_test_set_lists/{}_test.lst\"\n",
    "output_dir = \"data_prep_tools/adv_refine_training_partitions\"\n",
    "percentage_val = 0.2\n",
    "random.seed(0)\n",
    "\n",
    "for class_name in classes_to_partition:\n",
    "    input_mesh_dir = input_mesh_dir_temp.format(class_name)\n",
    "    all_instances = general_utils.get_instances(input_mesh_dir)\n",
    "    with open(test_set_lists_dir_temp.format(class_name), \"r\") as f:\n",
    "        test_instances = f.read().split('\\n')\n",
    "        \n",
    "    val_and_train_instances = [i for i in all_instances if i not in test_instances]\n",
    "    val_instances = random.sample(val_and_train_instances, int(len(val_and_train_instances)*percentage_val))\n",
    "    train_instances = [i for i in val_and_train_instances if i not in val_instances]\n",
    "    \n",
    "    if not set(val_instances).isdisjoint(set(train_instances)) or not set(val_instances).isdisjoint(set(test_instances)) or not set(train_instances).isdisjoint(set(test_instances)) or (len(all_instances)!=len(val_instances)+len(train_instances)+len(test_instances)):\n",
    "        raise ValueError(\"Error\")\n",
    "    \n",
    "    # write text file\n",
    "    with open(os.path.join(output_dir,\"{}_train.lst\".format(class_name)), \"w\") as f:\n",
    "        for i, instance in enumerate(train_instances):\n",
    "            if i < len(train_instances)-1:\n",
    "                f.write(\"{}\\n\".format(instance))\n",
    "            else:\n",
    "                f.write(\"{}\".format(instance))\n",
    "                \n",
    "    with open(os.path.join(output_dir,\"{}_val.lst\".format(class_name)), \"w\") as f:\n",
    "        for i, instance in enumerate(val_instances):\n",
    "            if i < len(val_instances)-1:\n",
    "                f.write(\"{}\\n\".format(instance))\n",
    "            else:\n",
    "                f.write(\"{}\".format(instance))"
   ]
  },
  {
   "cell_type": "code",
   "execution_count": null,
   "metadata": {},
   "outputs": [],
   "source": []
  },
  {
   "cell_type": "code",
   "execution_count": null,
   "metadata": {},
   "outputs": [],
   "source": []
  },
  {
   "cell_type": "code",
   "execution_count": null,
   "metadata": {},
   "outputs": [],
   "source": []
  },
  {
   "cell_type": "code",
   "execution_count": null,
   "metadata": {},
   "outputs": [],
   "source": []
  }
 ],
 "metadata": {
  "kernelspec": {
   "display_name": "Python [conda env:standard] *",
   "language": "python",
   "name": "conda-env-standard-py"
  },
  "language_info": {
   "codemirror_mode": {
    "name": "ipython",
    "version": 3
   },
   "file_extension": ".py",
   "mimetype": "text/x-python",
   "name": "python",
   "nbconvert_exporter": "python",
   "pygments_lexer": "ipython3",
   "version": "3.6.9"
  }
 },
 "nbformat": 4,
 "nbformat_minor": 4
}
