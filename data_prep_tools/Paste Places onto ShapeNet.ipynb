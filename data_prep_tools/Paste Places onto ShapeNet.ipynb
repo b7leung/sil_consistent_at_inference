{
 "cells": [
  {
   "cell_type": "code",
   "execution_count": 1,
   "metadata": {
    "ExecuteTime": {
     "end_time": "2021-01-21T11:39:54.538546Z",
     "start_time": "2021-01-21T11:39:54.512768Z"
    }
   },
   "outputs": [
    {
     "name": "stdout",
     "output_type": "stream",
     "text": [
      "/home/svcl-oowl/brandon/research/CVPR_2021_REFINE/sil_consistent_at_inference\n"
     ]
    }
   ],
   "source": [
    "%load_ext autoreload\n",
    "%autoreload 2\n",
    "import os\n",
    "os.chdir('/home/svcl-oowl/brandon/research/CVPR_2021_REFINE/sil_consistent_at_inference')\n",
    "print(os.getcwd())"
   ]
  },
  {
   "cell_type": "code",
   "execution_count": 2,
   "metadata": {
    "ExecuteTime": {
     "end_time": "2021-01-21T11:39:55.846400Z",
     "start_time": "2021-01-21T11:39:55.289531Z"
    }
   },
   "outputs": [
    {
     "name": "stderr",
     "output_type": "stream",
     "text": [
      "/opt/conda/envs/standard/lib/python3.6/site-packages/ipykernel_launcher.py:7: TqdmExperimentalWarning: Using `tqdm.autonotebook.tqdm` in notebook mode. Use `tqdm.tqdm` instead to force console mode (e.g. in jupyter console)\n",
      "  import sys\n"
     ]
    }
   ],
   "source": [
    "import glob\n",
    "import random\n",
    "\n",
    "from PIL import Image\n",
    "import matplotlib.pyplot as plt\n",
    "import numpy as np\n",
    "from tqdm.autonotebook import tqdm"
   ]
  },
  {
   "cell_type": "code",
   "execution_count": 17,
   "metadata": {
    "ExecuteTime": {
     "end_time": "2021-01-21T11:54:03.457742Z",
     "start_time": "2021-01-21T11:54:03.439187Z"
    }
   },
   "outputs": [],
   "source": [
    "# path to dir with shapenet pngs\n",
    "\n",
    "input_img_dir = \"data/input_images/pytorch3d_shapenet_renders_training/03001627/rgba\"\n",
    "out_dir = \"data/input_images/pytorch3d_shapenet_renders_training/03001627/places\"\n",
    "places_dataset_dir = \"/home/svcl-oowl/dataset/Places/val_256\"\n",
    "\n",
    "#input_img_dir = \"data/input_images/pytorch3d_shapenet_renders/03001627/rgba\"\n",
    "#out_dir = \"data/input_images/pytorch3d_shapenet_renders/03001627/places\"\n",
    "#places_dataset_dir = \"/home/svcl-oowl/dataset/Places/test_256\"\n",
    "\n",
    "img_size = 224\n",
    "\n",
    "os.makedirs(out_dir, exist_ok=True)\n",
    "random.seed(0)"
   ]
  },
  {
   "cell_type": "code",
   "execution_count": 18,
   "metadata": {
    "ExecuteTime": {
     "end_time": "2021-01-21T11:54:07.314481Z",
     "start_time": "2021-01-21T11:54:04.526804Z"
    }
   },
   "outputs": [],
   "source": [
    "places_img_paths = glob.glob(os.path.join(places_dataset_dir, \"*.jpg\"))\n",
    "all_original_img_paths = glob.glob(os.path.join(input_img_dir, \"*.png\"))"
   ]
  },
  {
   "cell_type": "code",
   "execution_count": 19,
   "metadata": {
    "ExecuteTime": {
     "end_time": "2021-01-21T11:54:12.233166Z",
     "start_time": "2021-01-21T11:54:12.212986Z"
    }
   },
   "outputs": [],
   "source": [
    "def place_bg(original_img_path):\n",
    "    random_places_img_path = random.sample(places_img_paths, 1)[0]\n",
    "    places_img = Image.open(random_places_img_path).resize((img_size, img_size))\n",
    "    \n",
    "    # opening rgba image but making the alpha mask binary\n",
    "    original_img = Image.open(original_img_path)\n",
    "    original_img_np = np.array(original_img)\n",
    "    original_img_np[...,3] = (original_img_np[...,3]>0)*255\n",
    "    original_img = Image.fromarray(original_img_np)\n",
    "    \n",
    "    # https://stackoverflow.com/questions/5324647/how-to-merge-a-transparent-png-image-with-another-image-using-pil\n",
    "    places_img.paste(original_img, (0,0), original_img)\n",
    "    return places_img"
   ]
  },
  {
   "cell_type": "code",
   "execution_count": 70,
   "metadata": {
    "ExecuteTime": {
     "end_time": "2021-01-21T04:24:33.157276Z",
     "start_time": "2021-01-21T04:19:58.107363Z"
    },
    "scrolled": false
   },
   "outputs": [
    {
     "data": {
      "application/vnd.jupyter.widget-view+json": {
       "model_id": "cfe93414c0674b0cbcebf452c86be0aa",
       "version_major": 2,
       "version_minor": 0
      },
      "text/plain": [
       "HBox(children=(FloatProgress(value=0.0, max=1355.0), HTML(value='')))"
      ]
     },
     "metadata": {},
     "output_type": "display_data"
    },
    {
     "name": "stdout",
     "output_type": "stream",
     "text": [
      "\n"
     ]
    }
   ],
   "source": [
    "\n",
    "for original_img_path in tqdm(all_original_img_paths):\n",
    "    random_places_img_path = random.sample(places_img_paths, 1)[0]\n",
    "    places_img = Image.open(random_places_img_path).resize((img_size, img_size))\n",
    "    \n",
    "    # opening rgba image but making the alpha mask binary\n",
    "    original_img = Image.open(original_img_path)\n",
    "    original_img_np = np.array(original_img)\n",
    "    original_img_np[...,3] = (original_img_np[...,3]>0)*255\n",
    "    original_img = Image.fromarray(original_img_np)\n",
    "    \n",
    "    # https://stackoverflow.com/questions/5324647/how-to-merge-a-transparent-png-image-with-another-image-using-pil\n",
    "    places_img.paste(original_img, (0,0), original_img)\n",
    "    \n",
    "    original_filename = original_img_path.split('/')[-1]\n",
    "    # TODO: need to ensure output has 3 channels\n",
    "    places_img.save(os.path.join(out_dir, original_filename))\n",
    "    "
   ]
  },
  {
   "cell_type": "code",
   "execution_count": 21,
   "metadata": {
    "ExecuteTime": {
     "end_time": "2021-01-21T12:01:57.038252Z",
     "start_time": "2021-01-21T12:01:30.797673Z"
    },
    "scrolled": false
   },
   "outputs": [
    {
     "data": {
      "application/vnd.jupyter.widget-view+json": {
       "model_id": "a24191565a204165b54438c4bfa02eba",
       "version_major": 2,
       "version_minor": 0
      },
      "text/plain": [
       "HBox(children=(FloatProgress(value=0.0, max=6778.0), HTML(value='')))"
      ]
     },
     "metadata": {},
     "output_type": "display_data"
    },
    {
     "name": "stdout",
     "output_type": "stream",
     "text": [
      "\n"
     ]
    }
   ],
   "source": [
    "# checking that everything is 3-channels\n",
    "all_generated_img_paths = glob.glob(os.path.join(out_dir, \"*.png\"))\n",
    "for generated_img_path in tqdm(all_generated_img_paths):\n",
    "    img = Image.open(generated_img_path)\n",
    "    if len(np.array(img).shape)!=3 or np.array(img).shape[0] != 224 or np.array(img).shape[1] != 224 or np.array(img).shape[2] !=3:\n",
    "        print(\"Recreating Img\")\n",
    "        print(generated_img_path)\n",
    "        instance = generated_img_path.split('/')[-1].split('.')[0]\n",
    "        print(instance)\n",
    "        print(np.array(img).shape)\n",
    "        new_img = place_bg(os.path.join(input_img_dir, \"{}.png\".format(instance)))\n",
    "        new_img.save(os.path.join(out_dir, \"{}.png\".format(instance)))"
   ]
  },
  {
   "cell_type": "code",
   "execution_count": null,
   "metadata": {},
   "outputs": [],
   "source": []
  },
  {
   "cell_type": "code",
   "execution_count": null,
   "metadata": {},
   "outputs": [],
   "source": []
  },
  {
   "cell_type": "code",
   "execution_count": null,
   "metadata": {},
   "outputs": [],
   "source": []
  },
  {
   "cell_type": "code",
   "execution_count": null,
   "metadata": {},
   "outputs": [],
   "source": []
  },
  {
   "cell_type": "code",
   "execution_count": null,
   "metadata": {},
   "outputs": [],
   "source": []
  },
  {
   "cell_type": "code",
   "execution_count": null,
   "metadata": {},
   "outputs": [],
   "source": []
  }
 ],
 "metadata": {
  "kernelspec": {
   "display_name": "Python [conda env:standard] *",
   "language": "python",
   "name": "conda-env-standard-py"
  },
  "language_info": {
   "codemirror_mode": {
    "name": "ipython",
    "version": 3
   },
   "file_extension": ".py",
   "mimetype": "text/x-python",
   "name": "python",
   "nbconvert_exporter": "python",
   "pygments_lexer": "ipython3",
   "version": "3.6.9"
  }
 },
 "nbformat": 4,
 "nbformat_minor": 4
}
