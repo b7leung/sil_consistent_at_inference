{
 "cells": [
  {
   "cell_type": "code",
   "execution_count": 1,
   "metadata": {
    "ExecuteTime": {
     "end_time": "2020-10-04T23:14:41.561691Z",
     "start_time": "2020-10-04T23:14:41.145552Z"
    }
   },
   "outputs": [],
   "source": [
    "import numpy as np\n",
    "import os\n",
    "import json\n",
    "import pprint\n",
    "import subprocess\n",
    "from PIL import Image\n",
    "import PIL.ImageOps    \n",
    "import glob\n",
    "from tqdm import tqdm"
   ]
  },
  {
   "cell_type": "code",
   "execution_count": 4,
   "metadata": {
    "ExecuteTime": {
     "end_time": "2020-10-04T23:22:39.091572Z",
     "start_time": "2020-10-04T23:22:39.088810Z"
    }
   },
   "outputs": [],
   "source": [
    "SHAPENET_PATH = \"/home/svcl-oowl/dataset/ShapeNetCore.v1\"\n",
    "CLASS_ID = \"02691156\"\n",
    "\n",
    "OUTPUT_FILE = \"/home/svcl-oowl/brandon/research/sil_consistent_at_inference/data/gt_shapes_path_lists/shapenet_{}_gt_shapes.lst\".format(CLASS_ID)"
   ]
  },
  {
   "cell_type": "code",
   "execution_count": 5,
   "metadata": {
    "ExecuteTime": {
     "end_time": "2020-10-04T23:25:02.157533Z",
     "start_time": "2020-10-04T23:22:40.378904Z"
    }
   },
   "outputs": [],
   "source": [
    "with open(OUTPUT_FILE, \"w\") as output_file:\n",
    "    for root, dirs, files in os.walk(os.path.join(SHAPENET_PATH, CLASS_ID)):\n",
    "        for f in files:\n",
    "            if \"_watertight.obj\" in f:\n",
    "                model_path = os.path.join(root, f)\n",
    "                instance_name = model_path.split('/')[-2]\n",
    "                output_file.write(\"{} {}\\n\".format(instance_name, model_path))"
   ]
  },
  {
   "cell_type": "code",
   "execution_count": null,
   "metadata": {},
   "outputs": [],
   "source": []
  },
  {
   "cell_type": "code",
   "execution_count": null,
   "metadata": {},
   "outputs": [],
   "source": []
  },
  {
   "cell_type": "code",
   "execution_count": null,
   "metadata": {},
   "outputs": [],
   "source": []
  },
  {
   "cell_type": "code",
   "execution_count": null,
   "metadata": {},
   "outputs": [],
   "source": []
  },
  {
   "cell_type": "code",
   "execution_count": null,
   "metadata": {},
   "outputs": [],
   "source": []
  }
 ],
 "metadata": {
  "kernelspec": {
   "display_name": "Python [conda env:standard] *",
   "language": "python",
   "name": "conda-env-standard-py"
  },
  "language_info": {
   "codemirror_mode": {
    "name": "ipython",
    "version": 3
   },
   "file_extension": ".py",
   "mimetype": "text/x-python",
   "name": "python",
   "nbconvert_exporter": "python",
   "pygments_lexer": "ipython3",
   "version": "3.6.9"
  }
 },
 "nbformat": 4,
 "nbformat_minor": 4
}
