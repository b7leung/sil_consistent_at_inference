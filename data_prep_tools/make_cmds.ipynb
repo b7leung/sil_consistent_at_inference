{
 "cells": [
  {
   "cell_type": "code",
   "execution_count": 2,
   "metadata": {
    "ExecuteTime": {
     "end_time": "2020-10-20T09:39:05.801186Z",
     "start_time": "2020-10-20T09:39:05.795215Z"
    }
   },
   "outputs": [
    {
     "name": "stdout",
     "output_type": "stream",
     "text": [
      "cp ../../../occupancy_networks/out/pytorch3d_renders/02691156/generation/meshes/data_info.yaml 02691156/\n",
      "cp ../../../occupancy_networks/out/pytorch3d_renders/02828884/generation/meshes/data_info.yaml 02828884/\n",
      "cp ../../../occupancy_networks/out/pytorch3d_renders/02933112/generation/meshes/data_info.yaml 02933112/\n",
      "cp ../../../occupancy_networks/out/pytorch3d_renders/02958343/generation/meshes/data_info.yaml 02958343/\n",
      "cp ../../../occupancy_networks/out/pytorch3d_renders/03001627/generation/meshes/data_info.yaml 03001627/\n",
      "cp ../../../occupancy_networks/out/pytorch3d_renders/03211117/generation/meshes/data_info.yaml 03211117/\n",
      "cp ../../../occupancy_networks/out/pytorch3d_renders/03636649/generation/meshes/data_info.yaml 03636649/\n",
      "cp ../../../occupancy_networks/out/pytorch3d_renders/03691459/generation/meshes/data_info.yaml 03691459/\n",
      "cp ../../../occupancy_networks/out/pytorch3d_renders/04090263/generation/meshes/data_info.yaml 04090263/\n",
      "cp ../../../occupancy_networks/out/pytorch3d_renders/04256520/generation/meshes/data_info.yaml 04256520/\n",
      "cp ../../../occupancy_networks/out/pytorch3d_renders/04379243/generation/meshes/data_info.yaml 04379243/\n",
      "cp ../../../occupancy_networks/out/pytorch3d_renders/04401088/generation/meshes/data_info.yaml 04401088/\n",
      "cp ../../../occupancy_networks/out/pytorch3d_renders/04530566/generation/meshes/data_info.yaml 04530566/\n"
     ]
    }
   ],
   "source": [
    "class_ids = [\"02691156\", \"02828884\", \"02933112\", \"02958343\", \"03001627\", \"03211117\", \"03636649\", \"03691459\", \"04090263\", \"04256520\", \"04379243\", \"04401088\", \"04530566\"]\n",
    "#cmd_template = \"cp ../../../occupancy_networks/out/pytorch3d_renders/{}/generation/meshes/data_info.yaml {}/rgba/\"\n",
    "cmd_template = \"cp ../../../occupancy_networks/out/pytorch3d_renders/{}/generation/meshes/data_info.yaml {}/\"\n",
    "#cmd_template = \"python inference/demo.py ../sil_consistent_at_inference/data/input_images/pytorch3d_shapenet_renders/{}/rgba data/pytorch_3d_render_recs/{}\"\n",
    "for class_id in class_ids:\n",
    "    print(cmd_template.format(class_id, class_id))"
   ]
  },
  {
   "cell_type": "code",
   "execution_count": 2,
   "metadata": {
    "ExecuteTime": {
     "end_time": "2020-10-25T22:19:16.203523Z",
     "start_time": "2020-10-25T22:19:15.262807Z"
    }
   },
   "outputs": [
    {
     "name": "stdout",
     "output_type": "stream",
     "text": [
      "========================================\n",
      "02691156\n",
      "4045\n",
      "\n",
      "4048\n",
      "\n",
      "========================================\n",
      "02828884\n",
      "1816\n",
      "\n",
      "1819\n",
      "\n",
      "========================================\n",
      "02933112\n",
      "1572\n",
      "\n",
      "1575\n",
      "\n",
      "========================================\n",
      "02958343\n",
      "7497\n",
      "\n",
      "7499\n",
      "\n",
      "========================================\n",
      "03001627\n",
      "6778\n",
      "\n",
      "6781\n",
      "\n",
      "========================================\n",
      "03211117\n",
      "1095\n",
      "\n",
      "1098\n",
      "\n",
      "========================================\n",
      "03636649\n",
      "2318\n",
      "\n",
      "2321\n",
      "\n",
      "========================================\n",
      "03691459\n",
      "1618\n",
      "\n",
      "1621\n",
      "\n",
      "========================================\n",
      "04090263\n",
      "2373\n",
      "\n",
      "2375\n",
      "\n",
      "========================================\n",
      "04256520\n",
      "3173\n",
      "\n",
      "3176\n",
      "\n",
      "========================================\n",
      "04379243\n",
      "8509\n",
      "\n",
      "8512\n",
      "\n",
      "========================================\n",
      "04401088\n",
      "1052\n",
      "\n",
      "1055\n",
      "\n",
      "========================================\n",
      "04530566\n",
      "1939\n",
      "\n",
      "1942\n",
      "\n"
     ]
    }
   ],
   "source": [
    "import subprocess\n",
    "import os\n",
    "\n",
    "shapenet_class_ids = [\"02691156\", \"02828884\", \"02933112\", \"02958343\", \"03001627\", \"03211117\", \"03636649\", \"03691459\", \"04090263\", \"04256520\", \"04379243\", \"04401088\", \"04530566\"]\n",
    "for class_id in shapenet_class_ids:\n",
    "    print('========================================')\n",
    "    print(class_id)\n",
    "    print(os.popen('ls /home/svcl-oowl/dataset/ShapeNetCore.v1/{} | wc -l'.format(class_id)).read())\n",
    "    print(os.popen('ls /home/svcl-oowl/brandon/research/occ_uda/data/ShapeNet/{} | wc -l'.format(class_id)).read())\n",
    "    #my_cmd = subprocess.run(['ls -al'], stdout = subprocess.PIPE, stderr=subprocess.PIPE, check=True, universal_newlines=True)\n",
    "    #my_cmd = subprocess.run(['ls', '/home/svcl-oowl/dataset/ShapeNetCore.v1/{}'.format(class_id), '|', \"wc\", \"-l\"], stdout = subprocess.PIPE, stderr=subprocess.PIPE, check=True, universal_newlines=True)\n",
    "    #print(my_cmd.stdout)"
   ]
  },
  {
   "cell_type": "code",
   "execution_count": 14,
   "metadata": {
    "ExecuteTime": {
     "end_time": "2020-10-25T12:36:41.642445Z",
     "start_time": "2020-10-25T12:36:41.632522Z"
    }
   },
   "outputs": [
    {
     "name": "stdout",
     "output_type": "stream",
     "text": [
      "ManifoldPlus\n",
      "__init__.py\n",
      "__pycache__\n",
      "align_pix3d.ipynb\n",
      "analyse meshes.ipynb\n",
      "atlasnet_align.ipynb\n",
      "cvt_off_obj.py\n",
      "make_cmds.ipynb\n",
      "make_watertight.py\n",
      "make_watertight_with_check.py\n",
      "map_pix3d.ipynb\n",
      "map_shapenet.ipynb\n",
      "occnet_test_set_lists\n",
      "pix2mesh_align.ipynb\n",
      "process pix3d.ipynb\n",
      "render_meshes.py\n",
      "render_meshes_occnet_training.py\n",
      "sample_points.py\n",
      "simplify_folder.py\n",
      "simplify_folder_multi.py\n",
      "\n"
     ]
    }
   ],
   "source": [
    "x = os.popen('ls').read()\n",
    "print(x)"
   ]
  },
  {
   "cell_type": "code",
   "execution_count": null,
   "metadata": {},
   "outputs": [],
   "source": []
  },
  {
   "cell_type": "code",
   "execution_count": null,
   "metadata": {},
   "outputs": [],
   "source": []
  },
  {
   "cell_type": "code",
   "execution_count": null,
   "metadata": {},
   "outputs": [],
   "source": []
  }
 ],
 "metadata": {
  "kernelspec": {
   "display_name": "Python [conda env:standard] *",
   "language": "python",
   "name": "conda-env-standard-py"
  },
  "language_info": {
   "codemirror_mode": {
    "name": "ipython",
    "version": 3
   },
   "file_extension": ".py",
   "mimetype": "text/x-python",
   "name": "python",
   "nbconvert_exporter": "python",
   "pygments_lexer": "ipython3",
   "version": "3.6.9"
  }
 },
 "nbformat": 4,
 "nbformat_minor": 4
}
