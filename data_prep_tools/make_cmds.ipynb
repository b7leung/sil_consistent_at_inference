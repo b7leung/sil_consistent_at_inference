{
 "cells": [
  {
   "cell_type": "code",
   "execution_count": 4,
   "metadata": {
    "ExecuteTime": {
     "end_time": "2020-10-30T09:17:18.542651Z",
     "start_time": "2020-10-30T09:17:18.536932Z"
    }
   },
   "outputs": [
    {
     "name": "stdout",
     "output_type": "stream",
     "text": [
      "python -m sil_consistent_at_inference.data_prep_tools.render_meshes /home/svcl-oowl/dataset/ShapeNetCore.v1/02691156 /home/svcl-oowl/brandon/research/sil_consistent_at_inference/data/input_images/sym_pytorch3d_shapenet_renders/02691156 --suffix model_watertight.obj --textureless --instances_list /home/svcl-oowl/brandon/research/sil_consistent_at_inference/data_prep_tools/occnet_test_set_lists/sym_02691156.lst\n",
      "python -m sil_consistent_at_inference.data_prep_tools.render_meshes /home/svcl-oowl/dataset/ShapeNetCore.v1/02828884 /home/svcl-oowl/brandon/research/sil_consistent_at_inference/data/input_images/sym_pytorch3d_shapenet_renders/02828884 --suffix model_watertight.obj --textureless --instances_list /home/svcl-oowl/brandon/research/sil_consistent_at_inference/data_prep_tools/occnet_test_set_lists/sym_02828884.lst\n",
      "python -m sil_consistent_at_inference.data_prep_tools.render_meshes /home/svcl-oowl/dataset/ShapeNetCore.v1/02933112 /home/svcl-oowl/brandon/research/sil_consistent_at_inference/data/input_images/sym_pytorch3d_shapenet_renders/02933112 --suffix model_watertight.obj --textureless --instances_list /home/svcl-oowl/brandon/research/sil_consistent_at_inference/data_prep_tools/occnet_test_set_lists/sym_02933112.lst\n",
      "python -m sil_consistent_at_inference.data_prep_tools.render_meshes /home/svcl-oowl/dataset/ShapeNetCore.v1/02958343 /home/svcl-oowl/brandon/research/sil_consistent_at_inference/data/input_images/sym_pytorch3d_shapenet_renders/02958343 --suffix model_watertight.obj --textureless --instances_list /home/svcl-oowl/brandon/research/sil_consistent_at_inference/data_prep_tools/occnet_test_set_lists/sym_02958343.lst\n",
      "python -m sil_consistent_at_inference.data_prep_tools.render_meshes /home/svcl-oowl/dataset/ShapeNetCore.v1/03001627 /home/svcl-oowl/brandon/research/sil_consistent_at_inference/data/input_images/sym_pytorch3d_shapenet_renders/03001627 --suffix model_watertight.obj --textureless --instances_list /home/svcl-oowl/brandon/research/sil_consistent_at_inference/data_prep_tools/occnet_test_set_lists/sym_03001627.lst\n",
      "python -m sil_consistent_at_inference.data_prep_tools.render_meshes /home/svcl-oowl/dataset/ShapeNetCore.v1/03211117 /home/svcl-oowl/brandon/research/sil_consistent_at_inference/data/input_images/sym_pytorch3d_shapenet_renders/03211117 --suffix model_watertight.obj --textureless --instances_list /home/svcl-oowl/brandon/research/sil_consistent_at_inference/data_prep_tools/occnet_test_set_lists/sym_03211117.lst\n",
      "python -m sil_consistent_at_inference.data_prep_tools.render_meshes /home/svcl-oowl/dataset/ShapeNetCore.v1/03636649 /home/svcl-oowl/brandon/research/sil_consistent_at_inference/data/input_images/sym_pytorch3d_shapenet_renders/03636649 --suffix model_watertight.obj --textureless --instances_list /home/svcl-oowl/brandon/research/sil_consistent_at_inference/data_prep_tools/occnet_test_set_lists/sym_03636649.lst\n",
      "python -m sil_consistent_at_inference.data_prep_tools.render_meshes /home/svcl-oowl/dataset/ShapeNetCore.v1/03691459 /home/svcl-oowl/brandon/research/sil_consistent_at_inference/data/input_images/sym_pytorch3d_shapenet_renders/03691459 --suffix model_watertight.obj --textureless --instances_list /home/svcl-oowl/brandon/research/sil_consistent_at_inference/data_prep_tools/occnet_test_set_lists/sym_03691459.lst\n",
      "python -m sil_consistent_at_inference.data_prep_tools.render_meshes /home/svcl-oowl/dataset/ShapeNetCore.v1/04090263 /home/svcl-oowl/brandon/research/sil_consistent_at_inference/data/input_images/sym_pytorch3d_shapenet_renders/04090263 --suffix model_watertight.obj --textureless --instances_list /home/svcl-oowl/brandon/research/sil_consistent_at_inference/data_prep_tools/occnet_test_set_lists/sym_04090263.lst\n",
      "python -m sil_consistent_at_inference.data_prep_tools.render_meshes /home/svcl-oowl/dataset/ShapeNetCore.v1/04256520 /home/svcl-oowl/brandon/research/sil_consistent_at_inference/data/input_images/sym_pytorch3d_shapenet_renders/04256520 --suffix model_watertight.obj --textureless --instances_list /home/svcl-oowl/brandon/research/sil_consistent_at_inference/data_prep_tools/occnet_test_set_lists/sym_04256520.lst\n",
      "python -m sil_consistent_at_inference.data_prep_tools.render_meshes /home/svcl-oowl/dataset/ShapeNetCore.v1/04379243 /home/svcl-oowl/brandon/research/sil_consistent_at_inference/data/input_images/sym_pytorch3d_shapenet_renders/04379243 --suffix model_watertight.obj --textureless --instances_list /home/svcl-oowl/brandon/research/sil_consistent_at_inference/data_prep_tools/occnet_test_set_lists/sym_04379243.lst\n",
      "python -m sil_consistent_at_inference.data_prep_tools.render_meshes /home/svcl-oowl/dataset/ShapeNetCore.v1/04401088 /home/svcl-oowl/brandon/research/sil_consistent_at_inference/data/input_images/sym_pytorch3d_shapenet_renders/04401088 --suffix model_watertight.obj --textureless --instances_list /home/svcl-oowl/brandon/research/sil_consistent_at_inference/data_prep_tools/occnet_test_set_lists/sym_04401088.lst\n",
      "python -m sil_consistent_at_inference.data_prep_tools.render_meshes /home/svcl-oowl/dataset/ShapeNetCore.v1/04530566 /home/svcl-oowl/brandon/research/sil_consistent_at_inference/data/input_images/sym_pytorch3d_shapenet_renders/04530566 --suffix model_watertight.obj --textureless --instances_list /home/svcl-oowl/brandon/research/sil_consistent_at_inference/data_prep_tools/occnet_test_set_lists/sym_04530566.lst\n"
     ]
    }
   ],
   "source": [
    "class_ids = [\"02691156\", \"02828884\", \"02933112\", \"02958343\", \"03001627\", \"03211117\", \"03636649\", \"03691459\", \"04090263\", \"04256520\", \"04379243\", \"04401088\", \"04530566\"]\n",
    "#cmd_template = \"cp ../../../occupancy_networks/out/pytorch3d_renders/{}/generation/meshes/data_info.yaml {}/rgba/\"\n",
    "#cmd_template = \"cp ../../../occupancy_networks/out/pytorch3d_renders/{}/generation/meshes/data_info.yaml {}/\"\n",
    "#cmd_template = \"python inference/demo.py ../sil_consistent_at_inference/data/input_images/pytorch3d_shapenet_renders/{}/rgba data/pytorch_3d_render_recs/{}\"\n",
    "cmd_template = \"python -m sil_consistent_at_inference.data_prep_tools.render_meshes /home/svcl-oowl/dataset/ShapeNetCore.v1/{} /home/svcl-oowl/brandon/research/sil_consistent_at_inference/data/input_images/sym_pytorch3d_shapenet_renders/{} --suffix model_watertight.obj --textureless --instances_list /home/svcl-oowl/brandon/research/sil_consistent_at_inference/data_prep_tools/occnet_test_set_lists/sym_{}.lst\"\n",
    "for class_id in class_ids:\n",
    "    print(cmd_template.format(class_id, class_id, class_id))"
   ]
  },
  {
   "cell_type": "code",
   "execution_count": 2,
   "metadata": {
    "ExecuteTime": {
     "end_time": "2020-10-25T22:19:16.203523Z",
     "start_time": "2020-10-25T22:19:15.262807Z"
    },
    "scrolled": true
   },
   "outputs": [
    {
     "name": "stdout",
     "output_type": "stream",
     "text": [
      "========================================\n",
      "02691156\n",
      "4045\n",
      "\n",
      "4048\n",
      "\n",
      "========================================\n",
      "02828884\n",
      "1816\n",
      "\n",
      "1819\n",
      "\n",
      "========================================\n",
      "02933112\n",
      "1572\n",
      "\n",
      "1575\n",
      "\n",
      "========================================\n",
      "02958343\n",
      "7497\n",
      "\n",
      "7499\n",
      "\n",
      "========================================\n",
      "03001627\n",
      "6778\n",
      "\n",
      "6781\n",
      "\n",
      "========================================\n",
      "03211117\n",
      "1095\n",
      "\n",
      "1098\n",
      "\n",
      "========================================\n",
      "03636649\n",
      "2318\n",
      "\n",
      "2321\n",
      "\n",
      "========================================\n",
      "03691459\n",
      "1618\n",
      "\n",
      "1621\n",
      "\n",
      "========================================\n",
      "04090263\n",
      "2373\n",
      "\n",
      "2375\n",
      "\n",
      "========================================\n",
      "04256520\n",
      "3173\n",
      "\n",
      "3176\n",
      "\n",
      "========================================\n",
      "04379243\n",
      "8509\n",
      "\n",
      "8512\n",
      "\n",
      "========================================\n",
      "04401088\n",
      "1052\n",
      "\n",
      "1055\n",
      "\n",
      "========================================\n",
      "04530566\n",
      "1939\n",
      "\n",
      "1942\n",
      "\n"
     ]
    }
   ],
   "source": [
    "import subprocess\n",
    "import os\n",
    "\n",
    "shapenet_class_ids = [\"02691156\", \"02828884\", \"02933112\", \"02958343\", \"03001627\", \"03211117\", \"03636649\", \"03691459\", \"04090263\", \"04256520\", \"04379243\", \"04401088\", \"04530566\"]\n",
    "for class_id in shapenet_class_ids:\n",
    "    print('========================================')\n",
    "    print(class_id)\n",
    "    print(os.popen('ls /home/svcl-oowl/dataset/ShapeNetCore.v1/{} | wc -l'.format(class_id)).read())\n",
    "    print(os.popen('ls /home/svcl-oowl/brandon/research/occ_uda/data/ShapeNet/{} | wc -l'.format(class_id)).read())\n",
    "    #my_cmd = subprocess.run(['ls -al'], stdout = subprocess.PIPE, stderr=subprocess.PIPE, check=True, universal_newlines=True)\n",
    "    #my_cmd = subprocess.run(['ls', '/home/svcl-oowl/dataset/ShapeNetCore.v1/{}'.format(class_id), '|', \"wc\", \"-l\"], stdout = subprocess.PIPE, stderr=subprocess.PIPE, check=True, universal_newlines=True)\n",
    "    #print(my_cmd.stdout)"
   ]
  },
  {
   "cell_type": "code",
   "execution_count": 14,
   "metadata": {
    "ExecuteTime": {
     "end_time": "2020-10-25T12:36:41.642445Z",
     "start_time": "2020-10-25T12:36:41.632522Z"
    }
   },
   "outputs": [
    {
     "name": "stdout",
     "output_type": "stream",
     "text": [
      "ManifoldPlus\n",
      "__init__.py\n",
      "__pycache__\n",
      "align_pix3d.ipynb\n",
      "analyse meshes.ipynb\n",
      "atlasnet_align.ipynb\n",
      "cvt_off_obj.py\n",
      "make_cmds.ipynb\n",
      "make_watertight.py\n",
      "make_watertight_with_check.py\n",
      "map_pix3d.ipynb\n",
      "map_shapenet.ipynb\n",
      "occnet_test_set_lists\n",
      "pix2mesh_align.ipynb\n",
      "process pix3d.ipynb\n",
      "render_meshes.py\n",
      "render_meshes_occnet_training.py\n",
      "sample_points.py\n",
      "simplify_folder.py\n",
      "simplify_folder_multi.py\n",
      "\n"
     ]
    }
   ],
   "source": [
    "x = os.popen('ls').read()\n",
    "print(x)"
   ]
  },
  {
   "cell_type": "code",
   "execution_count": null,
   "metadata": {},
   "outputs": [],
   "source": []
  },
  {
   "cell_type": "code",
   "execution_count": 6,
   "metadata": {
    "ExecuteTime": {
     "end_time": "2020-10-29T12:07:25.775287Z",
     "start_time": "2020-10-29T12:07:25.768519Z"
    }
   },
   "outputs": [
    {
     "name": "stdout",
     "output_type": "stream",
     "text": [
      "alias ni1='kubectl describe pod brandon-job-1-'\n",
      "alias ni2='kubectl describe pod brandon-job-2-'\n",
      "alias ni3='kubectl describe pod brandon-job-3-'\n",
      "alias ni4='kubectl describe pod brandon-job-4-'\n",
      "alias ni5='kubectl describe pod brandon-job-5-'\n",
      "alias ni6='kubectl describe pod brandon-job-6-'\n",
      "alias ni7='kubectl describe pod brandon-job-7-'\n",
      "alias ni8='kubectl describe pod brandon-job-8-'\n",
      "alias ni9='kubectl describe pod brandon-job-9-'\n",
      "alias ni10='kubectl describe pod brandon-job-10-'\n",
      "alias ni11='kubectl describe pod brandon-job-11-'\n",
      "alias ni12='kubectl describe pod brandon-job-12-'\n",
      "alias ni13='kubectl describe pod brandon-job-13-'\n",
      "alias ni14='kubectl describe pod brandon-job-14-'\n",
      "alias ni15='kubectl describe pod brandon-job-15-'\n",
      "alias ni16='kubectl describe pod brandon-job-16-'\n",
      "alias ni17='kubectl describe pod brandon-job-17-'\n",
      "alias ni18='kubectl describe pod brandon-job-18-'\n",
      "alias ni19='kubectl describe pod brandon-job-19-'\n",
      "alias ni20='kubectl describe pod brandon-job-20-'\n",
      "alias ni21='kubectl describe pod brandon-job-21-'\n",
      "alias ni22='kubectl describe pod brandon-job-22-'\n",
      "alias ni23='kubectl describe pod brandon-job-23-'\n",
      "alias ni24='kubectl describe pod brandon-job-24-'\n",
      "alias ni25='kubectl describe pod brandon-job-25-'\n",
      "alias ni26='kubectl describe pod brandon-job-26-'\n",
      "alias ni27='kubectl describe pod brandon-job-27-'\n",
      "alias ni28='kubectl describe pod brandon-job-28-'\n",
      "alias ni29='kubectl describe pod brandon-job-29-'\n",
      "alias ni30='kubectl describe pod brandon-job-30-'\n",
      "alias ni31='kubectl describe pod brandon-job-31-'\n",
      "alias ni32='kubectl describe pod brandon-job-32-'\n"
     ]
    }
   ],
   "source": [
    "#template = \"alias ncj{}='kubectl create -f /mnt/c/Users/brandon/arsenal/nautilus_configs/templates/template_job_{}.yaml'\"\n",
    "#template = \"alias ndj{}='kubectl delete -f /mnt/c/Users/brandon/arsenal/nautilus_configs/templates/template_job_{}.yaml'\"\n",
    "#template = \"alias nl{}='python /mnt/c/Users/brandon/arsenal/get_kubectl_log.py /mnt/c/Users/brandon/arsenal/nautilus_configs/templates/template_job_{}.yaml'\"\n",
    "template = \"alias ni{}='kubectl describe pod brandon-job-{}-'\"\n",
    "for i in range(1,33):\n",
    "    print(template.format(i,i))"
   ]
  },
  {
   "cell_type": "code",
   "execution_count": null,
   "metadata": {},
   "outputs": [],
   "source": []
  }
 ],
 "metadata": {
  "kernelspec": {
   "display_name": "Python [conda env:standard] *",
   "language": "python",
   "name": "conda-env-standard-py"
  },
  "language_info": {
   "codemirror_mode": {
    "name": "ipython",
    "version": 3
   },
   "file_extension": ".py",
   "mimetype": "text/x-python",
   "name": "python",
   "nbconvert_exporter": "python",
   "pygments_lexer": "ipython3",
   "version": "3.6.9"
  }
 },
 "nbformat": 4,
 "nbformat_minor": 4
}
