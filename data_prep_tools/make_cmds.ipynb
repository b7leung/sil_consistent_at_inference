{
 "cells": [
  {
   "cell_type": "code",
   "execution_count": 2,
   "metadata": {
    "ExecuteTime": {
     "end_time": "2020-10-20T09:39:05.801186Z",
     "start_time": "2020-10-20T09:39:05.795215Z"
    }
   },
   "outputs": [
    {
     "name": "stdout",
     "output_type": "stream",
     "text": [
      "cp ../../../occupancy_networks/out/pytorch3d_renders/02691156/generation/meshes/data_info.yaml 02691156/\n",
      "cp ../../../occupancy_networks/out/pytorch3d_renders/02828884/generation/meshes/data_info.yaml 02828884/\n",
      "cp ../../../occupancy_networks/out/pytorch3d_renders/02933112/generation/meshes/data_info.yaml 02933112/\n",
      "cp ../../../occupancy_networks/out/pytorch3d_renders/02958343/generation/meshes/data_info.yaml 02958343/\n",
      "cp ../../../occupancy_networks/out/pytorch3d_renders/03001627/generation/meshes/data_info.yaml 03001627/\n",
      "cp ../../../occupancy_networks/out/pytorch3d_renders/03211117/generation/meshes/data_info.yaml 03211117/\n",
      "cp ../../../occupancy_networks/out/pytorch3d_renders/03636649/generation/meshes/data_info.yaml 03636649/\n",
      "cp ../../../occupancy_networks/out/pytorch3d_renders/03691459/generation/meshes/data_info.yaml 03691459/\n",
      "cp ../../../occupancy_networks/out/pytorch3d_renders/04090263/generation/meshes/data_info.yaml 04090263/\n",
      "cp ../../../occupancy_networks/out/pytorch3d_renders/04256520/generation/meshes/data_info.yaml 04256520/\n",
      "cp ../../../occupancy_networks/out/pytorch3d_renders/04379243/generation/meshes/data_info.yaml 04379243/\n",
      "cp ../../../occupancy_networks/out/pytorch3d_renders/04401088/generation/meshes/data_info.yaml 04401088/\n",
      "cp ../../../occupancy_networks/out/pytorch3d_renders/04530566/generation/meshes/data_info.yaml 04530566/\n"
     ]
    }
   ],
   "source": [
    "class_ids = [\"02691156\", \"02828884\", \"02933112\", \"02958343\", \"03001627\", \"03211117\", \"03636649\", \"03691459\", \"04090263\", \"04256520\", \"04379243\", \"04401088\", \"04530566\"]\n",
    "#cmd_template = \"cp ../../../occupancy_networks/out/pytorch3d_renders/{}/generation/meshes/data_info.yaml {}/rgba/\"\n",
    "cmd_template = \"cp ../../../occupancy_networks/out/pytorch3d_renders/{}/generation/meshes/data_info.yaml {}/\"\n",
    "#cmd_template = \"python inference/demo.py ../sil_consistent_at_inference/data/input_images/pytorch3d_shapenet_renders/{}/rgba data/pytorch_3d_render_recs/{}\"\n",
    "for class_id in class_ids:\n",
    "    print(cmd_template.format(class_id, class_id))"
   ]
  }
 ],
 "metadata": {
  "kernelspec": {
   "display_name": "Python [conda env:standard] *",
   "language": "python",
   "name": "conda-env-standard-py"
  },
  "language_info": {
   "codemirror_mode": {
    "name": "ipython",
    "version": 3
   },
   "file_extension": ".py",
   "mimetype": "text/x-python",
   "name": "python",
   "nbconvert_exporter": "python",
   "pygments_lexer": "ipython3",
   "version": "3.6.9"
  }
 },
 "nbformat": 4,
 "nbformat_minor": 4
}
