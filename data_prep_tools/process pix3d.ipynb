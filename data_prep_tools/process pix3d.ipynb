{
 "cells": [
  {
   "cell_type": "code",
   "execution_count": 1,
   "metadata": {
    "ExecuteTime": {
     "end_time": "2020-10-11T23:19:35.219965Z",
     "start_time": "2020-10-11T23:19:35.204287Z"
    }
   },
   "outputs": [],
   "source": [
    "%load_ext autoreload\n",
    "%autoreload 2\n",
    "notebook_fixed_dir = False"
   ]
  },
  {
   "cell_type": "code",
   "execution_count": 2,
   "metadata": {
    "ExecuteTime": {
     "end_time": "2020-10-11T23:19:35.971186Z",
     "start_time": "2020-10-11T23:19:35.959146Z"
    }
   },
   "outputs": [
    {
     "name": "stdout",
     "output_type": "stream",
     "text": [
      "/home/svcl-oowl/brandon/research/sil_consistent_at_inference\n"
     ]
    }
   ],
   "source": [
    "# this cell can only be called once\n",
    "import os\n",
    "if not notebook_fixed_dir:\n",
    "    os.chdir('..')\n",
    "    notebook_fixed_dir = True\n",
    "print(os.getcwd())"
   ]
  },
  {
   "cell_type": "code",
   "execution_count": 3,
   "metadata": {
    "ExecuteTime": {
     "end_time": "2020-10-11T23:19:40.642841Z",
     "start_time": "2020-10-11T23:19:36.615425Z"
    }
   },
   "outputs": [],
   "source": [
    "import pprint\n",
    "import glob\n",
    "from pathlib import Path\n",
    "import pickle\n",
    "import random\n",
    "import os\n",
    "import json\n",
    "\n",
    "import torch\n",
    "from PIL import Image\n",
    "import numpy as np\n",
    "from pytorch3d.renderer import look_at_view_transform\n",
    "import matplotlib.pyplot as plt\n",
    "import trimesh\n",
    "import pytorch3d.transforms\n",
    "import PIL\n",
    "from scipy import ndimage\n",
    "from tqdm.autonotebook import tqdm\n",
    "import pandas as pd\n",
    "import shutil\n",
    "\n",
    "import postprocess_dataset\n",
    "from utils import utils\n",
    "from utils import visualization_tools\n",
    "from utils.eval_utils import eval_metrics\n",
    "from utils.brute_force_pose_est import brute_force_estimate_pose, brute_force_estimate_dist, brute_force_estimate_dist_cam_pos, rgba_obj_in_frame\n",
    "#from evaluation import compute_iou_2d, compute_iou_2d_given_pose, compute_iou_3d, compute_chamfer_L1"
   ]
  },
  {
   "cell_type": "code",
   "execution_count": 4,
   "metadata": {
    "ExecuteTime": {
     "end_time": "2020-10-10T04:47:37.116308Z",
     "start_time": "2020-10-10T04:47:36.958066Z"
    },
    "code_folding": []
   },
   "outputs": [],
   "source": [
    "# reverse engineered from \n",
    "# https://pytorch3d.readthedocs.io/en/latest/_modules/pytorch3d/renderer/cameras.html#camera_position_from_spherical_angles\n",
    "def cart_to_spherical(cart_coords):\n",
    "    x = cart_coords[0]\n",
    "    y = cart_coords[1]\n",
    "    z = cart_coords[2]\n",
    "    \n",
    "    dist = np.sqrt(x**2 + y**2 + z**2)\n",
    "    elev = np.arcsin(y)/dist\n",
    "    #azim = np.arctan(x/z)\n",
    "    azim = np.arctan(x/z) + np.pi\n",
    "    return dist, elev, azim\n",
    "    \n",
    "def spherical_to_cart(dist, elev, azim):\n",
    "    x = dist * np.cos(elev) * np.sin(azim)\n",
    "    y = dist * np.sin(elev)\n",
    "    z = dist * np.cos(elev) * np.cos(azim)\n",
    "    print(x,y,z)"
   ]
  },
  {
   "cell_type": "code",
   "execution_count": 5,
   "metadata": {
    "ExecuteTime": {
     "end_time": "2020-10-10T04:47:39.566125Z",
     "start_time": "2020-10-10T04:47:39.333212Z"
    },
    "code_folding": [
     1
    ]
   },
   "outputs": [],
   "source": [
    "# assumes cam_pos is a vector of numbers\n",
    "def find_best_fitting_cam_pos(mesh, cam_pos, num_dists, device, batch_size=8):\n",
    "    # normalizing\n",
    "    with torch.no_grad():\n",
    "        eyes = [cam_pos*i for i in np.geomspace(0.005, 2, num_dists)]\n",
    "        R, T = look_at_view_transform(eye=eyes)\n",
    "        meshes = mesh.extend(num_dists)\n",
    "        renders = utils.render_mesh(meshes, R, T, device)\n",
    "        \n",
    "        rendered_image_fits = []\n",
    "        for i in range(renders.shape[0]):\n",
    "            rendered_image_fits.append(rgba_obj_in_frame(renders[i].cpu().numpy()))\n",
    "\n",
    "        # choose closest cam_pos, whose rendered image will fit completely in the frame\n",
    "        i = 0\n",
    "        while not rendered_image_fits[i]:\n",
    "            i+=1\n",
    "\n",
    "        best_cam_pos = eyes[i]\n",
    "        \n",
    "    return best_cam_pos\n",
    "\n",
    "def get_iou(mask1, mask2):\n",
    "    intersect = mask1 * mask2 # Logical AND\n",
    "    union = mask1 + mask2 # Logical OR\n",
    "    IOU = intersect.sum()/float(union.sum())\n",
    "    return IOU"
   ]
  },
  {
   "cell_type": "code",
   "execution_count": 6,
   "metadata": {
    "ExecuteTime": {
     "end_time": "2020-10-10T04:47:41.358791Z",
     "start_time": "2020-10-10T04:47:41.192233Z"
    }
   },
   "outputs": [],
   "source": [
    "def process_pix3d_image(curr_info_dict, visualize=False, inplane=True, use_spherical=True):\n",
    "    #pprint.pprint(curr_info_dict)\n",
    "    img_path = os.path.join(PIX3D_PATH, curr_info_dict[\"img\"])\n",
    "    mesh_path = os.path.join(PIX3D_PATH, curr_info_dict[\"model\"])\n",
    "    mask_path = os.path.join(PIX3D_PATH, curr_info_dict[\"mask\"])\n",
    "    cam_pos = curr_info_dict[\"cam_position\"]\n",
    "    theta = curr_info_dict[\"inplane_rotation\"]\n",
    "    img = Image.open(img_path)\n",
    "    mesh = utils.load_untextured_mesh(mesh_path, device)\n",
    "\n",
    "    up_axis = [0,1,0] \n",
    "    if inplane:\n",
    "        theta = curr_info_dict[\"inplane_rotation\"]\n",
    "        inplane_R = np.array([[np.cos(theta), -np.sin(theta), 0], [np.sin(theta), np.cos(theta),0],[0,0,1]])\n",
    "        up_axis = (inplane_R@np.array([up_axis]).T).T[0]\n",
    "\n",
    "    # obtaining GT pose in spherical coordinates\n",
    "    cam_pos = np.array(cam_pos)/np.sqrt(cam_pos[0]**2+cam_pos[1]**2+cam_pos[2]**2)\n",
    "    dist, elev, azim = cart_to_spherical(cam_pos)\n",
    "    azim = azim * (180/np.pi) \n",
    "    elev = elev * (180/np.pi) \n",
    "    R, T = look_at_view_transform(dist,elev,azim, up=[up_axis])\n",
    "    spherical_based_render = utils.render_mesh(mesh, R, T, device, img_size=img_size)\n",
    "\n",
    "    # double checking spherical coordinates conversion to see it it matches camera position based pose\n",
    "    # Note sure why this is necessary\n",
    "    R, T = look_at_view_transform(eye=[cam_pos], up=[up_axis])\n",
    "    cam_based_render = utils.render_mesh(mesh, R, T, device, img_size=img_size)\n",
    "    render_comparision_iou = get_iou(spherical_based_render[0,...,3]>0, cam_based_render[0,...,3]>0)\n",
    "    flipped=False\n",
    "    if render_comparision_iou.item() < 0.95:\n",
    "        azim += 180\n",
    "        R, T = look_at_view_transform(dist,elev,azim, up=[up_axis])\n",
    "        spherical_based_render = utils.render_mesh(mesh, R, T, device, img_size=img_size)\n",
    "        flipped=True\n",
    "    \n",
    "    mask = Image.open(mask_path)\n",
    "    mask_bbox = curr_info_dict[\"bbox\"]\n",
    "    img_masked_rgba = Image.composite(Image.new(\"RGBA\", curr_info_dict['img_size']), img.convert('RGBA'), PIL.ImageOps.invert(mask))\n",
    "    img_masked_rgba = img_masked_rgba.crop(mask_bbox)\n",
    "\n",
    "    objs = ndimage.find_objects(spherical_based_render[0,...,3].detach().cpu().numpy()>0.2)\n",
    "    # upper left, lower right\n",
    "    #render_bbox = [objs[0][0].start, objs[0][1].start, objs[0][0].stop, objs[0][1].stop]\n",
    "    render_bbox = [objs[0][1].start, objs[0][0].start, objs[0][1].stop, objs[0][0].stop]\n",
    "    render_bbox_width = render_bbox[2] - render_bbox[0]\n",
    "    render_bbox_height = render_bbox[3] - render_bbox[1]\n",
    "    img_masked_rgba_resized = img_masked_rgba.resize((render_bbox_width, render_bbox_height))\n",
    "    processed_img = Image.new(\"RGBA\", (img_size, img_size))\n",
    "    processed_img.paste(img_masked_rgba_resized, box=render_bbox[:2])\n",
    "\n",
    "    final_iou = get_iou(spherical_based_render[0, ..., 3].detach().cpu().numpy() > 0, np.array(processed_img)[...,3]>0)\n",
    "    if visualize:\n",
    "        plt.imshow(img_masked_rgba)\n",
    "        plt.show()\n",
    "        plt.imshow(spherical_based_render[0, ..., :3].detach().cpu().numpy())\n",
    "        plt.show()\n",
    "        plt.imshow(processed_img)\n",
    "        plt.show()\n",
    "    return processed_img, dist, elev, azim, final_iou"
   ]
  },
  {
   "cell_type": "code",
   "execution_count": 35,
   "metadata": {
    "ExecuteTime": {
     "end_time": "2020-10-10T05:31:22.946073Z",
     "start_time": "2020-10-10T05:31:22.903364Z"
    }
   },
   "outputs": [],
   "source": [
    "pix3d_class = \"bed\"\n",
    "\n",
    "PIX3D_PATH = \"/home/svcl-oowl/dataset/pix3d\"\n",
    "PROCESSED_PIX3D_PATH = \"data/pix3d_images_processed\"\n",
    "device = torch.device(\"cuda:0\")\n",
    "img_size = 224\n",
    "blacklist = [\"img/table/0045\", \"img/table/1749\"]\n",
    "recompute=False\n",
    "\n",
    "processed_class_output_dir = os.path.join(PROCESSED_PIX3D_PATH, pix3d_class, \"rgba\")\n",
    "processed_class_output_dir_rgb = os.path.join(PROCESSED_PIX3D_PATH, pix3d_class, \"rgb\")\n",
    "if not os.path.exists(processed_class_output_dir):\n",
    "    os.makedirs(processed_class_output_dir)\n",
    "if not os.path.exists(processed_class_output_dir_rgb):\n",
    "    os.makedirs(processed_class_output_dir_rgb)\n",
    "pose_dict_path = os.path.join(processed_class_output_dir, \"renders_camera_params.pt\")\n",
    "iou_dict_path = os.path.join(processed_class_output_dir, \"iou_info.pt\")"
   ]
  },
  {
   "cell_type": "code",
   "execution_count": null,
   "metadata": {
    "ExecuteTime": {
     "end_time": "2020-10-10T03:48:19.580442Z",
     "start_time": "2020-10-10T03:48:17.858039Z"
    }
   },
   "outputs": [],
   "source": [
    "with open(os.path.join(PIX3D_PATH, \"pix3d.json\")) as f:\n",
    "    pix3d_data_json = json.loads(f.read())\n",
    "# convert list of dicts into a dict (keyed by image path) of dicts\n",
    "pix3d_data_dict = { entry[\"img\"].split('.')[0]:entry for entry in pix3d_data_json}"
   ]
  },
  {
   "cell_type": "code",
   "execution_count": null,
   "metadata": {
    "ExecuteTime": {
     "end_time": "2020-10-10T04:06:13.562878Z",
     "start_time": "2020-10-10T03:48:21.478649Z"
    },
    "scrolled": true
   },
   "outputs": [],
   "source": [
    "if os.path.exists(pose_dict_path):\n",
    "    pose_dict = pickle.load(open(pose_dict_path, \"rb\"))\n",
    "else:\n",
    "    pose_dict = {}\n",
    "    \n",
    "if os.path.exists(iou_dict_path):\n",
    "    iou_dict = pickle.load(open(iou_dict_path, \"rb\"))\n",
    "else:\n",
    "    iou_dict = {}\n",
    "\n",
    "class_instance_names = [instance_name for instance_name in pix3d_data_dict.keys() if pix3d_class in instance_name]\n",
    "for instance_name in tqdm(class_instance_names):\n",
    "    instance_class_id = instance_name.split('/')[-1]\n",
    "    processed_img_path = os.path.join(processed_class_output_dir, \"{}.png\".format(instance_class_id))\n",
    "    if instance_name not in blacklist and (recompute or not os.path.exists(processed_img_path)):\n",
    "        print(instance_name)\n",
    "        processed_img, dist, elev, azim, iou = process_pix3d_image(pix3d_data_dict[instance_name], visualize=False)\n",
    "        iou_dict[instance_class_id] = iou\n",
    "        pose_dict[instance_class_id] = {\"azim\": azim, \"elev\": elev, \"dist\": dist}\n",
    "        pickle.dump(iou_dict, open(iou_dict_path, \"wb\"))\n",
    "        pickle.dump(pose_dict, open(pose_dict_path, \"wb\"))\n",
    "        processed_img.save(processed_img_path)\n",
    "        "
   ]
  },
  {
   "cell_type": "code",
   "execution_count": null,
   "metadata": {
    "ExecuteTime": {
     "end_time": "2020-10-09T21:46:31.922598Z",
     "start_time": "2020-10-09T21:46:31.887906Z"
    }
   },
   "outputs": [],
   "source": [
    "#pprint.pprint(pickle.load(open(iou_dict_path, \"rb\")))\n",
    "#pprint.pprint(pickle.load(open(pose_dict_path, \"rb\")))"
   ]
  },
  {
   "cell_type": "code",
   "execution_count": 36,
   "metadata": {
    "ExecuteTime": {
     "end_time": "2020-10-10T05:34:02.493526Z",
     "start_time": "2020-10-10T05:31:26.074797Z"
    }
   },
   "outputs": [
    {
     "data": {
      "application/vnd.jupyter.widget-view+json": {
       "model_id": "797b57a4f59242efa632329cf5482def",
       "version_major": 2,
       "version_minor": 0
      },
      "text/plain": [
       "HBox(children=(FloatProgress(value=0.0, max=994.0), HTML(value='')))"
      ]
     },
     "metadata": {},
     "output_type": "display_data"
    },
    {
     "name": "stdout",
     "output_type": "stream",
     "text": [
      "\n"
     ]
    }
   ],
   "source": [
    "# convert rgba images to rgb\n",
    "rgba_img_paths = glob.glob(os.path.join(processed_class_output_dir, \"*.png\"))\n",
    "for rgba_img_path in tqdm(rgba_img_paths):\n",
    "    rgb_img_path = rgba_img_path.replace(\"rgba\", \"rgb\").replace(\".png\", \".jpg\")\n",
    "    rgba_img = Image.open(rgba_img_path)\n",
    "    background = Image.new('RGBA', rgba_img.size, (255,255,255))\n",
    "    rgb_img = Image.alpha_composite(background, rgba_img)\n",
    "    rgb_img = rgb_img.convert(\"RGB\")\n",
    "    rgb_img.save(rgb_img_path)"
   ]
  },
  {
   "cell_type": "code",
   "execution_count": 83,
   "metadata": {
    "ExecuteTime": {
     "end_time": "2020-10-10T07:12:39.199563Z",
     "start_time": "2020-10-10T07:03:04.633078Z"
    },
    "scrolled": true
   },
   "outputs": [
    {
     "data": {
      "application/vnd.jupyter.widget-view+json": {
       "model_id": "4b1ff48c2e584735b04c6d8a5bd4457f",
       "version_major": 2,
       "version_minor": 0
      },
      "text/plain": [
       "HBox(children=(FloatProgress(value=0.0, max=9.0), HTML(value='')))"
      ]
     },
     "metadata": {},
     "output_type": "display_data"
    },
    {
     "name": "stdout",
     "output_type": "stream",
     "text": [
      "bed: 994 -> 555\n"
     ]
    },
    {
     "data": {
      "application/vnd.jupyter.widget-view+json": {
       "model_id": "83738d8de4c440b9881e5f016aa8ab49",
       "version_major": 2,
       "version_minor": 0
      },
      "text/plain": [
       "HBox(children=(FloatProgress(value=0.0, max=555.0), HTML(value='')))"
      ]
     },
     "metadata": {},
     "output_type": "display_data"
    },
    {
     "name": "stdout",
     "output_type": "stream",
     "text": [
      "\n",
      "bookcase: 361 -> 239\n"
     ]
    },
    {
     "data": {
      "application/vnd.jupyter.widget-view+json": {
       "model_id": "f9bbaf47e6f640d08f11d6e0b1f223ca",
       "version_major": 2,
       "version_minor": 0
      },
      "text/plain": [
       "HBox(children=(FloatProgress(value=0.0, max=239.0), HTML(value='')))"
      ]
     },
     "metadata": {},
     "output_type": "display_data"
    },
    {
     "name": "stdout",
     "output_type": "stream",
     "text": [
      "\n",
      "chair: 3839 -> 1527\n"
     ]
    },
    {
     "data": {
      "application/vnd.jupyter.widget-view+json": {
       "model_id": "75976d08ba0847859eb61eae96ab5af9",
       "version_major": 2,
       "version_minor": 0
      },
      "text/plain": [
       "HBox(children=(FloatProgress(value=0.0, max=1527.0), HTML(value='')))"
      ]
     },
     "metadata": {},
     "output_type": "display_data"
    },
    {
     "name": "stdout",
     "output_type": "stream",
     "text": [
      "\n",
      "desk: 700 -> 278\n"
     ]
    },
    {
     "data": {
      "application/vnd.jupyter.widget-view+json": {
       "model_id": "1ed7042ffc464cbc89148b3586b96d0c",
       "version_major": 2,
       "version_minor": 0
      },
      "text/plain": [
       "HBox(children=(FloatProgress(value=0.0, max=278.0), HTML(value='')))"
      ]
     },
     "metadata": {},
     "output_type": "display_data"
    },
    {
     "name": "stdout",
     "output_type": "stream",
     "text": [
      "\n",
      "misc: 68 -> 39\n"
     ]
    },
    {
     "data": {
      "application/vnd.jupyter.widget-view+json": {
       "model_id": "ff791d4a853b4f228e8ed76643a00d8c",
       "version_major": 2,
       "version_minor": 0
      },
      "text/plain": [
       "HBox(children=(FloatProgress(value=0.0, max=39.0), HTML(value='')))"
      ]
     },
     "metadata": {},
     "output_type": "display_data"
    },
    {
     "name": "stdout",
     "output_type": "stream",
     "text": [
      "\n",
      "sofa: 1947 -> 1852\n"
     ]
    },
    {
     "data": {
      "application/vnd.jupyter.widget-view+json": {
       "model_id": "e10e8e8ee8fc4e76b8d642a4ce6774b3",
       "version_major": 2,
       "version_minor": 0
      },
      "text/plain": [
       "HBox(children=(FloatProgress(value=0.0, max=1852.0), HTML(value='')))"
      ]
     },
     "metadata": {},
     "output_type": "display_data"
    },
    {
     "name": "stdout",
     "output_type": "stream",
     "text": [
      "\n",
      "table: 1868 -> 580\n"
     ]
    },
    {
     "data": {
      "application/vnd.jupyter.widget-view+json": {
       "model_id": "b7098c8527854995ac6a279680bdb27d",
       "version_major": 2,
       "version_minor": 0
      },
      "text/plain": [
       "HBox(children=(FloatProgress(value=0.0, max=580.0), HTML(value='')))"
      ]
     },
     "metadata": {},
     "output_type": "display_data"
    },
    {
     "name": "stdout",
     "output_type": "stream",
     "text": [
      "\n",
      "tool: 47 -> 15\n"
     ]
    },
    {
     "data": {
      "application/vnd.jupyter.widget-view+json": {
       "model_id": "8be72e65366c4df29e8d2c33ae0111bc",
       "version_major": 2,
       "version_minor": 0
      },
      "text/plain": [
       "HBox(children=(FloatProgress(value=0.0, max=15.0), HTML(value='')))"
      ]
     },
     "metadata": {},
     "output_type": "display_data"
    },
    {
     "name": "stdout",
     "output_type": "stream",
     "text": [
      "\n",
      "wardrobe: 243 -> 240\n"
     ]
    },
    {
     "data": {
      "application/vnd.jupyter.widget-view+json": {
       "model_id": "aa88f0419d344fad88c80127118289f2",
       "version_major": 2,
       "version_minor": 0
      },
      "text/plain": [
       "HBox(children=(FloatProgress(value=0.0, max=240.0), HTML(value='')))"
      ]
     },
     "metadata": {},
     "output_type": "display_data"
    },
    {
     "name": "stdout",
     "output_type": "stream",
     "text": [
      "\n",
      "\n"
     ]
    },
    {
     "data": {
      "image/png": "[encoded data removed]",
      "text/plain": [
       "<Figure size 432x288 with 1 Axes>"
      ]
     },
     "metadata": {
      "needs_background": "light"
     },
     "output_type": "display_data"
    },
    {
     "data": {
      "image/png": "[encoded data removed]",
      "text/plain": [
       "<Figure size 432x288 with 1 Axes>"
      ]
     },
     "metadata": {
      "needs_background": "light"
     },
     "output_type": "display_data"
    },
    {
     "data": {
      "image/png": "[encoded data removed]",
      "text/plain": [
       "<Figure size 432x288 with 1 Axes>"
      ]
     },
     "metadata": {
      "needs_background": "light"
     },
     "output_type": "display_data"
    },
    {
     "data": {
      "image/png": "[encoded data removed]",
      "text/plain": [
       "<Figure size 432x288 with 1 Axes>"
      ]
     },
     "metadata": {
      "needs_background": "light"
     },
     "output_type": "display_data"
    },
    {
     "data": {
      "image/png": "[encoded data removed]",
      "text/plain": [
       "<Figure size 432x288 with 1 Axes>"
      ]
     },
     "metadata": {
      "needs_background": "light"
     },
     "output_type": "display_data"
    },
    {
     "data": {
      "image/png": "[encoded data removed]",
      "text/plain": [
       "<Figure size 432x288 with 1 Axes>"
      ]
     },
     "metadata": {
      "needs_background": "light"
     },
     "output_type": "display_data"
    },
    {
     "data": {
      "image/png": "[encoded data removed]",
      "text/plain": [
       "<Figure size 432x288 with 1 Axes>"
      ]
     },
     "metadata": {
      "needs_background": "light"
     },
     "output_type": "display_data"
    },
    {
     "data": {
      "image/png": "[encoded data removed]",
      "text/plain": [
       "<Figure size 432x288 with 1 Axes>"
      ]
     },
     "metadata": {
      "needs_background": "light"
     },
     "output_type": "display_data"
    },
    {
     "data": {
      "image/png": "[encoded data removed]",
      "text/plain": [
       "<Figure size 432x288 with 1 Axes>"
      ]
     },
     "metadata": {
      "needs_background": "light"
     },
     "output_type": "display_data"
    }
   ],
   "source": [
    "# creating a copy of processed pix3d dataset filtered by high quality iou\n",
    "iou_thresh = 0.7\n",
    "PROCESSED_FILTERED_PIX3D_PATH = PROCESSED_PIX3D_PATH + \"_filtered\"\n",
    "\n",
    "#pix3d_classes = [\"tool\"]\n",
    "pix3d_classes = [\"bed\",  \"bookcase\",  \"chair\",  \"desk\",  \"misc\",  \"sofa\",  \"table\",  \"tool\",  \"wardrobe\"]\n",
    "for pix3d_class in tqdm(pix3d_classes):\n",
    "    processed_class_output_dir = os.path.join(PROCESSED_PIX3D_PATH, pix3d_class, \"rgba\")\n",
    "    processed_class_output_dir_rgb = os.path.join(PROCESSED_PIX3D_PATH, pix3d_class, \"rgb\")\n",
    "\n",
    "    processed_filtered_class_output_dir = os.path.join(PROCESSED_FILTERED_PIX3D_PATH, pix3d_class, \"rgba\")\n",
    "    processed_filtered_class_output_dir_rgb = os.path.join(PROCESSED_FILTERED_PIX3D_PATH, pix3d_class, \"rgb\")\n",
    "    if not os.path.exists(processed_filtered_class_output_dir):\n",
    "        os.makedirs(processed_filtered_class_output_dir)\n",
    "    if not os.path.exists(processed_filtered_class_output_dir_rgb):\n",
    "        os.makedirs(processed_filtered_class_output_dir_rgb)\n",
    "    \n",
    "    processed_class_output_dir = os.path.join(PROCESSED_PIX3D_PATH, pix3d_class, \"rgba\")\n",
    "    iou_dict_path = os.path.join(processed_class_output_dir, \"iou_info.pt\")\n",
    "\n",
    "    iou_dict = pickle.load(open(iou_dict_path, \"rb\"))\n",
    "    iou_df = pd.DataFrame.from_dict(iou_dict.items())\n",
    "    iou_df_thresh = iou_df[iou_df[1]>iou_thresh]\n",
    "    \n",
    "    fig, axes = plt.subplots(nrows=1, ncols=1)\n",
    "    fig.show()\n",
    "    iou_df.hist(bins=50, ax=axes)\n",
    "    fig.suptitle(pix3d_class)\n",
    "    print(\"{}: {} -> {}\".format(pix3d_class, len(iou_df), len(iou_df_thresh)))\n",
    "    \n",
    "    high_quality_instances = iou_df_thresh[0].to_list()\n",
    "    \n",
    "    original_iou_info = pickle.load(open(os.path.join(processed_class_output_dir, \"iou_info.pt\"), \"rb\"))\n",
    "    filtered_iou_info = {instance:original_iou_info[instance] for instance in original_iou_info if instance in high_quality_instances}\n",
    "    pickle.dump(filtered_iou_info, open(os.path.join(processed_filtered_class_output_dir, \"iou_info.pt\"), \"wb\"))\n",
    "    \n",
    "    original_cameras_info = pickle.load(open(os.path.join(processed_class_output_dir, \"renders_camera_params.pt\"), \"rb\"))\n",
    "    filtered_cameras_info = {instance:original_cameras_info[instance] for instance in original_cameras_info if instance in high_quality_instances}\n",
    "    pickle.dump(filtered_cameras_info, open(os.path.join(processed_filtered_class_output_dir, \"renders_camera_params.pt\"), \"wb\"))\n",
    "    \n",
    "    for high_quality_instance in tqdm(high_quality_instances):\n",
    "        original_instance_path = os.path.join(processed_class_output_dir, \"{}.png\".format(high_quality_instance))\n",
    "        original_instance_path_rgb = os.path.join(processed_class_output_dir_rgb, \"{}.jpg\".format(high_quality_instance))\n",
    "        \n",
    "        dest_instance_path = os.path.join(processed_filtered_class_output_dir, \"{}.png\".format(high_quality_instance))\n",
    "        dest_instance_path_rgb = os.path.join(processed_filtered_class_output_dir_rgb, \"{}.jpg\".format(high_quality_instance))\n",
    "        \n",
    "        #print(original_instance_path, original_instance_path_rgb)\n",
    "        #print(dest_instance_path, dest_instance_path_rgb)\n",
    "        shutil.copyfile(original_instance_path, dest_instance_path)\n",
    "        shutil.copyfile(original_instance_path_rgb, dest_instance_path_rgb)\n",
    "    "
   ]
  },
  {
   "cell_type": "code",
   "execution_count": 82,
   "metadata": {
    "ExecuteTime": {
     "end_time": "2020-10-10T07:01:22.154615Z",
     "start_time": "2020-10-10T07:01:21.982709Z"
    },
    "scrolled": true
   },
   "outputs": [
    {
     "data": {
      "text/plain": [
       "{'0002': 0.7783418821312676,\n",
       " '0004': 0.8845405815663394,\n",
       " '0005': 0.8133922152613742,\n",
       " '0008': 0.7997555510287228,\n",
       " '0012': 0.9107601184600197,\n",
       " '0017': 0.757001647446458,\n",
       " '0018': 0.8265794110244148,\n",
       " '0024': 0.7506029908345393,\n",
       " '0025': 0.7214633016902061,\n",
       " '0030': 0.9369817578772802,\n",
       " '0031': 0.8027210884353742,\n",
       " '0037': 0.955793703951775,\n",
       " '0038': 0.8771689497716895,\n",
       " '0046': 0.7740481556161783,\n",
       " '0047': 0.7761274351522979}"
      ]
     },
     "metadata": {},
     "output_type": "display_data"
    },
    {
     "name": "stdout",
     "output_type": "stream",
     "text": [
      "data/pix3d_images_processed_filtered/tool/rgba/iou_info.pt\n"
     ]
    },
    {
     "data": {
      "text/plain": [
       "{'0002': {'azim': 121.24733510377571,\n",
       "  'elev': 40.656558706747084,\n",
       "  'dist': 0.9999999999999999},\n",
       " '0004': {'azim': 277.56503664771583, 'elev': 28.712301921967587, 'dist': 1.0},\n",
       " '0005': {'azim': 190.17924501165572, 'elev': 40.488350493733044, 'dist': 1.0},\n",
       " '0008': {'azim': 214.8604676249816, 'elev': 20.591192460271387, 'dist': 1.0},\n",
       " '0012': {'azim': 181.23953592340564, 'elev': 4.719748345881564, 'dist': 1.0},\n",
       " '0017': {'azim': 168.16830111491862, 'elev': 45.30676158844392, 'dist': 1.0},\n",
       " '0018': {'azim': 315.839935370574,\n",
       "  'elev': 29.32400437730272,\n",
       "  'dist': 0.9999999999999999},\n",
       " '0024': {'azim': 130.78223889480088, 'elev': 38.7972145142091, 'dist': 1.0},\n",
       " '0025': {'azim': 447.4185112239083,\n",
       "  'elev': 29.88876201025528,\n",
       "  'dist': 0.9999999999999999},\n",
       " '0030': {'azim': 133.84298797923364, 'elev': 37.20343929472265, 'dist': 1.0},\n",
       " '0031': {'azim': 119.26729710476036, 'elev': 22.29503094584309, 'dist': 1.0},\n",
       " '0037': {'azim': 134.16229735597346,\n",
       "  'elev': 36.27358309219083,\n",
       "  'dist': 0.9999999999999999},\n",
       " '0038': {'azim': 279.4311628001513, 'elev': 32.573574070071274, 'dist': 1.0},\n",
       " '0046': {'azim': 212.4742065924952, 'elev': 38.71682059088856, 'dist': 1.0},\n",
       " '0047': {'azim': 151.63369353119992, 'elev': 50.093572968090754, 'dist': 1.0}}"
      ]
     },
     "metadata": {},
     "output_type": "display_data"
    },
    {
     "name": "stdout",
     "output_type": "stream",
     "text": [
      "data/pix3d_images_processed_filtered/tool/rgba/renders_camera_params.pt\n"
     ]
    }
   ],
   "source": [
    "display(pickle.load(open(os.path.join(processed_filtered_class_output_dir, \"iou_info.pt\"), \"rb\")))\n",
    "print(os.path.join(processed_filtered_class_output_dir, \"iou_info.pt\"))\n",
    "\n",
    "display(pickle.load(open(os.path.join(processed_filtered_class_output_dir, \"renders_camera_params.pt\"), \"rb\")))\n",
    "print(os.path.join(processed_filtered_class_output_dir, \"renders_camera_params.pt\"))"
   ]
  },
  {
   "cell_type": "code",
   "execution_count": 5,
   "metadata": {
    "ExecuteTime": {
     "end_time": "2020-10-11T23:23:30.056584Z",
     "start_time": "2020-10-11T23:23:25.808598Z"
    }
   },
   "outputs": [],
   "source": [
    "# correct some issues in the renders_camera_params file: 1) turns everything into floats, 2) subtracts azim by 90\n",
    "pix3d_img_folder_to_fix = \"data/input_images/pix3d_images_processed\"\n",
    "camera_params_paths = [str(path) for path in list(Path(pix3d_img_folder_to_fix).rglob('renders_camera_params.pt'))]\n",
    "for camera_params_path in camera_params_paths:\n",
    "    shutil.copyfile(camera_params_path, camera_params_path.replace(\"renders_camera_params\", \"original_renders_camera_params\"))\n",
    "    original_camera_params = pickle.load(open(camera_params_path, \"rb\"))\n",
    "    fixed_camera_params = {}\n",
    "    for instance in original_camera_params:\n",
    "        fixed_camera_params[instance] = {'azim': float(original_camera_params[instance]['azim'])-90, 'dist': float(original_camera_params[instance]['dist']), 'elev': float(original_camera_params[instance]['elev'])}\n",
    "    \n",
    "    pickle.dump(fixed_camera_params, open(camera_params_path, \"wb\"))\n",
    "    "
   ]
  },
  {
   "cell_type": "code",
   "execution_count": 14,
   "metadata": {
    "ExecuteTime": {
     "end_time": "2020-10-10T12:57:21.085293Z",
     "start_time": "2020-10-10T12:57:20.750173Z"
    }
   },
   "outputs": [
    {
     "name": "stdout",
     "output_type": "stream",
     "text": [
      "{'0002': {'azim': 121.24733510377571,\n",
      "          'dist': 0.9999999999999999,\n",
      "          'elev': 40.656558706747084},\n",
      " '0004': {'azim': 277.56503664771583, 'dist': 1.0, 'elev': 28.712301921967587},\n",
      " '0005': {'azim': 190.17924501165572, 'dist': 1.0, 'elev': 40.488350493733044},\n",
      " '0008': {'azim': 214.8604676249816, 'dist': 1.0, 'elev': 20.591192460271387},\n",
      " '0012': {'azim': 181.23953592340564, 'dist': 1.0, 'elev': 4.719748345881564},\n",
      " '0017': {'azim': 168.16830111491862, 'dist': 1.0, 'elev': 45.30676158844392},\n",
      " '0018': {'azim': 315.839935370574,\n",
      "          'dist': 0.9999999999999999,\n",
      "          'elev': 29.32400437730272},\n",
      " '0024': {'azim': 130.78223889480088, 'dist': 1.0, 'elev': 38.7972145142091},\n",
      " '0025': {'azim': 447.4185112239083,\n",
      "          'dist': 0.9999999999999999,\n",
      "          'elev': 29.88876201025528},\n",
      " '0030': {'azim': 133.84298797923364, 'dist': 1.0, 'elev': 37.20343929472265},\n",
      " '0031': {'azim': 119.26729710476036, 'dist': 1.0, 'elev': 22.29503094584309},\n",
      " '0037': {'azim': 134.16229735597346,\n",
      "          'dist': 0.9999999999999999,\n",
      "          'elev': 36.27358309219083},\n",
      " '0038': {'azim': 279.4311628001513, 'dist': 1.0, 'elev': 32.573574070071274},\n",
      " '0046': {'azim': 212.4742065924952, 'dist': 1.0, 'elev': 38.71682059088856},\n",
      " '0047': {'azim': 151.63369353119992, 'dist': 1.0, 'elev': 50.093572968090754}}\n"
     ]
    }
   ],
   "source": [
    "pprint.pprint(pickle.load(open(\"data/pix3d_images_processed_filtered/tool/rgba/renders_camera_params-Copy1.pt\", \"rb\")))\n",
    "#pprint.pprint(pickle.load(open(\"data/pix3d_images_processed_filtered/tool/rgba/renders_camera_params.pt\", \"rb\")))"
   ]
  },
  {
   "cell_type": "code",
   "execution_count": null,
   "metadata": {},
   "outputs": [],
   "source": []
  },
  {
   "cell_type": "code",
   "execution_count": null,
   "metadata": {},
   "outputs": [],
   "source": []
  },
  {
   "cell_type": "code",
   "execution_count": null,
   "metadata": {},
   "outputs": [],
   "source": []
  },
  {
   "cell_type": "code",
   "execution_count": null,
   "metadata": {},
   "outputs": [],
   "source": []
  },
  {
   "cell_type": "code",
   "execution_count": null,
   "metadata": {},
   "outputs": [],
   "source": []
  }
 ],
 "metadata": {
  "kernelspec": {
   "display_name": "Python [conda env:standard] *",
   "language": "python",
   "name": "conda-env-standard-py"
  },
  "language_info": {
   "codemirror_mode": {
    "name": "ipython",
    "version": 3
   },
   "file_extension": ".py",
   "mimetype": "text/x-python",
   "name": "python",
   "nbconvert_exporter": "python",
   "pygments_lexer": "ipython3",
   "version": "3.6.9"
  }
 },
 "nbformat": 4,
 "nbformat_minor": 4
}
