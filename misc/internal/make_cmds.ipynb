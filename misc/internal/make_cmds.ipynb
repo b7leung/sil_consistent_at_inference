{
 "cells": [
  {
   "cell_type": "code",
   "execution_count": 2,
   "metadata": {
    "ExecuteTime": {
     "end_time": "2020-11-03T22:27:08.400047Z",
     "start_time": "2020-11-03T22:27:08.393949Z"
    }
   },
   "outputs": [
    {
     "name": "stdout",
     "output_type": "stream",
     "text": [
      "/opt/conda/envs/standard/bin/python -u evaluation.py data/refinements/asym_shapenet_occnet_refinements/ablation_1/02691156 --use_gt_poses --metrics 2d_iou_input 2d_iou_multi 3d_iou chamfer_L1\n",
      "/opt/conda/envs/standard/bin/python -u evaluation.py data/refinements/asym_shapenet_occnet_refinements/ablation_1/02828884 --use_gt_poses --metrics 2d_iou_input 2d_iou_multi 3d_iou chamfer_L1\n",
      "/opt/conda/envs/standard/bin/python -u evaluation.py data/refinements/asym_shapenet_occnet_refinements/ablation_1/02933112 --use_gt_poses --metrics 2d_iou_input 2d_iou_multi 3d_iou chamfer_L1\n",
      "/opt/conda/envs/standard/bin/python -u evaluation.py data/refinements/asym_shapenet_occnet_refinements/ablation_1/02958343 --use_gt_poses --metrics 2d_iou_input 2d_iou_multi 3d_iou chamfer_L1\n",
      "/opt/conda/envs/standard/bin/python -u evaluation.py data/refinements/asym_shapenet_occnet_refinements/ablation_1/03001627 --use_gt_poses --metrics 2d_iou_input 2d_iou_multi 3d_iou chamfer_L1\n",
      "/opt/conda/envs/standard/bin/python -u evaluation.py data/refinements/asym_shapenet_occnet_refinements/ablation_1/03211117 --use_gt_poses --metrics 2d_iou_input 2d_iou_multi 3d_iou chamfer_L1\n",
      "/opt/conda/envs/standard/bin/python -u evaluation.py data/refinements/asym_shapenet_occnet_refinements/ablation_1/03636649 --use_gt_poses --metrics 2d_iou_input 2d_iou_multi 3d_iou chamfer_L1\n",
      "/opt/conda/envs/standard/bin/python -u evaluation.py data/refinements/asym_shapenet_occnet_refinements/ablation_1/03691459 --use_gt_poses --metrics 2d_iou_input 2d_iou_multi 3d_iou chamfer_L1\n",
      "/opt/conda/envs/standard/bin/python -u evaluation.py data/refinements/asym_shapenet_occnet_refinements/ablation_1/04090263 --use_gt_poses --metrics 2d_iou_input 2d_iou_multi 3d_iou chamfer_L1\n",
      "/opt/conda/envs/standard/bin/python -u evaluation.py data/refinements/asym_shapenet_occnet_refinements/ablation_1/04256520 --use_gt_poses --metrics 2d_iou_input 2d_iou_multi 3d_iou chamfer_L1\n",
      "/opt/conda/envs/standard/bin/python -u evaluation.py data/refinements/asym_shapenet_occnet_refinements/ablation_1/04379243 --use_gt_poses --metrics 2d_iou_input 2d_iou_multi 3d_iou chamfer_L1\n",
      "/opt/conda/envs/standard/bin/python -u evaluation.py data/refinements/asym_shapenet_occnet_refinements/ablation_1/04401088 --use_gt_poses --metrics 2d_iou_input 2d_iou_multi 3d_iou chamfer_L1\n",
      "/opt/conda/envs/standard/bin/python -u evaluation.py data/refinements/asym_shapenet_occnet_refinements/ablation_1/04530566 --use_gt_poses --metrics 2d_iou_input 2d_iou_multi 3d_iou chamfer_L1\n"
     ]
    }
   ],
   "source": [
    "class_ids = [\"02691156\", \"02828884\", \"02933112\", \"02958343\", \"03001627\", \"03211117\", \"03636649\", \"03691459\", \"04090263\", \"04256520\", \"04379243\", \"04401088\", \"04530566\"]\n",
    "#cmd_template = \"cp ../../../occupancy_networks/out/pytorch3d_renders/{}/generation/meshes/data_info.yaml {}/rgba/\"\n",
    "#cmd_template = \"cp ../../../occupancy_networks/out/pytorch3d_renders/{}/generation/meshes/data_info.yaml {}/\"\n",
    "#cmd_template = \"python inference/demo.py ../sil_consistent_at_inference/data/input_images/pytorch3d_shapenet_renders/{}/rgba data/pytorch_3d_render_recs/{}\"\n",
    "#cmd_template = \"python -m sil_consistent_at_inference.data_prep_tools.render_meshes /home/svcl-oowl/dataset/ShapeNetCore.v1/{} /home/svcl-oowl/brandon/research/sil_consistent_at_inference/data/input_images/sym_pytorch3d_shapenet_renders/{} --suffix model_watertight.obj --textureless --instances_list /home/svcl-oowl/brandon/research/sil_consistent_at_inference/data_prep_tools/occnet_test_set_lists/sym_{}.lst\"\n",
    "#cmd_template = \"cp ../pytorch3d_renders/{}/generation/meshes/data_info.yaml {}/generation/meshes/\"\n",
    "cmd_template = \"/opt/conda/envs/standard/bin/python -u evaluation.py data/refinements/asym_shapenet_occnet_refinements/ablation_1/{} --use_gt_poses --metrics 2d_iou_input 2d_iou_multi 3d_iou chamfer_L1\"\n",
    "#cmd_template = \"/opt/conda/envs/standard/bin/python -u evaluation.py /home/svcl-oowl/brandon/research/occupancy_networks/out/asym_pytorch3d_renders/{}/generation/meshes --use_gt_poses --metrics 2d_iou_input 2d_iou_multi 3d_iou chamfer_L1\"\n",
    "for class_id in class_ids:\n",
    "    print(cmd_template.format(class_id))"
   ]
  },
  {
   "cell_type": "code",
   "execution_count": 2,
   "metadata": {
    "ExecuteTime": {
     "end_time": "2020-10-25T22:19:16.203523Z",
     "start_time": "2020-10-25T22:19:15.262807Z"
    },
    "scrolled": true
   },
   "outputs": [
    {
     "name": "stdout",
     "output_type": "stream",
     "text": [
      "========================================\n",
      "02691156\n",
      "4045\n",
      "\n",
      "4048\n",
      "\n",
      "========================================\n",
      "02828884\n",
      "1816\n",
      "\n",
      "1819\n",
      "\n",
      "========================================\n",
      "02933112\n",
      "1572\n",
      "\n",
      "1575\n",
      "\n",
      "========================================\n",
      "02958343\n",
      "7497\n",
      "\n",
      "7499\n",
      "\n",
      "========================================\n",
      "03001627\n",
      "6778\n",
      "\n",
      "6781\n",
      "\n",
      "========================================\n",
      "03211117\n",
      "1095\n",
      "\n",
      "1098\n",
      "\n",
      "========================================\n",
      "03636649\n",
      "2318\n",
      "\n",
      "2321\n",
      "\n",
      "========================================\n",
      "03691459\n",
      "1618\n",
      "\n",
      "1621\n",
      "\n",
      "========================================\n",
      "04090263\n",
      "2373\n",
      "\n",
      "2375\n",
      "\n",
      "========================================\n",
      "04256520\n",
      "3173\n",
      "\n",
      "3176\n",
      "\n",
      "========================================\n",
      "04379243\n",
      "8509\n",
      "\n",
      "8512\n",
      "\n",
      "========================================\n",
      "04401088\n",
      "1052\n",
      "\n",
      "1055\n",
      "\n",
      "========================================\n",
      "04530566\n",
      "1939\n",
      "\n",
      "1942\n",
      "\n"
     ]
    }
   ],
   "source": [
    "import subprocess\n",
    "import os\n",
    "\n",
    "shapenet_class_ids = [\"02691156\", \"02828884\", \"02933112\", \"02958343\", \"03001627\", \"03211117\", \"03636649\", \"03691459\", \"04090263\", \"04256520\", \"04379243\", \"04401088\", \"04530566\"]\n",
    "for class_id in shapenet_class_ids:\n",
    "    print('========================================')\n",
    "    print(class_id)\n",
    "    print(os.popen('ls /home/svcl-oowl/dataset/ShapeNetCore.v1/{} | wc -l'.format(class_id)).read())\n",
    "    print(os.popen('ls /home/svcl-oowl/brandon/research/occ_uda/data/ShapeNet/{} | wc -l'.format(class_id)).read())\n",
    "    #my_cmd = subprocess.run(['ls -al'], stdout = subprocess.PIPE, stderr=subprocess.PIPE, check=True, universal_newlines=True)\n",
    "    #my_cmd = subprocess.run(['ls', '/home/svcl-oowl/dataset/ShapeNetCore.v1/{}'.format(class_id), '|', \"wc\", \"-l\"], stdout = subprocess.PIPE, stderr=subprocess.PIPE, check=True, universal_newlines=True)\n",
    "    #print(my_cmd.stdout)"
   ]
  },
  {
   "cell_type": "code",
   "execution_count": 14,
   "metadata": {
    "ExecuteTime": {
     "end_time": "2020-10-25T12:36:41.642445Z",
     "start_time": "2020-10-25T12:36:41.632522Z"
    }
   },
   "outputs": [
    {
     "name": "stdout",
     "output_type": "stream",
     "text": [
      "ManifoldPlus\n",
      "__init__.py\n",
      "__pycache__\n",
      "align_pix3d.ipynb\n",
      "analyse meshes.ipynb\n",
      "atlasnet_align.ipynb\n",
      "cvt_off_obj.py\n",
      "make_cmds.ipynb\n",
      "make_watertight.py\n",
      "make_watertight_with_check.py\n",
      "map_pix3d.ipynb\n",
      "map_shapenet.ipynb\n",
      "occnet_test_set_lists\n",
      "pix2mesh_align.ipynb\n",
      "process pix3d.ipynb\n",
      "render_meshes.py\n",
      "render_meshes_occnet_training.py\n",
      "sample_points.py\n",
      "simplify_folder.py\n",
      "simplify_folder_multi.py\n",
      "\n"
     ]
    }
   ],
   "source": [
    "x = os.popen('ls').read()\n",
    "print(x)"
   ]
  },
  {
   "cell_type": "code",
   "execution_count": null,
   "metadata": {},
   "outputs": [],
   "source": []
  },
  {
   "cell_type": "code",
   "execution_count": 14,
   "metadata": {
    "ExecuteTime": {
     "end_time": "2020-11-06T06:22:04.935059Z",
     "start_time": "2020-11-06T06:22:04.924936Z"
    }
   },
   "outputs": [
    {
     "name": "stdout",
     "output_type": "stream",
     "text": [
      "alias nib01='kubectl describe pod brandon-job-b01-'\n",
      "alias nib02='kubectl describe pod brandon-job-b02-'\n",
      "alias nib03='kubectl describe pod brandon-job-b03-'\n",
      "alias nib04='kubectl describe pod brandon-job-b04-'\n",
      "alias nib05='kubectl describe pod brandon-job-b05-'\n",
      "alias nib06='kubectl describe pod brandon-job-b06-'\n",
      "alias nib07='kubectl describe pod brandon-job-b07-'\n",
      "alias nib08='kubectl describe pod brandon-job-b08-'\n",
      "alias nib09='kubectl describe pod brandon-job-b09-'\n",
      "alias nib10='kubectl describe pod brandon-job-b10-'\n",
      "alias nib11='kubectl describe pod brandon-job-b11-'\n",
      "alias nib12='kubectl describe pod brandon-job-b12-'\n",
      "alias nib13='kubectl describe pod brandon-job-b13-'\n",
      "alias nib14='kubectl describe pod brandon-job-b14-'\n",
      "alias nib15='kubectl describe pod brandon-job-b15-'\n",
      "alias nib16='kubectl describe pod brandon-job-b16-'\n",
      "alias nib17='kubectl describe pod brandon-job-b17-'\n",
      "alias nib18='kubectl describe pod brandon-job-b18-'\n",
      "alias nib19='kubectl describe pod brandon-job-b19-'\n",
      "alias nib20='kubectl describe pod brandon-job-b20-'\n",
      "alias nib21='kubectl describe pod brandon-job-b21-'\n",
      "alias nib22='kubectl describe pod brandon-job-b22-'\n",
      "alias nib23='kubectl describe pod brandon-job-b23-'\n",
      "alias nib24='kubectl describe pod brandon-job-b24-'\n",
      "alias nib25='kubectl describe pod brandon-job-b25-'\n",
      "alias nib26='kubectl describe pod brandon-job-b26-'\n",
      "alias nib27='kubectl describe pod brandon-job-b27-'\n",
      "alias nib28='kubectl describe pod brandon-job-b28-'\n",
      "alias nib29='kubectl describe pod brandon-job-b29-'\n",
      "alias nib30='kubectl describe pod brandon-job-b30-'\n",
      "alias nib31='kubectl describe pod brandon-job-b31-'\n",
      "alias nib32='kubectl describe pod brandon-job-b32-'\n"
     ]
    }
   ],
   "source": [
    "#template = \"alias ncjb{}='kubectl create -f /mnt/c/Users/brandon/arsenal/nautilus_configs/templates/template_job_b{}.yaml'\"\n",
    "#template = \"alias ndjb{}='kubectl delete -f /mnt/c/Users/brandon/arsenal/nautilus_configs/templates/template_job_b{}.yaml'\"\n",
    "template = \"alias nib{}='kubectl describe pod brandon-job-b{}-'\"\n",
    "#template = \"alias nlb{}='python /mnt/c/Users/brandon/arsenal/get_kubectl_log.py /mnt/c/Users/brandon/arsenal/nautilus_configs/templates/template_job_b{}.yaml'\"\n",
    "for i in range(1,33):\n",
    "    j = \"{:02d}\".format(i)\n",
    "    print(template.format(j,j))"
   ]
  },
  {
   "cell_type": "code",
   "execution_count": 3,
   "metadata": {
    "ExecuteTime": {
     "end_time": "2020-11-06T05:53:28.164994Z",
     "start_time": "2020-11-06T05:53:28.156094Z"
    }
   },
   "outputs": [
    {
     "name": "stdout",
     "output_type": "stream",
     "text": [
      "touch begin_job_01.sh\n",
      "touch begin_job_02.sh\n",
      "touch begin_job_03.sh\n",
      "touch begin_job_04.sh\n",
      "touch begin_job_05.sh\n",
      "touch begin_job_06.sh\n",
      "touch begin_job_07.sh\n",
      "touch begin_job_08.sh\n",
      "touch begin_job_09.sh\n",
      "touch begin_job_10.sh\n",
      "touch begin_job_11.sh\n",
      "touch begin_job_12.sh\n",
      "touch begin_job_13.sh\n",
      "touch begin_job_14.sh\n",
      "touch begin_job_15.sh\n",
      "touch begin_job_16.sh\n",
      "touch begin_job_17.sh\n",
      "touch begin_job_18.sh\n",
      "touch begin_job_19.sh\n",
      "touch begin_job_20.sh\n",
      "touch begin_job_21.sh\n",
      "touch begin_job_22.sh\n",
      "touch begin_job_23.sh\n",
      "touch begin_job_24.sh\n",
      "touch begin_job_25.sh\n",
      "touch begin_job_26.sh\n",
      "touch begin_job_27.sh\n",
      "touch begin_job_28.sh\n",
      "touch begin_job_29.sh\n",
      "touch begin_job_30.sh\n",
      "touch begin_job_31.sh\n",
      "touch begin_job_32.sh\n"
     ]
    }
   ],
   "source": [
    "for i in range(1,33):\n",
    "    print('touch begin_job_{:02d}.sh'.format(i))"
   ]
  },
  {
   "cell_type": "code",
   "execution_count": 8,
   "metadata": {
    "ExecuteTime": {
     "end_time": "2020-12-01T08:41:29.615942Z",
     "start_time": "2020-12-01T08:41:29.599788Z"
    }
   },
   "outputs": [
    {
     "name": "stdout",
     "output_type": "stream",
     "text": [
      "000\n",
      "001\n",
      "002\n",
      "003\n",
      "004\n",
      "005\n",
      "006\n",
      "007\n",
      "008\n",
      "009\n",
      "010\n",
      "011\n",
      "012\n",
      "013\n",
      "014\n",
      "015\n",
      "016\n",
      "017\n",
      "018\n",
      "019\n",
      "020\n",
      "021\n",
      "022\n",
      "023\n",
      "024\n",
      "025\n",
      "026\n",
      "027\n",
      "028\n",
      "029\n",
      "030\n",
      "031\n",
      "032\n",
      "033\n",
      "034\n",
      "035\n",
      "036\n",
      "037\n",
      "038\n",
      "039\n",
      "040\n",
      "041\n",
      "042\n",
      "043\n",
      "044\n",
      "045\n",
      "046\n",
      "047\n",
      "048\n",
      "049\n",
      "050\n",
      "051\n",
      "052\n",
      "053\n",
      "054\n",
      "055\n",
      "056\n",
      "057\n",
      "058\n",
      "059\n",
      "060\n",
      "061\n",
      "062\n",
      "063\n",
      "064\n",
      "065\n",
      "066\n",
      "067\n",
      "068\n",
      "069\n",
      "070\n",
      "071\n",
      "072\n",
      "073\n",
      "074\n",
      "075\n",
      "076\n",
      "077\n",
      "078\n",
      "079\n",
      "080\n",
      "081\n",
      "082\n",
      "083\n",
      "084\n",
      "085\n",
      "086\n",
      "087\n",
      "088\n",
      "089\n",
      "090\n",
      "091\n",
      "092\n",
      "093\n",
      "094\n",
      "095\n",
      "096\n",
      "097\n",
      "098\n",
      "099\n",
      "100\n",
      "101\n",
      "102\n",
      "103\n",
      "104\n",
      "105\n",
      "106\n",
      "107\n",
      "108\n",
      "109\n",
      "110\n",
      "111\n",
      "112\n",
      "113\n",
      "114\n",
      "115\n",
      "116\n",
      "117\n",
      "118\n",
      "119\n",
      "120\n",
      "121\n",
      "122\n"
     ]
    }
   ],
   "source": [
    "total = 123\n",
    "for i in range(total):\n",
    "    print(\"{num:0{pad}}\".format(num=i, pad=len(str(total))))"
   ]
  },
  {
   "cell_type": "code",
   "execution_count": null,
   "metadata": {},
   "outputs": [],
   "source": []
  },
  {
   "cell_type": "code",
   "execution_count": null,
   "metadata": {},
   "outputs": [],
   "source": []
  },
  {
   "cell_type": "code",
   "execution_count": null,
   "metadata": {},
   "outputs": [],
   "source": []
  },
  {
   "cell_type": "code",
   "execution_count": null,
   "metadata": {},
   "outputs": [],
   "source": []
  }
 ],
 "metadata": {
  "kernelspec": {
   "display_name": "Python [conda env:standard] *",
   "language": "python",
   "name": "conda-env-standard-py"
  },
  "language_info": {
   "codemirror_mode": {
    "name": "ipython",
    "version": 3
   },
   "file_extension": ".py",
   "mimetype": "text/x-python",
   "name": "python",
   "nbconvert_exporter": "python",
   "pygments_lexer": "ipython3",
   "version": "3.6.9"
  }
 },
 "nbformat": 4,
 "nbformat_minor": 4
}
