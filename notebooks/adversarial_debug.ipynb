{
 "cells": [
  {
   "cell_type": "code",
   "execution_count": 1,
   "metadata": {
    "ExecuteTime": {
     "end_time": "2020-11-24T23:03:50.269713Z",
     "start_time": "2020-11-24T23:03:50.250424Z"
    }
   },
   "outputs": [
    {
     "name": "stdout",
     "output_type": "stream",
     "text": [
      "/home/svcl-oowl/brandon/research/CVPR_2021_REFINE/sil_consistent_at_inference\n"
     ]
    }
   ],
   "source": [
    "%load_ext autoreload\n",
    "%autoreload 2\n",
    "import os\n",
    "os.chdir('/home/svcl-oowl/brandon/research/CVPR_2021_REFINE/sil_consistent_at_inference')\n",
    "print(os.getcwd())"
   ]
  },
  {
   "cell_type": "code",
   "execution_count": 2,
   "metadata": {
    "ExecuteTime": {
     "end_time": "2020-11-24T23:03:54.301092Z",
     "start_time": "2020-11-24T23:03:52.554804Z"
    }
   },
   "outputs": [],
   "source": [
    "import pickle\n",
    "import pprint\n",
    "\n",
    "import torch\n",
    "\n",
    "from utils import general_utils, datasets\n",
    "from utils.datasets import gen_data_collate\n",
    "from deformation.deformation_net_graph_convolutional_full import DeformationNetworkGraphConvolutionalFull\n",
    "from deformation.multiview_semantic_discriminator_network import MultiviewSemanticDiscriminatorNetwork\n",
    "from deformation.semantic_discriminator_net_points import PointsSemanticDiscriminatorNetwork\n",
    "from deformation.forward_pass import batched_forward_pass, compute_sem_dis_logits\n",
    "from utils.visualization_tools import save_tensor_img"
   ]
  },
  {
   "cell_type": "code",
   "execution_count": 15,
   "metadata": {
    "ExecuteTime": {
     "end_time": "2020-11-24T23:09:34.883342Z",
     "start_time": "2020-11-24T23:09:34.822620Z"
    }
   },
   "outputs": [],
   "source": [
    "cfg_path = \"configs/test.yaml\"\n",
    "\n",
    "device = torch.device(\"cuda:0\")\n",
    "cfg = general_utils.load_config(cfg_path, \"configs/default.yaml\")\n",
    "batch_size = cfg[\"semantic_dis_training\"][\"batch_size\"]"
   ]
  },
  {
   "cell_type": "markdown",
   "metadata": {},
   "source": [
    "# Test Datasets"
   ]
  },
  {
   "cell_type": "code",
   "execution_count": 16,
   "metadata": {
    "ExecuteTime": {
     "end_time": "2020-11-24T23:09:52.391796Z",
     "start_time": "2020-11-24T23:09:46.518459Z"
    }
   },
   "outputs": [
    {
     "name": "stdout",
     "output_type": "stream",
     "text": [
      "Loading cached generation dataset at caches/generation_dataset_cache_500.pt...\n"
     ]
    }
   ],
   "source": [
    "generation_dataset = datasets.GenerationDataset(cfg)\n",
    "generation_loader = torch.utils.data.DataLoader(generation_dataset, batch_size=batch_size, num_workers=1, shuffle=False, collate_fn=gen_data_collate, drop_last=True)\n"
   ]
  },
  {
   "cell_type": "code",
   "execution_count": 5,
   "metadata": {
    "ExecuteTime": {
     "end_time": "2020-11-24T23:04:02.208818Z",
     "start_time": "2020-11-24T23:04:02.174308Z"
    },
    "scrolled": true
   },
   "outputs": [
    {
     "name": "stdout",
     "output_type": "stream",
     "text": [
      "500\n",
      "{'instance_name': '000_fake', 'mesh': <pytorch3d.structures.meshes.Meshes object at 0x7fce0b038240>, 'mesh_verts': tensor([[5.0947, 4.9838, 5.0988],\n",
      "        [5.1497, 5.0246, 5.1155],\n",
      "        [5.0561, 5.0058, 5.0963],\n",
      "        ...,\n",
      "        [5.1186, 4.9819, 5.0694],\n",
      "        [5.0715, 4.9620, 5.1475],\n",
      "        [5.1361, 4.9888, 5.0745]]), 'image': tensor([[[1., 1., 1.,  ..., 1., 1., 1.],\n",
      "         [1., 1., 1.,  ..., 1., 1., 1.],\n",
      "         [1., 1., 1.,  ..., 1., 1., 1.],\n",
      "         ...,\n",
      "         [1., 1., 1.,  ..., 1., 1., 1.],\n",
      "         [1., 1., 1.,  ..., 1., 1., 1.],\n",
      "         [1., 1., 1.,  ..., 1., 1., 1.]],\n",
      "\n",
      "        [[1., 1., 1.,  ..., 1., 1., 1.],\n",
      "         [1., 1., 1.,  ..., 1., 1., 1.],\n",
      "         [1., 1., 1.,  ..., 1., 1., 1.],\n",
      "         ...,\n",
      "         [1., 1., 1.,  ..., 1., 1., 1.],\n",
      "         [1., 1., 1.,  ..., 1., 1., 1.],\n",
      "         [1., 1., 1.,  ..., 1., 1., 1.]],\n",
      "\n",
      "        [[1., 1., 1.,  ..., 1., 1., 1.],\n",
      "         [1., 1., 1.,  ..., 1., 1., 1.],\n",
      "         [1., 1., 1.,  ..., 1., 1., 1.],\n",
      "         ...,\n",
      "         [1., 1., 1.,  ..., 1., 1., 1.],\n",
      "         [1., 1., 1.,  ..., 1., 1., 1.],\n",
      "         [1., 1., 1.,  ..., 1., 1., 1.]]]), 'mask': tensor([[0., 0., 0.,  ..., 0., 0., 0.],\n",
      "        [0., 0., 0.,  ..., 0., 0., 0.],\n",
      "        [0., 0., 0.,  ..., 0., 0., 0.],\n",
      "        ...,\n",
      "        [0., 0., 0.,  ..., 0., 0., 0.],\n",
      "        [0., 0., 0.,  ..., 0., 0., 0.],\n",
      "        [0., 0., 0.,  ..., 0., 0., 0.]]), 'pose': tensor([ 1, 10,  8])}\n",
      "torch.Size([642, 3])\n"
     ]
    }
   ],
   "source": [
    "print(len(generation_dataset))\n",
    "print(generation_dataset[0])\n",
    "print(generation_dataset[0][\"mesh_verts\"].shape)"
   ]
  },
  {
   "cell_type": "code",
   "execution_count": 17,
   "metadata": {
    "ExecuteTime": {
     "end_time": "2020-11-24T23:09:54.637290Z",
     "start_time": "2020-11-24T23:09:54.575069Z"
    }
   },
   "outputs": [
    {
     "name": "stdout",
     "output_type": "stream",
     "text": [
      "Reusing previusly computed points assets...\n",
      "Loading cached generation dataset at caches/real_dataset/points/data_adversarial_sphere_points_test_real_meshes/cache.pt...\n"
     ]
    }
   ],
   "source": [
    "real_dataset = datasets.RealDataset(cfg, device)\n",
    "semantic_dis_loader = torch.utils.data.DataLoader(real_dataset, batch_size=batch_size, num_workers=1, shuffle=True)"
   ]
  },
  {
   "cell_type": "code",
   "execution_count": 7,
   "metadata": {
    "ExecuteTime": {
     "end_time": "2020-11-24T23:06:45.266224Z",
     "start_time": "2020-11-24T23:06:45.144087Z"
    }
   },
   "outputs": [
    {
     "name": "stdout",
     "output_type": "stream",
     "text": [
      "torch.Size([642, 3])\n",
      "500\n"
     ]
    }
   ],
   "source": [
    "print(real_dataset[0].shape)\n",
    "print(len(real_dataset))"
   ]
  },
  {
   "cell_type": "markdown",
   "metadata": {},
   "source": [
    "# Test Networks"
   ]
  },
  {
   "cell_type": "code",
   "execution_count": 12,
   "metadata": {
    "ExecuteTime": {
     "end_time": "2020-11-24T23:08:34.010916Z",
     "start_time": "2020-11-24T23:08:32.414884Z"
    }
   },
   "outputs": [
    {
     "data": {
      "text/plain": [
       "PointsSemanticDiscriminatorNetwork(\n",
       "  (pointnet_discriminator): Sequential(\n",
       "    (0): Conv1d(3, 64, kernel_size=(1,), stride=(1,))\n",
       "    (1): LeakyReLU(negative_slope=0.01)\n",
       "    (2): Conv1d(64, 128, kernel_size=(1,), stride=(1,))\n",
       "    (3): LeakyReLU(negative_slope=0.01)\n",
       "    (4): Conv1d(128, 1024, kernel_size=(1,), stride=(1,))\n",
       "    (5): LeakyReLU(negative_slope=0.01)\n",
       "    (6): MaxPool1d(kernel_size=642, stride=642, padding=0, dilation=1, ceil_mode=False)\n",
       "    (7): Flatten()\n",
       "    (8): Linear(in_features=1024, out_features=512, bias=True)\n",
       "    (9): LeakyReLU(negative_slope=0.01)\n",
       "    (10): Linear(in_features=512, out_features=1, bias=True)\n",
       "    (11): Sigmoid()\n",
       "  )\n",
       ")"
      ]
     },
     "execution_count": 12,
     "metadata": {},
     "output_type": "execute_result"
    }
   ],
   "source": [
    "deform_net = DeformationNetworkGraphConvolutionalFull(cfg, device)\n",
    "deform_net.to(device)\n",
    "semantic_dis_net = PointsSemanticDiscriminatorNetwork(cfg)\n",
    "semantic_dis_net.to(device)"
   ]
  },
  {
   "cell_type": "code",
   "execution_count": 19,
   "metadata": {
    "ExecuteTime": {
     "end_time": "2020-11-24T23:10:06.042984Z",
     "start_time": "2020-11-24T23:10:05.871031Z"
    }
   },
   "outputs": [
    {
     "name": "stdout",
     "output_type": "stream",
     "text": [
      "torch.Size([4, 642, 3])\n",
      "torch.Size([4, 1])\n"
     ]
    },
    {
     "ename": "RuntimeError",
     "evalue": "No active exception to reraise",
     "output_type": "error",
     "traceback": [
      "\u001b[0;31m---------------------------------------------------------------------------\u001b[0m",
      "\u001b[0;31mRuntimeError\u001b[0m                              Traceback (most recent call last)",
      "\u001b[0;32m<ipython-input-19-8ed153fd7257>\u001b[0m in \u001b[0;36m<module>\u001b[0;34m\u001b[0m\n\u001b[1;32m      6\u001b[0m     \u001b[0mpred_logits_real\u001b[0m \u001b[0;34m=\u001b[0m \u001b[0msemantic_dis_net\u001b[0m\u001b[0;34m(\u001b[0m\u001b[0mreal_batch\u001b[0m\u001b[0;34m)\u001b[0m\u001b[0;34m\u001b[0m\u001b[0;34m\u001b[0m\u001b[0m\n\u001b[1;32m      7\u001b[0m     \u001b[0mprint\u001b[0m\u001b[0;34m(\u001b[0m\u001b[0mpred_logits_real\u001b[0m\u001b[0;34m.\u001b[0m\u001b[0mshape\u001b[0m\u001b[0;34m)\u001b[0m\u001b[0;34m\u001b[0m\u001b[0;34m\u001b[0m\u001b[0m\n\u001b[0;32m----> 8\u001b[0;31m     \u001b[0;32mraise\u001b[0m\u001b[0;34m\u001b[0m\u001b[0;34m\u001b[0m\u001b[0m\n\u001b[0m",
      "\u001b[0;31mRuntimeError\u001b[0m: No active exception to reraise"
     ]
    }
   ],
   "source": [
    "for real_batch in semantic_dis_loader:\n",
    "    #real_image_batch = real_batch[\"mv_images\"].to(device)\n",
    "    #print(real_image_batch.shape)\n",
    "    print(real_batch.shape)\n",
    "    real_batch = real_batch.to(device)\n",
    "    pred_logits_real = semantic_dis_net(real_batch)\n",
    "    print(pred_logits_real.shape)\n",
    "    raise"
   ]
  },
  {
   "cell_type": "code",
   "execution_count": 20,
   "metadata": {
    "ExecuteTime": {
     "end_time": "2020-11-24T23:13:09.731457Z",
     "start_time": "2020-11-24T23:13:09.372989Z"
    }
   },
   "outputs": [
    {
     "name": "stdout",
     "output_type": "stream",
     "text": [
      "torch.Size([4, 1])\n"
     ]
    },
    {
     "ename": "RuntimeError",
     "evalue": "No active exception to reraise",
     "output_type": "error",
     "traceback": [
      "\u001b[0;31m---------------------------------------------------------------------------\u001b[0m",
      "\u001b[0;31mRuntimeError\u001b[0m                              Traceback (most recent call last)",
      "\u001b[0;32m<ipython-input-20-00f89be233b7>\u001b[0m in \u001b[0;36m<module>\u001b[0;34m\u001b[0m\n\u001b[1;32m      4\u001b[0m     \u001b[0mpred_logits_fake\u001b[0m\u001b[0;34m,\u001b[0m \u001b[0msemantic_dis_debug_data\u001b[0m \u001b[0;34m=\u001b[0m \u001b[0mcompute_sem_dis_logits\u001b[0m\u001b[0;34m(\u001b[0m\u001b[0mdeformed_meshes\u001b[0m\u001b[0;34m,\u001b[0m \u001b[0msemantic_dis_net\u001b[0m\u001b[0;34m,\u001b[0m \u001b[0mdevice\u001b[0m\u001b[0;34m,\u001b[0m \u001b[0mcfg\u001b[0m\u001b[0;34m)\u001b[0m\u001b[0;34m\u001b[0m\u001b[0;34m\u001b[0m\u001b[0m\n\u001b[1;32m      5\u001b[0m     \u001b[0mprint\u001b[0m\u001b[0;34m(\u001b[0m\u001b[0mpred_logits_fake\u001b[0m\u001b[0;34m.\u001b[0m\u001b[0mshape\u001b[0m\u001b[0;34m)\u001b[0m\u001b[0;34m\u001b[0m\u001b[0;34m\u001b[0m\u001b[0m\n\u001b[0;32m----> 6\u001b[0;31m     \u001b[0;32mraise\u001b[0m\u001b[0;34m\u001b[0m\u001b[0;34m\u001b[0m\u001b[0m\n\u001b[0m",
      "\u001b[0;31mRuntimeError\u001b[0m: No active exception to reraise"
     ]
    }
   ],
   "source": [
    "# TODO: sanity check these images\n",
    "for gen_batch in generation_loader:\n",
    "    _, deformed_meshes, _ = batched_forward_pass(cfg, device, deform_net, semantic_dis_net, gen_batch, compute_losses=False)\n",
    "    pred_logits_fake, semantic_dis_debug_data = compute_sem_dis_logits(deformed_meshes, semantic_dis_net, device, cfg)\n",
    "    print(pred_logits_fake.shape)\n",
    "    raise"
   ]
  },
  {
   "cell_type": "code",
   "execution_count": null,
   "metadata": {},
   "outputs": [],
   "source": []
  },
  {
   "cell_type": "code",
   "execution_count": null,
   "metadata": {},
   "outputs": [],
   "source": []
  },
  {
   "cell_type": "markdown",
   "metadata": {},
   "source": [
    "# Misc"
   ]
  },
  {
   "cell_type": "code",
   "execution_count": null,
   "metadata": {},
   "outputs": [],
   "source": []
  },
  {
   "cell_type": "code",
   "execution_count": null,
   "metadata": {},
   "outputs": [],
   "source": []
  }
 ],
 "metadata": {
  "kernelspec": {
   "display_name": "Python [conda env:standard] *",
   "language": "python",
   "name": "conda-env-standard-py"
  },
  "language_info": {
   "codemirror_mode": {
    "name": "ipython",
    "version": 3
   },
   "file_extension": ".py",
   "mimetype": "text/x-python",
   "name": "python",
   "nbconvert_exporter": "python",
   "pygments_lexer": "ipython3",
   "version": "3.6.9"
  }
 },
 "nbformat": 4,
 "nbformat_minor": 4
}
