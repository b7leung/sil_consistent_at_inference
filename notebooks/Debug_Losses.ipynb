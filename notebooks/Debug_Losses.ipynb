{
 "cells": [
  {
   "cell_type": "code",
   "execution_count": 1,
   "metadata": {
    "ExecuteTime": {
     "end_time": "2020-08-19T07:18:16.096335Z",
     "start_time": "2020-08-19T07:18:16.071765Z"
    }
   },
   "outputs": [],
   "source": [
    "%load_ext autoreload\n",
    "%autoreload 2\n",
    "notebook_fixed_dir = False"
   ]
  },
  {
   "cell_type": "code",
   "execution_count": 2,
   "metadata": {
    "ExecuteTime": {
     "end_time": "2020-08-19T07:18:16.700163Z",
     "start_time": "2020-08-19T07:18:16.689144Z"
    }
   },
   "outputs": [
    {
     "name": "stdout",
     "output_type": "stream",
     "text": [
      "/home/svcl-oowl/brandon/research/sil_consistent_at_inference\n"
     ]
    }
   ],
   "source": [
    "# this cell can only be called once\n",
    "import os\n",
    "if not notebook_fixed_dir:\n",
    "    os.chdir('..')\n",
    "    notebook_fixed_dir = True\n",
    "print(os.getcwd())"
   ]
  },
  {
   "cell_type": "code",
   "execution_count": 3,
   "metadata": {
    "ExecuteTime": {
     "end_time": "2020-08-19T07:18:19.500997Z",
     "start_time": "2020-08-19T07:18:17.271802Z"
    }
   },
   "outputs": [],
   "source": [
    "import pprint\n",
    "\n",
    "import torch\n",
    "import pickle\n",
    "from tqdm import tqdm\n",
    "from PIL import Image\n",
    "import numpy as np\n",
    "from pytorch3d.renderer import (\n",
    "    look_at_view_transform\n",
    ")\n",
    "import matplotlib.pyplot as plt\n",
    "\n",
    "from utils import utils\n",
    "import deformation.losses as def_losses\n",
    "from deformation.semantic_discriminator_loss import SemanticDiscriminatorLoss \n",
    "from deformation.semantic_discriminator_trainer import train\n",
    "from deformation.semantic_discriminator_dataset import SemanticDiscriminatorDataset"
   ]
  },
  {
   "cell_type": "code",
   "execution_count": 9,
   "metadata": {
    "ExecuteTime": {
     "end_time": "2020-08-19T07:28:13.211216Z",
     "start_time": "2020-08-19T07:28:13.055256Z"
    }
   },
   "outputs": [],
   "source": [
    "gpu_num = 0\n",
    "device = torch.device(\"cuda:\"+str(gpu_num))\n",
    "\n",
    "mesh_path = \"data/test_dataset/0001old.obj\"\n",
    "with torch.no_grad():\n",
    "    mesh = utils.load_untextured_mesh(mesh_path, device)\n",
    "\n",
    "cfg_path = \"configs/default.yaml\"\n",
    "cfg = utils.load_config(cfg_path)"
   ]
  },
  {
   "cell_type": "markdown",
   "metadata": {
    "heading_collapsed": true
   },
   "source": [
    "# Image Symmetry Loss"
   ]
  },
  {
   "cell_type": "code",
   "execution_count": null,
   "metadata": {
    "ExecuteTime": {
     "end_time": "2020-08-17T23:56:03.552146Z",
     "start_time": "2020-08-17T23:56:03.455091Z"
    },
    "hidden": true
   },
   "outputs": [],
   "source": [
    "sym_plane_normal = [0,0,1]\n",
    "num_azim = 1\n",
    "render_sil = False\n",
    "img_sym_loss, sym_triples = def_losses.image_symmetry_loss(mesh, sym_plane_normal, num_azim, device, render_sil)\n",
    "print(img_sym_loss)"
   ]
  },
  {
   "cell_type": "code",
   "execution_count": null,
   "metadata": {
    "ExecuteTime": {
     "end_time": "2020-08-17T23:56:05.826006Z",
     "start_time": "2020-08-17T23:56:05.281494Z"
    },
    "hidden": true,
    "scrolled": false
   },
   "outputs": [],
   "source": [
    "img_names = {0:'R1', 1:'R1_flipped', 2:'R2'}\n",
    "for trip_idx, sym_triple in enumerate(sym_triples):\n",
    "    fig, ax = plt.subplots(nrows=1, ncols=3, squeeze=False)\n",
    "    for i in range(3):\n",
    "        if render_sil:\n",
    "            ax[0][i].imshow(sym_triple[i].cpu().numpy())\n",
    "        else:\n",
    "            ax[0][i].imshow(sym_triple[i][ ..., :3].cpu().numpy())\n",
    "        ax[0][i].xaxis.set_visible(False)\n",
    "        ax[0][i].yaxis.set_visible(False)\n",
    "        \n",
    "        ax[0][i].set_title(\"{}: {}\".format(trip_idx, img_names[i]))"
   ]
  },
  {
   "cell_type": "markdown",
   "metadata": {},
   "source": [
    "# Semantic Discriminator Training"
   ]
  },
  {
   "cell_type": "code",
   "execution_count": 36,
   "metadata": {
    "ExecuteTime": {
     "end_time": "2020-08-19T07:45:53.334398Z",
     "start_time": "2020-08-19T07:45:52.973058Z"
    }
   },
   "outputs": [
    {
     "name": "stdout",
     "output_type": "stream",
     "text": [
      "56\n"
     ]
    },
    {
     "data": {
      "image/png": "[encoded data removed]",
      "text/plain": [
       "<Figure size 432x288 with 1 Axes>"
      ]
     },
     "metadata": {
      "needs_background": "light"
     },
     "output_type": "display_data"
    },
    {
     "data": {
      "image/png": "[encoded data removed]",
      "text/plain": [
       "<Figure size 432x288 with 1 Axes>"
      ]
     },
     "metadata": {
      "needs_background": "light"
     },
     "output_type": "display_data"
    }
   ],
   "source": [
    "dataset = SemanticDiscriminatorDataset(cfg, \"train\")\n",
    "print(len(dataset))\n",
    "i=50\n",
    "data_real = dataset[i]['real']\n",
    "plt.imshow(data_real.permute(1,2,0))\n",
    "plt.show()\n",
    "data_fake = dataset[i]['fake']\n",
    "plt.imshow(data_fake.permute(1,2,0))\n",
    "plt.show()"
   ]
  },
  {
   "cell_type": "code",
   "execution_count": null,
   "metadata": {
    "ExecuteTime": {
     "end_time": "2020-08-19T07:16:18.281593Z",
     "start_time": "2020-08-19T07:16:01.022867Z"
    }
   },
   "outputs": [],
   "source": [
    "df_dict = train(cfg_path, gpu_num)"
   ]
  },
  {
   "cell_type": "code",
   "execution_count": null,
   "metadata": {
    "ExecuteTime": {
     "end_time": "2020-08-19T07:17:35.949446Z",
     "start_time": "2020-08-19T07:17:35.370075Z"
    }
   },
   "outputs": [],
   "source": [
    "df_dict['train'].plot.line(x='iteration', y='train_loss')\n",
    "df_dict['val'].plot.line(x='epoch', y='val_acc')"
   ]
  },
  {
   "cell_type": "markdown",
   "metadata": {},
   "source": [
    "# Semantic Discriminator Loss"
   ]
  },
  {
   "cell_type": "code",
   "execution_count": 29,
   "metadata": {
    "ExecuteTime": {
     "end_time": "2020-08-19T07:43:26.710206Z",
     "start_time": "2020-08-19T07:42:41.705095Z"
    }
   },
   "outputs": [
    {
     "name": "stdout",
     "output_type": "stream",
     "text": [
      "tensor(0.7960, device='cuda:0')\n"
     ]
    }
   ],
   "source": [
    "semantic_loss_computer = SemanticDiscriminatorLoss(cfg, device)\n",
    "semantic_dis_loss, semantic_loss_renders = semantic_loss_computer.compute_loss(mesh)\n",
    "print(semantic_dis_loss)"
   ]
  },
  {
   "cell_type": "code",
   "execution_count": 30,
   "metadata": {
    "ExecuteTime": {
     "end_time": "2020-08-19T07:43:29.863270Z",
     "start_time": "2020-08-19T07:43:29.341419Z"
    },
    "scrolled": true
   },
   "outputs": [
    {
     "name": "stdout",
     "output_type": "stream",
     "text": [
      "torch.Size([3, 224, 224, 3])\n"
     ]
    },
    {
     "data": {
      "image/png": "[encoded data removed]",
      "text/plain": [
       "<Figure size 432x288 with 1 Axes>"
      ]
     },
     "metadata": {
      "needs_background": "light"
     },
     "output_type": "display_data"
    },
    {
     "data": {
      "image/png": "[encoded data removed]",
      "text/plain": [
       "<Figure size 432x288 with 1 Axes>"
      ]
     },
     "metadata": {
      "needs_background": "light"
     },
     "output_type": "display_data"
    },
    {
     "data": {
      "image/png": "[encoded data removed]",
      "text/plain": [
       "<Figure size 432x288 with 1 Axes>"
      ]
     },
     "metadata": {
      "needs_background": "light"
     },
     "output_type": "display_data"
    }
   ],
   "source": [
    "print(semantic_loss_renders.shape)\n",
    "for render in semantic_loss_renders:\n",
    "    plt.imshow(render.cpu().numpy())\n",
    "    plt.show()"
   ]
  },
  {
   "cell_type": "markdown",
   "metadata": {
    "heading_collapsed": true
   },
   "source": [
    "# Semantic Embedding Loss"
   ]
  },
  {
   "cell_type": "code",
   "execution_count": null,
   "metadata": {
    "hidden": true
   },
   "outputs": [],
   "source": [
    "weights_path = \"data/occnet_pretrained_weights/model_best.pt\"\n",
    "cfg_yaml_path = \"occ_uda/configs/domain_adaptation/chair_noDA.yaml\"\n",
    "emb_path = \"occ_uda/chair_noDA_train_latent_vecs.p\"\n",
    "emb_loss = def_losses.SemanticEmbeddingLoss(cfg_yaml_path, weights_path, emb_path, device)\n",
    "loss, renderr = emb_loss.compute_loss(mesh)"
   ]
  },
  {
   "cell_type": "code",
   "execution_count": null,
   "metadata": {
    "hidden": true
   },
   "outputs": [],
   "source": []
  }
 ],
 "metadata": {
  "kernelspec": {
   "display_name": "Python [conda env:standard] *",
   "language": "python",
   "name": "conda-env-standard-py"
  },
  "language_info": {
   "codemirror_mode": {
    "name": "ipython",
    "version": 3
   },
   "file_extension": ".py",
   "mimetype": "text/x-python",
   "name": "python",
   "nbconvert_exporter": "python",
   "pygments_lexer": "ipython3",
   "version": "3.6.9"
  }
 },
 "nbformat": 4,
 "nbformat_minor": 4
}
