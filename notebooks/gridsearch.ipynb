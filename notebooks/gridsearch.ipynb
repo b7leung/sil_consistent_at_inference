{
 "cells": [
  {
   "cell_type": "code",
   "execution_count": 3,
   "metadata": {
    "ExecuteTime": {
     "end_time": "2020-09-26T06:55:45.879538Z",
     "start_time": "2020-09-26T06:55:45.675890Z"
    }
   },
   "outputs": [],
   "source": [
    "%load_ext autoreload\n",
    "%autoreload 2\n",
    "notebook_fixed_dir = False"
   ]
  },
  {
   "cell_type": "code",
   "execution_count": 4,
   "metadata": {
    "ExecuteTime": {
     "end_time": "2020-09-26T06:55:46.781215Z",
     "start_time": "2020-09-26T06:55:46.767974Z"
    }
   },
   "outputs": [
    {
     "name": "stdout",
     "output_type": "stream",
     "text": [
      "/home/svcl-oowl/brandon/research/sil_consistent_at_inference\n"
     ]
    }
   ],
   "source": [
    "# this cell can only be called once\n",
    "import os\n",
    "if not notebook_fixed_dir:\n",
    "    os.chdir('..')\n",
    "    notebook_fixed_dir = True\n",
    "print(os.getcwd())"
   ]
  },
  {
   "cell_type": "code",
   "execution_count": 6,
   "metadata": {
    "ExecuteTime": {
     "end_time": "2020-09-26T06:57:48.576595Z",
     "start_time": "2020-09-26T06:57:48.374725Z"
    }
   },
   "outputs": [],
   "source": [
    "import pickle\n",
    "import os\n",
    "import pprint"
   ]
  },
  {
   "cell_type": "code",
   "execution_count": 9,
   "metadata": {
    "ExecuteTime": {
     "end_time": "2020-09-26T07:09:57.633623Z",
     "start_time": "2020-09-26T07:09:57.574133Z"
    }
   },
   "outputs": [],
   "source": [
    "gridsearch_exp_name = \"initial\"\n",
    "gridsearch_folder = \"out/gridsearch/{}\".format(gridsearch_exp_name)\n",
    "\n",
    "instance = \"0214e\"\n",
    "instance_result_dir = os.path.join(gridsearch_folder, \"{}_gridsearch\".format(instance))\n",
    "loaded_file = pickle.load(open(os.path.join(instance_result_dir,\"loss_info.p\"), \"rb\"))"
   ]
  },
  {
   "cell_type": "code",
   "execution_count": 10,
   "metadata": {
    "ExecuteTime": {
     "end_time": "2020-09-26T07:09:58.259653Z",
     "start_time": "2020-09-26T07:09:58.215833Z"
    }
   },
   "outputs": [
    {
     "name": "stdout",
     "output_type": "stream",
     "text": [
      "{0:      img_sym_loss  iteration  l2_loss  lap_smoothness_loss  \\\n",
      "0        0.011623        0.0      0.0             0.006925   \n",
      "1        0.003901        1.0      0.0             0.007944   \n",
      "2        0.008233        2.0      0.0             0.007019   \n",
      "3        0.005198        3.0      0.0             0.007296   \n",
      "4        0.003197        4.0      0.0             0.007753   \n",
      "..            ...        ...      ...                  ...   \n",
      "395      0.004568      395.0      0.0             0.009698   \n",
      "396      0.003560      396.0      0.0             0.010136   \n",
      "397      0.003682      397.0      0.0             0.010062   \n",
      "398      0.003880      398.0      0.0             0.009677   \n",
      "399      0.003857      399.0      0.0             0.009833   \n",
      "\n",
      "     normal_consistency_loss  semantic_dis_loss  sil_loss  total_loss  \\\n",
      "0                   0.061217           0.695257  7.188160   80.387283   \n",
      "1                   0.143098           0.696010  6.419499   72.958076   \n",
      "2                   0.070200           0.695612  6.791203   76.257812   \n",
      "3                   0.093950           0.695865  6.477389   73.134850   \n",
      "4                   0.129240           0.696110  6.216938   70.740158   \n",
      "..                       ...                ...       ...         ...   \n",
      "395                 0.102207           0.702763  0.208223   10.571488   \n",
      "396                 0.099814           0.703552  0.135626    9.758282   \n",
      "397                 0.098774           0.703148  0.143360    9.829562   \n",
      "398                 0.099494           0.702654  0.149518    9.904424   \n",
      "399                 0.099410           0.702919  0.132828    9.739205   \n",
      "\n",
      "     vertex_sym_loss  \n",
      "0                0.0  \n",
      "1                0.0  \n",
      "2                0.0  \n",
      "3                0.0  \n",
      "4                0.0  \n",
      "..               ...  \n",
      "395              0.0  \n",
      "396              0.0  \n",
      "397              0.0  \n",
      "398              0.0  \n",
      "399              0.0  \n",
      "\n",
      "[400 rows x 9 columns],\n",
      " 1:      img_sym_loss  iteration   l2_loss  lap_smoothness_loss  \\\n",
      "0        0.031362        0.0  0.001569             0.006969   \n",
      "1        0.016931        1.0  0.000709             0.008494   \n",
      "2        0.029209        2.0  0.001304             0.016432   \n",
      "3        0.014918        3.0  0.000518             0.008662   \n",
      "4        0.017747        4.0  0.000644             0.008201   \n",
      "..            ...        ...       ...                  ...   \n",
      "395      0.003923      395.0  0.000519             0.008306   \n",
      "396      0.004015      396.0  0.000505             0.008180   \n",
      "397      0.003534      397.0  0.000815             0.008849   \n",
      "398      0.002932      398.0  0.000704             0.008643   \n",
      "399      0.003731      399.0  0.000478             0.008071   \n",
      "\n",
      "     normal_consistency_loss  semantic_dis_loss  sil_loss  total_loss  \\\n",
      "0                   0.067086           0.699060  9.915905  110.811295   \n",
      "1                   0.179349           0.698964  8.690265   97.749397   \n",
      "2                   0.445877           0.702262  8.449350   99.633667   \n",
      "3                   0.195877           0.698953  8.407724   94.748787   \n",
      "4                   0.163333           0.698877  8.709814   97.777100   \n",
      "..                       ...                ...       ...         ...   \n",
      "395                 0.090043           0.699692  1.549113   24.284353   \n",
      "396                 0.085895           0.699520  1.635201   25.093924   \n",
      "397                 0.087942           0.699699  1.304543   22.090084   \n",
      "398                 0.085236           0.699709  1.369609   22.555649   \n",
      "399                 0.085937           0.699697  1.954408   28.239035   \n",
      "\n",
      "     vertex_sym_loss  \n",
      "0                0.0  \n",
      "1                0.0  \n",
      "2                0.0  \n",
      "3                0.0  \n",
      "4                0.0  \n",
      "..               ...  \n",
      "395              0.0  \n",
      "396              0.0  \n",
      "397              0.0  \n",
      "398              0.0  \n",
      "399              0.0  \n",
      "\n",
      "[400 rows x 9 columns]}\n"
     ]
    }
   ],
   "source": [
    "pprint.pprint(loaded_file)"
   ]
  },
  {
   "cell_type": "code",
   "execution_count": null,
   "metadata": {},
   "outputs": [],
   "source": []
  },
  {
   "cell_type": "code",
   "execution_count": null,
   "metadata": {},
   "outputs": [],
   "source": []
  }
 ],
 "metadata": {
  "kernelspec": {
   "display_name": "Python [conda env:standard] *",
   "language": "python",
   "name": "conda-env-standard-py"
  },
  "language_info": {
   "codemirror_mode": {
    "name": "ipython",
    "version": 3
   },
   "file_extension": ".py",
   "mimetype": "text/x-python",
   "name": "python",
   "nbconvert_exporter": "python",
   "pygments_lexer": "ipython3",
   "version": "3.6.9"
  }
 },
 "nbformat": 4,
 "nbformat_minor": 4
}
