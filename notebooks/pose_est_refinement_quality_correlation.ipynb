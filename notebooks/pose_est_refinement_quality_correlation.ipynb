{
 "cells": [
  {
   "cell_type": "code",
   "execution_count": 1,
   "metadata": {
    "ExecuteTime": {
     "end_time": "2020-10-23T04:40:35.477353Z",
     "start_time": "2020-10-23T04:40:35.459643Z"
    }
   },
   "outputs": [],
   "source": [
    "%load_ext autoreload\n",
    "%autoreload 2\n",
    "notebook_fixed_dir = False"
   ]
  },
  {
   "cell_type": "code",
   "execution_count": 2,
   "metadata": {
    "ExecuteTime": {
     "end_time": "2020-10-23T04:40:35.935970Z",
     "start_time": "2020-10-23T04:40:35.925027Z"
    }
   },
   "outputs": [
    {
     "name": "stdout",
     "output_type": "stream",
     "text": [
      "/home/svcl-oowl/brandon/research/sil_consistent_at_inference\n"
     ]
    }
   ],
   "source": [
    "# this cell can only be called once\n",
    "import os\n",
    "if not notebook_fixed_dir:\n",
    "    os.chdir('..')\n",
    "    notebook_fixed_dir = True\n",
    "print(os.getcwd())"
   ]
  },
  {
   "cell_type": "code",
   "execution_count": 3,
   "metadata": {
    "ExecuteTime": {
     "end_time": "2020-10-23T04:40:44.914310Z",
     "start_time": "2020-10-23T04:40:41.766673Z"
    }
   },
   "outputs": [],
   "source": [
    "# imports\n",
    "import pprint\n",
    "import pickle\n",
    "import glob\n",
    "import random\n",
    "from pathlib import Path\n",
    "import math\n",
    "\n",
    "import torch\n",
    "from tqdm import tqdm\n",
    "from PIL import Image\n",
    "import numpy as np\n",
    "from pytorch3d.renderer import look_at_view_transform\n",
    "import matplotlib.pyplot as plt\n",
    "import pandas as pd\n",
    "import cv2\n",
    "\n",
    "from utils import general_utils\n",
    "from utils import eval_utils\n",
    "import deformation.losses as def_losses"
   ]
  },
  {
   "cell_type": "code",
   "execution_count": 17,
   "metadata": {
    "ExecuteTime": {
     "end_time": "2020-10-23T04:53:35.530028Z",
     "start_time": "2020-10-23T04:53:35.491872Z"
    }
   },
   "outputs": [],
   "source": [
    "def get_combined_cached_poses(refined_models_dir):\n",
    "    # combining all cached predicted poses\n",
    "    pred_poses_dict = {}\n",
    "    pred_pose_paths = list(Path(refined_models_dir).rglob('pred_poses.p'))\n",
    "    for pred_pose_path in pred_pose_paths:\n",
    "        curr_cache = pickle.load(open(pred_pose_path, \"rb\"))\n",
    "        pred_poses_dict = {**pred_poses_dict, **curr_cache}\n",
    "    return pred_poses_dict\n",
    "\n",
    "# TODO: double check this\n",
    "# https://pytorch3d.readthedocs.io/en/latest/_modules/pytorch3d/renderer/cameras.html#camera_position_from_spherical_angles\n",
    "def spherical_to_cart(dist, elev, azim):\n",
    "    x = dist * np.cos(elev) * np.sin(azim)\n",
    "    y = dist * np.sin(elev)\n",
    "    z = dist * np.cos(elev) * np.cos(azim)\n",
    "    return np.array([x,y,z])"
   ]
  },
  {
   "cell_type": "code",
   "execution_count": 51,
   "metadata": {
    "ExecuteTime": {
     "end_time": "2020-10-23T08:01:30.606531Z",
     "start_time": "2020-10-23T08:01:30.542095Z"
    }
   },
   "outputs": [],
   "source": [
    "refinement_dir = \"data/refinements/shapenet_occnet_refinements\"\n",
    "#class_ids = [\"02691156\", \"02828884\", \"02933112\", \"02958343\", \"03001627\", \"03211117\", \"03636649\", \"03691459\", \"04090263\", \"04256520\", \"04379243\", \"04401088\", \"04530566\"]\n",
    "class_ids = [\"02828884\"]\n",
    "\n",
    "gt_pose_refinement_dir = os.path.join(refinement_dir, \"gt_pose\")\n",
    "bf_pose_refinement_dir = os.path.join(refinement_dir, \"bf_pose\")"
   ]
  },
  {
   "cell_type": "code",
   "execution_count": 52,
   "metadata": {
    "ExecuteTime": {
     "end_time": "2020-10-23T08:01:34.487690Z",
     "start_time": "2020-10-23T08:01:31.940169Z"
    }
   },
   "outputs": [],
   "source": [
    "correlation_df = pd.DataFrame()\n",
    "from scipy.spatial import distance\n",
    "for class_id in class_ids:\n",
    "    bf_class_dir = os.path.join(refinement_dir, \"bf_pose\", class_id)\n",
    "    gt_class_dir = os.path.join(refinement_dir, \"gt_pose\", class_id)\n",
    "    class_bf_poses = get_combined_cached_poses(bf_class_dir)\n",
    "    class_gt_poses = get_combined_cached_poses(gt_class_dir)\n",
    "    bf_eval_results = pd.read_pickle(os.path.join(bf_class_dir, \"eval_results.pkl\"))\n",
    "    gt_eval_results = pd.read_pickle(os.path.join(gt_class_dir, \"eval_results.pkl\"))\n",
    "    \n",
    "    for instance in class_bf_poses:\n",
    "        if instance in class_gt_poses:\n",
    "            bf_cam_loc = spherical_to_cart(class_bf_poses[instance][\"dist\"],class_bf_poses[instance][\"elev\"],class_bf_poses[instance][\"azim\"])\n",
    "            gt_cam_loc = spherical_to_cart(class_gt_poses[instance][\"dist\"],class_gt_poses[instance][\"elev\"],class_gt_poses[instance][\"azim\"])\n",
    "            # TODO: deal with symmetry?\n",
    "            pose_dist = distance.cosine(bf_cam_loc,gt_cam_loc)\n",
    "            #pose_dist = np.linalg.norm(bf_cam_loc - gt_cam_loc)\n",
    "            \n",
    "            bf_3d_iou = (bf_eval_results[bf_eval_results[\"instance\"] == instance])[\"3d_iou\"].item()\n",
    "            gt_3d_iou = (gt_eval_results[gt_eval_results[\"instance\"] == instance])[\"3d_iou\"].item()\n",
    "            iou_delta = gt_3d_iou - bf_3d_iou\n",
    "            correlation_entry = {\"class\":class_id, \"instance\":instance, \"pose_dist\":pose_dist, \"iou_delta\":iou_delta}\n",
    "            correlation_df = correlation_df.append(correlation_entry, ignore_index=True)\n",
    "    \n",
    "    \n",
    "    break"
   ]
  },
  {
   "cell_type": "code",
   "execution_count": 53,
   "metadata": {
    "ExecuteTime": {
     "end_time": "2020-10-23T08:01:34.749284Z",
     "start_time": "2020-10-23T08:01:34.489425Z"
    }
   },
   "outputs": [
    {
     "data": {
      "text/html": [
       "<div>\n",
       "<style scoped>\n",
       "    .dataframe tbody tr th:only-of-type {\n",
       "        vertical-align: middle;\n",
       "    }\n",
       "\n",
       "    .dataframe tbody tr th {\n",
       "        vertical-align: top;\n",
       "    }\n",
       "\n",
       "    .dataframe thead th {\n",
       "        text-align: right;\n",
       "    }\n",
       "</style>\n",
       "<table border=\"1\" class=\"dataframe\">\n",
       "  <thead>\n",
       "    <tr style=\"text-align: right;\">\n",
       "      <th></th>\n",
       "      <th>class</th>\n",
       "      <th>instance</th>\n",
       "      <th>iou_delta</th>\n",
       "      <th>pose_dist</th>\n",
       "    </tr>\n",
       "  </thead>\n",
       "  <tbody>\n",
       "    <tr>\n",
       "      <th>0</th>\n",
       "      <td>02828884</td>\n",
       "      <td>c83b3192c338527a2056b4bd5d870b47</td>\n",
       "      <td>0.046524</td>\n",
       "      <td>1.289440</td>\n",
       "    </tr>\n",
       "    <tr>\n",
       "      <th>1</th>\n",
       "      <td>02828884</td>\n",
       "      <td>c8802eaffc7e595b2dc11eeca04f912e</td>\n",
       "      <td>0.167989</td>\n",
       "      <td>1.716207</td>\n",
       "    </tr>\n",
       "    <tr>\n",
       "      <th>2</th>\n",
       "      <td>02828884</td>\n",
       "      <td>c89d4c95f1e7c950a805114916841d69</td>\n",
       "      <td>-0.032872</td>\n",
       "      <td>0.718357</td>\n",
       "    </tr>\n",
       "    <tr>\n",
       "      <th>3</th>\n",
       "      <td>02828884</td>\n",
       "      <td>c8a2ce0e65da4b817b11ae648ea92233</td>\n",
       "      <td>0.094832</td>\n",
       "      <td>1.017053</td>\n",
       "    </tr>\n",
       "    <tr>\n",
       "      <th>4</th>\n",
       "      <td>02828884</td>\n",
       "      <td>c8fa692760ba875848d791284650e46d</td>\n",
       "      <td>0.049864</td>\n",
       "      <td>1.533144</td>\n",
       "    </tr>\n",
       "    <tr>\n",
       "      <th>...</th>\n",
       "      <td>...</td>\n",
       "      <td>...</td>\n",
       "      <td>...</td>\n",
       "      <td>...</td>\n",
       "    </tr>\n",
       "    <tr>\n",
       "      <th>347</th>\n",
       "      <td>02828884</td>\n",
       "      <td>ff5c5895622d2123aa979e53c1a67c26</td>\n",
       "      <td>0.361358</td>\n",
       "      <td>0.994793</td>\n",
       "    </tr>\n",
       "    <tr>\n",
       "      <th>348</th>\n",
       "      <td>02828884</td>\n",
       "      <td>ff71a0d33a3aa440565888a91a05d618</td>\n",
       "      <td>0.013550</td>\n",
       "      <td>1.508063</td>\n",
       "    </tr>\n",
       "    <tr>\n",
       "      <th>349</th>\n",
       "      <td>02828884</td>\n",
       "      <td>ff7a08ac16701dcec0277fc71766d822</td>\n",
       "      <td>0.118345</td>\n",
       "      <td>0.922915</td>\n",
       "    </tr>\n",
       "    <tr>\n",
       "      <th>350</th>\n",
       "      <td>02828884</td>\n",
       "      <td>ff8f8d280de66226d2b12aa6a0f050b3</td>\n",
       "      <td>-0.077217</td>\n",
       "      <td>0.061279</td>\n",
       "    </tr>\n",
       "    <tr>\n",
       "      <th>351</th>\n",
       "      <td>02828884</td>\n",
       "      <td>ffad1499a8bb6c7c19fb4103277a6b93</td>\n",
       "      <td>0.063545</td>\n",
       "      <td>1.003495</td>\n",
       "    </tr>\n",
       "  </tbody>\n",
       "</table>\n",
       "<p>352 rows × 4 columns</p>\n",
       "</div>"
      ],
      "text/plain": [
       "        class                          instance  iou_delta  pose_dist\n",
       "0    02828884  c83b3192c338527a2056b4bd5d870b47   0.046524   1.289440\n",
       "1    02828884  c8802eaffc7e595b2dc11eeca04f912e   0.167989   1.716207\n",
       "2    02828884  c89d4c95f1e7c950a805114916841d69  -0.032872   0.718357\n",
       "3    02828884  c8a2ce0e65da4b817b11ae648ea92233   0.094832   1.017053\n",
       "4    02828884  c8fa692760ba875848d791284650e46d   0.049864   1.533144\n",
       "..        ...                               ...        ...        ...\n",
       "347  02828884  ff5c5895622d2123aa979e53c1a67c26   0.361358   0.994793\n",
       "348  02828884  ff71a0d33a3aa440565888a91a05d618   0.013550   1.508063\n",
       "349  02828884  ff7a08ac16701dcec0277fc71766d822   0.118345   0.922915\n",
       "350  02828884  ff8f8d280de66226d2b12aa6a0f050b3  -0.077217   0.061279\n",
       "351  02828884  ffad1499a8bb6c7c19fb4103277a6b93   0.063545   1.003495\n",
       "\n",
       "[352 rows x 4 columns]"
      ]
     },
     "metadata": {},
     "output_type": "display_data"
    },
    {
     "data": {
      "text/plain": [
       "<matplotlib.axes._subplots.AxesSubplot at 0x7f51bc5e1b00>"
      ]
     },
     "execution_count": 53,
     "metadata": {},
     "output_type": "execute_result"
    },
    {
     "data": {
      "image/png": "[encoded data removed]",
      "text/plain": [
       "<Figure size 432x288 with 1 Axes>"
      ]
     },
     "metadata": {
      "needs_background": "light"
     },
     "output_type": "display_data"
    }
   ],
   "source": [
    "display(correlation_df)\n",
    "correlation_df.plot.scatter(\"pose_dist\", \"iou_delta\")"
   ]
  },
  {
   "cell_type": "code",
   "execution_count": null,
   "metadata": {},
   "outputs": [],
   "source": []
  },
  {
   "cell_type": "code",
   "execution_count": null,
   "metadata": {},
   "outputs": [],
   "source": []
  },
  {
   "cell_type": "code",
   "execution_count": null,
   "metadata": {},
   "outputs": [],
   "source": []
  }
 ],
 "metadata": {
  "kernelspec": {
   "display_name": "Python [conda env:standard] *",
   "language": "python",
   "name": "conda-env-standard-py"
  },
  "language_info": {
   "codemirror_mode": {
    "name": "ipython",
    "version": 3
   },
   "file_extension": ".py",
   "mimetype": "text/x-python",
   "name": "python",
   "nbconvert_exporter": "python",
   "pygments_lexer": "ipython3",
   "version": "3.6.9"
  }
 },
 "nbformat": 4,
 "nbformat_minor": 4
}
