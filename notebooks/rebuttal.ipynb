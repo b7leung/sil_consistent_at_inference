{
 "cells": [
  {
   "cell_type": "code",
   "execution_count": 2,
   "metadata": {
    "ExecuteTime": {
     "end_time": "2021-01-19T23:13:03.796862Z",
     "start_time": "2021-01-19T23:13:03.768052Z"
    }
   },
   "outputs": [
    {
     "name": "stdout",
     "output_type": "stream",
     "text": [
      "/home/svcl-oowl/brandon/research/CVPR_2021_REFINE/sil_consistent_at_inference\n"
     ]
    }
   ],
   "source": [
    "%load_ext autoreload\n",
    "%autoreload 2\n",
    "import os\n",
    "os.chdir('/home/svcl-oowl/brandon/research/CVPR_2021_REFINE/sil_consistent_at_inference')\n",
    "print(os.getcwd())"
   ]
  },
  {
   "cell_type": "code",
   "execution_count": 3,
   "metadata": {
    "ExecuteTime": {
     "end_time": "2021-01-19T23:13:04.445262Z",
     "start_time": "2021-01-19T23:13:04.333072Z"
    }
   },
   "outputs": [],
   "source": [
    "import pprint\n",
    "import numpy as np"
   ]
  },
  {
   "cell_type": "code",
   "execution_count": 13,
   "metadata": {
    "ExecuteTime": {
     "end_time": "2021-01-19T23:18:50.989904Z",
     "start_time": "2021-01-19T23:18:50.971530Z"
    }
   },
   "outputs": [
    {
     "name": "stdout",
     "output_type": "stream",
     "text": [
      "Average Percent Change\n",
      "\n",
      "0.1 -> 0.19, pc: 89.99999999999999\n",
      "0.1 -> 0.19, pc: 89.99999999999999\n",
      "0.99 -> 0.99, pc: 0.0\n",
      "0.99 -> 0.99, pc: 0.0\n",
      "0.99 -> 0.99, pc: 0.0\n",
      "Average Percent Change: 35.99999999999999\n",
      "\n",
      "=================================================================\n",
      "percent change of averaged\n",
      "\n",
      "Avg before: 0.634\n",
      "Avg after: 0.6700000000000002\n",
      "Percent Change of Average: 5.678233438485827\n"
     ]
    }
   ],
   "source": [
    "vals = [\n",
    "    [0.1, 0.19], \n",
    "    [0.1, 0.19], \n",
    "    [0.99,0.99],\n",
    "    [0.99,0.99],\n",
    "    [0.99,0.99],\n",
    "    ]\n",
    "\n",
    "print(\"Average Percent Change\\n\")\n",
    "average_percent_change = 0\n",
    "for (before, after) in vals:\n",
    "    pc = 100*((after-before)/before)\n",
    "    print(\"{} -> {}, pc: {}\".format(before, after, pc))\n",
    "    average_percent_change += pc\n",
    "average_percent_change = average_percent_change / len(vals)\n",
    "print(\"Average Percent Change: {}\".format(average_percent_change))\n",
    "\n",
    "print(\"\\n=================================================================\")\n",
    "print(\"percent change of averaged\\n\")\n",
    "\n",
    "percent_change_of_averaged = 0\n",
    "avg_before = sum([v[0] for v in vals])/len(vals)\n",
    "avg_after = sum([v[1] for v in vals])/len(vals)\n",
    "print(\"Avg before: {}\".format(avg_before))\n",
    "print(\"Avg after: {}\".format(avg_after))\n",
    "print(\"Percent Change of Average: {}\".format(100*((avg_after-avg_before)/avg_before)))\n"
   ]
  },
  {
   "cell_type": "code",
   "execution_count": null,
   "metadata": {},
   "outputs": [],
   "source": []
  },
  {
   "cell_type": "code",
   "execution_count": null,
   "metadata": {},
   "outputs": [],
   "source": []
  },
  {
   "cell_type": "code",
   "execution_count": null,
   "metadata": {},
   "outputs": [],
   "source": []
  },
  {
   "cell_type": "code",
   "execution_count": null,
   "metadata": {},
   "outputs": [],
   "source": []
  },
  {
   "cell_type": "code",
   "execution_count": null,
   "metadata": {},
   "outputs": [],
   "source": []
  }
 ],
 "metadata": {
  "kernelspec": {
   "display_name": "Python [conda env:standard] *",
   "language": "python",
   "name": "conda-env-standard-py"
  },
  "language_info": {
   "codemirror_mode": {
    "name": "ipython",
    "version": 3
   },
   "file_extension": ".py",
   "mimetype": "text/x-python",
   "name": "python",
   "nbconvert_exporter": "python",
   "pygments_lexer": "ipython3",
   "version": "3.6.9"
  }
 },
 "nbformat": 4,
 "nbformat_minor": 4
}
