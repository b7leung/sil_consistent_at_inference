{
 "cells": [
  {
   "cell_type": "code",
   "execution_count": 99,
   "metadata": {
    "ExecuteTime": {
     "end_time": "2021-01-24T07:38:46.293490Z",
     "start_time": "2021-01-24T07:38:46.270698Z"
    }
   },
   "outputs": [
    {
     "name": "stdout",
     "output_type": "stream",
     "text": [
      "The autoreload extension is already loaded. To reload it, use:\n",
      "  %reload_ext autoreload\n",
      "/home/svcl-oowl/brandon/research/CVPR_2021_REFINE/sil_consistent_at_inference\n"
     ]
    }
   ],
   "source": [
    "%load_ext autoreload\n",
    "%autoreload 2\n",
    "import os\n",
    "os.chdir('/home/svcl-oowl/brandon/research/CVPR_2021_REFINE/sil_consistent_at_inference')\n",
    "print(os.getcwd())"
   ]
  },
  {
   "cell_type": "code",
   "execution_count": 100,
   "metadata": {
    "ExecuteTime": {
     "end_time": "2021-01-24T07:38:47.100766Z",
     "start_time": "2021-01-24T07:38:47.082235Z"
    }
   },
   "outputs": [],
   "source": [
    "import pprint\n",
    "import numpy as np\n",
    "\n",
    "import pandas as pd\n",
    "import matplotlib.pyplot as plt"
   ]
  },
  {
   "cell_type": "code",
   "execution_count": null,
   "metadata": {},
   "outputs": [],
   "source": [
    "vals = [\n",
    "    [0.1, 0.19], \n",
    "    [0.1, 0.19], \n",
    "    [0.99,0.99],\n",
    "    [0.99,0.99],\n",
    "    [0.99,0.99],\n",
    "    ]"
   ]
  },
  {
   "cell_type": "code",
   "execution_count": 168,
   "metadata": {
    "ExecuteTime": {
     "end_time": "2021-01-24T09:21:25.464470Z",
     "start_time": "2021-01-24T09:21:25.439232Z"
    }
   },
   "outputs": [
    {
     "name": "stdout",
     "output_type": "stream",
     "text": [
      "Average Percent Change\n",
      "\n",
      "0.165 -> 0.3, pc: 81.8181818181818\n",
      "0.9 -> 0.9, pc: 0.0\n",
      "0.9 -> 0.9, pc: 0.0\n",
      "0.9 -> 0.9, pc: 0.0\n",
      "0.9 -> 0.9, pc: 0.0\n",
      "0.9 -> 0.9, pc: 0.0\n",
      "0.9 -> 0.9, pc: 0.0\n",
      "Average Percent Change: 11.688311688311686\n",
      "\n",
      "=================================================================\n",
      "percent change of averaged\n",
      "\n",
      "Avg before: 0.795\n",
      "Avg after: 0.8142857142857143\n",
      "Percent Change of Average: 2.425876010781665\n"
     ]
    }
   ],
   "source": [
    "u = 0.9\n",
    "o=0\n",
    "vals = [\n",
    "    [0.165, 0.3], \n",
    "    [u,u+o],\n",
    "    [u,u+o],\n",
    "    [u,u+o],\n",
    "    [u,u+o],\n",
    "    [u,u+o],\n",
    "    [u,u+o],\n",
    "    ]\n",
    "\n",
    "print(\"Average Percent Change\\n\")\n",
    "average_percent_change = 0\n",
    "for (before, after) in vals:\n",
    "    pc = 100*((after-before)/before)\n",
    "    print(\"{} -> {}, pc: {}\".format(before, after, pc))\n",
    "    average_percent_change += pc\n",
    "average_percent_change = average_percent_change / len(vals)\n",
    "print(\"Average Percent Change: {}\".format(average_percent_change))\n",
    "\n",
    "print(\"\\n=================================================================\")\n",
    "print(\"percent change of averaged\\n\")\n",
    "\n",
    "percent_change_of_averaged = 0\n",
    "avg_before = sum([v[0] for v in vals])/len(vals)\n",
    "avg_after = sum([v[1] for v in vals])/len(vals)\n",
    "print(\"Avg before: {}\".format(avg_before))\n",
    "print(\"Avg after: {}\".format(avg_after))\n",
    "print(\"Percent Change of Average: {}\".format(100*((avg_after-avg_before)/avg_before)))\n"
   ]
  },
  {
   "cell_type": "code",
   "execution_count": 171,
   "metadata": {
    "ExecuteTime": {
     "end_time": "2021-01-24T09:27:52.636994Z",
     "start_time": "2021-01-24T09:27:52.617725Z"
    }
   },
   "outputs": [
    {
     "data": {
      "text/plain": [
       "11.714285714285714"
      ]
     },
     "execution_count": 171,
     "metadata": {},
     "output_type": "execute_result"
    }
   ],
   "source": [
    "82/7"
   ]
  },
  {
   "cell_type": "code",
   "execution_count": 10,
   "metadata": {
    "ExecuteTime": {
     "end_time": "2021-01-21T22:56:59.011797Z",
     "start_time": "2021-01-21T22:56:58.790860Z"
    }
   },
   "outputs": [
    {
     "data": {
      "text/plain": [
       "<matplotlib.axes._subplots.AxesSubplot at 0x7fedebe3c4a8>"
      ]
     },
     "execution_count": 10,
     "metadata": {},
     "output_type": "execute_result"
    },
    {
     "data": {
      "image/png": "[encoded data removed]",
      "text/plain": [
       "<Figure size 432x288 with 1 Axes>"
      ]
     },
     "metadata": {
      "needs_background": "light"
     },
     "output_type": "display_data"
    }
   ],
   "source": [
    "# 1st experiment: robustness to noisy pose\n",
    "\n",
    "pose_std_df = pd.DataFrame()\n",
    "pose_std_df = pose_std_df.append({\"std\":0, \"3D_IoU_%_Change\":24}, ignore_index=True)\n",
    "pose_std_df = pose_std_df.append({\"std\":2, \"3D_IoU_%_Change\":19}, ignore_index=True)\n",
    "pose_std_df = pose_std_df.append({\"std\":4, \"3D_IoU_%_Change\":17}, ignore_index=True)\n",
    "pose_std_df = pose_std_df.append({\"std\":6, \"3D_IoU_%_Change\":12}, ignore_index=True)\n",
    "pose_std_df = pose_std_df.append({\"std\":10, \"3D_IoU_%_Change\":5}, ignore_index=True)\n",
    "pose_std_df = pose_std_df.append({\"std\":14, \"3D_IoU_%_Change\":-1}, ignore_index=True)\n",
    "pose_std_df = pose_std_df.append({\"std\":18, \"3D_IoU_%_Change\":-3}, ignore_index=True)\n",
    "pose_std_df = pose_std_df.append({\"std\":24, \"3D_IoU_%_Change\":-8}, ignore_index=True)\n",
    "pose_std_df.plot.line(x=\"std\", y=\"3D_IoU_%_Change\")"
   ]
  },
  {
   "cell_type": "code",
   "execution_count": 18,
   "metadata": {
    "ExecuteTime": {
     "end_time": "2021-01-24T04:16:55.645877Z",
     "start_time": "2021-01-24T04:16:55.226948Z"
    }
   },
   "outputs": [
    {
     "data": {
      "text/plain": [
       "[Text(0, 0, '-5.0°'),\n",
       " Text(0, 0, '0.0°'),\n",
       " Text(0, 0, '5.0°'),\n",
       " Text(0, 0, '10.0°'),\n",
       " Text(0, 0, '15.0°'),\n",
       " Text(0, 0, '20.0°'),\n",
       " Text(0, 0, '25.0°'),\n",
       " Text(0, 0, '30.0°'),\n",
       " Text(0, 0, '35.0°'),\n",
       " Text(0, 0, '40.0°'),\n",
       " Text(0, 0, '45.0°')]"
      ]
     },
     "execution_count": 18,
     "metadata": {},
     "output_type": "execute_result"
    },
    {
     "data": {
      "image/png": "[encoded data removed]",
      "text/plain": [
       "<Figure size 864x216 with 1 Axes>"
      ]
     },
     "metadata": {
      "needs_background": "light"
     },
     "output_type": "display_data"
    }
   ],
   "source": [
    "# 1st experiment: robustness to noisy pose\n",
    "pose_std_df = pd.DataFrame()\n",
    "\n",
    "pose_std_df = pose_std_df.append({\"std\":0, \"ShapeNet Chairs\":24}, ignore_index=True)\n",
    "pose_std_df = pose_std_df.append({\"std\":get_folded_norm_mean(2)*2, \"ShapeNet Chairs\":19}, ignore_index=True)\n",
    "pose_std_df = pose_std_df.append({\"std\":get_folded_norm_mean(4)*2, \"ShapeNet Chairs\":17}, ignore_index=True)\n",
    "pose_std_df = pose_std_df.append({\"std\":get_folded_norm_mean(6)*2, \"ShapeNet Chairs\":12}, ignore_index=True)\n",
    "pose_std_df = pose_std_df.append({\"std\":get_folded_norm_mean(10)*2, \"ShapeNet Chairs\":5}, ignore_index=True)\n",
    "pose_std_df = pose_std_df.append({\"std\":get_folded_norm_mean(14)*2, \"ShapeNet Chairs\":-1}, ignore_index=True)\n",
    "pose_std_df = pose_std_df.append({\"std\":get_folded_norm_mean(18)*2, \"ShapeNet Chairs\":-3}, ignore_index=True)\n",
    "pose_std_df = pose_std_df.append({\"std\":get_folded_norm_mean(24)*2, \"ShapeNet Chairs\":-11}, ignore_index=True)\n",
    "\n",
    "pose_std_df = pose_std_df.append({\"std\":0, \"Pix3D Chairs\":23}, ignore_index=True)\n",
    "pose_std_df = pose_std_df.append({\"std\":get_folded_norm_mean(2)*2, \"Pix3D Chairs\":21}, ignore_index=True)\n",
    "pose_std_df = pose_std_df.append({\"std\":get_folded_norm_mean(4)*2, \"Pix3D Chairs\":20}, ignore_index=True)\n",
    "pose_std_df = pose_std_df.append({\"std\":get_folded_norm_mean(6)*2, \"Pix3D Chairs\":19}, ignore_index=True)\n",
    "pose_std_df = pose_std_df.append({\"std\":get_folded_norm_mean(10)*2, \"Pix3D Chairs\":14}, ignore_index=True)\n",
    "pose_std_df = pose_std_df.append({\"std\":get_folded_norm_mean(14)*2, \"Pix3D Chairs\":10}, ignore_index=True)\n",
    "pose_std_df = pose_std_df.append({\"std\":get_folded_norm_mean(18)*2, \"Pix3D Chairs\":-5}, ignore_index=True)\n",
    "pose_std_df = pose_std_df.append({\"std\":get_folded_norm_mean(24)*2, \"Pix3D Chairs\":-6}, ignore_index=True)\n",
    "\n",
    "ax = pose_std_df.plot.line(x=\"std\", fontsize=16, figsize=(12*1,3*1), marker='o')\n",
    "\n",
    "plt.xlabel(\"Mean Total Angular Noise Added to Ground Truth Pose\", fontsize=20)\n",
    "plt.ylabel(\"3D IoU Average Percent\\n Change After REFINE\", fontsize=17)\n",
    "\n",
    "# setting y axis to be percent labels\n",
    "y_vals = ax.get_yticks()\n",
    "new_y_vals = []\n",
    "for y_val in y_vals:\n",
    "    new_y_val = str(y_val)\n",
    "    new_y_val = new_y_val.replace(\".0\",\"\")\n",
    "    if new_y_val[0]!=\"-\":\n",
    "        new_y_val = '+' + new_y_val\n",
    "    new_y_val = new_y_val + \"%\"\n",
    "    new_y_vals.append(new_y_val)\n",
    "ax.set_yticklabels(new_y_vals)\n",
    "\n",
    "# setting x axis to be degrees\n",
    "x_vals = ax.get_xticks()\n",
    "ax.set_xticklabels([str(x_val)+\"°\" for x_val in x_vals])"
   ]
  },
  {
   "cell_type": "code",
   "execution_count": 3,
   "metadata": {
    "ExecuteTime": {
     "end_time": "2021-01-24T03:51:09.991693Z",
     "start_time": "2021-01-24T03:51:09.595538Z"
    }
   },
   "outputs": [],
   "source": [
    "import scipy.stats\n",
    "\n",
    "def get_folded_norm_mean(sigma, mu=0):\n",
    "    norm = scipy.stats.norm()\n",
    "    mean = sigma * np.sqrt(2/np.pi) * np.exp(-(mu**2)/(2*sigma**2)) + mu*(1-2*norm.cdf(-mu/sigma))\n",
    "    return mean"
   ]
  },
  {
   "cell_type": "code",
   "execution_count": 27,
   "metadata": {
    "ExecuteTime": {
     "end_time": "2021-01-23T00:10:46.386074Z",
     "start_time": "2021-01-23T00:10:46.351054Z"
    }
   },
   "outputs": [
    {
     "name": "stdout",
     "output_type": "stream",
     "text": [
      "std: 2, expected val: 1.5957691216057308\n",
      "std: 4, expected val: 3.1915382432114616\n",
      "std: 6, expected val: 4.787307364817193\n",
      "std: 10, expected val: 7.978845608028654\n",
      "std: 14, expected val: 11.170383851240116\n",
      "std: 18, expected val: 14.361922094451577\n",
      "std: 24, expected val: 19.14922945926877\n"
     ]
    }
   ],
   "source": [
    "for std in [2,4,6,10,14,18,24]:\n",
    "    print(\"std: {}, expected val: {}\".format(std, get_folded_norm_mean(std,0)))\n",
    "    "
   ]
  },
  {
   "cell_type": "code",
   "execution_count": 4,
   "metadata": {
    "ExecuteTime": {
     "end_time": "2021-01-25T06:23:06.296842Z",
     "start_time": "2021-01-25T06:23:06.293129Z"
    }
   },
   "outputs": [
    {
     "data": {
      "text/plain": [
       "0.8142857142857143"
      ]
     },
     "execution_count": 4,
     "metadata": {},
     "output_type": "execute_result"
    }
   ],
   "source": [
    "(0.3+0.9*6)/7"
   ]
  }
 ],
 "metadata": {
  "kernelspec": {
   "display_name": "Python [conda env:standard] *",
   "language": "python",
   "name": "conda-env-standard-py"
  },
  "language_info": {
   "codemirror_mode": {
    "name": "ipython",
    "version": 3
   },
   "file_extension": ".py",
   "mimetype": "text/x-python",
   "name": "python",
   "nbconvert_exporter": "python",
   "pygments_lexer": "ipython3",
   "version": "3.6.9"
  }
 },
 "nbformat": 4,
 "nbformat_minor": 4
}
