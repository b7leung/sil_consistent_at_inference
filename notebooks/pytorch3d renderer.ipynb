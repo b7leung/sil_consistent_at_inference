{
 "cells": [
  {
   "cell_type": "code",
   "execution_count": 1,
   "metadata": {
    "ExecuteTime": {
     "end_time": "2020-11-01T12:22:13.489845Z",
     "start_time": "2020-11-01T12:22:13.474177Z"
    }
   },
   "outputs": [],
   "source": [
    "%load_ext autoreload\n",
    "%autoreload 2\n",
    "notebook_fixed_dir = False"
   ]
  },
  {
   "cell_type": "code",
   "execution_count": 2,
   "metadata": {
    "ExecuteTime": {
     "end_time": "2020-11-01T12:22:14.050504Z",
     "start_time": "2020-11-01T12:22:14.039152Z"
    }
   },
   "outputs": [
    {
     "name": "stdout",
     "output_type": "stream",
     "text": [
      "/home/svcl-oowl/brandon/research/sil_consistent_at_inference\n"
     ]
    }
   ],
   "source": [
    "# this cell can only be called once\n",
    "import os\n",
    "if not notebook_fixed_dir:\n",
    "    os.chdir('..')\n",
    "    notebook_fixed_dir = True\n",
    "print(os.getcwd())"
   ]
  },
  {
   "cell_type": "code",
   "execution_count": 12,
   "metadata": {
    "ExecuteTime": {
     "end_time": "2020-11-01T12:24:32.322365Z",
     "start_time": "2020-11-01T12:24:32.294495Z"
    }
   },
   "outputs": [],
   "source": [
    "import pprint\n",
    "import glob\n",
    "from pathlib import Path\n",
    "import pickle\n",
    "import random\n",
    "\n",
    "import torch\n",
    "from PIL import Image\n",
    "import numpy as np\n",
    "from pytorch3d.renderer import look_at_view_transform, PointLights, TexturesVertex, Textures\n",
    "import matplotlib.pyplot as plt\n",
    "import trimesh\n",
    "\n",
    "from utils import general_utils\n",
    "from utils import visualization_tools\n",
    "from utils.eval_utils import eval_metrics\n",
    "#from evaluation import compute_iou_2d, compute_iou_2d_given_pose, compute_iou_3d, compute_chamfer_L1"
   ]
  },
  {
   "cell_type": "code",
   "execution_count": 4,
   "metadata": {
    "ExecuteTime": {
     "end_time": "2020-11-01T12:22:20.634638Z",
     "start_time": "2020-11-01T12:22:17.709246Z"
    }
   },
   "outputs": [],
   "source": [
    "#models_dir = \"/home/svcl-oowl/dataset/ShapeNetCore.v1\"\n",
    "#class_id = \"03001627\"\n",
    "#instance = \"cbcc5cd1aec9f3413aa677469bbdd68c\"\n",
    "#model_path = os.path.join(models_dir, class_id, instance, \"model_watertight.obj\")\n",
    "model_path = \"data/refinements/shapenet_occnet_refinements/bf_pose/02691156/batch_1_of_2/d18592d9615b01bbbc0909d98a1ff2b4.obj\"\n",
    "device = torch.device(\"cuda:0\")\n",
    "mesh = general_utils.load_untextured_mesh(model_path, device)"
   ]
  },
  {
   "cell_type": "code",
   "execution_count": 15,
   "metadata": {
    "ExecuteTime": {
     "end_time": "2020-11-01T12:25:08.780769Z",
     "start_time": "2020-11-01T12:25:08.747612Z"
    }
   },
   "outputs": [
    {
     "name": "stdout",
     "output_type": "stream",
     "text": [
      "tensor([[[0.6374, 0.7585, 0.1898],\n",
      "         [0.7484, 0.7305, 0.6674],\n",
      "         [0.6687, 0.4096, 0.6284],\n",
      "         ...,\n",
      "         [0.5559, 0.1809, 0.3533],\n",
      "         [0.3403, 0.6485, 0.2495],\n",
      "         [0.2214, 0.2765, 0.4169]]], device='cuda:0')\n"
     ]
    }
   ],
   "source": [
    "num_verts = mesh.verts_packed().shape[0]\n",
    "verts_rgb = torch.rand((1, num_verts,3), device=device)\n",
    "print(verts_rgb)\n",
    "mesh.textures = TexturesVertex(verts_rgb)"
   ]
  },
  {
   "cell_type": "code",
   "execution_count": 19,
   "metadata": {
    "ExecuteTime": {
     "end_time": "2020-11-01T12:28:38.699186Z",
     "start_time": "2020-11-01T12:28:38.235597Z"
    }
   },
   "outputs": [
    {
     "data": {
      "text/plain": [
       "<matplotlib.image.AxesImage at 0x7ff516cfcdd8>"
      ]
     },
     "execution_count": 19,
     "metadata": {},
     "output_type": "execute_result"
    },
    {
     "data": {
      "image/png": "[encoded data removed]",
      "text/plain": [
       "<Figure size 432x288 with 1 Axes>"
      ]
     },
     "metadata": {
      "needs_background": "light"
     },
     "output_type": "display_data"
    }
   ],
   "source": [
    "dist = 1\n",
    "elev = 35\n",
    "azim = 25\n",
    "R, T = look_at_view_transform(dist, elev, azim)\n",
    "\n",
    "no_lights = PointLights(device=device, ambient_color=((0.5,0.5,0.5),), diffuse_color=((0.0,0.0,0.0),), specular_color=((0.0,0.0,0.0),))\n",
    "render = general_utils.render_mesh(mesh, R, T, device, custom_lights=no_lights)\n",
    "#render = general_utils.render_mesh(mesh, R, T, device)\n",
    "plt.imshow(render[0, ..., :3].detach().cpu().numpy())"
   ]
  },
  {
   "cell_type": "code",
   "execution_count": null,
   "metadata": {},
   "outputs": [],
   "source": []
  }
 ],
 "metadata": {
  "kernelspec": {
   "display_name": "Python [conda env:standard] *",
   "language": "python",
   "name": "conda-env-standard-py"
  },
  "language_info": {
   "codemirror_mode": {
    "name": "ipython",
    "version": 3
   },
   "file_extension": ".py",
   "mimetype": "text/x-python",
   "name": "python",
   "nbconvert_exporter": "python",
   "pygments_lexer": "ipython3",
   "version": "3.6.9"
  }
 },
 "nbformat": 4,
 "nbformat_minor": 4
}
