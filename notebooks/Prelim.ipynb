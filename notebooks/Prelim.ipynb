{
 "cells": [
  {
   "cell_type": "code",
   "execution_count": 1,
   "metadata": {
    "ExecuteTime": {
     "end_time": "2020-08-09T07:15:04.255281Z",
     "start_time": "2020-08-09T07:15:04.238967Z"
    }
   },
   "outputs": [],
   "source": [
    "%load_ext autoreload\n",
    "%autoreload 2"
   ]
  },
  {
   "cell_type": "code",
   "execution_count": 2,
   "metadata": {
    "ExecuteTime": {
     "end_time": "2020-08-09T07:15:14.338678Z",
     "start_time": "2020-08-09T07:15:04.370621Z"
    }
   },
   "outputs": [],
   "source": [
    "import os\n",
    "os.chdir('/data7/brandon/research/DA_MVR/sil_consistent_at_inference')\n",
    "import sys\n",
    "\n",
    "import torch\n",
    "from PIL import Image\n",
    "import numpy as np\n",
    "import trimesh\n",
    "import matplotlib.pyplot as plt\n",
    "import cv2\n",
    "from scipy import ndimage\n",
    "from skimage.transform import resize\n",
    "from skimage import img_as_bool\n",
    "from tqdm import tqdm\n",
    "import glob\n",
    "import pprint\n",
    "\n",
    "# Util function for loading meshes\n",
    "from pytorch3d.io import load_objs_as_meshes\n",
    "from pytorch3d.io import load_obj\n",
    "\n",
    "# Data structures and functions for rendering\n",
    "from pytorch3d.structures import Meshes, Textures\n",
    "from pytorch3d.renderer import (\n",
    "    look_at_view_transform,\n",
    "    OpenGLPerspectiveCameras, \n",
    "    PointLights, \n",
    "    DirectionalLights, \n",
    "    Materials, \n",
    "    RasterizationSettings, \n",
    "    MeshRenderer, \n",
    "    MeshRasterizer,  \n",
    "    TexturedSoftPhongShader,\n",
    "    SoftPhongShader\n",
    ")\n",
    "\n",
    "from plot_image_grid import image_grid"
   ]
  },
  {
   "cell_type": "code",
   "execution_count": 3,
   "metadata": {
    "ExecuteTime": {
     "end_time": "2020-08-09T07:15:14.378541Z",
     "start_time": "2020-08-09T07:15:14.341484Z"
    }
   },
   "outputs": [],
   "source": [
    "# based on https://github.com/facebookresearch/pytorch3d/issues/51\n",
    "def load_untextured_mesh(mesh_path, device):\n",
    "    mesh = load_objs_as_meshes([mesh_path], device=device, load_textures = False)\n",
    "    verts, faces_idx, _ = load_obj(mesh_path)\n",
    "    faces = faces_idx.verts_idx\n",
    "    verts_rgb = torch.ones_like(verts)[None] # (1, V, 3)\n",
    "    textures = Textures(verts_rgb=verts_rgb.to(device))\n",
    "    mesh_no_texture = Meshes(\n",
    "        verts=[verts.to(device)],\n",
    "        faces=[faces.to(device)],\n",
    "        textures=textures\n",
    "        )\n",
    "    return mesh_no_texture"
   ]
  },
  {
   "cell_type": "code",
   "execution_count": 4,
   "metadata": {
    "ExecuteTime": {
     "end_time": "2020-08-09T07:15:15.690310Z",
     "start_time": "2020-08-09T07:15:14.380463Z"
    }
   },
   "outputs": [],
   "source": [
    "def render_mesh(mesh, R, T, device):\n",
    "    cameras = OpenGLPerspectiveCameras(device=device, R=R, T=T)\n",
    "    raster_settings = RasterizationSettings(\n",
    "        image_size=512, \n",
    "        blur_radius=0.0, \n",
    "        faces_per_pixel=1, \n",
    "    )\n",
    "    lights = PointLights(device=device, location=[[0.0, 5.0, -10.0]])\n",
    "    renderer = MeshRenderer(\n",
    "        rasterizer=MeshRasterizer(\n",
    "            cameras=cameras, \n",
    "            raster_settings=raster_settings\n",
    "        ),\n",
    "        shader=SoftPhongShader(\n",
    "            device=device, \n",
    "            cameras=cameras,\n",
    "            lights=lights\n",
    "        )\n",
    "    )\n",
    "\n",
    "    rendered_images = renderer(mesh, cameras=cameras)\n",
    "    return rendered_images"
   ]
  },
  {
   "cell_type": "code",
   "execution_count": 5,
   "metadata": {
    "ExecuteTime": {
     "end_time": "2020-08-09T07:15:16.115835Z",
     "start_time": "2020-08-09T07:15:15.692591Z"
    }
   },
   "outputs": [],
   "source": [
    "def crop_binary_mask(mask):\n",
    "    # Get the height and width of bbox\n",
    "    objs = ndimage.find_objects(mask)\n",
    "    # upper left, lower right\n",
    "    img_bbox = [objs[0][0].start, objs[0][1].start, objs[0][0].stop, objs[0][1].stop]\n",
    "    # crop\n",
    "    cropped_mask = mask[img_bbox[0]:img_bbox[2],img_bbox[1]:img_bbox[3] ]\n",
    "    return cropped_mask\n",
    "\n",
    "\n",
    "# given an 4 channel image (w1 x h1 x rgba), assumed to be an object on a white background and a mask (w2 x h2 x 1)\n",
    "# will crop the image and mask, resize them, and then compute the IoU\n",
    "# (mask is the gt mask, img is rendered reconstruction)\n",
    "def get_normalized_iou(img, mask, show_intermediate = False):\n",
    "    img_mask = img[:,:,3] > 0\n",
    "    img_mask_cropped = crop_binary_mask(img_mask)\n",
    "    mask_cropped = crop_binary_mask(mask)\n",
    "    # resize the image to the mask's dimensions\n",
    "    img_mask_resized = img_as_bool(resize(img_mask_cropped, mask_cropped.shape))\n",
    "    \n",
    "    overlap = img_mask_resized*mask_cropped # Logical AND\n",
    "    union = img_mask_resized + mask_cropped # Logical OR\n",
    "    IOU = overlap.sum()/float(union.sum())\n",
    "    \n",
    "    if show_intermediate:\n",
    "        #plt.imshow(img_mask_cropped)\n",
    "        #plt.show()\n",
    "        plt.imshow(mask_cropped)\n",
    "        plt.show()\n",
    "        plt.imshow(img_mask_resized)\n",
    "        plt.show()\n",
    "    return IOU"
   ]
  },
  {
   "cell_type": "code",
   "execution_count": 6,
   "metadata": {
    "ExecuteTime": {
     "end_time": "2020-08-09T07:15:19.189575Z",
     "start_time": "2020-08-09T07:15:16.118743Z"
    }
   },
   "outputs": [],
   "source": [
    "# given a mesh and a mask, finds position of the camera by brute force\n",
    "# there are two steps: 1) finding the azimuth and elevation and 2) find the distance\n",
    "def batch_render(mesh, azims, elevs, batch_size):\n",
    "    pass\n",
    "\n",
    "def brute_force_estimate_pose(mesh, mask, num_azims, num_elevs, device, batch_size = 8):\n",
    "    # setting up\n",
    "    torch.cuda.set_device(device)\n",
    "    num_renders = num_elevs * num_azims\n",
    "    azims = torch.linspace(0, 360, num_azims).repeat(num_elevs)\n",
    "    elevs = torch.repeat_interleave(torch.linspace(0, 180, num_elevs), num_azims) # TODO: also add underneath elevs\n",
    "    \n",
    "    # rendering from many different viewpoints on surface of sphere\n",
    "    meshes = mesh.extend(batch_size)\n",
    "    renders = []\n",
    "    for batch_i in tqdm(range(int(np.ceil(num_renders/batch_size)))):\n",
    "        pose_idx_start = batch_i * batch_size\n",
    "        pose_idx_end = min((batch_i+1) * batch_size, num_renders)\n",
    "        batch_azims = azims[pose_idx_start:pose_idx_end]\n",
    "        batch_elevs = elevs[pose_idx_start:pose_idx_end]\n",
    "        \n",
    "        R, T = look_at_view_transform(2.7, batch_elevs, batch_azims) \n",
    "        if batch_azims.shape[0] != batch_size:\n",
    "            meshes = mesh.extend(batch_azims.shape[0])\n",
    "        batch_renders = render_mesh(meshes, R, T, device)\n",
    "        renders.append(batch_renders)\n",
    "    renders = torch.cat(renders)\n",
    "    \n",
    "    # computing iou of mask and renders\n",
    "    iou_calcs = []\n",
    "    for i in range(renders.shape[0]):\n",
    "        iou = get_normalized_iou(renders[i].cpu().numpy(), mask, False)\n",
    "        iou_calcs.append(iou)\n",
    "        #print(\"azim: {}, elev: {}, iou: {}\".format(azims[i], elevs[i], iou))\n",
    "    \n",
    "    # selecting render pose with highest iou to find azimuth and elevation\n",
    "    iou_argsort = np.argsort(iou_calcs)[::-1]\n",
    "    iou_highest_idx = iou_argsort[0]\n",
    "    pred_azim = azims[iou_highest_idx]\n",
    "    pred_elev = elevs[iou_highest_idx]\n",
    "    print(\"highest iou: {}, azim: {}, elev: {}\".format(iou_calcs[iou_highest_idx], pred_azim, pred_elev))\n",
    "    \n",
    "    pred_dist = 2.7\n",
    "    \n",
    "    # visualizing results\n",
    "    #get_normalized_iou(renders[iou_highest_idx].cpu().numpy(), mask, True)\n",
    "    #plt.imshow(renders[iou_highest_idx, ..., :3].cpu().numpy())\n",
    "    #plt.show()\n",
    "    \n",
    "    return pred_azim, pred_elev, pred_dist"
   ]
  },
  {
   "cell_type": "code",
   "execution_count": 7,
   "metadata": {
    "ExecuteTime": {
     "end_time": "2020-08-09T07:15:19.318562Z",
     "start_time": "2020-08-09T07:15:19.193382Z"
    },
    "scrolled": true
   },
   "outputs": [],
   "source": [
    "DATASET_PATH = \"notebooks/test_dataset\"\n",
    "\n",
    "mesh_paths = sorted(glob.glob(os.path.join(DATASET_PATH, \"*.obj\")))\n",
    "data_paths = []\n",
    "for mesh_path in mesh_paths:\n",
    "    instance_number = int(mesh_path.split('/')[-1][:2])\n",
    "    instance_img_path = os.path.join(DATASET_PATH, \"{:02d}_in.jpg\".format(instance_number))\n",
    "    instance_mask_path = os.path.join(DATASET_PATH, \"00{:02d}.png\".format(instance_number+1))\n",
    "    data_paths.append({\"mesh\": mesh_path, \"input_img\": instance_img_path, \"mask\": instance_mask_path})\n",
    "    "
   ]
  },
  {
   "cell_type": "code",
   "execution_count": 9,
   "metadata": {
    "ExecuteTime": {
     "end_time": "2020-08-09T08:57:05.507275Z",
     "start_time": "2020-08-09T08:55:20.671347Z"
    },
    "scrolled": true
   },
   "outputs": [
    {
     "name": "stderr",
     "output_type": "stream",
     "text": [
      "100%|██████████| 50/50 [01:40<00:00,  2.00s/it]\n"
     ]
    },
    {
     "name": "stdout",
     "output_type": "stream",
     "text": [
      "highest iou: 0.8904047121413643, azim: 265.2631530761719, elev: 0.0\n"
     ]
    },
    {
     "data": {
      "image/png": "[encoded data removed]",
      "text/plain": [
       "<Figure size 432x288 with 1 Axes>"
      ]
     },
     "metadata": {
      "needs_background": "light"
     },
     "output_type": "display_data"
    },
    {
     "data": {
      "image/png": "[encoded data removed]",
      "text/plain": [
       "<Figure size 432x288 with 1 Axes>"
      ]
     },
     "metadata": {
      "needs_background": "light"
     },
     "output_type": "display_data"
    }
   ],
   "source": [
    "device = torch.device(\"cuda:7\")\n",
    "for data in data_paths:\n",
    "    input_image = np.asarray(Image.open(data['input_img']).convert('RGB'))\n",
    "    mesh = load_untextured_mesh(data['mesh'], device)\n",
    "    # convert mask to 224 x 224 to match input image for nn\n",
    "    mask = Image.open(data['mask']).resize((224,224))\n",
    "    mask = np.asarray(mask)\n",
    "    mask = (mask[:,:,3]> 0)\n",
    "    \n",
    "    # predicting pose\n",
    "    pred_azim, pred_elev = brute_force_estimate_pose(mesh, mask, 20, 20, device)\n",
    "    \n",
    "    # showing results of pose prediction\n",
    "    R, T = look_at_view_transform(2.7, pred_elev, pred_azim) \n",
    "    mesh_rendered_at_pred_pose = render_mesh(mesh, R, T, device)\n",
    "    plt.imshow(input_image)\n",
    "    plt.show()\n",
    "    plt.imshow(mesh_rendered_at_pred_pose[0, ..., :3].cpu().numpy())\n",
    "    plt.show()\n",
    "    \n",
    "    break\n",
    "    "
   ]
  },
  {
   "cell_type": "code",
   "execution_count": null,
   "metadata": {},
   "outputs": [],
   "source": []
  },
  {
   "cell_type": "code",
   "execution_count": null,
   "metadata": {
    "ExecuteTime": {
     "end_time": "2020-08-08T07:24:52.956748Z",
     "start_time": "2020-08-08T07:23:45.608374Z"
    }
   },
   "outputs": [],
   "source": [
    "#cc5dea482768651ed0e93cdb469eb63\n",
    "img_path = \"notebooks/img.jpg\"\n",
    "image = np.asarray(Image.open(img_path).convert('RGB'))\n",
    "\n",
    "mask_path = \"notebooks/img_mask.png\"\n",
    "mask = np.asarray(Image.open(mask_path))\n",
    "mask = (mask[:,:,3]> 0)\n",
    "\n",
    "device = torch.device(\"cuda:7\")\n",
    "mesh_path = \"notebooks/mesh.obj\"\n",
    "mesh = load_untextured_mesh(mesh_path, device)\n",
    "\n",
    "pred_azim, pred_elev = brute_force_estimate_pose(mesh, mask, 20, 20, device)"
   ]
  },
  {
   "cell_type": "code",
   "execution_count": null,
   "metadata": {
    "ExecuteTime": {
     "end_time": "2020-08-08T07:24:57.537844Z",
     "start_time": "2020-08-08T07:24:56.735480Z"
    }
   },
   "outputs": [],
   "source": [
    "# TODO: make sure elev, azim order is consistent\n",
    "R, T = look_at_view_transform(2.7, pred_elev, pred_azim) \n",
    "mesh_rendered_at_pred_pose = render_mesh(mesh, R, T, device)\n",
    "\n",
    "plt.imshow(image)\n",
    "plt.show()\n",
    "plt.imshow(mesh_rendered_at_pred_pose[0, ..., :3].cpu().numpy())"
   ]
  },
  {
   "cell_type": "code",
   "execution_count": null,
   "metadata": {},
   "outputs": [],
   "source": []
  },
  {
   "cell_type": "code",
   "execution_count": null,
   "metadata": {},
   "outputs": [],
   "source": []
  },
  {
   "cell_type": "code",
   "execution_count": null,
   "metadata": {},
   "outputs": [],
   "source": []
  },
  {
   "cell_type": "code",
   "execution_count": null,
   "metadata": {},
   "outputs": [],
   "source": []
  }
 ],
 "metadata": {
  "kernelspec": {
   "display_name": "Python [conda env:standard]",
   "language": "python",
   "name": "conda-env-standard-py"
  },
  "language_info": {
   "codemirror_mode": {
    "name": "ipython",
    "version": 3
   },
   "file_extension": ".py",
   "mimetype": "text/x-python",
   "name": "python",
   "nbconvert_exporter": "python",
   "pygments_lexer": "ipython3",
   "version": "3.7.6"
  }
 },
 "nbformat": 4,
 "nbformat_minor": 4
}
