{
 "cells": [
  {
   "cell_type": "code",
   "execution_count": 1,
   "metadata": {
    "ExecuteTime": {
     "end_time": "2021-01-07T09:09:03.916883Z",
     "start_time": "2021-01-07T09:09:03.902325Z"
    }
   },
   "outputs": [
    {
     "name": "stdout",
     "output_type": "stream",
     "text": [
      "/home/svcl-oowl/brandon/research/CVPR_2021_REFINE/sil_consistent_at_inference\n"
     ]
    }
   ],
   "source": [
    "%load_ext autoreload\n",
    "%autoreload 2\n",
    "import os\n",
    "os.chdir('/home/svcl-oowl/brandon/research/CVPR_2021_REFINE/sil_consistent_at_inference')\n",
    "print(os.getcwd())"
   ]
  },
  {
   "cell_type": "code",
   "execution_count": 2,
   "metadata": {
    "ExecuteTime": {
     "end_time": "2021-01-07T09:09:08.792190Z",
     "start_time": "2021-01-07T09:09:04.581854Z"
    }
   },
   "outputs": [],
   "source": [
    "import pprint\n",
    "import glob\n",
    "from pathlib import Path\n",
    "import pickle\n",
    "import random\n",
    "\n",
    "import torch\n",
    "from PIL import Image\n",
    "import numpy as np\n",
    "from pytorch3d.renderer import look_at_view_transform, PointLights, TexturesVertex, Textures\n",
    "import matplotlib.pyplot as plt\n",
    "import trimesh\n",
    "\n",
    "from utils import general_utils\n",
    "from utils import visualization_tools\n",
    "from utils.eval_utils import eval_metrics\n",
    "#from evaluation import compute_iou_2d, compute_iou_2d_given_pose, compute_iou_3d, compute_chamfer_L1"
   ]
  },
  {
   "cell_type": "code",
   "execution_count": null,
   "metadata": {},
   "outputs": [],
   "source": []
  },
  {
   "cell_type": "code",
   "execution_count": 3,
   "metadata": {
    "ExecuteTime": {
     "end_time": "2021-01-07T09:10:17.151301Z",
     "start_time": "2021-01-07T09:10:15.091487Z"
    }
   },
   "outputs": [],
   "source": [
    "#models_dir = \"/home/svcl-oowl/dataset/ShapeNetCore.v1\"\n",
    "#class_id = \"03001627\"\n",
    "#instance = \"cbcc5cd1aec9f3413aa677469bbdd68c\"\n",
    "#model_path = os.path.join(models_dir, class_id, instance, \"model_watertight.obj\")\n",
    "model_path = \"data/test_gt_mesh/meshes/f68ecc9ec512915f36d8dd30a594b2af.obj\"\n",
    "device = torch.device(\"cuda:0\")\n",
    "mesh = general_utils.load_untextured_mesh(model_path, device)"
   ]
  },
  {
   "cell_type": "code",
   "execution_count": 21,
   "metadata": {
    "ExecuteTime": {
     "end_time": "2021-01-07T09:25:33.176012Z",
     "start_time": "2021-01-07T09:25:32.895571Z"
    }
   },
   "outputs": [
    {
     "data": {
      "text/plain": [
       "<matplotlib.image.AxesImage at 0x7f807c200f60>"
      ]
     },
     "execution_count": 21,
     "metadata": {},
     "output_type": "execute_result"
    },
    {
     "data": {
      "image/png": "[encoded data removed]",
      "text/plain": [
       "<Figure size 432x288 with 1 Axes>"
      ]
     },
     "metadata": {
      "needs_background": "light"
     },
     "output_type": "display_data"
    }
   ],
   "source": [
    "dist = 1\n",
    "elev = 89\n",
    "azim = 45\n",
    "R, T = look_at_view_transform(dist, elev, azim)\n",
    "\n",
    "render = general_utils.render_mesh(mesh, R, T, device)\n",
    "plt.imshow(render[0, ..., :3].detach().cpu().numpy())"
   ]
  },
  {
   "cell_type": "code",
   "execution_count": null,
   "metadata": {},
   "outputs": [],
   "source": []
  },
  {
   "cell_type": "code",
   "execution_count": null,
   "metadata": {},
   "outputs": [],
   "source": []
  },
  {
   "cell_type": "code",
   "execution_count": null,
   "metadata": {},
   "outputs": [],
   "source": []
  },
  {
   "cell_type": "code",
   "execution_count": null,
   "metadata": {},
   "outputs": [],
   "source": []
  },
  {
   "cell_type": "code",
   "execution_count": null,
   "metadata": {
    "ExecuteTime": {
     "end_time": "2020-11-04T10:25:18.606797Z",
     "start_time": "2020-11-04T10:25:18.428704Z"
    }
   },
   "outputs": [],
   "source": [
    "num_verts = mesh.verts_packed().shape[0]\n",
    "verts_rgb = torch.rand((1, num_verts,3), device=device)\n",
    "print(verts_rgb)\n",
    "print(verts_rgb.shape)\n",
    "mesh.textures = TexturesVertex(verts_rgb)"
   ]
  },
  {
   "cell_type": "code",
   "execution_count": null,
   "metadata": {
    "ExecuteTime": {
     "end_time": "2020-11-04T10:23:34.604176Z",
     "start_time": "2020-11-04T10:23:33.074871Z"
    }
   },
   "outputs": [],
   "source": [
    "dist = 1\n",
    "elev = 35\n",
    "azim = 25\n",
    "R, T = look_at_view_transform(dist, elev, azim)\n",
    "\n",
    "no_lights = PointLights(device=device, ambient_color=((0.5,0.5,0.5),), diffuse_color=((0.0,0.0,0.0),), specular_color=((0.0,0.0,0.0),))\n",
    "render = general_utils.render_mesh(mesh, R, T, device, custom_lights=no_lights)\n",
    "#render = general_utils.render_mesh(mesh, R, T, device)\n",
    "plt.imshow(render[0, ..., :3].detach().cpu().numpy())"
   ]
  },
  {
   "cell_type": "code",
   "execution_count": null,
   "metadata": {},
   "outputs": [],
   "source": [
    "def render_pointcloud(verts_padded, verts_rgb, dist, elev, azim, device):\n",
    "\n",
    "    # make pointcloud \n",
    "    point_cloud = Pointclouds(points=verts_padded, features=verts_rgb)\n",
    "\n",
    "    # get render\n",
    "    raster_settings = PointsRasterizationSettings(image_size=512, radius = 0.008,points_per_pixel = 10)\n",
    "    R, T = look_at_view_transform(dist, elev, azim) \n",
    "    cameras = OpenGLPerspectiveCameras(device=device, R=R, T=T)\n",
    "    rasterizer = PointsRasterizer(cameras=cameras, raster_settings=raster_settings)\n",
    "    renderer = PointsRenderer(rasterizer=rasterizer,compositor=AlphaCompositor(background_color=(1, 1, 1,0)))\n",
    "    \n",
    "    # show render\n",
    "    images = renderer(point_cloud)\n",
    "    plt.figure(figsize=(10, 10))\n",
    "    plt.imshow(images[0, ..., :3].cpu().numpy())\n",
    "    plt.grid(\"off\")\n",
    "    plt.axis(\"off\")"
   ]
  },
  {
   "cell_type": "code",
   "execution_count": null,
   "metadata": {
    "ExecuteTime": {
     "end_time": "2020-11-04T10:36:22.282860Z",
     "start_time": "2020-11-04T10:36:22.234981Z"
    }
   },
   "outputs": [],
   "source": [
    "from pytorch3d.structures import Pointclouds\n",
    "from pytorch3d.renderer import (\n",
    "    look_at_view_transform,\n",
    "    FoVOrthographicCameras, \n",
    "    PointsRasterizationSettings,\n",
    "    PointsRenderer,\n",
    "    PointsRasterizer,\n",
    "    AlphaCompositor,\n",
    "    OpenGLPerspectiveCameras, \n",
    "    NormWeightedCompositor\n",
    ")\n"
   ]
  },
  {
   "cell_type": "code",
   "execution_count": null,
   "metadata": {
    "ExecuteTime": {
     "end_time": "2020-11-04T10:36:24.911183Z",
     "start_time": "2020-11-04T10:36:23.717823Z"
    }
   },
   "outputs": [],
   "source": []
  },
  {
   "cell_type": "code",
   "execution_count": null,
   "metadata": {},
   "outputs": [],
   "source": []
  },
  {
   "cell_type": "code",
   "execution_count": null,
   "metadata": {},
   "outputs": [],
   "source": []
  },
  {
   "cell_type": "code",
   "execution_count": null,
   "metadata": {},
   "outputs": [],
   "source": []
  }
 ],
 "metadata": {
  "kernelspec": {
   "display_name": "Python [conda env:standard] *",
   "language": "python",
   "name": "conda-env-standard-py"
  },
  "language_info": {
   "codemirror_mode": {
    "name": "ipython",
    "version": 3
   },
   "file_extension": ".py",
   "mimetype": "text/x-python",
   "name": "python",
   "nbconvert_exporter": "python",
   "pygments_lexer": "ipython3",
   "version": "3.6.9"
  }
 },
 "nbformat": 4,
 "nbformat_minor": 4
}
