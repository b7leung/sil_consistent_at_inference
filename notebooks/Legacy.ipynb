{
 "cells": [
  {
   "cell_type": "code",
   "execution_count": null,
   "metadata": {},
   "outputs": [],
   "source": [
    "weights_path = \"data/occnet_pretrained_weights/model_best.pt\"\n",
    "cfg_yaml_path = \"occ_uda/configs/domain_adaptation/chair_noDA.yaml\"\n",
    "emb_path = \"occ_uda/chair_noDA_train_latent_vecs.p\"\n",
    "emb_loss = def_losses.SemanticEmbeddingLoss(cfg_yaml_path, weights_path, emb_path, device)"
   ]
  },
  {
   "cell_type": "code",
   "execution_count": null,
   "metadata": {},
   "outputs": [],
   "source": [
    "loss, renderr = emb_loss.compute_loss(mesh)"
   ]
  },
  {
   "cell_type": "code",
   "execution_count": null,
   "metadata": {},
   "outputs": [],
   "source": []
  },
  {
   "cell_type": "code",
   "execution_count": null,
   "metadata": {},
   "outputs": [],
   "source": [
    "img_sym_loss, sym_triples = def_losses.image_symmetry_loss(mesh, [0,0,1], 3, device, False)\n",
    "print(img_sym_loss)"
   ]
  },
  {
   "cell_type": "code",
   "execution_count": null,
   "metadata": {},
   "outputs": [],
   "source": [
    "for trip_idx, sym_triple in enumerate(sym_triples):\n",
    "    print(trip_idx)\n",
    "    for i in range(3):\n",
    "        plt.imshow(sym_triple[i].cpu().numpy())\n",
    "        plt.show()"
   ]
  },
  {
   "cell_type": "code",
   "execution_count": null,
   "metadata": {},
   "outputs": [],
   "source": [
    "for trip_idx, sym_triple in enumerate(sym_triples):\n",
    "    print(trip_idx)\n",
    "    for i in range(3):\n",
    "        plt.imshow(sym_triple[i][ ..., :3].cpu().numpy())\n",
    "        plt.show()"
   ]
  },
  {
   "cell_type": "code",
   "execution_count": null,
   "metadata": {},
   "outputs": [],
   "source": []
  },
  {
   "cell_type": "code",
   "execution_count": null,
   "metadata": {},
   "outputs": [],
   "source": []
  }
 ],
 "metadata": {
  "kernelspec": {
   "display_name": "Python [conda env:standard_3d] *",
   "language": "python",
   "name": "conda-env-standard_3d-py"
  },
  "language_info": {
   "codemirror_mode": {
    "name": "ipython",
    "version": 3
   },
   "file_extension": ".py",
   "mimetype": "text/x-python",
   "name": "python",
   "nbconvert_exporter": "python",
   "pygments_lexer": "ipython3",
   "version": "3.6.9"
  }
 },
 "nbformat": 4,
 "nbformat_minor": 4
}
