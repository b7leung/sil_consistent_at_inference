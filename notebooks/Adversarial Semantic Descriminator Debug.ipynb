{
 "cells": [
  {
   "cell_type": "code",
   "execution_count": 1,
   "metadata": {
    "ExecuteTime": {
     "end_time": "2020-08-26T11:10:20.813832Z",
     "start_time": "2020-08-26T11:10:20.782604Z"
    }
   },
   "outputs": [],
   "source": [
    "%load_ext autoreload\n",
    "%autoreload 2\n",
    "notebook_fixed_dir = False"
   ]
  },
  {
   "cell_type": "code",
   "execution_count": 2,
   "metadata": {
    "ExecuteTime": {
     "end_time": "2020-08-26T11:10:21.391111Z",
     "start_time": "2020-08-26T11:10:21.380362Z"
    }
   },
   "outputs": [
    {
     "name": "stdout",
     "output_type": "stream",
     "text": [
      "/home/svcl-oowl/brandon/research/sil_consistent_at_inference\n"
     ]
    }
   ],
   "source": [
    "# this cell can only be called once\n",
    "import os\n",
    "if not notebook_fixed_dir:\n",
    "    os.chdir('..')\n",
    "    notebook_fixed_dir = True\n",
    "print(os.getcwd())"
   ]
  },
  {
   "cell_type": "code",
   "execution_count": 3,
   "metadata": {
    "ExecuteTime": {
     "end_time": "2020-08-26T11:10:24.979596Z",
     "start_time": "2020-08-26T11:10:22.318499Z"
    }
   },
   "outputs": [],
   "source": [
    "import pprint\n",
    "import pickle\n",
    "import glob\n",
    "import random\n",
    "from pathlib import Path\n",
    "\n",
    "import torch\n",
    "from tqdm import tqdm\n",
    "from PIL import Image\n",
    "import numpy as np\n",
    "from pytorch3d.renderer import (\n",
    "    look_at_view_transform\n",
    ")\n",
    "import matplotlib.pyplot as plt\n",
    "import pandas as pd\n",
    "import cv2\n",
    "import numpy as np\n",
    "\n",
    "from utils import utils\n",
    "import deformation.losses as def_losses\n",
    "from deformation.semantic_discriminator_loss import SemanticDiscriminatorLoss \n",
    "from semantic_discriminator_trainer import train\n",
    "from deformation.semantic_discriminator_dataset import SemanticDiscriminatorDataset\n",
    "from deformation.semantic_discriminator_net import SemanticDiscriminatorNetwork\n",
    "from adversarial.datasets import GenerationDataset, ShapenetRendersDataset\n"
   ]
  },
  {
   "cell_type": "code",
   "execution_count": 4,
   "metadata": {
    "ExecuteTime": {
     "end_time": "2020-08-26T11:10:25.051392Z",
     "start_time": "2020-08-26T11:10:24.981638Z"
    }
   },
   "outputs": [
    {
     "name": "stderr",
     "output_type": "stream",
     "text": [
      "/home/svcl-oowl/brandon/research/sil_consistent_at_inference/utils/utils.py:52: YAMLLoadWarning: calling yaml.load() without Loader=... is deprecated, as the default Loader is unsafe. Please read https://msg.pyyaml.org/load for full details.\n",
      "  cfg_special = yaml.load(f)\n",
      "/home/svcl-oowl/brandon/research/sil_consistent_at_inference/utils/utils.py:63: YAMLLoadWarning: calling yaml.load() without Loader=... is deprecated, as the default Loader is unsafe. Please read https://msg.pyyaml.org/load for full details.\n",
      "  cfg = yaml.load(f)\n"
     ]
    }
   ],
   "source": [
    "gpu_num = 0\n",
    "device = torch.device(\"cuda:\"+str(gpu_num))\n",
    "cfg_path = \"configs/default.yaml\"\n",
    "cfg = utils.load_config(cfg_path, \"configs/default.yaml\")"
   ]
  },
  {
   "cell_type": "code",
   "execution_count": 5,
   "metadata": {
    "ExecuteTime": {
     "end_time": "2020-08-26T11:10:36.077136Z",
     "start_time": "2020-08-26T11:10:35.762578Z"
    }
   },
   "outputs": [],
   "source": [
    "generation_dataset = GenerationDataset(cfg, device)\n",
    "generation_loader = torch.utils.data.DataLoader(\n",
    "    generation_dataset, batch_size=6, num_workers=0, shuffle=True)\n",
    "\n"
   ]
  },
  {
   "cell_type": "code",
   "execution_count": 21,
   "metadata": {
    "ExecuteTime": {
     "end_time": "2020-08-26T11:40:04.259324Z",
     "start_time": "2020-08-26T11:40:01.873722Z"
    }
   },
   "outputs": [
    {
     "name": "stdout",
     "output_type": "stream",
     "text": [
      "torch.Size([6, 3])\n",
      "torch.Size([6, 3, 224, 224])\n",
      "torch.Size([6, 1502, 3])\n"
     ]
    }
   ],
   "source": [
    "for gen_batch in generation_loader:\n",
    "    print(gen_batch[\"pose\"].shape)\n",
    "    print(gen_batch[\"image\"].shape)\n",
    "    print(gen_batch[\"mesh_verts\"].shape)\n",
    "    break"
   ]
  },
  {
   "cell_type": "code",
   "execution_count": null,
   "metadata": {},
   "outputs": [],
   "source": []
  },
  {
   "cell_type": "code",
   "execution_count": null,
   "metadata": {},
   "outputs": [],
   "source": []
  },
  {
   "cell_type": "code",
   "execution_count": null,
   "metadata": {},
   "outputs": [],
   "source": []
  },
  {
   "cell_type": "code",
   "execution_count": 14,
   "metadata": {
    "ExecuteTime": {
     "end_time": "2020-08-26T11:32:35.048041Z",
     "start_time": "2020-08-26T11:32:33.803984Z"
    }
   },
   "outputs": [],
   "source": [
    "shapenet_renders_dataset = ShapenetRendersDataset(cfg)\n",
    "shapenet_renders_loader = torch.utils.data.DataLoader(shapenet_renders_dataset, batch_size=6, num_workers=0, shuffle=True)"
   ]
  },
  {
   "cell_type": "code",
   "execution_count": 20,
   "metadata": {
    "ExecuteTime": {
     "end_time": "2020-08-26T11:34:09.786348Z",
     "start_time": "2020-08-26T11:34:03.106785Z"
    }
   },
   "outputs": [
    {
     "name": "stdout",
     "output_type": "stream",
     "text": [
      "tensor([[  1.1410,  18.9474, 341.0526],\n",
      "        [  1.2051,   0.0000, 284.2105],\n",
      "        [  1.0769,   9.4737, 113.6842],\n",
      "        [  1.0128, 123.1579,  94.7368],\n",
      "        [  0.8846,  94.7368, 132.6316],\n",
      "        [  1.0769, 142.1053, 303.1579]])\n",
      "torch.Size([6, 3])\n",
      "torch.Size([6, 3, 224, 224])\n",
      "torch.Size([6, 1502, 3])\n",
      "torch.Size([6, 3, 224, 224])\n"
     ]
    }
   ],
   "source": [
    "generation_iter = iter(generation_loader)\n",
    "shapenet_renders_iter = iter(shapenet_renders_loader)\n",
    "for batch_idx in range(3):\n",
    "    gen_batch = next(generation_iter)\n",
    "    print(gen_batch[\"pose\"])\n",
    "    print(gen_batch[\"pose\"].shape)\n",
    "    print(gen_batch[\"image\"].shape)\n",
    "    print(gen_batch[\"mesh_verts\"].shape)\n",
    "    real_render_batch = next(shapenet_renders_iter)\n",
    "    print(real_render_batch.shape)\n",
    "    break"
   ]
  },
  {
   "cell_type": "code",
   "execution_count": null,
   "metadata": {},
   "outputs": [],
   "source": [
    "tensor([[  1.2692, 142.1053, 360.0000],\n",
    "        [  1.0769, 142.1053,   0.0000],\n",
    "        [  1.0128, 132.6316, 227.3684],\n",
    "        [  1.2051, 142.1053, 322.1053],\n",
    "        [  1.0769, 151.5789,  56.8421],\n",
    "        [  1.2051,   9.4737, 322.1053]])"
   ]
  },
  {
   "cell_type": "code",
   "execution_count": null,
   "metadata": {},
   "outputs": [],
   "source": []
  },
  {
   "cell_type": "code",
   "execution_count": null,
   "metadata": {},
   "outputs": [],
   "source": []
  }
 ],
 "metadata": {
  "kernelspec": {
   "display_name": "Python [conda env:standard] *",
   "language": "python",
   "name": "conda-env-standard-py"
  },
  "language_info": {
   "codemirror_mode": {
    "name": "ipython",
    "version": 3
   },
   "file_extension": ".py",
   "mimetype": "text/x-python",
   "name": "python",
   "nbconvert_exporter": "python",
   "pygments_lexer": "ipython3",
   "version": "3.6.9"
  }
 },
 "nbformat": 4,
 "nbformat_minor": 4
}
