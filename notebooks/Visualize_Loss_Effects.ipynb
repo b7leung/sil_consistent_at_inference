{
 "cells": [
  {
   "cell_type": "code",
   "execution_count": 1,
   "metadata": {
    "ExecuteTime": {
     "end_time": "2020-10-14T10:05:03.465624Z",
     "start_time": "2020-10-14T10:05:03.434880Z"
    }
   },
   "outputs": [],
   "source": [
    "%load_ext autoreload\n",
    "%autoreload 2\n",
    "notebook_fixed_dir = False"
   ]
  },
  {
   "cell_type": "code",
   "execution_count": 2,
   "metadata": {
    "ExecuteTime": {
     "end_time": "2020-10-14T10:05:04.413031Z",
     "start_time": "2020-10-14T10:05:04.401725Z"
    }
   },
   "outputs": [
    {
     "name": "stdout",
     "output_type": "stream",
     "text": [
      "/home/svcl-oowl/brandon/research/sil_consistent_at_inference\n"
     ]
    }
   ],
   "source": [
    "# this cell can only be called once\n",
    "import os\n",
    "if not notebook_fixed_dir:\n",
    "    os.chdir('..')\n",
    "    notebook_fixed_dir = True\n",
    "print(os.getcwd())"
   ]
  },
  {
   "cell_type": "code",
   "execution_count": 3,
   "metadata": {
    "ExecuteTime": {
     "end_time": "2020-10-14T10:05:10.071951Z",
     "start_time": "2020-10-14T10:05:05.047696Z"
    }
   },
   "outputs": [],
   "source": [
    "import pprint\n",
    "import glob\n",
    "from pathlib import Path\n",
    "import pickle\n",
    "import random\n",
    "\n",
    "import torch\n",
    "from PIL import Image\n",
    "import numpy as np\n",
    "from pytorch3d.renderer import look_at_view_transform\n",
    "import matplotlib.pyplot as plt\n",
    "import trimesh\n",
    "from tqdm.autonotebook import tqdm\n",
    "from pytorch3d.io import save_obj\n",
    "import pandas as pd\n",
    "import imageio\n",
    "\n",
    "import postprocess_dataset\n",
    "from utils import utils, visualization_tools, nn_pose_est, eval_utils\n",
    "from evaluation import compute_iou_2d, compute_iou_2d_given_pose, compute_iou_3d, compute_chamfer_L1, sample_points\n",
    "from utils.brute_force_pose_est import brute_force_estimate_pose, brute_force_estimate_dist\n",
    "from mesh_refiner import MeshRefiner"
   ]
  },
  {
   "cell_type": "code",
   "execution_count": 26,
   "metadata": {
    "ExecuteTime": {
     "end_time": "2020-10-14T11:00:53.980902Z",
     "start_time": "2020-10-14T11:00:53.809313Z"
    },
    "code_folding": [
     29
    ]
   },
   "outputs": [],
   "source": [
    "configs_settings = [\n",
    "    {\"name\": \"full\",\n",
    "     \"cfg\": {\n",
    "         \"training\": {\n",
    "            \"semantic_dis_lam\": 0,\n",
    "            \"img_sym_num_azim\": 5,\n",
    "            \"img_sym_lam\": 200,\n",
    "            \"sil_lam\": 10,\n",
    "            \"vertex_sym_lam\": 1,\n",
    "            \"l2_lam\": 10,\n",
    "            \"lap_smoothness_lam\": 10,\n",
    "            \"normal_consistency_lam\": 10\n",
    "         },\n",
    "        \"refinement\":{\n",
    "            \"num_iterations\": 1000\n",
    "        }\n",
    "     }},\n",
    "   \n",
    "    {\"name\": \"sil_only\",\n",
    "     \"cfg\": {\n",
    "         \"training\": {\n",
    "            \"semantic_dis_lam\": 0,\n",
    "            \"img_sym_num_azim\": 0,\n",
    "            \"img_sym_lam\": 0,\n",
    "            \"sil_lam\": 10,\n",
    "            \"vertex_sym_lam\": 0.0,\n",
    "            \"l2_lam\": 0,\n",
    "            \"lap_smoothness_lam\": 0,\n",
    "            \"normal_consistency_lam\": 0\n",
    "         }\n",
    "     }},\n",
    "    \n",
    "    {\"name\": \"sil\",\n",
    "     \"cfg\": {\n",
    "         \"training\": {\n",
    "            \"semantic_dis_lam\": 0,\n",
    "            \"img_sym_num_azim\": 0,\n",
    "            \"img_sym_lam\": 0,\n",
    "            \"sil_lam\": 10,\n",
    "            \"vertex_sym_lam\": 0.0,\n",
    "            \"l2_lam\": 10,\n",
    "            \"lap_smoothness_lam\": 0,\n",
    "            \"normal_consistency_lam\": 0\n",
    "         }\n",
    "     }},\n",
    "    \n",
    "    {\"name\": \"sil_smooth\",\n",
    "     \"cfg\": {\n",
    "         \"training\": {\n",
    "            \"semantic_dis_lam\": 0,\n",
    "            \"img_sym_num_azim\": 0,\n",
    "            \"img_sym_lam\": 0,\n",
    "            \"sil_lam\": 10,\n",
    "            \"vertex_sym_lam\": 0.0,\n",
    "            \"l2_lam\": 10,\n",
    "            \"lap_smoothness_lam\": 10,\n",
    "            \"normal_consistency_lam\": 10\n",
    "         }\n",
    "     }},\n",
    "    \n",
    "    {\"name\": \"sil_smooth_v_sym\",\n",
    "     \"cfg\": {\n",
    "         \"training\": {\n",
    "            \"semantic_dis_lam\": 0,\n",
    "            \"img_sym_num_azim\": 3,\n",
    "            \"img_sym_lam\": 0,\n",
    "            \"sil_lam\": 10,\n",
    "            \"vertex_sym_lam\": 1,\n",
    "            \"l2_lam\": 10,\n",
    "            \"lap_smoothness_lam\": 10,\n",
    "            \"normal_consistency_lam\": 10\n",
    "         },\n",
    "        \"refinement\":{\n",
    "            \"num_iterations\": 1000\n",
    "        }\n",
    "\n",
    "     }},    \n",
    "    \n",
    "    {\"name\": \"sil_smooth_i_sym\",\n",
    "     \"cfg\": {\n",
    "         \"training\": {\n",
    "            \"semantic_dis_lam\": 0,\n",
    "            \"img_sym_num_azim\": 5,\n",
    "            \"img_sym_lam\": 200,\n",
    "            \"sil_lam\": 10,\n",
    "            \"vertex_sym_lam\": 0.0,\n",
    "            \"l2_lam\": 10,\n",
    "            \"lap_smoothness_lam\": 10,\n",
    "            \"normal_consistency_lam\": 10\n",
    "         }\n",
    "     }}, \n",
    "    \n",
    "]"
   ]
  },
  {
   "cell_type": "code",
   "execution_count": 5,
   "metadata": {
    "ExecuteTime": {
     "end_time": "2020-10-14T10:06:16.697172Z",
     "start_time": "2020-10-14T10:06:16.524213Z"
    }
   },
   "outputs": [
    {
     "name": "stdout",
     "output_type": "stream",
     "text": [
      "data/input_images/pytorch3d_shapenet_renders/02691156/rgba/de5807cb73bcbbf18587e940b916a22f.png\n",
      "/home/svcl-oowl/brandon/research/occupancy_networks/out/pytorch3d_renders/02691156/generation/meshes/de5807cb73bcbbf18587e940b916a22f.obj\n",
      "{'azim': 188.92770385742188, 'dist': 1.0, 'elev': 40.0}\n"
     ]
    }
   ],
   "source": [
    "# pix3d occnet gt\n",
    "dataset = \"shapenet\"\n",
    "class_name = \"02691156\"\n",
    "instance = \"de5807cb73bcbbf18587e940b916a22f\"\n",
    "cfg_path = \"configs/final_refinement_params.yaml\"\n",
    "\n",
    "\n",
    "if dataset == \"pix3d\":\n",
    "    rec_dir_name = \"pix3d\"\n",
    "    img_dir_name = \"pix3d_images_processed_filtered\"\n",
    "else:\n",
    "    rec_dir_name = \"pytorch3d_renders\"\n",
    "    img_dir_name = \"pytorch3d_shapenet_renders\"\n",
    "input_img_dir = \"data/input_images/{}/{}/rgba\".format(img_dir_name, class_name)\n",
    "input_img_path = os.path.join(input_img_dir, \"{}.png\".format(instance))\n",
    "input_mesh_path = \"/home/svcl-oowl/brandon/research/occupancy_networks/out/{}/{}/generation/meshes/{}.obj\".format(rec_dir_name, class_name, instance)\n",
    "gt_pose_dict = pickle.load(open(os.path.join(input_img_dir, \"renders_camera_params.pt\"), \"rb\"))[instance]\n",
    "device = torch.device(\"cuda:0\")\n",
    "\n",
    "print(input_img_path)\n",
    "print(input_mesh_path)\n",
    "pprint.pprint(gt_pose_dict)"
   ]
  },
  {
   "cell_type": "code",
   "execution_count": 27,
   "metadata": {
    "ExecuteTime": {
     "end_time": "2020-10-14T11:07:35.756890Z",
     "start_time": "2020-10-14T11:00:58.570461Z"
    },
    "scrolled": false
   },
   "outputs": [
    {
     "name": "stdout",
     "output_type": "stream",
     "text": [
      "full\n"
     ]
    },
    {
     "data": {
      "application/vnd.jupyter.widget-view+json": {
       "model_id": "e0fc64b6a65c4f0080ed88e0dcc87e7a",
       "version_major": 2,
       "version_minor": 0
      },
      "text/plain": [
       "HBox(children=(FloatProgress(value=0.0, max=1000.0), HTML(value='')))"
      ]
     },
     "metadata": {},
     "output_type": "display_data"
    },
    {
     "name": "stdout",
     "output_type": "stream",
     "text": [
      "\n"
     ]
    },
    {
     "data": {
      "image/png": "[encoded data removed]",
      "text/plain": [
       "<Figure size 432x288 with 1 Axes>"
      ]
     },
     "metadata": {
      "needs_background": "light"
     },
     "output_type": "display_data"
    },
    {
     "data": {
      "image/png": "[encoded data removed]",
      "text/plain": [
       "<Figure size 1152x216 with 6 Axes>"
      ]
     },
     "metadata": {
      "needs_background": "light"
     },
     "output_type": "display_data"
    },
    {
     "name": "stdout",
     "output_type": "stream",
     "text": [
      "===========================================================================================\n"
     ]
    }
   ],
   "source": [
    "input_image = np.asarray(Image.open(input_img_path))\n",
    "mask = np.asarray(input_image)[:,:,3] > 0\n",
    "with torch.no_grad():\n",
    "    input_mesh = utils.load_untextured_mesh(input_mesh_path, device)\n",
    "elev = gt_pose_dict[\"elev\"]\n",
    "azim = gt_pose_dict[\"azim\"]\n",
    "_, _, dist, _, _ = brute_force_estimate_dist(input_mesh, mask, azim, elev, 40, device)\n",
    "\n",
    "#cfgs_to_use = [\"sil_only\", sil\", \"sil_smooth\", \"sil_smooth_i_sym\", sil_smooth_v_sym, \"full\"]\n",
    "cfgs_to_use = [\"full\"]\n",
    "\n",
    "for config_setting in configs_settings:\n",
    "    config_name = config_setting[\"name\"]\n",
    "    if config_name in cfgs_to_use:\n",
    "        print(config_name)\n",
    "        cfg = utils.load_config_dict(config_setting[\"cfg\"], \"configs/default.yaml\")\n",
    "        with torch.no_grad():\n",
    "            input_mesh = utils.load_untextured_mesh(input_mesh_path, device)\n",
    "\n",
    "        mesh_refiner = MeshRefiner(cfg, device)\n",
    "        refined_mesh, loss_info = mesh_refiner.refine_mesh(input_mesh, input_image, dist, elev, azim)\n",
    "        loss_info.plot.line(x='iteration', y='total_loss', title=\"{}\".format(instance))\n",
    "\n",
    "        visualization_tools.show_refinement_results(input_image, input_mesh, refined_mesh, dist, elev, azim, device)\n",
    "\n",
    "        print(\"===========================================================================================\")"
   ]
  },
  {
   "cell_type": "code",
   "execution_count": null,
   "metadata": {},
   "outputs": [],
   "source": []
  },
  {
   "cell_type": "code",
   "execution_count": null,
   "metadata": {},
   "outputs": [],
   "source": []
  },
  {
   "cell_type": "code",
   "execution_count": null,
   "metadata": {},
   "outputs": [],
   "source": []
  },
  {
   "cell_type": "code",
   "execution_count": null,
   "metadata": {},
   "outputs": [],
   "source": []
  }
 ],
 "metadata": {
  "kernelspec": {
   "display_name": "Python [conda env:standard] *",
   "language": "python",
   "name": "conda-env-standard-py"
  },
  "language_info": {
   "codemirror_mode": {
    "name": "ipython",
    "version": 3
   },
   "file_extension": ".py",
   "mimetype": "text/x-python",
   "name": "python",
   "nbconvert_exporter": "python",
   "pygments_lexer": "ipython3",
   "version": "3.6.9"
  }
 },
 "nbformat": 4,
 "nbformat_minor": 4
}
