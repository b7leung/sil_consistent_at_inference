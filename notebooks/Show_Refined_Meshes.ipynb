{
 "cells": [
  {
   "cell_type": "code",
   "execution_count": 1,
   "metadata": {
    "ExecuteTime": {
     "end_time": "2021-01-04T08:01:21.338470Z",
     "start_time": "2021-01-04T08:01:21.322938Z"
    }
   },
   "outputs": [
    {
     "name": "stdout",
     "output_type": "stream",
     "text": [
      "/home/svcl-oowl/brandon/research/CVPR_2021_REFINE/sil_consistent_at_inference\n"
     ]
    }
   ],
   "source": [
    "%load_ext autoreload\n",
    "%autoreload 2\n",
    "import os\n",
    "os.chdir('/home/svcl-oowl/brandon/research/CVPR_2021_REFINE/sil_consistent_at_inference')\n",
    "print(os.getcwd())"
   ]
  },
  {
   "cell_type": "code",
   "execution_count": 2,
   "metadata": {
    "ExecuteTime": {
     "end_time": "2021-01-04T08:01:26.384634Z",
     "start_time": "2021-01-04T08:01:21.939970Z"
    }
   },
   "outputs": [],
   "source": [
    "import pprint\n",
    "import glob\n",
    "from pathlib import Path\n",
    "import pickle\n",
    "import random\n",
    "\n",
    "import torch\n",
    "from PIL import Image\n",
    "import numpy as np\n",
    "from pytorch3d.renderer import look_at_view_transform\n",
    "import matplotlib.pyplot as plt\n",
    "import trimesh\n",
    "\n",
    "from utils import general_utils\n",
    "from utils import visualization_tools\n",
    "from utils.eval_utils import eval_metrics\n",
    "#from evaluation import compute_iou_2d, compute_iou_2d_given_pose, compute_iou_3d, compute_chamfer_L1"
   ]
  },
  {
   "cell_type": "code",
   "execution_count": 3,
   "metadata": {
    "ExecuteTime": {
     "end_time": "2021-01-04T08:01:26.437893Z",
     "start_time": "2021-01-04T08:01:26.386379Z"
    },
    "code_folding": []
   },
   "outputs": [],
   "source": [
    "# displays meshes at the predicted pose\n",
    "def show_meshes(input_dir_img, input_dir_mesh, refined_models_dir, gt_shapes_dict, device, only_show_instances=None, num_novel_view=3,\n",
    "                metrics_to_eval=[\"2d_iou_input\", \"2d_iou_multi\", \"3d_iou\",\"chamfer_L1\"], num_sample_points=900000):\n",
    "    \n",
    "\n",
    "    # combining all cached predicted poses\n",
    "    pred_poses_dict = {}\n",
    "    pred_pose_paths = list(Path(refined_models_dir).rglob('pred_poses.p'))\n",
    "    for pred_pose_path in pred_pose_paths:\n",
    "        curr_cache = pickle.load(open(pred_pose_path, \"rb\"))\n",
    "        pred_poses_dict = {**pred_poses_dict, **curr_cache}\n",
    "    \n",
    "    # getting paths of all processed meshes, keyed by instance name\n",
    "    processed_paths = list(Path(refined_models_dir).rglob('*.obj'))\n",
    "    processed_paths_dict = {}\n",
    "    for path in processed_paths:\n",
    "        instance_name = str(path).split('/')[-1][:-4]\n",
    "        if instance_name not in processed_paths_dict:\n",
    "            processed_paths_dict[instance_name] = [path]\n",
    "        else:\n",
    "            processed_paths_dict[instance_name].append(path)\n",
    "    \n",
    "    for instance_name in processed_paths_dict:\n",
    "        if only_show_instances is None or instance_name in only_show_instances:\n",
    "            for processed_mesh_path in processed_paths_dict[instance_name]:\n",
    "                print(processed_mesh_path)\n",
    "            \n",
    "                input_image = Image.open(os.path.join(input_dir_img, instance_name+\".png\"))\n",
    "                original_mesh_path = os.path.join(input_dir_mesh, instance_name+\".obj\")\n",
    "                with torch.no_grad():\n",
    "                    mesh_original = general_utils.load_untextured_mesh(original_mesh_path, device)\n",
    "                    mesh_processed = general_utils.load_untextured_mesh(processed_mesh_path, device)\n",
    "                \n",
    "                pred_dist = pred_poses_dict[instance_name]['dist']\n",
    "                pred_elev = pred_poses_dict[instance_name]['elev']\n",
    "                pred_azim = pred_poses_dict[instance_name]['azim']\n",
    "                \n",
    "                # computing performance metrics\n",
    "                if len(metrics_to_eval) > 0:\n",
    "                    mesh_original_trimesh = trimesh.load(original_mesh_path)\n",
    "                    mesh_processed_trimesh = trimesh.load(processed_mesh_path)\n",
    "                    \n",
    "                    gt_mesh_path = gt_shapes_dict[instance_name]\n",
    "                    with torch.no_grad():\n",
    "                        mesh_gt = general_utils.load_untextured_mesh(gt_mesh_path, device)\n",
    "                    mesh_gt_trimesh = trimesh.load(gt_mesh_path)\n",
    "                    \n",
    "                    metrics_dict_before, _ = eval_metrics(input_image, mesh_original_trimesh, mesh_original, mesh_gt_trimesh, mesh_gt,\n",
    "                                                          device, metrics_to_eval, pred_azim, pred_elev, pred_dist, num_sample_points=num_sample_points)\n",
    "                    metrics_dict_after, _ = eval_metrics(input_image, mesh_processed_trimesh, mesh_processed, mesh_gt_trimesh, mesh_gt,\n",
    "                                                         device, metrics_to_eval, pred_azim, pred_elev, pred_dist, num_sample_points=num_sample_points)\n",
    "                    \n",
    "                    print(\"Metrics before refinement -- {}\".format(metrics_dict_before))\n",
    "                    print(\"Metrics after refinement -- {}\".format(metrics_dict_after))\n",
    "                \n",
    "                visualization_tools.show_refinement_results(input_image, mesh_original, mesh_processed, pred_dist, pred_elev, pred_azim, device, num_novel_view)"
   ]
  },
  {
   "cell_type": "code",
   "execution_count": 16,
   "metadata": {
    "ExecuteTime": {
     "end_time": "2021-01-04T08:41:34.293697Z",
     "start_time": "2021-01-04T08:41:34.250683Z"
    }
   },
   "outputs": [],
   "source": [
    "# shapenet\n",
    "class_name = \"02691156\"\n",
    "gt_shapes_list_path = \"data/gt_shapes_path_lists/shapenet_{}_gt_shapes.lst\".format(class_name)\n",
    "#refinement_type = \"ablation_1\"\n",
    "#refinement_type = \"ablation_2\"\n",
    "#refinement_type = \"ablation_3\"\n",
    "#refinement_type = \"ablation_4\"\n",
    "refinement_type = \"gt_pose\"\n",
    "\n",
    "# regular\n",
    "input_dir_img = \"data/input_images/pytorch3d_shapenet_renders/{}/rgba\".format(class_name)\n",
    "# atlasnet\n",
    "#input_dir_mesh = \"/home/svcl-oowl/brandon/research/CVPR_2021_REFINE/AtlasNet/data/pytorch_3d_render_recs/{}\".format(class_name)\n",
    "#refined_models_dir = \"data/refinements/atlasnet/gt_pose/{}\".format(class_name)\n",
    "# pix2mesh\n",
    "#input_dir_mesh = \"/home/svcl-oowl/brandon/research/CVPR_2021_REFINE/Pixel2Mesh/rec_files/pytorch3d_shapenet_renders/{}/rgba\".format(class_name)\n",
    "#refined_models_dir = \"data/refinements/pix2mesh/gt_pose/{}\".format(class_name)\n",
    "# occnet\n",
    "input_dir_mesh = \"/home/svcl-oowl/brandon/research/CVPR_2021_REFINE/occupancy_networks/out/pytorch3d_renders/{}/generation/meshes\".format(class_name)\n",
    "#refined_models_dir = \"data/refinements/shapenet_occnet_refinements/{}/{}\".format(refinement_type, class_name)\n",
    "refined_models_dir = \"data/refinements/gan_shapenet_occnet_refinements/exp_01/{}\".format(class_name)\n",
    "\n",
    "\n",
    "# sym\n",
    "#input_dir_img  = \"data/input_images/asym_pytorch3d_shapenet_renders/{}/rgba\".format(class_name)\n",
    "#input_dir_mesh = \"/home/svcl-oowl/brandon/research/CVPR_2021_REFINE/occupancy_networks/out/asym_pytorch3d_renders/{}/generation/meshes\".format(class_name)\n",
    "#refined_models_dir = \"data/refinements/asym_shapenet_occnet_refinements/{}/{}\".format(refinement_type, class_name)\n",
    "\n",
    "\n",
    "# pix3d occnet gt\n",
    "#class_name = \"table\"\n",
    "#input_dir_mesh = \"/home/svcl-oowl/brandon/research/CVPR_2021_REFINE/occupancy_networks/out/pix3d/{}/generation/meshes\".format(class_name)\n",
    "#input_dir_img = \"data/input_images/pix3d_images_processed_filtered/{}/rgba\".format(class_name)\n",
    "#gt_shapes_list_path = \"data/gt_shapes_path_lists/pix3d_{}_gt_shapes.lst\".format(class_name)\n",
    "#refined_models_dir = \"data/refinements/pix3d_occnet_refinements/gt_pose/{}\".format(class_name)"
   ]
  },
  {
   "cell_type": "code",
   "execution_count": 12,
   "metadata": {
    "ExecuteTime": {
     "end_time": "2021-01-04T08:04:51.277224Z",
     "start_time": "2021-01-04T08:04:51.201165Z"
    }
   },
   "outputs": [],
   "source": [
    "device = torch.device(\"cuda:0\")\n",
    "gt_shapes_dict = {}\n",
    "with open(gt_shapes_list_path, 'r') as f:\n",
    "    f = f.read().split('\\n')\n",
    "    for line in f:\n",
    "        if line != \"\":\n",
    "            gt_shapes_dict[line.split(\" \")[0]] = line.split(\" \")[1]"
   ]
  },
  {
   "cell_type": "code",
   "execution_count": 14,
   "metadata": {
    "ExecuteTime": {
     "end_time": "2021-01-04T08:06:06.412716Z",
     "start_time": "2021-01-04T08:06:06.371422Z"
    }
   },
   "outputs": [],
   "source": [
    "instances = ['e118a2870622acaf65ba78ad9601cf1b', 'daabf4a2afac24c97eaf5bcc4a8beb17', 'ff529b9ad2d5c6abf7e98086e1ca9511', 'f3ece63fb46fb129eb71e9117b10dee6', 'd2b334ad08ac9857c3cf9ae716575390', 'e79b6815925c07acb0957d845ac33749', 'f68b7c3a1ed7506bedd9ab1253e1a9c4', 'f6096649f87c37f1af7c7ad2549a1b15', 'e767b27d6625f905e9af7c2087a87b0e', 'dae6ba7440a71e5152470de2774d6099', 'dec4d499ce2ff518dc732bd0305fe3a3', 'd18f361e22f7626b707cdefe012d0353', 'ebf1982ccb77cf7d4c37b9ce3a3de242', 'dd0e48963b73476f7fa93550ab8061c2', 'f495c500ef468ea781a172d69c52a28a', 'f0fe5f6030e999be3b9dbfb07aa21fc', 'ceb04c53d8aae1319fb4103277a6b93', 'cfb40e7b9990da99c2f927df125f5ce4', 'd0894aed032460fafebad4f49b26ec52', 'ce055b7a4cccc7e182db9fca4b68095']"
   ]
  },
  {
   "cell_type": "code",
   "execution_count": 9,
   "metadata": {
    "ExecuteTime": {
     "end_time": "2021-01-04T08:03:48.089344Z",
     "start_time": "2021-01-04T08:03:48.001500Z"
    }
   },
   "outputs": [
    {
     "name": "stdout",
     "output_type": "stream",
     "text": [
      "['e118a2870622acaf65ba78ad9601cf1b', 'daabf4a2afac24c97eaf5bcc4a8beb17', 'ff529b9ad2d5c6abf7e98086e1ca9511', 'f3ece63fb46fb129eb71e9117b10dee6', 'd2b334ad08ac9857c3cf9ae716575390', 'e79b6815925c07acb0957d845ac33749', 'f68b7c3a1ed7506bedd9ab1253e1a9c4', 'f6096649f87c37f1af7c7ad2549a1b15', 'e767b27d6625f905e9af7c2087a87b0e', 'dae6ba7440a71e5152470de2774d6099', 'dec4d499ce2ff518dc732bd0305fe3a3', 'd18f361e22f7626b707cdefe012d0353', 'ebf1982ccb77cf7d4c37b9ce3a3de242', 'dd0e48963b73476f7fa93550ab8061c2', 'f495c500ef468ea781a172d69c52a28a', 'f0fe5f6030e999be3b9dbfb07aa21fc', 'ceb04c53d8aae1319fb4103277a6b93', 'cfb40e7b9990da99c2f927df125f5ce4', 'd0894aed032460fafebad4f49b26ec52', 'ce055b7a4cccc7e182db9fca4b68095']\n"
     ]
    }
   ],
   "source": [
    "print(instances)"
   ]
  },
  {
   "cell_type": "code",
   "execution_count": 17,
   "metadata": {
    "ExecuteTime": {
     "end_time": "2021-01-04T08:41:49.312885Z",
     "start_time": "2021-01-04T08:41:40.985939Z"
    },
    "scrolled": false
   },
   "outputs": [
    {
     "name": "stdout",
     "output_type": "stream",
     "text": [
      "data/refinements/gan_shapenet_occnet_refinements/exp_01/02691156/batch_1_of_300/d18592d9615b01bbbc0909d98a1ff2b4.obj\n"
     ]
    },
    {
     "data": {
      "image/png": "[encoded data removed]",
      "text/plain": [
       "<Figure size 1152x216 with 6 Axes>"
      ]
     },
     "metadata": {
      "needs_background": "light"
     },
     "output_type": "display_data"
    },
    {
     "name": "stdout",
     "output_type": "stream",
     "text": [
      "data/refinements/gan_shapenet_occnet_refinements/exp_01/02691156/batch_1_of_300/d18f2aeae4146464bd46d022fd7d80aa.obj\n"
     ]
    },
    {
     "data": {
      "image/png": "[encoded data removed]",
      "text/plain": [
       "<Figure size 1152x216 with 6 Axes>"
      ]
     },
     "metadata": {
      "needs_background": "light"
     },
     "output_type": "display_data"
    },
    {
     "name": "stdout",
     "output_type": "stream",
     "text": [
      "data/refinements/gan_shapenet_occnet_refinements/exp_01/02691156/batch_1_of_300/d199612c22fe9313f4fb6842b3610149.obj\n"
     ]
    },
    {
     "data": {
      "image/png": "[encoded data removed]",
      "text/plain": [
       "<Figure size 1152x216 with 6 Axes>"
      ]
     },
     "metadata": {
      "needs_background": "light"
     },
     "output_type": "display_data"
    }
   ],
   "source": [
    "#instances = random.sample([str(path).split('/')[-1].replace('.obj',\"\") for path in list(Path(refined_models_dir).rglob('*.obj'))], 20)\n",
    "instances=None\n",
    "\n",
    "\n",
    "#m = [\"2d_iou_input\", \"2d_iou_multi\", \"3d_iou\",\"chamfer_L1\"]\n",
    "m = []\n",
    "show_meshes(input_dir_img, input_dir_mesh, refined_models_dir, gt_shapes_dict, device, only_show_instances=instances, metrics_to_eval=m, num_sample_points=500000)"
   ]
  },
  {
   "cell_type": "code",
   "execution_count": null,
   "metadata": {
    "ExecuteTime": {
     "end_time": "2020-09-29T02:44:45.089262Z",
     "start_time": "2020-09-29T02:43:33.530772Z"
    },
    "scrolled": false
   },
   "outputs": [],
   "source": [
    "# show training loss info\n",
    "# getting paths of all loss info pickled files\n",
    "input_dir_mesh = cfg['dataset']['input_dir_mesh']\n",
    "output_dir = \"{}_{}\".format(input_dir_mesh, exp_name)\n",
    "cached_loss_info_paths = list(Path(output_dir).rglob('loss_info.p'))\n",
    "\n",
    "for path in cached_loss_info_paths:\n",
    "    dataset_loss_info = pickle.load(open(path, \"rb\"))\n",
    "    for instance_name in dataset_loss_info:\n",
    "        loss_info = dataset_loss_info[instance_name]\n",
    "        loss_info.plot.line(x='iteration', y='total_loss', title=\"{}\".format(instance_name))\n",
    "        #loss_info.plot.line(x='iteration', y='sil_loss')\n",
    "        #loss_info.plot.line(x='iteration', y='img_sym_loss')\n",
    "        #loss_info.plot.line(x='iteration', y='vertex_sym_loss')\n",
    "        #loss_info.plot.line(x='iteration', y='l2_loss')\n",
    "        #loss_info.plot.line(x='iteration', y='lap_smoothness_loss')\n",
    "        #loss_info.plot.line(x='iteration', y='normal_consistency_loss')\n",
    "        #loss_info.plot.line(x='iteration', y='semantic_dis_loss')"
   ]
  },
  {
   "cell_type": "code",
   "execution_count": null,
   "metadata": {},
   "outputs": [],
   "source": []
  },
  {
   "cell_type": "code",
   "execution_count": null,
   "metadata": {},
   "outputs": [],
   "source": []
  },
  {
   "cell_type": "code",
   "execution_count": null,
   "metadata": {},
   "outputs": [],
   "source": []
  },
  {
   "cell_type": "code",
   "execution_count": null,
   "metadata": {},
   "outputs": [],
   "source": []
  },
  {
   "cell_type": "code",
   "execution_count": null,
   "metadata": {},
   "outputs": [],
   "source": []
  },
  {
   "cell_type": "code",
   "execution_count": null,
   "metadata": {},
   "outputs": [],
   "source": []
  },
  {
   "cell_type": "code",
   "execution_count": null,
   "metadata": {},
   "outputs": [],
   "source": []
  }
 ],
 "metadata": {
  "kernelspec": {
   "display_name": "Python [conda env:standard] *",
   "language": "python",
   "name": "conda-env-standard-py"
  },
  "language_info": {
   "codemirror_mode": {
    "name": "ipython",
    "version": 3
   },
   "file_extension": ".py",
   "mimetype": "text/x-python",
   "name": "python",
   "nbconvert_exporter": "python",
   "pygments_lexer": "ipython3",
   "version": "3.6.9"
  }
 },
 "nbformat": 4,
 "nbformat_minor": 4
}
