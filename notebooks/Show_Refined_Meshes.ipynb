{
 "cells": [
  {
   "cell_type": "code",
   "execution_count": 1,
   "metadata": {
    "ExecuteTime": {
     "end_time": "2020-10-15T10:35:46.325524Z",
     "start_time": "2020-10-15T10:35:46.311041Z"
    }
   },
   "outputs": [],
   "source": [
    "%load_ext autoreload\n",
    "%autoreload 2\n",
    "notebook_fixed_dir = False"
   ]
  },
  {
   "cell_type": "code",
   "execution_count": 2,
   "metadata": {
    "ExecuteTime": {
     "end_time": "2020-10-15T10:35:47.068883Z",
     "start_time": "2020-10-15T10:35:47.058348Z"
    }
   },
   "outputs": [
    {
     "name": "stdout",
     "output_type": "stream",
     "text": [
      "/home/svcl-oowl/brandon/research/sil_consistent_at_inference\n"
     ]
    }
   ],
   "source": [
    "# this cell can only be called once\n",
    "import os\n",
    "if not notebook_fixed_dir:\n",
    "    os.chdir('..')\n",
    "    notebook_fixed_dir = True\n",
    "print(os.getcwd())"
   ]
  },
  {
   "cell_type": "code",
   "execution_count": 3,
   "metadata": {
    "ExecuteTime": {
     "end_time": "2020-10-15T10:35:51.696594Z",
     "start_time": "2020-10-15T10:35:47.946777Z"
    }
   },
   "outputs": [],
   "source": [
    "import pprint\n",
    "import glob\n",
    "from pathlib import Path\n",
    "import pickle\n",
    "import random\n",
    "\n",
    "import torch\n",
    "from PIL import Image\n",
    "import numpy as np\n",
    "from pytorch3d.renderer import look_at_view_transform\n",
    "import matplotlib.pyplot as plt\n",
    "import trimesh\n",
    "\n",
    "import postprocess_dataset\n",
    "from utils import utils\n",
    "from utils import visualization_tools\n",
    "from utils.eval_utils import eval_metrics\n",
    "#from evaluation import compute_iou_2d, compute_iou_2d_given_pose, compute_iou_3d, compute_chamfer_L1"
   ]
  },
  {
   "cell_type": "code",
   "execution_count": 4,
   "metadata": {
    "ExecuteTime": {
     "end_time": "2020-10-15T10:35:51.744272Z",
     "start_time": "2020-10-15T10:35:51.699010Z"
    },
    "code_folding": []
   },
   "outputs": [],
   "source": [
    "# displays meshes at the predicted pose\n",
    "def show_meshes(input_dir_img, input_dir_mesh, refined_models_dir, gt_shapes_dict, device, only_show_instances=None, num_novel_view=3,\n",
    "                metrics_to_eval=[\"2d_iou_input\", \"2d_iou_multi\", \"3d_iou\",\"chamfer_L1\"], num_sample_points=900000):\n",
    "    \n",
    "\n",
    "    # combining all cached predicted poses\n",
    "    pred_poses_dict = {}\n",
    "    pred_pose_paths = list(Path(refined_models_dir).rglob('pred_poses.p'))\n",
    "    for pred_pose_path in pred_pose_paths:\n",
    "        curr_cache = pickle.load(open(pred_pose_path, \"rb\"))\n",
    "        pred_poses_dict = {**pred_poses_dict, **curr_cache}\n",
    "    \n",
    "    # getting paths of all processed meshes, keyed by instance name\n",
    "    processed_paths = list(Path(refined_models_dir).rglob('*.obj'))\n",
    "    processed_paths_dict = {}\n",
    "    for path in processed_paths:\n",
    "        instance_name = str(path).split('/')[-1][:-4]\n",
    "        if instance_name not in processed_paths_dict:\n",
    "            processed_paths_dict[instance_name] = [path]\n",
    "        else:\n",
    "            processed_paths_dict[instance_name].append(path)\n",
    "    \n",
    "    for instance_name in processed_paths_dict:\n",
    "        if only_show_instances is None or instance_name in only_show_instances:\n",
    "            for processed_mesh_path in processed_paths_dict[instance_name]:\n",
    "                print(processed_mesh_path)\n",
    "            \n",
    "                input_image = Image.open(os.path.join(input_dir_img, instance_name+\".png\"))\n",
    "                original_mesh_path = os.path.join(input_dir_mesh, instance_name+\".obj\")\n",
    "                with torch.no_grad():\n",
    "                    mesh_original = utils.load_untextured_mesh(original_mesh_path, device)\n",
    "                    mesh_processed = utils.load_untextured_mesh(processed_mesh_path, device)\n",
    "                mesh_original_trimesh = trimesh.load(original_mesh_path)\n",
    "                mesh_processed_trimesh = trimesh.load(processed_mesh_path)\n",
    "                \n",
    "                pred_dist = pred_poses_dict[instance_name]['dist']\n",
    "                pred_elev = pred_poses_dict[instance_name]['elev']\n",
    "                pred_azim = pred_poses_dict[instance_name]['azim']\n",
    "                \n",
    "                # computing performance metrics\n",
    "                if len(metrics_to_eval) > 0:\n",
    "                    gt_mesh_path = gt_shapes_dict[instance_name]\n",
    "                    with torch.no_grad():\n",
    "                        mesh_gt = utils.load_untextured_mesh(gt_mesh_path, device)\n",
    "                    mesh_gt_trimesh = trimesh.load(gt_mesh_path)\n",
    "                    \n",
    "                    metrics_dict_before, _ = eval_metrics(input_image, mesh_original_trimesh, mesh_original, mesh_gt_trimesh, mesh_gt,\n",
    "                                                          device, metrics_to_eval, pred_azim, pred_elev, pred_dist, num_sample_points=num_sample_points)\n",
    "                    metrics_dict_after, _ = eval_metrics(input_image, mesh_processed_trimesh, mesh_processed, mesh_gt_trimesh, mesh_gt,\n",
    "                                                         device, metrics_to_eval, pred_azim, pred_elev, pred_dist, num_sample_points=num_sample_points)\n",
    "                    \n",
    "                    print(\"Metrics before refinement -- {}\".format(metrics_dict_before))\n",
    "                    print(\"Metrics after refinement -- {}\".format(metrics_dict_after))\n",
    "                \n",
    "                visualization_tools.show_refinement_results(input_image, mesh_original, mesh_processed, pred_dist, pred_elev, pred_azim, device, num_novel_view)"
   ]
  },
  {
   "cell_type": "code",
   "execution_count": 5,
   "metadata": {
    "ExecuteTime": {
     "end_time": "2020-10-15T10:36:08.361599Z",
     "start_time": "2020-10-15T10:36:08.329863Z"
    }
   },
   "outputs": [
    {
     "name": "stdout",
     "output_type": "stream",
     "text": [
      "data/refinements/shapenet_occnet_refinements/gt_pose_backup_no_watertight/04256520\n"
     ]
    }
   ],
   "source": [
    "# pix3d occnet gt\n",
    "#class_name = \"chair\"\n",
    "#input_dir_mesh = \"/home/svcl-oowl/brandon/research/occupancy_networks/out/pix3d/{}/generation/meshes\".format(class_name)\n",
    "#input_dir_img = \"data/input_images/pix3d_images_processed_filtered/{}/rgba\".format(class_name)\n",
    "#gt_shapes_list_path = \"data/gt_shapes_path_lists/pix3d_{}_gt_shapes.lst\".format(class_name)\n",
    "#refined_models_dir = \"data/refinements/pix3d_occnet_refinements/gt_pose/{}\".format(class_name)\n",
    "\n",
    "# shapenet occnet gt\n",
    "class_name = \"04256520\"\n",
    "input_dir_mesh = \"/home/svcl-oowl/brandon/research/occupancy_networks/out/pytorch3d_renders/{}/generation/meshes\".format(class_name)\n",
    "input_dir_img = \"data/input_images/pytorch3d_shapenet_renders/{}/rgba\".format(class_name)\n",
    "gt_shapes_list_path = \"data/gt_shapes_path_lists/shapenet_{}_gt_shapes.lst\".format(class_name)\n",
    "refined_models_dir = \"data/refinements/shapenet_occnet_refinements/gt_pose/{}\".format(class_name)\n",
    "refined_models_dir = \"data/refinements/shapenet_occnet_refinements/gt_pose_backup_no_watertight/{}\".format(class_name)\n",
    "\n",
    "\n",
    "print(refined_models_dir)\n"
   ]
  },
  {
   "cell_type": "code",
   "execution_count": 6,
   "metadata": {
    "ExecuteTime": {
     "end_time": "2020-10-15T10:36:10.349109Z",
     "start_time": "2020-10-15T10:36:10.269636Z"
    }
   },
   "outputs": [],
   "source": [
    "device = torch.device(\"cuda:0\")\n",
    "gt_shapes_dict = {}\n",
    "with open(gt_shapes_list_path, 'r') as f:\n",
    "    f = f.read().split('\\n')\n",
    "    for line in f:\n",
    "        if line != \"\":\n",
    "            gt_shapes_dict[line.split(\" \")[0]] = line.split(\" \")[1]"
   ]
  },
  {
   "cell_type": "code",
   "execution_count": 9,
   "metadata": {
    "ExecuteTime": {
     "end_time": "2020-10-15T10:37:15.493066Z",
     "start_time": "2020-10-15T10:36:29.145622Z"
    },
    "scrolled": true
   },
   "outputs": [
    {
     "name": "stdout",
     "output_type": "stream",
     "text": [
      "data/refinements/shapenet_occnet_refinements/gt_pose_backup_no_watertight/04256520/batch_1_of_2/e233f53558015ba4f05a611b5fe35f32.obj\n"
     ]
    },
    {
     "name": "stderr",
     "output_type": "stream",
     "text": [
      "/home/svcl-oowl/brandon/research/sil_consistent_at_inference/evaluation.py:73: UserWarning: The given NumPy array is not writeable, and PyTorch does not support non-writeable tensors. This means you can write to the underlying (supposedly non-writeable) NumPy array using the tensor. You may want to copy the array to protect its data or make it writeable before converting it to a tensor. This type of warning will be suppressed for the rest of this program. (Triggered internally at  /opt/conda/conda-bld/pytorch_1595629427286/work/torch/csrc/utils/tensor_numpy.cpp:141.)\n",
      "  input_img_mask = torch.tensor(np.asarray(input_img))[:,:,3] > 0\n"
     ]
    },
    {
     "name": "stdout",
     "output_type": "stream",
     "text": [
      "Metrics before refinement -- {'2d_iou_input': 0.880754828453064, '2d_iou_multi': 0.684184526403745, '3d_iou': 0.7481732, 'chamfer_L1': 0.0006257027853280306}\n",
      "Metrics after refinement -- {'2d_iou_input': 0.5677756071090698, '2d_iou_multi': 0.5375789826114973, '3d_iou': 0.6303598, 'chamfer_L1': 0.029722191393375397}\n"
     ]
    },
    {
     "data": {
      "image/png": "[encoded data removed]",
      "text/plain": [
       "<Figure size 1152x216 with 6 Axes>"
      ]
     },
     "metadata": {
      "needs_background": "light"
     },
     "output_type": "display_data"
    }
   ],
   "source": [
    "instances = random.sample([str(path).split('/')[-1].replace('.obj',\"\") for path in list(Path(refined_models_dir).rglob('*.obj'))], 300)\n",
    "instances = [\"e233f53558015ba4f05a611b5fe35f32\"]\n",
    "m = [\"2d_iou_input\", \"2d_iou_multi\", \"3d_iou\",\"chamfer_L1\"]\n",
    "#m = []\n",
    "show_meshes(input_dir_img, input_dir_mesh, refined_models_dir, gt_shapes_dict, device, only_show_instances=instances, metrics_to_eval=m, num_sample_points=500000)"
   ]
  },
  {
   "cell_type": "code",
   "execution_count": null,
   "metadata": {
    "ExecuteTime": {
     "end_time": "2020-09-29T02:44:45.089262Z",
     "start_time": "2020-09-29T02:43:33.530772Z"
    },
    "scrolled": false
   },
   "outputs": [],
   "source": [
    "# show training loss info\n",
    "# getting paths of all loss info pickled files\n",
    "input_dir_mesh = cfg['dataset']['input_dir_mesh']\n",
    "output_dir = \"{}_{}\".format(input_dir_mesh, exp_name)\n",
    "cached_loss_info_paths = list(Path(output_dir).rglob('loss_info.p'))\n",
    "\n",
    "for path in cached_loss_info_paths:\n",
    "    dataset_loss_info = pickle.load(open(path, \"rb\"))\n",
    "    for instance_name in dataset_loss_info:\n",
    "        loss_info = dataset_loss_info[instance_name]\n",
    "        loss_info.plot.line(x='iteration', y='total_loss', title=\"{}\".format(instance_name))\n",
    "        #loss_info.plot.line(x='iteration', y='sil_loss')\n",
    "        #loss_info.plot.line(x='iteration', y='img_sym_loss')\n",
    "        #loss_info.plot.line(x='iteration', y='vertex_sym_loss')\n",
    "        #loss_info.plot.line(x='iteration', y='l2_loss')\n",
    "        #loss_info.plot.line(x='iteration', y='lap_smoothness_loss')\n",
    "        #loss_info.plot.line(x='iteration', y='normal_consistency_loss')\n",
    "        #loss_info.plot.line(x='iteration', y='semantic_dis_loss')"
   ]
  },
  {
   "cell_type": "code",
   "execution_count": null,
   "metadata": {},
   "outputs": [],
   "source": []
  },
  {
   "cell_type": "code",
   "execution_count": null,
   "metadata": {},
   "outputs": [],
   "source": []
  },
  {
   "cell_type": "code",
   "execution_count": null,
   "metadata": {},
   "outputs": [],
   "source": []
  },
  {
   "cell_type": "code",
   "execution_count": null,
   "metadata": {},
   "outputs": [],
   "source": []
  },
  {
   "cell_type": "code",
   "execution_count": null,
   "metadata": {},
   "outputs": [],
   "source": []
  },
  {
   "cell_type": "code",
   "execution_count": null,
   "metadata": {},
   "outputs": [],
   "source": []
  },
  {
   "cell_type": "code",
   "execution_count": null,
   "metadata": {},
   "outputs": [],
   "source": []
  }
 ],
 "metadata": {
  "kernelspec": {
   "display_name": "Python [conda env:standard] *",
   "language": "python",
   "name": "conda-env-standard-py"
  },
  "language_info": {
   "codemirror_mode": {
    "name": "ipython",
    "version": 3
   },
   "file_extension": ".py",
   "mimetype": "text/x-python",
   "name": "python",
   "nbconvert_exporter": "python",
   "pygments_lexer": "ipython3",
   "version": "3.6.9"
  }
 },
 "nbformat": 4,
 "nbformat_minor": 4
}
