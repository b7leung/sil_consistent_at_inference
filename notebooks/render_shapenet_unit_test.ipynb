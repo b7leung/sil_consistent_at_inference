{
 "cells": [
  {
   "cell_type": "code",
   "execution_count": 1,
   "metadata": {
    "ExecuteTime": {
     "end_time": "2020-08-14T02:15:50.892743Z",
     "start_time": "2020-08-14T02:15:50.872568Z"
    }
   },
   "outputs": [],
   "source": [
    "%load_ext autoreload\n",
    "%autoreload 2\n",
    "notebook_fixed_dir = False"
   ]
  },
  {
   "cell_type": "code",
   "execution_count": 2,
   "metadata": {
    "ExecuteTime": {
     "end_time": "2020-08-14T02:15:51.314685Z",
     "start_time": "2020-08-14T02:15:50.894542Z"
    }
   },
   "outputs": [
    {
     "name": "stdout",
     "output_type": "stream",
     "text": [
      "/data7/brandon/research/DA_MVR/sil_consistent_at_inference\n"
     ]
    }
   ],
   "source": [
    "# this cell can only be called once\n",
    "import os\n",
    "if not notebook_fixed_dir:\n",
    "    os.chdir('..')\n",
    "    notebook_fixed_dir = True\n",
    "print(os.getcwd())"
   ]
  },
  {
   "cell_type": "code",
   "execution_count": 3,
   "metadata": {
    "ExecuteTime": {
     "end_time": "2020-08-14T02:16:05.224613Z",
     "start_time": "2020-08-14T02:16:03.948608Z"
    }
   },
   "outputs": [],
   "source": [
    "import torch\n",
    "import matplotlib.pyplot as plt\n",
    "from pytorch3d.io import load_objs_as_meshes\n",
    "from pytorch3d.io import load_obj\n",
    "from pytorch3d.structures import Meshes\n",
    "from pytorch3d.renderer import Textures\n",
    "from pytorch3d.renderer import (\n",
    "    look_at_view_transform,\n",
    "    OpenGLPerspectiveCameras, \n",
    "    PointLights, \n",
    "    DirectionalLights, \n",
    "    Materials, \n",
    "    RasterizationSettings, \n",
    "    MeshRenderer, \n",
    "    MeshRasterizer,  \n",
    "    SoftPhongShader,\n",
    "    HardPhongShader,\n",
    "    SoftSilhouetteShader,\n",
    "    BlendParams\n",
    ")\n"
   ]
  },
  {
   "cell_type": "code",
   "execution_count": 4,
   "metadata": {
    "ExecuteTime": {
     "end_time": "2020-08-14T02:16:05.663994Z",
     "start_time": "2020-08-14T02:16:05.642005Z"
    }
   },
   "outputs": [],
   "source": [
    "# based on https://github.com/facebookresearch/pytorch3d/issues/51\n",
    "def load_untextured_mesh(mesh_path, device):\n",
    "    mesh = load_objs_as_meshes([mesh_path], device=device)\n",
    "    verts, faces_idx, _ = load_obj(mesh_path)\n",
    "    faces = faces_idx.verts_idx\n",
    "    # Initialize each vertex to be white in color\n",
    "    verts_rgb = torch.ones_like(verts)[None] # (1, V, 3)\n",
    "    textures = Textures(verts_rgb=verts_rgb.to(device))\n",
    "    mesh_no_texture = Meshes(\n",
    "        verts=[verts.to(device)],\n",
    "        faces=[faces.to(device)],\n",
    "        textures=textures\n",
    "        )\n",
    "    return mesh_no_texture"
   ]
  },
  {
   "cell_type": "code",
   "execution_count": 7,
   "metadata": {
    "ExecuteTime": {
     "end_time": "2020-08-14T02:17:25.284274Z",
     "start_time": "2020-08-14T02:17:25.090029Z"
    }
   },
   "outputs": [],
   "source": [
    "def render_mesh(mesh, R, T, device, img_size=512):\n",
    "    cameras = OpenGLPerspectiveCameras(device=device, R=R, T=T)\n",
    "    raster_settings = RasterizationSettings(\n",
    "        image_size=img_size, \n",
    "        blur_radius=0.0, \n",
    "        faces_per_pixel=1, \n",
    "    )\n",
    "    \n",
    "    #lights = PointLights(device=device, location=[[0.0, 5.0, -10.0]])\n",
    "    lights = PointLights(\n",
    "        device=device, \n",
    "        location=[[0.0, 5.0, -10.0]], \n",
    "        diffuse_color=((0, 0, 0),),\n",
    "        specular_color=((0, 0, 0),),\n",
    "    )\n",
    "    \n",
    "    renderer = MeshRenderer(\n",
    "        rasterizer=MeshRasterizer(\n",
    "            cameras=cameras, \n",
    "            raster_settings=raster_settings\n",
    "        ),\n",
    "        shader=SoftPhongShader(\n",
    "            device=device, \n",
    "            cameras=cameras,\n",
    "            lights=lights\n",
    "        )\n",
    "    )\n",
    "    rendered_images = renderer(mesh, cameras=cameras)\n",
    "    return rendered_images"
   ]
  },
  {
   "cell_type": "code",
   "execution_count": 10,
   "metadata": {
    "ExecuteTime": {
     "end_time": "2020-08-14T02:23:10.322967Z",
     "start_time": "2020-08-14T02:23:09.604659Z"
    }
   },
   "outputs": [
    {
     "data": {
      "text/plain": [
       "<matplotlib.image.AxesImage at 0x7f22105d3e80>"
      ]
     },
     "execution_count": 10,
     "metadata": {},
     "output_type": "execute_result"
    },
    {
     "data": {
      "image/png": "[encoded data removed]",
      "text/plain": [
       "<Figure size 432x288 with 1 Axes>"
      ]
     },
     "metadata": {
      "needs_background": "light"
     },
     "output_type": "display_data"
    }
   ],
   "source": [
    "obj_model_path = \"data/example_shapenet/03001627/1a74a83fa6d24b3cacd67ce2c72c02e/model.obj\"\n",
    "device = torch.device(\"cuda:1\")\n",
    "\n",
    "with torch.no_grad():\n",
    "    mesh = load_untextured_mesh(obj_model_path, device)\n",
    "    R, T = look_at_view_transform(1, 30, 45) \n",
    "    render = render_mesh(mesh, R, T, device)\n",
    "plt.imshow(render[0, ..., :3].cpu().numpy())\n"
   ]
  },
  {
   "cell_type": "code",
   "execution_count": null,
   "metadata": {},
   "outputs": [],
   "source": []
  },
  {
   "cell_type": "code",
   "execution_count": null,
   "metadata": {},
   "outputs": [],
   "source": []
  },
  {
   "cell_type": "code",
   "execution_count": null,
   "metadata": {},
   "outputs": [],
   "source": []
  }
 ],
 "metadata": {
  "kernelspec": {
   "display_name": "Python [conda env:standard_3d] *",
   "language": "python",
   "name": "conda-env-standard_3d-py"
  },
  "language_info": {
   "codemirror_mode": {
    "name": "ipython",
    "version": 3
   },
   "file_extension": ".py",
   "mimetype": "text/x-python",
   "name": "python",
   "nbconvert_exporter": "python",
   "pygments_lexer": "ipython3",
   "version": "3.6.9"
  }
 },
 "nbformat": 4,
 "nbformat_minor": 4
}
