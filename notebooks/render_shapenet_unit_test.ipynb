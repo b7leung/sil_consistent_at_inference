{
 "cells": [
  {
   "cell_type": "code",
   "execution_count": 3,
   "metadata": {
    "ExecuteTime": {
     "end_time": "2020-08-22T02:54:19.018463Z",
     "start_time": "2020-08-22T02:54:19.004339Z"
    }
   },
   "outputs": [],
   "source": [
    "%load_ext autoreload\n",
    "%autoreload 2\n",
    "notebook_fixed_dir = False"
   ]
  },
  {
   "cell_type": "code",
   "execution_count": 4,
   "metadata": {
    "ExecuteTime": {
     "end_time": "2020-08-22T02:54:19.729977Z",
     "start_time": "2020-08-22T02:54:19.718710Z"
    }
   },
   "outputs": [
    {
     "name": "stdout",
     "output_type": "stream",
     "text": [
      "/home/svcl-oowl/brandon/research/sil_consistent_at_inference\n"
     ]
    }
   ],
   "source": [
    "# this cell can only be called once\n",
    "import os\n",
    "if not notebook_fixed_dir:\n",
    "    os.chdir('..')\n",
    "    notebook_fixed_dir = True\n",
    "print(os.getcwd())"
   ]
  },
  {
   "cell_type": "code",
   "execution_count": 5,
   "metadata": {
    "ExecuteTime": {
     "end_time": "2020-08-22T02:54:22.064615Z",
     "start_time": "2020-08-22T02:54:20.861228Z"
    }
   },
   "outputs": [],
   "source": [
    "import torch\n",
    "import matplotlib.pyplot as plt\n",
    "from pytorch3d.io import load_objs_as_meshes\n",
    "from pytorch3d.io import load_obj\n",
    "from pytorch3d.structures import Meshes\n",
    "from pytorch3d.renderer import Textures\n",
    "from pytorch3d.renderer import (\n",
    "    look_at_view_transform,\n",
    "    OpenGLPerspectiveCameras, \n",
    "    PointLights, \n",
    "    DirectionalLights, \n",
    "    Materials, \n",
    "    RasterizationSettings, \n",
    "    MeshRenderer, \n",
    "    MeshRasterizer,  \n",
    "    SoftPhongShader,\n",
    "    HardPhongShader,\n",
    "    SoftSilhouetteShader,\n",
    "    BlendParams\n",
    ")\n"
   ]
  },
  {
   "cell_type": "code",
   "execution_count": 6,
   "metadata": {
    "ExecuteTime": {
     "end_time": "2020-08-22T02:54:22.368571Z",
     "start_time": "2020-08-22T02:54:22.349692Z"
    }
   },
   "outputs": [],
   "source": [
    "# based on https://github.com/facebookresearch/pytorch3d/issues/51\n",
    "def load_untextured_mesh(mesh_path, device):\n",
    "    mesh = load_objs_as_meshes([mesh_path], device=device)\n",
    "    verts, faces_idx, _ = load_obj(mesh_path)\n",
    "    faces = faces_idx.verts_idx\n",
    "    # Initialize each vertex to be white in color\n",
    "    verts_rgb = torch.ones_like(verts)[None] # (1, V, 3)\n",
    "    textures = Textures(verts_rgb=verts_rgb.to(device))\n",
    "    mesh_no_texture = Meshes(\n",
    "        verts=[verts.to(device)],\n",
    "        faces=[faces.to(device)],\n",
    "        textures=textures\n",
    "        )\n",
    "    return mesh_no_texture"
   ]
  },
  {
   "cell_type": "code",
   "execution_count": 7,
   "metadata": {
    "ExecuteTime": {
     "end_time": "2020-08-22T02:54:23.283130Z",
     "start_time": "2020-08-22T02:54:23.264017Z"
    }
   },
   "outputs": [],
   "source": [
    "def render_mesh(mesh, R, T, device, img_size=512, light_loc=[0.0, 5.0, -10.0]):\n",
    "    cameras = OpenGLPerspectiveCameras(device=device, R=R, T=T)\n",
    "    raster_settings = RasterizationSettings(\n",
    "        image_size=img_size, \n",
    "        blur_radius=0.0, \n",
    "        faces_per_pixel=1, \n",
    "    )\n",
    "    \n",
    "    lights = PointLights(device=device, location=[light_loc])\n",
    "    \n",
    "    renderer = MeshRenderer(\n",
    "        rasterizer=MeshRasterizer(\n",
    "            cameras=cameras, \n",
    "            raster_settings=raster_settings\n",
    "        ),\n",
    "        shader=SoftPhongShader(\n",
    "            device=device, \n",
    "            cameras=cameras,\n",
    "            lights=lights\n",
    "        )\n",
    "    )\n",
    "    rendered_images = renderer(mesh, cameras=cameras)\n",
    "    return rendered_images"
   ]
  },
  {
   "cell_type": "code",
   "execution_count": 21,
   "metadata": {
    "ExecuteTime": {
     "end_time": "2020-08-22T02:59:27.451676Z",
     "start_time": "2020-08-22T02:59:26.864618Z"
    }
   },
   "outputs": [
    {
     "data": {
      "text/plain": [
       "<matplotlib.image.AxesImage at 0x7f95c0744240>"
      ]
     },
     "execution_count": 21,
     "metadata": {},
     "output_type": "execute_result"
    },
    {
     "data": {
      "image/png": "[encoded data removed]",
      "text/plain": [
       "<Figure size 432x288 with 1 Axes>"
      ]
     },
     "metadata": {
      "needs_background": "light"
     },
     "output_type": "display_data"
    }
   ],
   "source": [
    "model_name = [\"1a74a83fa6d24b3cacd67ce2c72c02e\",\"1ac6531a337de85f2f7628d6bf38bcc4\", \"1b938d400e1a340b17b431cae0dd70ed\",\"ba45d6c491637dc5820018801b237b3d\", \"ed751e0c20f48b3226fc87e2982c8a2b\",\"ef4e47e54bfc685cb40f0ac0fb9a650d\", \"f3e0042ea11660d0ff2c92c2a4f65876\", \"f9cdefd31b167f95e8f8c11a24c52ebb\"]\n",
    "i=6\n",
    "obj_model_path = \"data/misc/example_shapenet/03001627/{}/model.obj\".format(model_name[i])\n",
    "#obj_model_path = \"data/misc/example_shapenet/03001627/{}/model_watertight.obj\".format(model_name[i])\n",
    "device = torch.device(\"cuda:0\")\n",
    "\n",
    "with torch.no_grad():\n",
    "    mesh = load_untextured_mesh(obj_model_path, device)\n",
    "    R, T = look_at_view_transform(1, 50, 55) \n",
    "    render = render_mesh(mesh, R, T, device, light_loc=[100,100,100.0])\n",
    "plt.imshow(render[0, ..., :3].cpu().numpy())\n"
   ]
  },
  {
   "cell_type": "code",
   "execution_count": 2,
   "metadata": {
    "ExecuteTime": {
     "end_time": "2020-08-26T00:38:06.180791Z",
     "start_time": "2020-08-26T00:38:06.177396Z"
    }
   },
   "outputs": [
    {
     "name": "stdout",
     "output_type": "stream",
     "text": [
      "-100\n"
     ]
    }
   ],
   "source": [
    "i=0\n",
    "for j in range(100): i-=1\n",
    "print(i)"
   ]
  },
  {
   "cell_type": "code",
   "execution_count": null,
   "metadata": {},
   "outputs": [],
   "source": []
  },
  {
   "cell_type": "code",
   "execution_count": null,
   "metadata": {},
   "outputs": [],
   "source": []
  }
 ],
 "metadata": {
  "kernelspec": {
   "display_name": "Python [conda env:standard] *",
   "language": "python",
   "name": "conda-env-standard-py"
  },
  "language_info": {
   "codemirror_mode": {
    "name": "ipython",
    "version": 3
   },
   "file_extension": ".py",
   "mimetype": "text/x-python",
   "name": "python",
   "nbconvert_exporter": "python",
   "pygments_lexer": "ipython3",
   "version": "3.6.9"
  }
 },
 "nbformat": 4,
 "nbformat_minor": 4
}
