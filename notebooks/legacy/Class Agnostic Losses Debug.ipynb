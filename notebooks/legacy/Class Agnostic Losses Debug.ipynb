{
 "cells": [
  {
   "cell_type": "code",
   "execution_count": 1,
   "metadata": {
    "ExecuteTime": {
     "end_time": "2020-08-24T09:17:14.518024Z",
     "start_time": "2020-08-24T09:17:14.503577Z"
    }
   },
   "outputs": [],
   "source": [
    "%load_ext autoreload\n",
    "%autoreload 2\n",
    "notebook_fixed_dir = False"
   ]
  },
  {
   "cell_type": "code",
   "execution_count": 2,
   "metadata": {
    "ExecuteTime": {
     "end_time": "2020-08-24T09:17:15.187112Z",
     "start_time": "2020-08-24T09:17:15.176140Z"
    }
   },
   "outputs": [
    {
     "name": "stdout",
     "output_type": "stream",
     "text": [
      "/home/svcl-oowl/brandon/research/sil_consistent_at_inference\n"
     ]
    }
   ],
   "source": [
    "# this cell can only be called once\n",
    "import os\n",
    "if not notebook_fixed_dir:\n",
    "    os.chdir('..')\n",
    "    notebook_fixed_dir = True\n",
    "print(os.getcwd())"
   ]
  },
  {
   "cell_type": "code",
   "execution_count": 3,
   "metadata": {
    "ExecuteTime": {
     "end_time": "2020-08-24T09:17:18.438304Z",
     "start_time": "2020-08-24T09:17:16.326263Z"
    }
   },
   "outputs": [],
   "source": [
    "import pprint\n",
    "\n",
    "import torch\n",
    "import pickle\n",
    "from tqdm import tqdm\n",
    "from PIL import Image\n",
    "import numpy as np\n",
    "from pytorch3d.renderer import (\n",
    "    look_at_view_transform\n",
    ")\n",
    "import matplotlib.pyplot as plt\n",
    "\n",
    "from utils import utils\n",
    "import deformation.losses as def_losses\n",
    "from deformation.semantic_discriminator_loss import SemanticDiscriminatorLoss \n",
    "from semantic_discriminator_trainer import train\n",
    "from deformation.semantic_discriminator_dataset import SemanticDiscriminatorDataset"
   ]
  },
  {
   "cell_type": "code",
   "execution_count": 4,
   "metadata": {
    "ExecuteTime": {
     "end_time": "2020-08-24T09:17:20.393884Z",
     "start_time": "2020-08-24T09:17:18.440057Z"
    }
   },
   "outputs": [
    {
     "name": "stdout",
     "output_type": "stream",
     "text": [
      "{'brute_force_pose_est': {'num_azims': 20, 'num_dists': 40, 'num_elevs': 20},\n",
      " 'dataset': {'input_dir_img': 'data/test_dataset_one',\n",
      "             'input_dir_mesh': 'data/test_dataset_one'},\n",
      " 'model': {'latent_dim_pointnet': 512, 'latent_dim_resnet': 256},\n",
      " 'semantic_dis_training': {'epochs': 10,\n",
      "                           'eval_every': 1,\n",
      "                           'fake_dataset_dir': 'data/semantic_dis_sil/fake_renders',\n",
      "                           'output_dir': 'out',\n",
      "                           'real_dataset_dir': 'data/semantic_dis_sil/real_renders'},\n",
      " 'training': {'img_sym_lam': 100,\n",
      "              'img_sym_num_azim': 1,\n",
      "              'l2_lam': 1,\n",
      "              'lap_lam': 10,\n",
      "              'learning_rate': 1e-05,\n",
      "              'normals_lam': 10,\n",
      "              'num_iterations': 600,\n",
      "              'semantic_dis_lam': 100,\n",
      "              'semantic_dis_num_render': 8,\n",
      "              'semantic_dis_weight_path': 'out/2020_08_24--06_45_44_dcgan_dis_drop8/weights_epoch_3.pt',\n",
      "              'sil_lam': 5,\n",
      "              'vertex_sym_lam': 0.1}}\n"
     ]
    },
    {
     "name": "stderr",
     "output_type": "stream",
     "text": [
      "/home/svcl-oowl/brandon/research/sil_consistent_at_inference/utils/utils.py:52: YAMLLoadWarning: calling yaml.load() without Loader=... is deprecated, as the default Loader is unsafe. Please read https://msg.pyyaml.org/load for full details.\n",
      "  cfg_special = yaml.load(f)\n",
      "/home/svcl-oowl/brandon/research/sil_consistent_at_inference/utils/utils.py:63: YAMLLoadWarning: calling yaml.load() without Loader=... is deprecated, as the default Loader is unsafe. Please read https://msg.pyyaml.org/load for full details.\n",
      "  cfg = yaml.load(f)\n"
     ]
    }
   ],
   "source": [
    "gpu_num = 0\n",
    "device = torch.device(\"cuda:\"+str(gpu_num))\n",
    "\n",
    "#mesh_path = \"data/test_dataset/0001old.obj\"\n",
    "mesh_path = \"data/test_dataset_one_processed/batch_1_of_1/0001old.obj\"\n",
    "with torch.no_grad():\n",
    "    mesh = utils.load_untextured_mesh(mesh_path, device)\n",
    "\n",
    "cfg_path = \"configs/testing.yaml\"\n",
    "cfg = utils.load_config(cfg_path,\"configs/default.yaml\")\n",
    "pprint.pprint(cfg)"
   ]
  },
  {
   "cell_type": "markdown",
   "metadata": {},
   "source": [
    "# Image Symmetry Loss"
   ]
  },
  {
   "cell_type": "code",
   "execution_count": null,
   "metadata": {
    "ExecuteTime": {
     "end_time": "2020-08-17T23:56:03.552146Z",
     "start_time": "2020-08-17T23:56:03.455091Z"
    }
   },
   "outputs": [],
   "source": [
    "sym_plane_normal = [0,0,1]\n",
    "num_azim = 1\n",
    "render_sil = False\n",
    "img_sym_loss, sym_triples = def_losses.image_symmetry_loss(mesh, sym_plane_normal, num_azim, device, render_sil)\n",
    "print(img_sym_loss)"
   ]
  },
  {
   "cell_type": "code",
   "execution_count": null,
   "metadata": {
    "ExecuteTime": {
     "end_time": "2020-08-17T23:56:05.826006Z",
     "start_time": "2020-08-17T23:56:05.281494Z"
    },
    "scrolled": false
   },
   "outputs": [],
   "source": [
    "img_names = {0:'R1', 1:'R1_flipped', 2:'R2'}\n",
    "for trip_idx, sym_triple in enumerate(sym_triples):\n",
    "    fig, ax = plt.subplots(nrows=1, ncols=3, squeeze=False)\n",
    "    for i in range(3):\n",
    "        if render_sil:\n",
    "            ax[0][i].imshow(sym_triple[i].cpu().numpy())\n",
    "        else:\n",
    "            ax[0][i].imshow(sym_triple[i][ ..., :3].cpu().numpy())\n",
    "        ax[0][i].xaxis.set_visible(False)\n",
    "        ax[0][i].yaxis.set_visible(False)\n",
    "        \n",
    "        ax[0][i].set_title(\"{}: {}\".format(trip_idx, img_names[i]))"
   ]
  },
  {
   "cell_type": "code",
   "execution_count": null,
   "metadata": {},
   "outputs": [],
   "source": []
  },
  {
   "cell_type": "code",
   "execution_count": null,
   "metadata": {},
   "outputs": [],
   "source": []
  }
 ],
 "metadata": {
  "kernelspec": {
   "display_name": "Python [conda env:standard] *",
   "language": "python",
   "name": "conda-env-standard-py"
  },
  "language_info": {
   "codemirror_mode": {
    "name": "ipython",
    "version": 3
   },
   "file_extension": ".py",
   "mimetype": "text/x-python",
   "name": "python",
   "nbconvert_exporter": "python",
   "pygments_lexer": "ipython3",
   "version": "3.6.9"
  }
 },
 "nbformat": 4,
 "nbformat_minor": 4
}
