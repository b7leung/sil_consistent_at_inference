{
 "cells": [
  {
   "cell_type": "code",
   "execution_count": 3,
   "metadata": {
    "ExecuteTime": {
     "end_time": "2021-01-20T00:59:53.382117Z",
     "start_time": "2021-01-20T00:59:53.361487Z"
    }
   },
   "outputs": [
    {
     "name": "stdout",
     "output_type": "stream",
     "text": [
      "The autoreload extension is already loaded. To reload it, use:\n",
      "  %reload_ext autoreload\n",
      "/home/svcl-oowl/brandon/research/CVPR_2021_REFINE/sil_consistent_at_inference\n"
     ]
    }
   ],
   "source": [
    "%load_ext autoreload\n",
    "%autoreload 2\n",
    "import os\n",
    "os.chdir('/home/svcl-oowl/brandon/research/CVPR_2021_REFINE/sil_consistent_at_inference')\n",
    "print(os.getcwd())"
   ]
  },
  {
   "cell_type": "code",
   "execution_count": 8,
   "metadata": {
    "ExecuteTime": {
     "end_time": "2021-01-20T01:01:40.089050Z",
     "start_time": "2021-01-20T01:01:40.069285Z"
    }
   },
   "outputs": [],
   "source": [
    "import pprint\n",
    "import pickle\n",
    "from pathlib import Path\n",
    "\n",
    "import torch\n",
    "from torch.nn import functional as F\n",
    "import torch.optim as optim\n",
    "from tqdm.autonotebook import tqdm\n",
    "import pandas as pd\n",
    "import numpy as np"
   ]
  },
  {
   "cell_type": "code",
   "execution_count": 17,
   "metadata": {
    "ExecuteTime": {
     "end_time": "2021-01-20T01:06:53.953601Z",
     "start_time": "2021-01-20T01:06:53.937784Z"
    }
   },
   "outputs": [],
   "source": [
    "class_name = \"02691156\"\n",
    "\n",
    "refined_meshes_dir = \"data/refinements/shapenet_occnet_refinements/bf_pose/{}\".format(class_name)\n",
    "gt_pose_path = \"../occupancy_networks/out/pytorch3d_renders/{}/generation/meshes/rec_camera_params.pt\".format(class_name)"
   ]
  },
  {
   "cell_type": "code",
   "execution_count": 20,
   "metadata": {
    "ExecuteTime": {
     "end_time": "2021-01-20T01:07:22.325168Z",
     "start_time": "2021-01-20T01:07:22.303792Z"
    }
   },
   "outputs": [
    {
     "name": "stdout",
     "output_type": "stream",
     "text": [
      "806\n",
      "809\n"
     ]
    }
   ],
   "source": [
    "# combining all cached predicted poses\n",
    "pred_poses_dict = {}\n",
    "pred_pose_paths = list(Path(refined_meshes_dir).rglob('pred_poses.p'))\n",
    "for pred_pose_path in pred_pose_paths:\n",
    "    curr_cache = pickle.load(open(pred_pose_path, \"rb\"))\n",
    "    pred_poses_dict = {**pred_poses_dict, **curr_cache}\n",
    "print(len(pred_poses_dict))\n",
    "\n",
    "# loading gt poses\n",
    "gt_poses_dict = pickle.load(open(gt_pose_path, \"rb\"))\n",
    "print(len(gt_poses_dict))"
   ]
  },
  {
   "cell_type": "code",
   "execution_count": 25,
   "metadata": {
    "ExecuteTime": {
     "end_time": "2021-01-20T01:09:03.797179Z",
     "start_time": "2021-01-20T01:09:03.772430Z"
    }
   },
   "outputs": [
    {
     "name": "stdout",
     "output_type": "stream",
     "text": [
      "e00d7bd590ac129bbc0909d98a1ff2b4\n",
      "{'azim': 303.15789794921875, 'elev': 113.68421173095703, 'dist': 1.2051281929016113}\n",
      "{'azim': 126.96815490722656, 'elev': 40.0, 'dist': 1.3333332538604736}\n",
      "\n",
      "\n",
      "e02485f093835f45c1b64d86df61366a\n",
      "{'azim': 189.47369384765625, 'elev': 151.57894897460938, 'dist': 1.0769230127334595}\n",
      "{'azim': 6.2313079833984375, 'elev': 40.0, 'dist': 1.2692307233810425}\n",
      "\n",
      "\n",
      "e025a1fc1bd71c2aacf77e718d93f3e1\n",
      "{'azim': 208.42105102539062, 'elev': 37.894737243652344, 'dist': 1.1410256624221802}\n",
      "{'azim': 221.05636596679688, 'elev': 40.0, 'dist': 1.2051281929016113}\n",
      "\n",
      "\n",
      "e028fd73515465da5e9e2656aff7dd5b\n",
      "{'azim': 113.68421173095703, 'elev': 161.05262756347656, 'dist': 1.0769230127334595}\n",
      "{'azim': 304.76025390625, 'elev': 40.0, 'dist': 1.2692307233810425}\n",
      "\n",
      "\n",
      "e033b6ad34586a86cc1c9e8218bfe7fc\n",
      "{'azim': 322.1052551269531, 'elev': 142.10525512695312, 'dist': 1.0769230127334595}\n",
      "{'azim': 146.42657470703125, 'elev': 40.0, 'dist': 1.1410256624221802}\n",
      "\n",
      "\n",
      "e037cb87e6cdcd76df39601c41fbe0ba\n",
      "{'azim': 303.15789794921875, 'elev': 142.10525512695312, 'dist': 1.2692307233810425}\n",
      "{'azim': 120.53510284423828, 'elev': 40.0, 'dist': 1.2692307233810425}\n",
      "\n",
      "\n",
      "e0385af10bddc6a0ca8607f540cc62ba\n",
      "{'azim': 322.1052551269531, 'elev': 18.947368621826172, 'dist': 2.038461446762085}\n",
      "{'azim': 99.4836654663086, 'elev': 40.0, 'dist': 1.0128204822540283}\n",
      "\n",
      "\n",
      "e039c9760ca026cc6aa3bf023a2b42a5\n",
      "{'azim': 113.68421173095703, 'elev': 37.894737243652344, 'dist': 1.2051281929016113}\n",
      "{'azim': 115.80648040771484, 'elev': 40.0, 'dist': 1.2051281929016113}\n",
      "\n",
      "\n",
      "e06c2333068e9bd0755d33896264181d\n",
      "{'azim': 75.78947448730469, 'elev': 37.894737243652344, 'dist': 0.9487179517745972}\n",
      "{'azim': 183.14224243164062, 'elev': 40.0, 'dist': 1.0769230127334595}\n",
      "\n",
      "\n",
      "e06d3e6c1fb4b208cb7c15fd62c3982e\n",
      "{'azim': 75.78947448730469, 'elev': 18.947368621826172, 'dist': 0.9487179517745972}\n",
      "{'azim': 65.19145202636719, 'elev': 40.0, 'dist': 1.1410256624221802}\n",
      "\n",
      "\n",
      "e08402fb1e5953a2a93f0f952e72609\n",
      "{'azim': 360.0, 'elev': 142.10525512695312, 'dist': 1.2692307233810425}\n",
      "{'azim': 176.42970275878906, 'elev': 40.0, 'dist': 1.2692307233810425}\n",
      "\n",
      "\n",
      "e08574959d2cb7c8f6cabb305f7d6d18\n",
      "{'azim': 322.1052551269531, 'elev': 9.473684310913086, 'dist': 0.5641025900840759}\n",
      "{'azim': 49.375755310058594, 'elev': 40.0, 'dist': 0.6282051205635071}\n",
      "\n",
      "\n",
      "e090eb003856ed12ffbd931fcaa69140\n",
      "{'azim': 341.0526428222656, 'elev': 28.421052932739258, 'dist': 1.2692307233810425}\n",
      "{'azim': 349.3293762207031, 'elev': 40.0, 'dist': 1.2692307233810425}\n",
      "\n",
      "\n",
      "e09c32b947e33f619ba010ddb4974fe\n",
      "{'azim': 151.57894897460938, 'elev': 56.842105865478516, 'dist': 1.3333332538604736}\n",
      "{'azim': 151.78492736816406, 'elev': 40.0, 'dist': 1.3333332538604736}\n",
      "\n",
      "\n",
      "e0a8ae255ed47518a847e990b54bf80c\n",
      "{'azim': 56.842105865478516, 'elev': 37.894737243652344, 'dist': 1.2051281929016113}\n",
      "{'azim': 58.145484924316406, 'elev': 40.0, 'dist': 1.2051281929016113}\n",
      "\n",
      "\n",
      "e0ad511aab31dfdb3e237dc81fd8be72\n",
      "{'azim': 56.842105865478516, 'elev': 9.473684310913086, 'dist': 0.7564102411270142}\n",
      "{'azim': 55.02092742919922, 'elev': 40.0, 'dist': 1.4615384340286255}\n",
      "\n",
      "\n"
     ]
    }
   ],
   "source": [
    "i = 0\n",
    "n = 15\n",
    "for instance in pred_poses_dict:\n",
    "    if instance in gt_poses_dict:\n",
    "        print(instance)\n",
    "        print(pred_poses_dict[instance])\n",
    "        print(gt_poses_dict[instance])\n",
    "        print('\\n')\n",
    "        i+=1\n",
    "    if i > n:\n",
    "        break"
   ]
  },
  {
   "cell_type": "code",
   "execution_count": null,
   "metadata": {},
   "outputs": [],
   "source": []
  },
  {
   "cell_type": "code",
   "execution_count": null,
   "metadata": {},
   "outputs": [],
   "source": []
  },
  {
   "cell_type": "code",
   "execution_count": null,
   "metadata": {},
   "outputs": [],
   "source": []
  },
  {
   "cell_type": "code",
   "execution_count": null,
   "metadata": {},
   "outputs": [],
   "source": []
  },
  {
   "cell_type": "code",
   "execution_count": null,
   "metadata": {},
   "outputs": [],
   "source": []
  }
 ],
 "metadata": {
  "kernelspec": {
   "display_name": "Python [conda env:standard] *",
   "language": "python",
   "name": "conda-env-standard-py"
  },
  "language_info": {
   "codemirror_mode": {
    "name": "ipython",
    "version": 3
   },
   "file_extension": ".py",
   "mimetype": "text/x-python",
   "name": "python",
   "nbconvert_exporter": "python",
   "pygments_lexer": "ipython3",
   "version": "3.6.9"
  }
 },
 "nbformat": 4,
 "nbformat_minor": 4
}
