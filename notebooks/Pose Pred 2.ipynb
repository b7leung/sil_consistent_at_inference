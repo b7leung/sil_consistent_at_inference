{
 "cells": [
  {
   "cell_type": "code",
   "execution_count": 3,
   "metadata": {
    "ExecuteTime": {
     "end_time": "2021-01-20T02:53:20.839045Z",
     "start_time": "2021-01-20T02:53:20.810244Z"
    }
   },
   "outputs": [
    {
     "name": "stdout",
     "output_type": "stream",
     "text": [
      "/home/svcl-oowl/brandon/research/CVPR_2021_REFINE/sil_consistent_at_inference\n"
     ]
    }
   ],
   "source": [
    "%load_ext autoreload\n",
    "%autoreload 2\n",
    "import os\n",
    "os.chdir('/home/svcl-oowl/brandon/research/CVPR_2021_REFINE/sil_consistent_at_inference')\n",
    "print(os.getcwd())"
   ]
  },
  {
   "cell_type": "code",
   "execution_count": 4,
   "metadata": {
    "ExecuteTime": {
     "end_time": "2021-01-20T02:53:22.086626Z",
     "start_time": "2021-01-20T02:53:21.286096Z"
    }
   },
   "outputs": [],
   "source": [
    "import pprint\n",
    "import pickle\n",
    "from pathlib import Path\n",
    "\n",
    "import torch\n",
    "from torch.nn import functional as F\n",
    "import torch.optim as optim\n",
    "from tqdm.autonotebook import tqdm\n",
    "import pandas as pd\n",
    "import numpy as np"
   ]
  },
  {
   "cell_type": "code",
   "execution_count": 5,
   "metadata": {
    "ExecuteTime": {
     "end_time": "2021-01-20T02:53:22.291667Z",
     "start_time": "2021-01-20T02:53:22.274302Z"
    }
   },
   "outputs": [],
   "source": [
    "class_name = \"02691156\"\n",
    "\n",
    "refined_meshes_dir = \"data/refinements/shapenet_occnet_refinements/bf_pose/{}\".format(class_name)\n",
    "gt_pose_path = \"../occupancy_networks/out/pytorch3d_renders/{}/generation/meshes/rec_camera_params.pt\".format(class_name)"
   ]
  },
  {
   "cell_type": "code",
   "execution_count": 6,
   "metadata": {
    "ExecuteTime": {
     "end_time": "2021-01-20T02:53:24.513432Z",
     "start_time": "2021-01-20T02:53:23.812018Z"
    }
   },
   "outputs": [
    {
     "name": "stdout",
     "output_type": "stream",
     "text": [
      "806\n",
      "809\n"
     ]
    }
   ],
   "source": [
    "# combining all cached predicted poses\n",
    "pred_poses_dict = {}\n",
    "pred_pose_paths = list(Path(refined_meshes_dir).rglob('pred_poses.p'))\n",
    "for pred_pose_path in pred_pose_paths:\n",
    "    curr_cache = pickle.load(open(pred_pose_path, \"rb\"))\n",
    "    pred_poses_dict = {**pred_poses_dict, **curr_cache}\n",
    "print(len(pred_poses_dict))\n",
    "\n",
    "# loading gt poses\n",
    "gt_poses_dict = pickle.load(open(gt_pose_path, \"rb\"))\n",
    "print(len(gt_poses_dict))"
   ]
  },
  {
   "cell_type": "code",
   "execution_count": 15,
   "metadata": {
    "ExecuteTime": {
     "end_time": "2021-01-20T02:54:39.272062Z",
     "start_time": "2021-01-20T02:54:39.253260Z"
    },
    "scrolled": true
   },
   "outputs": [],
   "source": [
    "azim_differences = []\n",
    "elev_differences = []\n",
    "\n",
    "for instance in pred_poses_dict:\n",
    "    if instance in gt_poses_dict:\n",
    "        azim_differences.append(abs(pred_poses_dict[instance][\"azim\"]-gt_poses_dict[instance][\"azim\"]))\n",
    "        elev_differences.append(abs(pred_poses_dict[instance][\"elev\"]-gt_poses_dict[instance][\"elev\"]))"
   ]
  },
  {
   "cell_type": "code",
   "execution_count": 24,
   "metadata": {
    "ExecuteTime": {
     "end_time": "2021-01-20T02:57:11.929869Z",
     "start_time": "2021-01-20T02:57:11.905544Z"
    }
   },
   "outputs": [
    {
     "name": "stdout",
     "output_type": "stream",
     "text": [
      "mean azim offset: 100.49656020027237 +/- 89.64883561349168\n",
      "mean elev offset: 55.455138741296814 +/- 44.73919496708383\n"
     ]
    }
   ],
   "source": [
    "print(\"mean azim offset: {} +/- {}\".format(np.mean(azim_differences), np.std(azim_differences)))\n",
    "print(\"mean elev offset: {} +/- {}\".format(np.mean(elev_differences), np.std(elev_differences)))"
   ]
  },
  {
   "cell_type": "code",
   "execution_count": null,
   "metadata": {},
   "outputs": [],
   "source": []
  },
  {
   "cell_type": "code",
   "execution_count": null,
   "metadata": {},
   "outputs": [],
   "source": []
  },
  {
   "cell_type": "code",
   "execution_count": null,
   "metadata": {},
   "outputs": [],
   "source": []
  },
  {
   "cell_type": "code",
   "execution_count": null,
   "metadata": {},
   "outputs": [],
   "source": []
  }
 ],
 "metadata": {
  "kernelspec": {
   "display_name": "Python [conda env:standard] *",
   "language": "python",
   "name": "conda-env-standard-py"
  },
  "language_info": {
   "codemirror_mode": {
    "name": "ipython",
    "version": 3
   },
   "file_extension": ".py",
   "mimetype": "text/x-python",
   "name": "python",
   "nbconvert_exporter": "python",
   "pygments_lexer": "ipython3",
   "version": "3.6.9"
  }
 },
 "nbformat": 4,
 "nbformat_minor": 4
}
