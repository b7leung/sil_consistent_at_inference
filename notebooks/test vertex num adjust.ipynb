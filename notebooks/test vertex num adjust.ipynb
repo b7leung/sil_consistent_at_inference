{
 "cells": [
  {
   "cell_type": "code",
   "execution_count": 1,
   "metadata": {
    "ExecuteTime": {
     "end_time": "2020-09-24T00:25:51.766691Z",
     "start_time": "2020-09-24T00:25:51.751924Z"
    }
   },
   "outputs": [],
   "source": [
    "%load_ext autoreload\n",
    "%autoreload 2\n",
    "notebook_fixed_dir = False"
   ]
  },
  {
   "cell_type": "code",
   "execution_count": 2,
   "metadata": {
    "ExecuteTime": {
     "end_time": "2020-09-24T00:25:52.381413Z",
     "start_time": "2020-09-24T00:25:52.370971Z"
    }
   },
   "outputs": [
    {
     "name": "stdout",
     "output_type": "stream",
     "text": [
      "/home/svcl-oowl/brandon/research/sil_consistent_at_inference\n"
     ]
    }
   ],
   "source": [
    "# this cell can only be called once\n",
    "import os\n",
    "if not notebook_fixed_dir:\n",
    "    os.chdir('..')\n",
    "    notebook_fixed_dir = True\n",
    "print(os.getcwd())"
   ]
  },
  {
   "cell_type": "code",
   "execution_count": 3,
   "metadata": {
    "ExecuteTime": {
     "end_time": "2020-09-24T00:25:56.116173Z",
     "start_time": "2020-09-24T00:25:53.443444Z"
    }
   },
   "outputs": [],
   "source": [
    "import pprint\n",
    "import glob\n",
    "from pathlib import Path\n",
    "import pickle\n",
    "\n",
    "import torch\n",
    "from PIL import Image\n",
    "import numpy as np\n",
    "from pytorch3d.renderer import (\n",
    "    look_at_view_transform\n",
    ")\n",
    "import matplotlib.pyplot as plt\n",
    "import trimesh\n",
    "import random\n",
    "\n",
    "import postprocess_dataset\n",
    "from utils import utils\n",
    "from evaluation import compute_iou_2d, compute_iou_2d_given_pose, compute_iou_3d, compute_chamfer_L1"
   ]
  },
  {
   "cell_type": "code",
   "execution_count": 11,
   "metadata": {
    "ExecuteTime": {
     "end_time": "2020-09-24T00:26:44.720193Z",
     "start_time": "2020-09-24T00:26:44.541135Z"
    }
   },
   "outputs": [],
   "source": [
    "mesh_path = \"notebooks/vertex_adjust/0214.obj\"\n",
    "device = torch.device(\"cuda:0\")\n",
    "with torch.no_grad():\n",
    "    mesh = utils.load_untextured_mesh(mesh_path, device)"
   ]
  },
  {
   "cell_type": "code",
   "execution_count": 34,
   "metadata": {
    "ExecuteTime": {
     "end_time": "2020-09-24T00:54:56.087663Z",
     "start_time": "2020-09-24T00:54:56.028475Z"
    }
   },
   "outputs": [
    {
     "name": "stdout",
     "output_type": "stream",
     "text": [
      "1505\n",
      "1506\n",
      "1507\n",
      "1508\n",
      "1509\n",
      "1510\n",
      "1511\n",
      "1512\n",
      "1513\n",
      "1514\n",
      "1515\n",
      "1516\n",
      "1517\n",
      "1518\n",
      "1519\n",
      "1520\n",
      "1521\n",
      "1522\n",
      "1523\n",
      "1524\n",
      "1525\n",
      "1526\n",
      "1527\n",
      "1528\n",
      "1529\n",
      "1530\n",
      "1531\n",
      "1532\n",
      "1533\n",
      "1534\n",
      "1535\n",
      "1536\n",
      "1537\n",
      "1538\n",
      "1539\n",
      "1540\n",
      "1541\n",
      "1542\n",
      "1543\n",
      "1544\n",
      "1545\n",
      "1546\n",
      "1547\n",
      "1548\n",
      "1549\n",
      "1550\n"
     ]
    }
   ],
   "source": [
    "mesh_adjusted = utils.reduce_num_vertices(mesh, 1550)"
   ]
  },
  {
   "cell_type": "code",
   "execution_count": 33,
   "metadata": {
    "ExecuteTime": {
     "end_time": "2020-09-24T00:54:54.142958Z",
     "start_time": "2020-09-24T00:54:54.048648Z"
    }
   },
   "outputs": [
    {
     "name": "stdout",
     "output_type": "stream",
     "text": [
      "tensor([[0.8543, 0.0886, 0.9164],\n",
      "        [0.0718, 0.1023, 0.6579],\n",
      "        [0.7673, 0.0710, 0.5953],\n",
      "        [0.2233, 0.2703, 0.2457],\n",
      "        [0.6052, 0.7575, 0.8435],\n",
      "        [0.8130, 0.3578, 0.5551],\n",
      "        [0.6388, 0.4611, 0.7862]])\n",
      "tensor([[0.0718, 0.1023, 0.6579],\n",
      "        [0.7673, 0.0710, 0.5953],\n",
      "        [0.2233, 0.2703, 0.2457],\n",
      "        [0.6052, 0.7575, 0.8435],\n",
      "        [0.8130, 0.3578, 0.5551],\n",
      "        [0.6388, 0.4611, 0.7862]])\n"
     ]
    }
   ],
   "source": [
    "temp = torch.rand((7,3))\n",
    "print(temp)\n",
    "print(utils.remove_row(temp, 0))"
   ]
  },
  {
   "cell_type": "code",
   "execution_count": null,
   "metadata": {},
   "outputs": [],
   "source": []
  },
  {
   "cell_type": "code",
   "execution_count": null,
   "metadata": {},
   "outputs": [],
   "source": []
  },
  {
   "cell_type": "code",
   "execution_count": null,
   "metadata": {},
   "outputs": [],
   "source": []
  },
  {
   "cell_type": "code",
   "execution_count": null,
   "metadata": {},
   "outputs": [],
   "source": []
  },
  {
   "cell_type": "code",
   "execution_count": null,
   "metadata": {},
   "outputs": [],
   "source": []
  }
 ],
 "metadata": {
  "kernelspec": {
   "display_name": "Python [conda env:standard] *",
   "language": "python",
   "name": "conda-env-standard-py"
  },
  "language_info": {
   "codemirror_mode": {
    "name": "ipython",
    "version": 3
   },
   "file_extension": ".py",
   "mimetype": "text/x-python",
   "name": "python",
   "nbconvert_exporter": "python",
   "pygments_lexer": "ipython3",
   "version": "3.6.9"
  }
 },
 "nbformat": 4,
 "nbformat_minor": 4
}
