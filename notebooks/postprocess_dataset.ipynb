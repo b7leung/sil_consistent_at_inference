{
 "cells": [
  {
   "cell_type": "code",
   "execution_count": 1,
   "metadata": {
    "ExecuteTime": {
     "end_time": "2020-08-18T04:39:55.873520Z",
     "start_time": "2020-08-18T04:39:55.853033Z"
    }
   },
   "outputs": [],
   "source": [
    "%load_ext autoreload\n",
    "%autoreload 2\n",
    "notebook_fixed_dir = False"
   ]
  },
  {
   "cell_type": "code",
   "execution_count": 2,
   "metadata": {
    "ExecuteTime": {
     "end_time": "2020-08-18T04:39:56.634181Z",
     "start_time": "2020-08-18T04:39:56.619221Z"
    }
   },
   "outputs": [
    {
     "name": "stdout",
     "output_type": "stream",
     "text": [
      "/home/svcl-oowl/brandon/research/sil_consistent_at_inference\n"
     ]
    }
   ],
   "source": [
    "# this cell can only be called once\n",
    "import os\n",
    "if not notebook_fixed_dir:\n",
    "    os.chdir('..')\n",
    "    notebook_fixed_dir = True\n",
    "print(os.getcwd())"
   ]
  },
  {
   "cell_type": "code",
   "execution_count": 3,
   "metadata": {
    "ExecuteTime": {
     "end_time": "2020-08-18T04:40:05.265769Z",
     "start_time": "2020-08-18T04:39:57.850303Z"
    }
   },
   "outputs": [],
   "source": [
    "import pprint\n",
    "\n",
    "import torch\n",
    "import pickle\n",
    "from PIL import Image\n",
    "import numpy as np\n",
    "from pytorch3d.renderer import (\n",
    "    look_at_view_transform\n",
    ")\n",
    "import matplotlib.pyplot as plt\n",
    "import glob\n",
    "\n",
    "from pose_est import brute_force_pose_est\n",
    "import postprocess_dataset\n",
    "from utils import utils"
   ]
  },
  {
   "cell_type": "code",
   "execution_count": 4,
   "metadata": {
    "ExecuteTime": {
     "end_time": "2020-08-18T04:40:05.317361Z",
     "start_time": "2020-08-18T04:40:05.268029Z"
    }
   },
   "outputs": [],
   "source": [
    "# displays meshes at the predicted pose\n",
    "def show_meshes(input_dir_img, input_dir_mesh, meshes_group_name=\"\"):\n",
    "    pred_poses_path = os.path.join(input_dir_mesh, \"pred_poses.p\")\n",
    "    cached_pred_poses = pickle.load(open(pred_poses_path, \"rb\"))\n",
    "\n",
    "    for instance_name in cached_pred_poses:\n",
    "        input_image = Image.open(os.path.join(input_dir_img, instance_name+\".png\"))\n",
    "        with torch.no_grad():\n",
    "            if meshes_group_name == \"\":\n",
    "                mesh_filename_suffix = '.obj'\n",
    "            else:\n",
    "                mesh_filename_suffix = \"_{}.obj\".format(meshes_group_name)\n",
    "            mesh = utils.load_untextured_mesh(os.path.join(input_dir_mesh, instance_name+mesh_filename_suffix), device)\n",
    "\n",
    "        # rendering mesh at predicted pose\n",
    "        pred_dist = cached_pred_poses[instance_name]['dist']\n",
    "        pred_elev = cached_pred_poses[instance_name]['elev']\n",
    "        pred_azim = cached_pred_poses[instance_name]['azim']\n",
    "        R, T = look_at_view_transform(pred_dist, pred_elev, pred_azim) \n",
    "        mesh_rendered_at_pred_pose = utils.render_mesh(mesh, R, T, device)\n",
    "\n",
    "        # visualizing\n",
    "        plt.imshow(input_image)\n",
    "        plt.show()\n",
    "        plt.imshow(mesh_rendered_at_pred_pose[0, ..., :3].cpu().numpy())\n",
    "        plt.show()"
   ]
  },
  {
   "cell_type": "code",
   "execution_count": 5,
   "metadata": {
    "ExecuteTime": {
     "end_time": "2020-08-18T04:40:05.361348Z",
     "start_time": "2020-08-18T04:40:05.319612Z"
    }
   },
   "outputs": [],
   "source": [
    "input_dir_img = \"data/test_dataset/\"\n",
    "input_dir_mesh = \"data/test_dataset/\"\n",
    "cfg_path = \"configs/default.yaml\"\n",
    "gpu_num = 0\n",
    "device = torch.device(\"cuda:\"+str(gpu_num))\n",
    "experiment_name = \"num_azim_0\""
   ]
  },
  {
   "cell_type": "code",
   "execution_count": null,
   "metadata": {
    "ExecuteTime": {
     "start_time": "2020-08-18T04:40:06.710Z"
    },
    "scrolled": true
   },
   "outputs": [
    {
     "name": "stderr",
     "output_type": "stream",
     "text": [
      "/home/svcl-oowl/brandon/research/sil_consistent_at_inference/utils/utils.py:51: YAMLLoadWarning: calling yaml.load() without Loader=... is deprecated, as the default Loader is unsafe. Please read https://msg.pyyaml.org/load for full details.\n",
      "  cfg_special = yaml.load(f)\n"
     ]
    },
    {
     "data": {
      "application/vnd.jupyter.widget-view+json": {
       "model_id": "2a8e2e5f2f4a47439990191aa47dd61e",
       "version_major": 2,
       "version_minor": 0
      },
      "text/plain": [
       "HBox(children=(IntProgress(value=0, max=12), HTML(value='')))"
      ]
     },
     "metadata": {},
     "output_type": "display_data"
    },
    {
     "name": "stderr",
     "output_type": "stream",
     "text": [
      "Downloading: \"https://download.pytorch.org/models/resnet18-5c106cde.pth\" to /root/.cache/torch/hub/checkpoints/resnet18-5c106cde.pth\n"
     ]
    },
    {
     "data": {
      "application/vnd.jupyter.widget-view+json": {
       "model_id": "cbc67cae735e40eeb57fe03535b87ff8",
       "version_major": 2,
       "version_minor": 0
      },
      "text/plain": [
       "HBox(children=(IntProgress(value=0, max=46827520), HTML(value='')))"
      ]
     },
     "metadata": {},
     "output_type": "display_data"
    },
    {
     "data": {
      "application/vnd.jupyter.widget-view+json": {
       "model_id": "870787e6d073446c9b6c6f5e42c2cdb4",
       "version_major": 2,
       "version_minor": 0
      },
      "text/plain": [
       "HBox(children=(IntProgress(value=0, max=700), HTML(value='')))"
      ]
     },
     "metadata": {},
     "output_type": "display_data"
    },
    {
     "data": {
      "application/vnd.jupyter.widget-view+json": {
       "model_id": "9ace93e23f0d4e298f961074bbe8ca44",
       "version_major": 2,
       "version_minor": 0
      },
      "text/plain": [
       "HBox(children=(IntProgress(value=0, max=700), HTML(value='')))"
      ]
     },
     "metadata": {},
     "output_type": "display_data"
    },
    {
     "data": {
      "application/vnd.jupyter.widget-view+json": {
       "model_id": "a114c01a6790434784a0b56a990d439a",
       "version_major": 2,
       "version_minor": 0
      },
      "text/plain": [
       "HBox(children=(IntProgress(value=0, max=700), HTML(value='')))"
      ]
     },
     "metadata": {},
     "output_type": "display_data"
    }
   ],
   "source": [
    "dataset_loss_info = postprocess_dataset.postprocess_data(input_dir_img, input_dir_mesh, cfg_path, gpu_num, meshes_group_name=experiment_name, recompute_poses=False)"
   ]
  },
  {
   "cell_type": "code",
   "execution_count": null,
   "metadata": {
    "ExecuteTime": {
     "end_time": "2020-08-17T11:47:07.728174Z",
     "start_time": "2020-08-17T11:47:01.188249Z"
    },
    "scrolled": true
   },
   "outputs": [],
   "source": [
    "# show postprocessed meshes at predicted angle\n",
    "show_meshes(input_dir_img, input_dir_mesh, experiment_name)"
   ]
  },
  {
   "cell_type": "code",
   "execution_count": null,
   "metadata": {
    "ExecuteTime": {
     "end_time": "2020-08-17T11:47:16.004373Z",
     "start_time": "2020-08-17T11:47:12.925884Z"
    }
   },
   "outputs": [],
   "source": [
    "# show training loss info\n",
    "for instance_name in dataset_loss_info:\n",
    "    loss_info = dataset_loss_info[instance_name]\n",
    "    loss_info.plot.line(x='iter', y='total_loss', title=\"{}\".format(instance_name))\n",
    "    #loss_info.plot.line(x='iter', y='sil_loss')\n",
    "    #loss_info.plot.line(x='iter', y='img_sym_loss')\n",
    "    #loss_info.plot.line(x='iter', y='vertex_sym_loss')\n",
    "    #loss_info.plot.line(x='iter', y='l2_loss')\n",
    "    #loss_info.plot.line(x='iter', y='lap_smoothness_loss')\n",
    "    #loss_info.plot.line(x='iter', y='normal_consistency_loss')"
   ]
  },
  {
   "cell_type": "code",
   "execution_count": null,
   "metadata": {
    "ExecuteTime": {
     "end_time": "2020-08-17T11:47:26.435737Z",
     "start_time": "2020-08-17T11:47:18.900473Z"
    }
   },
   "outputs": [],
   "source": [
    "# show original meshes at predicted angle\n",
    "show_meshes(input_dir_img, input_dir_mesh)"
   ]
  },
  {
   "cell_type": "code",
   "execution_count": null,
   "metadata": {
    "ExecuteTime": {
     "end_time": "2020-08-18T03:00:16.980224Z",
     "start_time": "2020-08-18T03:00:15.529229Z"
    }
   },
   "outputs": [],
   "source": [
    "# delete all postprocessed meshes, reverting back to only original objs and imgs\n",
    "all_mesh_paths = glob.glob(os.path.join(input_dir_mesh, \"*.obj\"))\n",
    "for mesh_path in all_mesh_paths:\n",
    "    if '_' in mesh_path.split('/')[-1]:\n",
    "        os.remove(mesh_path)"
   ]
  },
  {
   "cell_type": "code",
   "execution_count": null,
   "metadata": {},
   "outputs": [],
   "source": []
  },
  {
   "cell_type": "code",
   "execution_count": null,
   "metadata": {},
   "outputs": [],
   "source": []
  },
  {
   "cell_type": "code",
   "execution_count": null,
   "metadata": {},
   "outputs": [],
   "source": []
  },
  {
   "cell_type": "code",
   "execution_count": null,
   "metadata": {},
   "outputs": [],
   "source": []
  },
  {
   "cell_type": "code",
   "execution_count": null,
   "metadata": {},
   "outputs": [],
   "source": []
  }
 ],
 "metadata": {
  "kernelspec": {
   "display_name": "Python [conda env:standard] *",
   "language": "python",
   "name": "conda-env-standard-py"
  },
  "language_info": {
   "codemirror_mode": {
    "name": "ipython",
    "version": 3
   },
   "file_extension": ".py",
   "mimetype": "text/x-python",
   "name": "python",
   "nbconvert_exporter": "python",
   "pygments_lexer": "ipython3",
   "version": "3.6.9"
  }
 },
 "nbformat": 4,
 "nbformat_minor": 4
}
