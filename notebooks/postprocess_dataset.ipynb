{
 "cells": [
  {
   "cell_type": "code",
   "execution_count": 1,
   "metadata": {
    "ExecuteTime": {
     "end_time": "2020-08-19T22:00:44.482487Z",
     "start_time": "2020-08-19T22:00:44.467831Z"
    }
   },
   "outputs": [],
   "source": [
    "%load_ext autoreload\n",
    "%autoreload 2\n",
    "notebook_fixed_dir = False"
   ]
  },
  {
   "cell_type": "code",
   "execution_count": 2,
   "metadata": {
    "ExecuteTime": {
     "end_time": "2020-08-19T22:00:45.146034Z",
     "start_time": "2020-08-19T22:00:45.134412Z"
    }
   },
   "outputs": [
    {
     "name": "stdout",
     "output_type": "stream",
     "text": [
      "/home/svcl-oowl/brandon/research/sil_consistent_at_inference\n"
     ]
    }
   ],
   "source": [
    "# this cell can only be called once\n",
    "import os\n",
    "if not notebook_fixed_dir:\n",
    "    os.chdir('..')\n",
    "    notebook_fixed_dir = True\n",
    "print(os.getcwd())"
   ]
  },
  {
   "cell_type": "code",
   "execution_count": 3,
   "metadata": {
    "ExecuteTime": {
     "end_time": "2020-08-19T22:00:50.028181Z",
     "start_time": "2020-08-19T22:00:46.080507Z"
    }
   },
   "outputs": [],
   "source": [
    "import pprint\n",
    "\n",
    "import torch\n",
    "import pickle\n",
    "from PIL import Image\n",
    "import numpy as np\n",
    "from pytorch3d.renderer import (\n",
    "    look_at_view_transform\n",
    ")\n",
    "import matplotlib.pyplot as plt\n",
    "import glob\n",
    "\n",
    "from pose_est import brute_force_pose_est\n",
    "import postprocess_dataset\n",
    "from utils import utils"
   ]
  },
  {
   "cell_type": "code",
   "execution_count": 4,
   "metadata": {
    "ExecuteTime": {
     "end_time": "2020-08-19T22:00:50.074158Z",
     "start_time": "2020-08-19T22:00:50.030511Z"
    }
   },
   "outputs": [],
   "source": [
    "# displays meshes at the predicted pose\n",
    "def show_meshes(input_dir_img, input_dir_mesh, meshes_group_name=\"\", use_meshes=None):\n",
    "    pred_poses_path = os.path.join(input_dir_mesh, \"pred_poses.p\")\n",
    "    cached_pred_poses = pickle.load(open(pred_poses_path, \"rb\"))\n",
    "\n",
    "    for instance_name in cached_pred_poses:\n",
    "        if use_meshes is None or instance_name in use_meshes:\n",
    "            input_image = Image.open(os.path.join(input_dir_img, instance_name+\".png\"))\n",
    "            with torch.no_grad():\n",
    "                mesh_original = utils.load_untextured_mesh(os.path.join(input_dir_mesh, instance_name+\".obj\"), device)\n",
    "                mesh_processed = utils.load_untextured_mesh(os.path.join(input_dir_mesh, instance_name+\"_{}.obj\".format(meshes_group_name)), device)\n",
    "\n",
    "            # rendering original and processed mesh at predicted pose\n",
    "            pred_dist = cached_pred_poses[instance_name]['dist']\n",
    "            pred_elev = cached_pred_poses[instance_name]['elev']\n",
    "            pred_azim = cached_pred_poses[instance_name]['azim']\n",
    "            R, T = look_at_view_transform(pred_dist, pred_elev, pred_azim)\n",
    "            mesh_original_render = utils.render_mesh(mesh_original, R, T, device)\n",
    "            mesh_processed_render = utils.render_mesh(mesh_processed, R, T, device)\n",
    "\n",
    "            # visualizing\n",
    "            print(instance_name)\n",
    "            fig, ax = plt.subplots(nrows=1, ncols=3, squeeze=False)\n",
    "            ax[0][0].imshow(input_image)\n",
    "            ax[0][0].xaxis.set_visible(False)\n",
    "            ax[0][0].yaxis.set_visible(False)\n",
    "\n",
    "            ax[0][1].imshow(mesh_original_render[0, ..., :3].cpu().numpy())\n",
    "            ax[0][1].xaxis.set_visible(False)\n",
    "            ax[0][1].yaxis.set_visible(False)\n",
    "\n",
    "            ax[0][2].imshow(mesh_processed_render[0, ..., :3].cpu().numpy())\n",
    "            ax[0][2].xaxis.set_visible(False)\n",
    "            ax[0][2].yaxis.set_visible(False)\n",
    "            plt.pause(0.05)"
   ]
  },
  {
   "cell_type": "code",
   "execution_count": 5,
   "metadata": {
    "ExecuteTime": {
     "end_time": "2020-08-19T22:00:50.949858Z",
     "start_time": "2020-08-19T22:00:50.915691Z"
    }
   },
   "outputs": [],
   "source": [
    "input_dir_img = \"data/test_dataset/\"\n",
    "input_dir_mesh = \"data/test_dataset/\"\n",
    "cfg_path = \"configs/default.yaml\"\n",
    "gpu_num = 0\n",
    "device = torch.device(\"cuda:\"+str(gpu_num))\n",
    "experiment_name = \"test\"\n",
    "use_meshes = None\n",
    "#use_meshes = ['3704']"
   ]
  },
  {
   "cell_type": "code",
   "execution_count": null,
   "metadata": {},
   "outputs": [],
   "source": []
  },
  {
   "cell_type": "code",
   "execution_count": 14,
   "metadata": {
    "ExecuteTime": {
     "end_time": "2020-08-19T10:28:12.440787Z",
     "start_time": "2020-08-19T10:24:52.790258Z"
    },
    "scrolled": true
   },
   "outputs": [
    {
     "name": "stderr",
     "output_type": "stream",
     "text": [
      "/home/svcl-oowl/brandon/research/sil_consistent_at_inference/utils/utils.py:51: YAMLLoadWarning: calling yaml.load() without Loader=... is deprecated, as the default Loader is unsafe. Please read https://msg.pyyaml.org/load for full details.\n",
      "  cfg_special = yaml.load(f)\n"
     ]
    },
    {
     "name": "stdout",
     "output_type": "stream",
     "text": [
      "{'model': {'latent_dim_pointnet': 512, 'latent_dim_resnet': 256},\n",
      " 'semantic_dis_training': {'epochs': 20,\n",
      "                           'eval_every': 5,\n",
      "                           'fake_dataset_dir': 'data/semantic_dis/fake_renders',\n",
      "                           'real_dataset_dir': 'data/semantic_dis/real_renders',\n",
      "                           'weight_path': 'deformation/semantic_dis_net_weights.pt'},\n",
      " 'training': {'img_sym_lam': 100,\n",
      "              'img_sym_num_azim': 1,\n",
      "              'l2_lam': 1,\n",
      "              'lap_lam': 10,\n",
      "              'learning_rate': 1e-05,\n",
      "              'normals_lam': 10,\n",
      "              'num_iterations': 600,\n",
      "              'semantic_dis_lam': 0,\n",
      "              'semantic_dis_num_render': 3,\n",
      "              'sil_lam': 20,\n",
      "              'vertex_sym_lam': 0.1}}\n"
     ]
    },
    {
     "data": {
      "application/vnd.jupyter.widget-view+json": {
       "model_id": "9f4563bae0db458d92eff67f58991b77",
       "version_major": 2,
       "version_minor": 0
      },
      "text/plain": [
       "HBox(children=(IntProgress(value=0, max=12), HTML(value='')))"
      ]
     },
     "metadata": {},
     "output_type": "display_data"
    },
    {
     "data": {
      "application/vnd.jupyter.widget-view+json": {
       "model_id": "622a10bb284c4d4ba5189035c2178324",
       "version_major": 2,
       "version_minor": 0
      },
      "text/plain": [
       "HBox(children=(IntProgress(value=0, max=600), HTML(value='')))"
      ]
     },
     "metadata": {},
     "output_type": "display_data"
    },
    {
     "data": {
      "application/vnd.jupyter.widget-view+json": {
       "model_id": "4c9262f23606407489e77014b7100f84",
       "version_major": 2,
       "version_minor": 0
      },
      "text/plain": [
       "HBox(children=(IntProgress(value=0, max=600), HTML(value='')))"
      ]
     },
     "metadata": {},
     "output_type": "display_data"
    },
    {
     "ename": "KeyboardInterrupt",
     "evalue": "",
     "output_type": "error",
     "traceback": [
      "\u001b[0;31m---------------------------------------------------------------------------\u001b[0m",
      "\u001b[0;31mKeyboardInterrupt\u001b[0m                         Traceback (most recent call last)",
      "\u001b[0;32m<ipython-input-14-4257971ecf72>\u001b[0m in \u001b[0;36m<module>\u001b[0;34m\u001b[0m\n\u001b[1;32m      1\u001b[0m dataset_loss_info = postprocess_dataset.postprocess_data(input_dir_img, input_dir_mesh, cfg_path, gpu_num, meshes_group_name=experiment_name,\n\u001b[0;32m----> 2\u001b[0;31m                                                          recompute_poses=False, meshes_to_render=use_meshes)\n\u001b[0m",
      "\u001b[0;32m/home/svcl-oowl/brandon/research/sil_consistent_at_inference/postprocess_dataset.py\u001b[0m in \u001b[0;36mpostprocess_data\u001b[0;34m(input_dir_img, input_dir_mesh, cfg_path, gpu_num, recompute_poses, meshes_group_name, meshes_to_render)\u001b[0m\n\u001b[1;32m     73\u001b[0m             \u001b[0mpred_azim\u001b[0m \u001b[0;34m=\u001b[0m \u001b[0mcached_pred_poses\u001b[0m\u001b[0;34m[\u001b[0m\u001b[0minstance_name\u001b[0m\u001b[0;34m]\u001b[0m\u001b[0;34m[\u001b[0m\u001b[0;34m'azim'\u001b[0m\u001b[0;34m]\u001b[0m\u001b[0;34m\u001b[0m\u001b[0;34m\u001b[0m\u001b[0m\n\u001b[1;32m     74\u001b[0m \u001b[0;34m\u001b[0m\u001b[0m\n\u001b[0;32m---> 75\u001b[0;31m             \u001b[0mcurr_refined_mesh\u001b[0m\u001b[0;34m,\u001b[0m \u001b[0mcurr_loss_info\u001b[0m \u001b[0;34m=\u001b[0m \u001b[0mrefiner\u001b[0m\u001b[0;34m.\u001b[0m\u001b[0mrefine_mesh\u001b[0m\u001b[0;34m(\u001b[0m\u001b[0mmesh\u001b[0m\u001b[0;34m,\u001b[0m \u001b[0minput_image\u001b[0m\u001b[0;34m,\u001b[0m \u001b[0mpred_dist\u001b[0m\u001b[0;34m,\u001b[0m \u001b[0mpred_elev\u001b[0m\u001b[0;34m,\u001b[0m \u001b[0mpred_azim\u001b[0m\u001b[0;34m)\u001b[0m\u001b[0;34m\u001b[0m\u001b[0;34m\u001b[0m\u001b[0m\n\u001b[0m\u001b[1;32m     76\u001b[0m             \u001b[0mloss_info\u001b[0m\u001b[0;34m[\u001b[0m\u001b[0minstance_name\u001b[0m\u001b[0;34m]\u001b[0m \u001b[0;34m=\u001b[0m \u001b[0mcurr_loss_info\u001b[0m\u001b[0;34m\u001b[0m\u001b[0;34m\u001b[0m\u001b[0m\n\u001b[1;32m     77\u001b[0m \u001b[0;34m\u001b[0m\u001b[0m\n",
      "\u001b[0;32m/home/svcl-oowl/brandon/research/sil_consistent_at_inference/mesh_refiner.py\u001b[0m in \u001b[0;36mrefine_mesh\u001b[0;34m(self, mesh, rgba_image, pred_dist, pred_elev, pred_azim, record_intermediate)\u001b[0m\n\u001b[1;32m    120\u001b[0m                           vertex_sym_loss*self.vertex_sym_lam + semantic_dis_loss*self.semantic_dis_lam)\n\u001b[1;32m    121\u001b[0m             \u001b[0mtotal_loss\u001b[0m\u001b[0;34m.\u001b[0m\u001b[0mbackward\u001b[0m\u001b[0;34m(\u001b[0m\u001b[0;34m)\u001b[0m\u001b[0;34m\u001b[0m\u001b[0;34m\u001b[0m\u001b[0m\n\u001b[0;32m--> 122\u001b[0;31m             \u001b[0moptimizer\u001b[0m\u001b[0;34m.\u001b[0m\u001b[0mstep\u001b[0m\u001b[0;34m(\u001b[0m\u001b[0;34m)\u001b[0m\u001b[0;34m\u001b[0m\u001b[0;34m\u001b[0m\u001b[0m\n\u001b[0m\u001b[1;32m    123\u001b[0m \u001b[0;34m\u001b[0m\u001b[0m\n\u001b[1;32m    124\u001b[0m             \u001b[0;31m# saving info\u001b[0m\u001b[0;34m\u001b[0m\u001b[0;34m\u001b[0m\u001b[0;34m\u001b[0m\u001b[0m\n",
      "\u001b[0;32m/opt/conda/envs/standard/lib/python3.6/site-packages/torch/autograd/grad_mode.py\u001b[0m in \u001b[0;36mdecorate_context\u001b[0;34m(*args, **kwargs)\u001b[0m\n\u001b[1;32m     13\u001b[0m         \u001b[0;32mdef\u001b[0m \u001b[0mdecorate_context\u001b[0m\u001b[0;34m(\u001b[0m\u001b[0;34m*\u001b[0m\u001b[0margs\u001b[0m\u001b[0;34m,\u001b[0m \u001b[0;34m**\u001b[0m\u001b[0mkwargs\u001b[0m\u001b[0;34m)\u001b[0m\u001b[0;34m:\u001b[0m\u001b[0;34m\u001b[0m\u001b[0;34m\u001b[0m\u001b[0m\n\u001b[1;32m     14\u001b[0m             \u001b[0;32mwith\u001b[0m \u001b[0mself\u001b[0m\u001b[0;34m:\u001b[0m\u001b[0;34m\u001b[0m\u001b[0;34m\u001b[0m\u001b[0m\n\u001b[0;32m---> 15\u001b[0;31m                 \u001b[0;32mreturn\u001b[0m \u001b[0mfunc\u001b[0m\u001b[0;34m(\u001b[0m\u001b[0;34m*\u001b[0m\u001b[0margs\u001b[0m\u001b[0;34m,\u001b[0m \u001b[0;34m**\u001b[0m\u001b[0mkwargs\u001b[0m\u001b[0;34m)\u001b[0m\u001b[0;34m\u001b[0m\u001b[0;34m\u001b[0m\u001b[0m\n\u001b[0m\u001b[1;32m     16\u001b[0m         \u001b[0;32mreturn\u001b[0m \u001b[0mdecorate_context\u001b[0m\u001b[0;34m\u001b[0m\u001b[0;34m\u001b[0m\u001b[0m\n\u001b[1;32m     17\u001b[0m \u001b[0;34m\u001b[0m\u001b[0m\n",
      "\u001b[0;32m/opt/conda/envs/standard/lib/python3.6/site-packages/torch/optim/adam.py\u001b[0m in \u001b[0;36mstep\u001b[0;34m(self, closure)\u001b[0m\n\u001b[1;32m     97\u001b[0m \u001b[0;34m\u001b[0m\u001b[0m\n\u001b[1;32m     98\u001b[0m                 \u001b[0;31m# Decay the first and second moment running average coefficient\u001b[0m\u001b[0;34m\u001b[0m\u001b[0;34m\u001b[0m\u001b[0;34m\u001b[0m\u001b[0m\n\u001b[0;32m---> 99\u001b[0;31m                 \u001b[0mexp_avg\u001b[0m\u001b[0;34m.\u001b[0m\u001b[0mmul_\u001b[0m\u001b[0;34m(\u001b[0m\u001b[0mbeta1\u001b[0m\u001b[0;34m)\u001b[0m\u001b[0;34m.\u001b[0m\u001b[0madd_\u001b[0m\u001b[0;34m(\u001b[0m\u001b[0mgrad\u001b[0m\u001b[0;34m,\u001b[0m \u001b[0malpha\u001b[0m\u001b[0;34m=\u001b[0m\u001b[0;36m1\u001b[0m \u001b[0;34m-\u001b[0m \u001b[0mbeta1\u001b[0m\u001b[0;34m)\u001b[0m\u001b[0;34m\u001b[0m\u001b[0;34m\u001b[0m\u001b[0m\n\u001b[0m\u001b[1;32m    100\u001b[0m                 \u001b[0mexp_avg_sq\u001b[0m\u001b[0;34m.\u001b[0m\u001b[0mmul_\u001b[0m\u001b[0;34m(\u001b[0m\u001b[0mbeta2\u001b[0m\u001b[0;34m)\u001b[0m\u001b[0;34m.\u001b[0m\u001b[0maddcmul_\u001b[0m\u001b[0;34m(\u001b[0m\u001b[0mgrad\u001b[0m\u001b[0;34m,\u001b[0m \u001b[0mgrad\u001b[0m\u001b[0;34m,\u001b[0m \u001b[0mvalue\u001b[0m\u001b[0;34m=\u001b[0m\u001b[0;36m1\u001b[0m \u001b[0;34m-\u001b[0m \u001b[0mbeta2\u001b[0m\u001b[0;34m)\u001b[0m\u001b[0;34m\u001b[0m\u001b[0;34m\u001b[0m\u001b[0m\n\u001b[1;32m    101\u001b[0m                 \u001b[0;32mif\u001b[0m \u001b[0mamsgrad\u001b[0m\u001b[0;34m:\u001b[0m\u001b[0;34m\u001b[0m\u001b[0;34m\u001b[0m\u001b[0m\n",
      "\u001b[0;31mKeyboardInterrupt\u001b[0m: "
     ]
    }
   ],
   "source": [
    "dataset_loss_info = postprocess_dataset.postprocess_data(input_dir_img, input_dir_mesh, cfg_path, gpu_num, meshes_group_name=experiment_name,\n",
    "                                                         recompute_poses=False, meshes_to_render=use_meshes)"
   ]
  },
  {
   "cell_type": "code",
   "execution_count": 17,
   "metadata": {
    "ExecuteTime": {
     "end_time": "2020-08-18T21:16:07.252552Z",
     "start_time": "2020-08-18T21:16:06.660818Z"
    },
    "scrolled": true
   },
   "outputs": [
    {
     "name": "stdout",
     "output_type": "stream",
     "text": [
      "3704\n"
     ]
    },
    {
     "data": {
      "image/png": "[encoded data removed]",
      "text/plain": [
       "<Figure size 432x288 with 3 Axes>"
      ]
     },
     "metadata": {
      "needs_background": "light"
     },
     "output_type": "display_data"
    }
   ],
   "source": [
    "# show postprocessed meshes at predicted angle\n",
    "show_meshes(input_dir_img, input_dir_mesh, experiment_name, use_meshes)"
   ]
  },
  {
   "cell_type": "code",
   "execution_count": 15,
   "metadata": {
    "ExecuteTime": {
     "end_time": "2020-08-18T21:12:53.466346Z",
     "start_time": "2020-08-18T21:12:53.009115Z"
    }
   },
   "outputs": [
    {
     "data": {
      "image/png": "[encoded data removed]",
      "text/plain": [
       "<Figure size 432x288 with 1 Axes>"
      ]
     },
     "metadata": {
      "needs_background": "light"
     },
     "output_type": "display_data"
    },
    {
     "data": {
      "image/png": "[encoded data removed]",
      "text/plain": [
       "<Figure size 432x288 with 1 Axes>"
      ]
     },
     "metadata": {
      "needs_background": "light"
     },
     "output_type": "display_data"
    }
   ],
   "source": [
    "# show training loss info\n",
    "for instance_name in dataset_loss_info:\n",
    "    loss_info = dataset_loss_info[instance_name]\n",
    "    loss_info.plot.line(x='iter', y='total_loss', title=\"{}\".format(instance_name))\n",
    "    #loss_info.plot.line(x='iter', y='sil_loss')\n",
    "    #loss_info.plot.line(x='iter', y='img_sym_loss')\n",
    "    #loss_info.plot.line(x='iter', y='vertex_sym_loss')\n",
    "    #loss_info.plot.line(x='iter', y='l2_loss')\n",
    "    #loss_info.plot.line(x='iter', y='lap_smoothness_loss')\n",
    "    #loss_info.plot.line(x='iter', y='normal_consistency_loss')\n",
    "    loss_info.plot.line(x='iter', y='semantic_dis_loss')"
   ]
  },
  {
   "cell_type": "code",
   "execution_count": null,
   "metadata": {},
   "outputs": [],
   "source": []
  },
  {
   "cell_type": "code",
   "execution_count": null,
   "metadata": {},
   "outputs": [],
   "source": []
  },
  {
   "cell_type": "code",
   "execution_count": null,
   "metadata": {},
   "outputs": [],
   "source": []
  },
  {
   "cell_type": "code",
   "execution_count": null,
   "metadata": {},
   "outputs": [],
   "source": []
  },
  {
   "cell_type": "code",
   "execution_count": null,
   "metadata": {},
   "outputs": [],
   "source": []
  },
  {
   "cell_type": "code",
   "execution_count": null,
   "metadata": {},
   "outputs": [],
   "source": []
  },
  {
   "cell_type": "code",
   "execution_count": null,
   "metadata": {},
   "outputs": [],
   "source": []
  },
  {
   "cell_type": "code",
   "execution_count": null,
   "metadata": {},
   "outputs": [],
   "source": []
  }
 ],
 "metadata": {
  "kernelspec": {
   "display_name": "Python [conda env:standard] *",
   "language": "python",
   "name": "conda-env-standard-py"
  },
  "language_info": {
   "codemirror_mode": {
    "name": "ipython",
    "version": 3
   },
   "file_extension": ".py",
   "mimetype": "text/x-python",
   "name": "python",
   "nbconvert_exporter": "python",
   "pygments_lexer": "ipython3",
   "version": "3.6.9"
  }
 },
 "nbformat": 4,
 "nbformat_minor": 4
}
