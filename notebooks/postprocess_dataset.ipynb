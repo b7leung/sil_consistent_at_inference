{
 "cells": [
  {
   "cell_type": "code",
   "execution_count": null,
   "metadata": {
    "ExecuteTime": {
     "end_time": "2020-08-17T11:45:50.246513Z",
     "start_time": "2020-08-17T11:45:50.227478Z"
    }
   },
   "outputs": [],
   "source": [
    "%load_ext autoreload\n",
    "%autoreload 2\n",
    "notebook_fixed_dir = False"
   ]
  },
  {
   "cell_type": "code",
   "execution_count": null,
   "metadata": {
    "ExecuteTime": {
     "end_time": "2020-08-17T11:45:51.360845Z",
     "start_time": "2020-08-17T11:45:51.346162Z"
    }
   },
   "outputs": [],
   "source": [
    "# this cell can only be called once\n",
    "import os\n",
    "if not notebook_fixed_dir:\n",
    "    os.chdir('..')\n",
    "    notebook_fixed_dir = True\n",
    "print(os.getcwd())"
   ]
  },
  {
   "cell_type": "code",
   "execution_count": null,
   "metadata": {
    "ExecuteTime": {
     "end_time": "2020-08-17T11:45:55.604114Z",
     "start_time": "2020-08-17T11:45:53.068093Z"
    }
   },
   "outputs": [],
   "source": [
    "import torch\n",
    "import pickle\n",
    "from tqdm import tqdm\n",
    "from PIL import Image\n",
    "import numpy as np\n",
    "from pytorch3d.renderer import (\n",
    "    look_at_view_transform\n",
    ")\n",
    "import matplotlib.pyplot as plt\n",
    "\n",
    "from pose_est import brute_force_pose_est\n",
    "import postprocess_dataset\n",
    "from utils import utils"
   ]
  },
  {
   "cell_type": "code",
   "execution_count": null,
   "metadata": {
    "ExecuteTime": {
     "end_time": "2020-08-17T11:46:00.728294Z",
     "start_time": "2020-08-17T11:46:00.682756Z"
    }
   },
   "outputs": [],
   "source": [
    "# displays meshes at the predicted pose\n",
    "def show_meshes(input_dir_img, input_dir_mesh, meshes_group_name=\"\"):\n",
    "    pred_poses_path = os.path.join(input_dir_mesh, \"pred_poses.p\")\n",
    "    cached_pred_poses = pickle.load(open(pred_poses_path, \"rb\"))\n",
    "\n",
    "    for instance_name in cached_pred_poses:\n",
    "        input_image = Image.open(os.path.join(input_dir_img, instance_name+\".png\"))\n",
    "        with torch.no_grad():\n",
    "            if meshes_group_name == \"\":\n",
    "                mesh_filename_suffix = '.obj'\n",
    "            else:\n",
    "                mesh_filename_suffix = \"_{}.obj\".format(meshes_group_name)\n",
    "            mesh = utils.load_untextured_mesh(os.path.join(input_dir_mesh, instance_name+mesh_filename_suffix), device)\n",
    "\n",
    "        # rendering mesh at predicted pose\n",
    "        pred_dist = cached_pred_poses[instance_name]['dist']\n",
    "        pred_elev = cached_pred_poses[instance_name]['elev']\n",
    "        pred_azim = cached_pred_poses[instance_name]['azim']\n",
    "        R, T = look_at_view_transform(pred_dist, pred_elev, pred_azim) \n",
    "        mesh_rendered_at_pred_pose = utils.render_mesh(mesh, R, T, device)\n",
    "\n",
    "        # visualizing\n",
    "        plt.imshow(input_image)\n",
    "        plt.show()\n",
    "        plt.imshow(mesh_rendered_at_pred_pose[0, ..., :3].cpu().numpy())\n",
    "        plt.show()"
   ]
  },
  {
   "cell_type": "code",
   "execution_count": null,
   "metadata": {
    "ExecuteTime": {
     "end_time": "2020-08-17T11:46:03.375068Z",
     "start_time": "2020-08-17T11:46:03.336068Z"
    }
   },
   "outputs": [],
   "source": [
    "input_dir_img = \"data/test_dataset/\"\n",
    "input_dir_mesh = \"data/test_dataset/\"\n",
    "cfg_path = \"configs/default.yaml\"\n",
    "gpu_num = 0\n",
    "device = torch.device(\"cuda:\"+str(gpu_num))"
   ]
  },
  {
   "cell_type": "code",
   "execution_count": null,
   "metadata": {
    "ExecuteTime": {
     "end_time": "2020-08-17T11:46:57.163089Z",
     "start_time": "2020-08-17T11:46:14.838096Z"
    },
    "scrolled": true
   },
   "outputs": [],
   "source": [
    "dataset_loss_info = postprocess_dataset.postprocess_data(input_dir_img, input_dir_mesh, cfg_path, gpu_num)"
   ]
  },
  {
   "cell_type": "code",
   "execution_count": null,
   "metadata": {
    "ExecuteTime": {
     "end_time": "2020-08-17T11:47:07.728174Z",
     "start_time": "2020-08-17T11:47:01.188249Z"
    },
    "scrolled": true
   },
   "outputs": [],
   "source": [
    "show_meshes(input_dir_img, input_dir_mesh, \"postprocessed\")"
   ]
  },
  {
   "cell_type": "code",
   "execution_count": null,
   "metadata": {
    "ExecuteTime": {
     "end_time": "2020-08-17T11:47:16.004373Z",
     "start_time": "2020-08-17T11:47:12.925884Z"
    }
   },
   "outputs": [],
   "source": [
    "# show training loss info\n",
    "for instance_name in dataset_loss_info:\n",
    "    loss_info = dataset_loss_info[instance_name]\n",
    "    loss_info.plot.line(x='iter', y='total_loss', title=\"{}\".format(instance_name))\n",
    "    #loss_info.plot.line(x='iter', y='sil_loss')\n",
    "    #loss_info.plot.line(x='iter', y='img_sym_loss')\n",
    "    #loss_info.plot.line(x='iter', y='vertex_sym_loss')\n",
    "    #loss_info.plot.line(x='iter', y='l2_loss')\n",
    "    #loss_info.plot.line(x='iter', y='lap_smoothness_loss')\n",
    "    #loss_info.plot.line(x='iter', y='normal_consistency_loss')"
   ]
  },
  {
   "cell_type": "code",
   "execution_count": null,
   "metadata": {
    "ExecuteTime": {
     "end_time": "2020-08-17T11:47:26.435737Z",
     "start_time": "2020-08-17T11:47:18.900473Z"
    }
   },
   "outputs": [],
   "source": [
    "show_meshes(input_dir_img, input_dir_mesh)"
   ]
  },
  {
   "cell_type": "code",
   "execution_count": null,
   "metadata": {},
   "outputs": [],
   "source": []
  },
  {
   "cell_type": "code",
   "execution_count": null,
   "metadata": {},
   "outputs": [],
   "source": []
  },
  {
   "cell_type": "code",
   "execution_count": null,
   "metadata": {},
   "outputs": [],
   "source": []
  },
  {
   "cell_type": "code",
   "execution_count": null,
   "metadata": {},
   "outputs": [],
   "source": []
  },
  {
   "cell_type": "code",
   "execution_count": null,
   "metadata": {},
   "outputs": [],
   "source": []
  },
  {
   "cell_type": "code",
   "execution_count": null,
   "metadata": {},
   "outputs": [],
   "source": []
  }
 ],
 "metadata": {
  "kernelspec": {
   "display_name": "Python [conda env:standard] *",
   "language": "python",
   "name": "conda-env-standard-py"
  },
  "language_info": {
   "codemirror_mode": {
    "name": "ipython",
    "version": 3
   },
   "file_extension": ".py",
   "mimetype": "text/x-python",
   "name": "python",
   "nbconvert_exporter": "python",
   "pygments_lexer": "ipython3",
   "version": "3.6.9"
  }
 },
 "nbformat": 4,
 "nbformat_minor": 4
}
