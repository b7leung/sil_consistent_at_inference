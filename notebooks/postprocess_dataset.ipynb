{
 "cells": [
  {
   "cell_type": "code",
   "execution_count": 3,
   "metadata": {
    "ExecuteTime": {
     "end_time": "2020-08-18T10:10:26.761891Z",
     "start_time": "2020-08-18T10:10:26.622792Z"
    }
   },
   "outputs": [],
   "source": [
    "%load_ext autoreload\n",
    "%autoreload 2\n",
    "notebook_fixed_dir = False"
   ]
  },
  {
   "cell_type": "code",
   "execution_count": 4,
   "metadata": {
    "ExecuteTime": {
     "end_time": "2020-08-18T10:10:27.611105Z",
     "start_time": "2020-08-18T10:10:27.596187Z"
    }
   },
   "outputs": [
    {
     "name": "stdout",
     "output_type": "stream",
     "text": [
      "/home/svcl-oowl/brandon/research/sil_consistent_at_inference\n"
     ]
    }
   ],
   "source": [
    "# this cell can only be called once\n",
    "import os\n",
    "if not notebook_fixed_dir:\n",
    "    os.chdir('..')\n",
    "    notebook_fixed_dir = True\n",
    "print(os.getcwd())"
   ]
  },
  {
   "cell_type": "code",
   "execution_count": 5,
   "metadata": {
    "ExecuteTime": {
     "end_time": "2020-08-18T10:10:39.152930Z",
     "start_time": "2020-08-18T10:10:28.961306Z"
    }
   },
   "outputs": [],
   "source": [
    "import pprint\n",
    "\n",
    "import torch\n",
    "import pickle\n",
    "from PIL import Image\n",
    "import numpy as np\n",
    "from pytorch3d.renderer import (\n",
    "    look_at_view_transform\n",
    ")\n",
    "import matplotlib.pyplot as plt\n",
    "import glob\n",
    "\n",
    "from pose_est import brute_force_pose_est\n",
    "import postprocess_dataset\n",
    "from utils import utils"
   ]
  },
  {
   "cell_type": "code",
   "execution_count": 24,
   "metadata": {
    "ExecuteTime": {
     "end_time": "2020-08-18T10:31:17.007039Z",
     "start_time": "2020-08-18T10:31:16.951386Z"
    }
   },
   "outputs": [],
   "source": [
    "# displays meshes at the predicted pose\n",
    "def show_meshes(input_dir_img, input_dir_mesh, meshes_group_name=\"\", use_meshes=None):\n",
    "    pred_poses_path = os.path.join(input_dir_mesh, \"pred_poses.p\")\n",
    "    cached_pred_poses = pickle.load(open(pred_poses_path, \"rb\"))\n",
    "\n",
    "    for instance_name in cached_pred_poses:\n",
    "        if use_meshes is None or instance_name in use_meshes:\n",
    "            input_image = Image.open(os.path.join(input_dir_img, instance_name+\".png\"))\n",
    "            with torch.no_grad():\n",
    "                mesh_original = utils.load_untextured_mesh(os.path.join(input_dir_mesh, instance_name+\".obj\"), device)\n",
    "                mesh_processed = utils.load_untextured_mesh(os.path.join(input_dir_mesh, instance_name+\"_{}.obj\".format(meshes_group_name)), device)\n",
    "\n",
    "            # rendering original and processed mesh at predicted pose\n",
    "            pred_dist = cached_pred_poses[instance_name]['dist']\n",
    "            pred_elev = cached_pred_poses[instance_name]['elev']\n",
    "            pred_azim = cached_pred_poses[instance_name]['azim']\n",
    "            R, T = look_at_view_transform(pred_dist, pred_elev, pred_azim)\n",
    "            mesh_original_render = utils.render_mesh(mesh_original, R, T, device)\n",
    "            mesh_processed_render = utils.render_mesh(mesh_processed, R, T, device)\n",
    "\n",
    "            # visualizing\n",
    "            print(instance_name)\n",
    "            fig, ax = plt.subplots(nrows=1, ncols=3, squeeze=False)\n",
    "            ax[0][0].imshow(input_image)\n",
    "            ax[0][0].xaxis.set_visible(False)\n",
    "            ax[0][0].yaxis.set_visible(False)\n",
    "\n",
    "            ax[0][1].imshow(mesh_original_render[0, ..., :3].cpu().numpy())\n",
    "            ax[0][1].xaxis.set_visible(False)\n",
    "            ax[0][1].yaxis.set_visible(False)\n",
    "\n",
    "            ax[0][2].imshow(mesh_processed_render[0, ..., :3].cpu().numpy())\n",
    "            ax[0][2].xaxis.set_visible(False)\n",
    "            ax[0][2].yaxis.set_visible(False)\n",
    "            plt.pause(0.05)"
   ]
  },
  {
   "cell_type": "code",
   "execution_count": 27,
   "metadata": {
    "ExecuteTime": {
     "end_time": "2020-08-18T10:33:13.040600Z",
     "start_time": "2020-08-18T10:33:12.998505Z"
    }
   },
   "outputs": [],
   "source": [
    "input_dir_img = \"data/test_dataset/\"\n",
    "input_dir_mesh = \"data/test_dataset/\"\n",
    "cfg_path = \"configs/default.yaml\"\n",
    "#cfg_path = \"configs/only_sil.yaml\"\n",
    "gpu_num = 0\n",
    "device = torch.device(\"cuda:\"+str(gpu_num))\n",
    "experiment_name = \"hole_test\"\n",
    "#meshes_to_render = None\n",
    "use_meshes = ['3704']"
   ]
  },
  {
   "cell_type": "code",
   "execution_count": 35,
   "metadata": {
    "ExecuteTime": {
     "end_time": "2020-08-18T10:41:43.195527Z",
     "start_time": "2020-08-18T10:41:05.041507Z"
    },
    "scrolled": true
   },
   "outputs": [
    {
     "name": "stdout",
     "output_type": "stream",
     "text": [
      "{'model': {'latent_dim_pointnet': 512, 'latent_dim_resnet': 256},\n",
      " 'semantic_dis_training': {'epochs': 200},\n",
      " 'training': {'img_sym_lam': 0,\n",
      "              'img_sym_num_azim': 1,\n",
      "              'l2_lam': 1,\n",
      "              'lap_lam': 10,\n",
      "              'learning_rate': 1e-05,\n",
      "              'normals_lam': 10,\n",
      "              'num_iterations': 300,\n",
      "              'semantic_dis_lam': 0,\n",
      "              'semantic_dis_weight_path': 'configs/semantic_dis_net_weights.p',\n",
      "              'sil_lam': 5,\n",
      "              'vertex_sym_lam': 0}}\n"
     ]
    },
    {
     "name": "stderr",
     "output_type": "stream",
     "text": [
      "/home/svcl-oowl/brandon/research/sil_consistent_at_inference/utils/utils.py:51: YAMLLoadWarning: calling yaml.load() without Loader=... is deprecated, as the default Loader is unsafe. Please read https://msg.pyyaml.org/load for full details.\n",
      "  cfg_special = yaml.load(f)\n"
     ]
    },
    {
     "data": {
      "application/vnd.jupyter.widget-view+json": {
       "model_id": "8ed276f93fac457197f4e174964d9b7c",
       "version_major": 2,
       "version_minor": 0
      },
      "text/plain": [
       "HBox(children=(IntProgress(value=0, max=12), HTML(value='')))"
      ]
     },
     "metadata": {},
     "output_type": "display_data"
    },
    {
     "data": {
      "application/vnd.jupyter.widget-view+json": {
       "model_id": "bcd5c291acfe4ac5b798f8855e7100af",
       "version_major": 2,
       "version_minor": 0
      },
      "text/plain": [
       "HBox(children=(IntProgress(value=0, max=300), HTML(value='')))"
      ]
     },
     "metadata": {},
     "output_type": "display_data"
    },
    {
     "name": "stdout",
     "output_type": "stream",
     "text": [
      "\n"
     ]
    }
   ],
   "source": [
    "dataset_loss_info = postprocess_dataset.postprocess_data(input_dir_img, input_dir_mesh, cfg_path, gpu_num, meshes_group_name=experiment_name,\n",
    "                                                         recompute_poses=False, meshes_to_render=use_meshes)"
   ]
  },
  {
   "cell_type": "code",
   "execution_count": 36,
   "metadata": {
    "ExecuteTime": {
     "end_time": "2020-08-18T10:42:11.816071Z",
     "start_time": "2020-08-18T10:42:11.010304Z"
    },
    "scrolled": true
   },
   "outputs": [
    {
     "name": "stdout",
     "output_type": "stream",
     "text": [
      "3704\n"
     ]
    },
    {
     "data": {
      "image/png": "[encoded data removed]",
      "text/plain": [
       "<Figure size 432x288 with 3 Axes>"
      ]
     },
     "metadata": {
      "needs_background": "light"
     },
     "output_type": "display_data"
    }
   ],
   "source": [
    "# show postprocessed meshes at predicted angle\n",
    "show_meshes(input_dir_img, input_dir_mesh, experiment_name, use_meshes)"
   ]
  },
  {
   "cell_type": "code",
   "execution_count": 34,
   "metadata": {
    "ExecuteTime": {
     "end_time": "2020-08-18T10:40:53.560124Z",
     "start_time": "2020-08-18T10:40:53.214652Z"
    }
   },
   "outputs": [
    {
     "data": {
      "image/png": "[encoded data removed]",
      "text/plain": [
       "<Figure size 432x288 with 1 Axes>"
      ]
     },
     "metadata": {
      "needs_background": "light"
     },
     "output_type": "display_data"
    }
   ],
   "source": [
    "# show training loss info\n",
    "for instance_name in dataset_loss_info:\n",
    "    loss_info = dataset_loss_info[instance_name]\n",
    "    loss_info.plot.line(x='iter', y='total_loss', title=\"{}\".format(instance_name))\n",
    "    #loss_info.plot.line(x='iter', y='sil_loss')\n",
    "    #loss_info.plot.line(x='iter', y='img_sym_loss')\n",
    "    #loss_info.plot.line(x='iter', y='vertex_sym_loss')\n",
    "    #loss_info.plot.line(x='iter', y='l2_loss')\n",
    "    #loss_info.plot.line(x='iter', y='lap_smoothness_loss')\n",
    "    #loss_info.plot.line(x='iter', y='normal_consistency_loss')"
   ]
  },
  {
   "cell_type": "code",
   "execution_count": null,
   "metadata": {},
   "outputs": [],
   "source": []
  },
  {
   "cell_type": "code",
   "execution_count": null,
   "metadata": {},
   "outputs": [],
   "source": []
  },
  {
   "cell_type": "code",
   "execution_count": null,
   "metadata": {},
   "outputs": [],
   "source": []
  },
  {
   "cell_type": "code",
   "execution_count": null,
   "metadata": {},
   "outputs": [],
   "source": []
  },
  {
   "cell_type": "code",
   "execution_count": null,
   "metadata": {
    "ExecuteTime": {
     "end_time": "2020-08-18T03:00:16.980224Z",
     "start_time": "2020-08-18T03:00:15.529229Z"
    }
   },
   "outputs": [],
   "source": [
    "# delete all postprocessed meshes, reverting back to only original objs and imgs\n",
    "all_mesh_paths = glob.glob(os.path.join(input_dir_mesh, \"*.obj\"))\n",
    "for mesh_path in all_mesh_paths:\n",
    "    if '_' in mesh_path.split('/')[-1]:\n",
    "        os.remove(mesh_path)"
   ]
  },
  {
   "cell_type": "code",
   "execution_count": null,
   "metadata": {},
   "outputs": [],
   "source": []
  },
  {
   "cell_type": "code",
   "execution_count": null,
   "metadata": {},
   "outputs": [],
   "source": []
  },
  {
   "cell_type": "code",
   "execution_count": null,
   "metadata": {},
   "outputs": [],
   "source": []
  },
  {
   "cell_type": "code",
   "execution_count": null,
   "metadata": {},
   "outputs": [],
   "source": []
  },
  {
   "cell_type": "code",
   "execution_count": null,
   "metadata": {},
   "outputs": [],
   "source": []
  }
 ],
 "metadata": {
  "kernelspec": {
   "display_name": "Python [conda env:standard] *",
   "language": "python",
   "name": "conda-env-standard-py"
  },
  "language_info": {
   "codemirror_mode": {
    "name": "ipython",
    "version": 3
   },
   "file_extension": ".py",
   "mimetype": "text/x-python",
   "name": "python",
   "nbconvert_exporter": "python",
   "pygments_lexer": "ipython3",
   "version": "3.6.9"
  }
 },
 "nbformat": 4,
 "nbformat_minor": 4
}
