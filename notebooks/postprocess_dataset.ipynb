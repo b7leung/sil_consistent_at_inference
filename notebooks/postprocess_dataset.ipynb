{
 "cells": [
  {
   "cell_type": "code",
   "execution_count": 1,
   "metadata": {
    "ExecuteTime": {
     "end_time": "2020-08-29T23:29:55.165458Z",
     "start_time": "2020-08-29T23:29:55.148729Z"
    }
   },
   "outputs": [],
   "source": [
    "%load_ext autoreload\n",
    "%autoreload 2\n",
    "notebook_fixed_dir = False"
   ]
  },
  {
   "cell_type": "code",
   "execution_count": 2,
   "metadata": {
    "ExecuteTime": {
     "end_time": "2020-08-29T23:29:55.702320Z",
     "start_time": "2020-08-29T23:29:55.690602Z"
    }
   },
   "outputs": [
    {
     "name": "stdout",
     "output_type": "stream",
     "text": [
      "/home/svcl-oowl/brandon/research/sil_consistent_at_inference\n"
     ]
    }
   ],
   "source": [
    "# this cell can only be called once\n",
    "import os\n",
    "if not notebook_fixed_dir:\n",
    "    os.chdir('..')\n",
    "    notebook_fixed_dir = True\n",
    "print(os.getcwd())"
   ]
  },
  {
   "cell_type": "code",
   "execution_count": 3,
   "metadata": {
    "ExecuteTime": {
     "end_time": "2020-08-29T23:30:00.562490Z",
     "start_time": "2020-08-29T23:29:57.272398Z"
    }
   },
   "outputs": [],
   "source": [
    "import pprint\n",
    "import glob\n",
    "from pathlib import Path\n",
    "import pickle\n",
    "\n",
    "import torch\n",
    "from PIL import Image\n",
    "import numpy as np\n",
    "from pytorch3d.renderer import (\n",
    "    look_at_view_transform\n",
    ")\n",
    "import matplotlib.pyplot as plt\n",
    "\n",
    "from pose_est import brute_force_pose_est\n",
    "import postprocess_dataset\n",
    "from utils import utils"
   ]
  },
  {
   "cell_type": "code",
   "execution_count": 4,
   "metadata": {
    "ExecuteTime": {
     "end_time": "2020-08-29T23:30:00.616065Z",
     "start_time": "2020-08-29T23:30:00.565280Z"
    }
   },
   "outputs": [],
   "source": [
    "# displays meshes at the predicted pose\n",
    "def show_meshes(cfg, device, exp_name):\n",
    "    input_dir_img = cfg['dataset']['input_dir_img']\n",
    "    input_dir_mesh = cfg['dataset']['input_dir_mesh']\n",
    "    output_dir = \"{}_{}\".format(input_dir_mesh, exp_name)\n",
    "    \n",
    "    # combining all cached predicted poses\n",
    "    cached_pred_poses = {}\n",
    "    pred_pose_paths = list(Path(output_dir).rglob('pred_poses.p'))\n",
    "    for pred_pose_path in pred_pose_paths:\n",
    "        curr_cache = pickle.load(open(pred_pose_path, \"rb\"))\n",
    "        cached_pred_poses = {**cached_pred_poses, **curr_cache}\n",
    "    \n",
    "    # getting paths of all processed meshes, keyed by instance name\n",
    "    processed_paths = list(Path(output_dir).rglob('*.obj'))\n",
    "    processed_paths_dict = {str(path).split('/')[-1][:-4]:str(path) for path in processed_paths}\n",
    "   \n",
    "    \n",
    "    for instance_name in cached_pred_poses:\n",
    "        input_image = Image.open(os.path.join(input_dir_img, instance_name+\".png\"))\n",
    "        with torch.no_grad():\n",
    "            mesh_original = utils.load_untextured_mesh(os.path.join(input_dir_mesh, instance_name+\".obj\"), device)\n",
    "            mesh_processed = utils.load_untextured_mesh(processed_paths_dict[instance_name], device)\n",
    "\n",
    "        # rendering original and processed mesh at predicted pose\n",
    "        pred_dist = cached_pred_poses[instance_name]['dist']\n",
    "        pred_elev = cached_pred_poses[instance_name]['elev']\n",
    "        pred_azim = cached_pred_poses[instance_name]['azim']\n",
    "        R, T = look_at_view_transform(pred_dist, pred_elev, pred_azim)\n",
    "        mesh_original_render = utils.render_mesh(mesh_original, R, T, device)\n",
    "        mesh_processed_render = utils.render_mesh(mesh_processed, R, T, device)\n",
    "\n",
    "        # visualizing\n",
    "        print(instance_name)\n",
    "        fig, ax = plt.subplots(nrows=1, ncols=3, squeeze=False)\n",
    "        ax[0][0].imshow(input_image)\n",
    "        ax[0][0].xaxis.set_visible(False)\n",
    "        ax[0][0].yaxis.set_visible(False)\n",
    "\n",
    "        ax[0][1].imshow(mesh_original_render[0, ..., :3].cpu().numpy())\n",
    "        ax[0][1].xaxis.set_visible(False)\n",
    "        ax[0][1].yaxis.set_visible(False)\n",
    "\n",
    "        ax[0][2].imshow(mesh_processed_render[0, ..., :3].cpu().numpy())\n",
    "        ax[0][2].xaxis.set_visible(False)\n",
    "        ax[0][2].yaxis.set_visible(False)\n",
    "        plt.pause(0.05)"
   ]
  },
  {
   "cell_type": "code",
   "execution_count": 29,
   "metadata": {
    "ExecuteTime": {
     "end_time": "2020-08-30T01:01:26.585642Z",
     "start_time": "2020-08-30T01:01:26.539233Z"
    }
   },
   "outputs": [
    {
     "name": "stderr",
     "output_type": "stream",
     "text": [
      "/home/svcl-oowl/brandon/research/sil_consistent_at_inference/utils/utils.py:52: YAMLLoadWarning: calling yaml.load() without Loader=... is deprecated, as the default Loader is unsafe. Please read https://msg.pyyaml.org/load for full details.\n",
      "  cfg_special = yaml.load(f)\n",
      "/home/svcl-oowl/brandon/research/sil_consistent_at_inference/utils/utils.py:63: YAMLLoadWarning: calling yaml.load() without Loader=... is deprecated, as the default Loader is unsafe. Please read https://msg.pyyaml.org/load for full details.\n",
      "  cfg = yaml.load(f)\n"
     ]
    }
   ],
   "source": [
    "# python postprocess_dataset.py configs/testing.yaml --recompute_meshes\n",
    "cfg_path = \"configs/testing.yaml\"\n",
    "gpu_num = 0\n",
    "exp_name = \"processed\"\n",
    "\n",
    "cfg = utils.load_config(cfg_path, \"configs/default.yaml\")\n",
    "device = torch.device(\"cuda:\"+str(gpu_num))"
   ]
  },
  {
   "cell_type": "code",
   "execution_count": 34,
   "metadata": {
    "ExecuteTime": {
     "end_time": "2020-08-30T01:07:55.073559Z",
     "start_time": "2020-08-30T01:07:54.400191Z"
    }
   },
   "outputs": [
    {
     "name": "stdout",
     "output_type": "stream",
     "text": [
      "0001old\n"
     ]
    },
    {
     "data": {
      "image/png": "[encoded data removed]",
      "text/plain": [
       "<Figure size 432x288 with 3 Axes>"
      ]
     },
     "metadata": {
      "needs_background": "light"
     },
     "output_type": "display_data"
    }
   ],
   "source": [
    "# show postprocessed meshes at predicted angle\n",
    "show_meshes(cfg, device, exp_name)"
   ]
  },
  {
   "cell_type": "code",
   "execution_count": 47,
   "metadata": {
    "ExecuteTime": {
     "end_time": "2020-08-30T01:36:37.386587Z",
     "start_time": "2020-08-30T01:36:36.315052Z"
    },
    "scrolled": false
   },
   "outputs": [
    {
     "data": {
      "image/png": "[encoded data removed]",
      "text/plain": [
       "<Figure size 432x288 with 1 Axes>"
      ]
     },
     "metadata": {
      "needs_background": "light"
     },
     "output_type": "display_data"
    },
    {
     "data": {
      "image/png": "[encoded data removed]",
      "text/plain": [
       "<Figure size 432x288 with 1 Axes>"
      ]
     },
     "metadata": {
      "needs_background": "light"
     },
     "output_type": "display_data"
    }
   ],
   "source": [
    "# show training loss info\n",
    "\n",
    "# getting paths of all loss info pickled files\n",
    "input_dir_mesh = cfg['dataset']['input_dir_mesh']\n",
    "output_dir = \"{}_{}\".format(input_dir_mesh, exp_name)\n",
    "cached_loss_info_paths = list(Path(output_dir).rglob('loss_info.p'))\n",
    "\n",
    "for path in cached_loss_info_paths:\n",
    "    dataset_loss_info = pickle.load(open(path, \"rb\"))\n",
    "    for instance_name in dataset_loss_info:\n",
    "        loss_info = dataset_loss_info[instance_name]\n",
    "        loss_info.plot.line(x='iter', y='total_loss', title=\"{}\".format(instance_name))\n",
    "        loss_info.plot.line(x='iter', y='sil_loss')\n",
    "        #loss_info.plot.line(x='iter', y='img_sym_loss')\n",
    "        #loss_info.plot.line(x='iter', y='vertex_sym_loss')\n",
    "        #loss_info.plot.line(x='iter', y='l2_loss')\n",
    "        #loss_info.plot.line(x='iter', y='lap_smoothness_loss')\n",
    "        #loss_info.plot.line(x='iter', y='normal_consistency_loss')\n",
    "        #loss_info.plot.line(x='iter', y='semantic_dis_loss')"
   ]
  },
  {
   "cell_type": "code",
   "execution_count": null,
   "metadata": {},
   "outputs": [],
   "source": []
  },
  {
   "cell_type": "code",
   "execution_count": null,
   "metadata": {},
   "outputs": [],
   "source": []
  },
  {
   "cell_type": "code",
   "execution_count": null,
   "metadata": {},
   "outputs": [],
   "source": []
  },
  {
   "cell_type": "code",
   "execution_count": null,
   "metadata": {},
   "outputs": [],
   "source": []
  },
  {
   "cell_type": "code",
   "execution_count": null,
   "metadata": {},
   "outputs": [],
   "source": []
  },
  {
   "cell_type": "code",
   "execution_count": null,
   "metadata": {},
   "outputs": [],
   "source": []
  },
  {
   "cell_type": "code",
   "execution_count": null,
   "metadata": {},
   "outputs": [],
   "source": []
  },
  {
   "cell_type": "code",
   "execution_count": null,
   "metadata": {},
   "outputs": [],
   "source": []
  }
 ],
 "metadata": {
  "kernelspec": {
   "display_name": "Python [conda env:standard] *",
   "language": "python",
   "name": "conda-env-standard-py"
  },
  "language_info": {
   "codemirror_mode": {
    "name": "ipython",
    "version": 3
   },
   "file_extension": ".py",
   "mimetype": "text/x-python",
   "name": "python",
   "nbconvert_exporter": "python",
   "pygments_lexer": "ipython3",
   "version": "3.6.9"
  }
 },
 "nbformat": 4,
 "nbformat_minor": 4
}
