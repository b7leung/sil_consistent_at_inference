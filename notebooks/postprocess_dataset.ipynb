{
 "cells": [
  {
   "cell_type": "code",
   "execution_count": 1,
   "metadata": {
    "ExecuteTime": {
     "end_time": "2020-10-01T23:49:50.838469Z",
     "start_time": "2020-10-01T23:49:50.824549Z"
    }
   },
   "outputs": [],
   "source": [
    "%load_ext autoreload\n",
    "%autoreload 2\n",
    "notebook_fixed_dir = False"
   ]
  },
  {
   "cell_type": "code",
   "execution_count": 2,
   "metadata": {
    "ExecuteTime": {
     "end_time": "2020-10-01T23:49:51.564724Z",
     "start_time": "2020-10-01T23:49:51.554194Z"
    }
   },
   "outputs": [
    {
     "name": "stdout",
     "output_type": "stream",
     "text": [
      "/home/svcl-oowl/brandon/research/sil_consistent_at_inference\n"
     ]
    }
   ],
   "source": [
    "# this cell can only be called once\n",
    "import os\n",
    "if not notebook_fixed_dir:\n",
    "    os.chdir('..')\n",
    "    notebook_fixed_dir = True\n",
    "print(os.getcwd())"
   ]
  },
  {
   "cell_type": "code",
   "execution_count": 8,
   "metadata": {
    "ExecuteTime": {
     "end_time": "2020-10-01T23:56:34.359957Z",
     "start_time": "2020-10-01T23:56:34.221293Z"
    }
   },
   "outputs": [],
   "source": [
    "import pprint\n",
    "import glob\n",
    "from pathlib import Path\n",
    "import pickle\n",
    "import random\n",
    "\n",
    "import torch\n",
    "from PIL import Image\n",
    "import numpy as np\n",
    "from pytorch3d.renderer import look_at_view_transform\n",
    "import matplotlib.pyplot as plt\n",
    "import trimesh\n",
    "\n",
    "import postprocess_dataset\n",
    "from utils import utils\n",
    "from utils import visualization_tools\n",
    "from evaluation import compute_iou_2d, compute_iou_2d_given_pose, compute_iou_3d, compute_chamfer_L1"
   ]
  },
  {
   "cell_type": "code",
   "execution_count": 9,
   "metadata": {
    "ExecuteTime": {
     "end_time": "2020-10-01T23:56:35.732039Z",
     "start_time": "2020-10-01T23:56:35.696082Z"
    }
   },
   "outputs": [],
   "source": [
    "def eval_metrics(input_img, rec_mesh, rec_mesh_torch, gt_mesh, gt_mesh_torch, device, metrics_to_eval=[\"2d_iou\", \"3d_iou\", \"3d_iou_norm\", \"chamfer_L1\", \"chamfer_L1_norm\"],\n",
    "                 pred_azim=None, pred_elev=None, pred_dist=None):\n",
    "    \n",
    "    all_metrics_list = [\"2d_iou\", \"3d_iou\", \"3d_iou_norm\", \"chamfer_L1\", \"chamfer_L1_norm\"]\n",
    "    for metric in metrics_to_eval:\n",
    "        if metric not in all_metrics_list:\n",
    "            raise ValueError(\"Metric {} is unknown.\".format(metric))\n",
    "    \n",
    "    metrics_dict = {metric:0 for metric in all_metrics_list}\n",
    "    if \"2d_iou\" in metrics_to_eval:\n",
    "        # TODO: not sure if using the original pred pose for the processed iou is legitimate\n",
    "        if pred_azim is not None and pred_elev is not None and pred_dist is not None:\n",
    "            metrics_dict[\"2d_iou\"] = compute_iou_2d_given_pose(rec_mesh_torch, input_img, device, pred_azim, pred_elev, pred_dist)\n",
    "        else:\n",
    "            metrics_dict[\"2d_iou\"] = compute_iou_2d(rec_mesh_torch, input_img, device)\n",
    "    if \"3d_iou\" in metrics_to_eval:\n",
    "        metrics_dict[\"3d_iou\"] = compute_iou_3d(rec_mesh, rec_mesh_torch, gt_mesh, gt_mesh_torch)\n",
    "    if \"3d_iou_norm\" in metrics_to_eval:\n",
    "        metrics_dict[\"3d_iou_norm\"] = compute_iou_3d(rec_mesh, rec_mesh_torch, gt_mesh, gt_mesh_torch, full_unit_normalize=True)\n",
    "    if \"chamfer_L1\" in metrics_to_eval:\n",
    "        metrics_dict[\"chamfer_L1\"] = compute_chamfer_L1(rec_mesh, rec_mesh_torch, gt_mesh, gt_mesh_torch)\n",
    "    if \"chamfer_L1_norm\":\n",
    "        metrics_dict[\"chamfer_L1_norm\"] = compute_chamfer_L1(rec_mesh, rec_mesh_torch, gt_mesh, gt_mesh_torch, full_unit_normalize=True)\n",
    "        \n",
    "    return metrics_dict"
   ]
  },
  {
   "cell_type": "code",
   "execution_count": 10,
   "metadata": {
    "ExecuteTime": {
     "end_time": "2020-10-01T23:56:43.070890Z",
     "start_time": "2020-10-01T23:56:43.031718Z"
    },
    "code_folding": []
   },
   "outputs": [],
   "source": [
    "# displays meshes at the predicted pose\n",
    "def show_meshes(input_dir_img, input_dir_mesh, refined_models_dir, gt_shapes_dict, device, only_show_instances=None, num_novel_view=3, metrics_to_eval=[\"2d_iou\", \"3d_iou\", \"3d_iou_norm\", \"chamfer_L1\", \"chamfer_L1_norm\"]):\n",
    "\n",
    "    # combining all cached predicted poses\n",
    "    cached_pred_poses = {}\n",
    "    pred_pose_paths = list(Path(refined_models_dir).rglob('pred_poses.p'))\n",
    "    for pred_pose_path in pred_pose_paths:\n",
    "        curr_cache = pickle.load(open(pred_pose_path, \"rb\"))\n",
    "        cached_pred_poses = {**cached_pred_poses, **curr_cache}\n",
    "    \n",
    "    # getting paths of all processed meshes, keyed by instance name\n",
    "    processed_paths = list(Path(refined_models_dir).rglob('*.obj'))\n",
    "    processed_paths_dict = {}\n",
    "    for path in processed_paths:\n",
    "        instance_name = str(path).split('/')[-1][:-4]\n",
    "        if instance_name not in processed_paths_dict:\n",
    "            processed_paths_dict[instance_name] = [path]\n",
    "        else:\n",
    "            processed_paths_dict[instance_name].append(path)\n",
    "    \n",
    "    for instance_name in processed_paths_dict:\n",
    "        if only_show_instances is None or instance_name in only_show_instances:\n",
    "            for processed_mesh_path in processed_paths_dict[instance_name]:\n",
    "                print(processed_mesh_path)\n",
    "            \n",
    "                input_image = Image.open(os.path.join(input_dir_img, instance_name+\".png\"))\n",
    "                original_mesh_path = os.path.join(input_dir_mesh, instance_name+\".obj\")\n",
    "                with torch.no_grad():\n",
    "                    mesh_original = utils.load_untextured_mesh(original_mesh_path, device)\n",
    "                    mesh_processed = utils.load_untextured_mesh(processed_mesh_path, device)\n",
    "                mesh_original_trimesh = trimesh.load(original_mesh_path)\n",
    "                mesh_processed_trimesh = trimesh.load(processed_mesh_path)\n",
    "                \n",
    "                pred_dist = cached_pred_poses[instance_name]['dist']\n",
    "                pred_elev = cached_pred_poses[instance_name]['elev']\n",
    "                pred_azim = cached_pred_poses[instance_name]['azim']\n",
    "                \n",
    "                # computing performance metrics\n",
    "                if len(metrics_to_eval) > 0:\n",
    "                    gt_mesh_path = gt_shapes_dict[instance_name]\n",
    "                    with torch.no_grad():\n",
    "                        mesh_gt = utils.load_untextured_mesh(gt_mesh_path, device)\n",
    "                    mesh_gt_trimesh = trimesh.load(gt_mesh_path)\n",
    "                    \n",
    "                    metrics_dict_before = eval_metrics(input_image, mesh_original_trimesh, mesh_original, mesh_gt_trimesh, mesh_gt, device, metrics_to_eval, pred_azim, pred_elev, pred_dist)\n",
    "                    metrics_dict_after = eval_metrics(input_image, mesh_processed_trimesh, mesh_processed, mesh_gt_trimesh, mesh_gt, device, metrics_to_eval, pred_azim, pred_elev, pred_dist)\n",
    "                    \n",
    "                    print(\"Metrics before refinement -- {}\".format(metrics_dict_before))\n",
    "                    print(\"Metrics after refinement -- {}\".format(metrics_dict_after))\n",
    "                \n",
    "                visualization_tools.show_refinement_results(input_image, mesh_original, mesh_processed, pred_dist, pred_elev, pred_azim, device, num_novel_view)"
   ]
  },
  {
   "cell_type": "code",
   "execution_count": 20,
   "metadata": {
    "ExecuteTime": {
     "end_time": "2020-10-02T00:04:25.012676Z",
     "start_time": "2020-10-02T00:04:24.983861Z"
    }
   },
   "outputs": [],
   "source": [
    "# occnet reconstructed pix3d chairs\n",
    "#input_dir_mesh = \"data/onet_chair_pix3d_no_DA_simplified\"\n",
    "#input_dir_img = \"data/img_pix3d_chair/chair\"\n",
    "#gt_shapes_list_path = \"data_evaluation/pix3d_chair/pix3d_chair_gt_shapes.lst\"\n",
    "#exp_name = \"gridsearch2\"\n",
    "\n",
    "# occnet reconstructed shapenet chairs\n",
    "input_dir_mesh = \"data/onet_chair_shapent_no_DA_simplified\"\n",
    "input_dir_img = \"data/img_shapenet_chair\"\n",
    "gt_shapes_list_path = \"data_evaluation/shapenet_chair/shapenet_chair_gt_shapes.lst\"\n",
    "exp_name = \"gridsearch2\"\n",
    "\n",
    "# testing\n",
    "#input_dir_mesh = \"data/misc/testing/pose_test_dataset\"\n",
    "#input_dir_img = \"data/misc/testing/pose_test_dataset\"\n",
    "#gt_shapes_list_path = \"data_evaluation/shapenet_chair/shapenet_chair_gt_shapes.lst\"\n",
    "#exp_name = \"processed\""
   ]
  },
  {
   "cell_type": "code",
   "execution_count": 21,
   "metadata": {
    "ExecuteTime": {
     "end_time": "2020-10-02T00:04:26.999484Z",
     "start_time": "2020-10-02T00:04:26.958084Z"
    }
   },
   "outputs": [
    {
     "name": "stdout",
     "output_type": "stream",
     "text": [
      "data/onet_chair_shapent_no_DA_simplified_gridsearch2\n"
     ]
    }
   ],
   "source": [
    "refined_models_dir = \"{}_{}\".format(input_dir_mesh, exp_name)\n",
    "print(refined_models_dir)\n",
    "device = torch.device(\"cuda:0\")\n",
    "gt_shapes_dict = {}\n",
    "with open(gt_shapes_list_path, 'r') as f:\n",
    "    f = f.read().split('\\n')\n",
    "    for line in f:\n",
    "        if line != \"\":\n",
    "            gt_shapes_dict[line.split(\" \")[0]] = line.split(\" \")[1]"
   ]
  },
  {
   "cell_type": "code",
   "execution_count": 22,
   "metadata": {
    "ExecuteTime": {
     "end_time": "2020-10-02T00:04:38.299965Z",
     "start_time": "2020-10-02T00:04:28.282191Z"
    },
    "scrolled": false
   },
   "outputs": [
    {
     "name": "stdout",
     "output_type": "stream",
     "text": [
      "data/onet_chair_shapent_no_DA_simplified_gridsearch2/batch_1_of_5/cbfa51dd6b795262774ba10f0bcc178a.obj\n",
      "Metrics before refinement -- {'2d_iou': 0, '3d_iou': 0.50544107, '3d_iou_norm': 0.32917494, 'chamfer_L1': 0.0009217446204274893, 'chamfer_L1_norm': 0.012412576004862785}\n",
      "Metrics after refinement -- {'2d_iou': 0, '3d_iou': 0.4099556, '3d_iou_norm': 0.26087165, 'chamfer_L1': 0.0007518341299146414, 'chamfer_L1_norm': 0.016253650188446045}\n"
     ]
    },
    {
     "data": {
      "image/png": "[encoded data removed]",
      "text/plain": [
       "<Figure size 1080x360 with 6 Axes>"
      ]
     },
     "metadata": {
      "needs_background": "light"
     },
     "output_type": "display_data"
    }
   ],
   "source": [
    "# show postprocessed meshes at predicted angle\n",
    "#instances = random.sample([str(path).split('/')[-1].replace('.obj',\"\") for path in list(Path(refined_models_dir).rglob('*.obj'))], 10)\n",
    "#instances = [\"0085\", \"0151\", \"0281\", \"0356\", \"0372\", \"0409\", \"0578\", \"0596\", \"0702\", \"0737\"]\n",
    "#instances = [\"0085\", \"0281\"]\n",
    "instances=[\"cbfa51dd6b795262774ba10f0bcc178a\"]\n",
    "\n",
    "#m = [\"2d_iou\", \"3d_iou\", \"3d_iou_norm\", \"chamfer_L1\", \"chamfer_L1_norm\"]\n",
    "m = [\"3d_iou\", \"3d_iou_norm\", \"chamfer_L1\", \"chamfer_L1_norm\"]\n",
    "show_meshes(input_dir_img, input_dir_mesh, refined_models_dir, gt_shapes_dict, device, only_show_instances=instances, metrics_to_eval=m)"
   ]
  },
  {
   "cell_type": "code",
   "execution_count": null,
   "metadata": {
    "ExecuteTime": {
     "end_time": "2020-09-29T02:44:45.089262Z",
     "start_time": "2020-09-29T02:43:33.530772Z"
    },
    "scrolled": false
   },
   "outputs": [],
   "source": [
    "# show training loss info\n",
    "# getting paths of all loss info pickled files\n",
    "input_dir_mesh = cfg['dataset']['input_dir_mesh']\n",
    "output_dir = \"{}_{}\".format(input_dir_mesh, exp_name)\n",
    "cached_loss_info_paths = list(Path(output_dir).rglob('loss_info.p'))\n",
    "\n",
    "for path in cached_loss_info_paths:\n",
    "    dataset_loss_info = pickle.load(open(path, \"rb\"))\n",
    "    for instance_name in dataset_loss_info:\n",
    "        loss_info = dataset_loss_info[instance_name]\n",
    "        loss_info.plot.line(x='iteration', y='total_loss', title=\"{}\".format(instance_name))\n",
    "        #loss_info.plot.line(x='iteration', y='sil_loss')\n",
    "        #loss_info.plot.line(x='iteration', y='img_sym_loss')\n",
    "        #loss_info.plot.line(x='iteration', y='vertex_sym_loss')\n",
    "        #loss_info.plot.line(x='iteration', y='l2_loss')\n",
    "        #loss_info.plot.line(x='iteration', y='lap_smoothness_loss')\n",
    "        #loss_info.plot.line(x='iteration', y='normal_consistency_loss')\n",
    "        #loss_info.plot.line(x='iteration', y='semantic_dis_loss')"
   ]
  },
  {
   "cell_type": "code",
   "execution_count": 16,
   "metadata": {
    "ExecuteTime": {
     "end_time": "2020-09-30T23:39:24.793174Z",
     "start_time": "2020-09-30T23:39:24.742941Z"
    }
   },
   "outputs": [
    {
     "data": {
      "text/plain": [
       "tensor([[1., 1., 1., 1.]], device='cuda:0')"
      ]
     },
     "execution_count": 16,
     "metadata": {},
     "output_type": "execute_result"
    }
   ],
   "source": [
    "torch.ones((1,4)).to(device)"
   ]
  },
  {
   "cell_type": "code",
   "execution_count": null,
   "metadata": {},
   "outputs": [],
   "source": []
  },
  {
   "cell_type": "code",
   "execution_count": null,
   "metadata": {},
   "outputs": [],
   "source": []
  },
  {
   "cell_type": "code",
   "execution_count": null,
   "metadata": {},
   "outputs": [],
   "source": []
  },
  {
   "cell_type": "code",
   "execution_count": null,
   "metadata": {},
   "outputs": [],
   "source": []
  },
  {
   "cell_type": "code",
   "execution_count": null,
   "metadata": {},
   "outputs": [],
   "source": []
  },
  {
   "cell_type": "code",
   "execution_count": null,
   "metadata": {},
   "outputs": [],
   "source": []
  },
  {
   "cell_type": "code",
   "execution_count": null,
   "metadata": {},
   "outputs": [],
   "source": []
  }
 ],
 "metadata": {
  "kernelspec": {
   "display_name": "Python [conda env:standard] *",
   "language": "python",
   "name": "conda-env-standard-py"
  },
  "language_info": {
   "codemirror_mode": {
    "name": "ipython",
    "version": 3
   },
   "file_extension": ".py",
   "mimetype": "text/x-python",
   "name": "python",
   "nbconvert_exporter": "python",
   "pygments_lexer": "ipython3",
   "version": "3.6.9"
  }
 },
 "nbformat": 4,
 "nbformat_minor": 4
}
