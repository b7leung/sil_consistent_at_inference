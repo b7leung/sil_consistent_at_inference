{
 "cells": [
  {
   "cell_type": "code",
   "execution_count": 2,
   "metadata": {
    "ExecuteTime": {
     "end_time": "2020-10-02T22:26:10.564436Z",
     "start_time": "2020-10-02T22:26:10.521006Z"
    }
   },
   "outputs": [],
   "source": [
    "%load_ext autoreload\n",
    "%autoreload 2\n",
    "notebook_fixed_dir = False"
   ]
  },
  {
   "cell_type": "code",
   "execution_count": 3,
   "metadata": {
    "ExecuteTime": {
     "end_time": "2020-10-02T22:26:11.248277Z",
     "start_time": "2020-10-02T22:26:11.210255Z"
    }
   },
   "outputs": [
    {
     "name": "stdout",
     "output_type": "stream",
     "text": [
      "/home/svcl-oowl/brandon/research/sil_consistent_at_inference\n"
     ]
    }
   ],
   "source": [
    "# this cell can only be called once\n",
    "import os\n",
    "if not notebook_fixed_dir:\n",
    "    os.chdir('..')\n",
    "    notebook_fixed_dir = True\n",
    "print(os.getcwd())"
   ]
  },
  {
   "cell_type": "code",
   "execution_count": 4,
   "metadata": {
    "ExecuteTime": {
     "end_time": "2020-10-02T22:26:17.048617Z",
     "start_time": "2020-10-02T22:26:12.166980Z"
    }
   },
   "outputs": [],
   "source": [
    "import pickle\n",
    "import pprint\n",
    "import glob\n",
    "\n",
    "import trimesh\n",
    "import torch\n",
    "import pandas as pd\n",
    "from tqdm.autonotebook import tqdm\n",
    "from PIL import Image\n",
    "import numpy as np\n",
    "from pytorch3d.io import save_obj\n",
    "import trimesh\n",
    "\n",
    "from utils import utils, eval_utils\n",
    "from evaluation import compute_iou_2d, compute_iou_2d_given_pose, compute_iou_3d, compute_chamfer_L1\n",
    "from utils.visualization_tools import show_refinement_results\n",
    "from utils.brute_force_pose_est import brute_force_estimate_pose"
   ]
  },
  {
   "cell_type": "code",
   "execution_count": 8,
   "metadata": {
    "ExecuteTime": {
     "end_time": "2020-10-02T22:35:43.990650Z",
     "start_time": "2020-10-02T22:35:43.750764Z"
    }
   },
   "outputs": [],
   "source": [
    "i = 2\n",
    "mesh_original_path = os.path.join(\"notebooks/{}.obj\".format(i))\n",
    "#device = torch.device(\"cuda:0\")\n",
    "#with torch.no_grad():\n",
    "#    mesh_original = utils.load_untextured_mesh(mesh_original_path, device)\n",
    "    \n",
    "trimesh_original = trimesh.load(mesh_original_path)\n",
    "trimesh_original.vertices = eval_utils.normalize_pointclouds_numpy(trimesh_original.vertices)\n",
    "a = trimesh_original.export(\"notebooks/{}_resized.obj\".format(i))\n",
    "#save_obj(\"notebooks/1_resized.obj\", resized_verts, mesh_resized.faces_packed())"
   ]
  },
  {
   "cell_type": "code",
   "execution_count": null,
   "metadata": {},
   "outputs": [],
   "source": []
  },
  {
   "cell_type": "code",
   "execution_count": null,
   "metadata": {},
   "outputs": [],
   "source": []
  }
 ],
 "metadata": {
  "kernelspec": {
   "display_name": "Python [conda env:standard] *",
   "language": "python",
   "name": "conda-env-standard-py"
  },
  "language_info": {
   "codemirror_mode": {
    "name": "ipython",
    "version": 3
   },
   "file_extension": ".py",
   "mimetype": "text/x-python",
   "name": "python",
   "nbconvert_exporter": "python",
   "pygments_lexer": "ipython3",
   "version": "3.6.9"
  }
 },
 "nbformat": 4,
 "nbformat_minor": 4
}
