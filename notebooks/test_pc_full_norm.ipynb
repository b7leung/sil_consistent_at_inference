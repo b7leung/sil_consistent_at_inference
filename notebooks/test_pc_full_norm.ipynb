{
 "cells": [
  {
   "cell_type": "code",
   "execution_count": 2,
   "metadata": {
    "ExecuteTime": {
     "end_time": "2020-09-28T22:29:13.803306Z",
     "start_time": "2020-09-28T22:29:13.785178Z"
    }
   },
   "outputs": [],
   "source": [
    "%load_ext autoreload\n",
    "%autoreload 2\n",
    "notebook_fixed_dir = False"
   ]
  },
  {
   "cell_type": "code",
   "execution_count": 3,
   "metadata": {
    "ExecuteTime": {
     "end_time": "2020-09-28T22:29:14.600798Z",
     "start_time": "2020-09-28T22:29:14.586701Z"
    }
   },
   "outputs": [
    {
     "name": "stdout",
     "output_type": "stream",
     "text": [
      "/home/svcl-oowl/brandon/research/sil_consistent_at_inference\n"
     ]
    }
   ],
   "source": [
    "# this cell can only be called once\n",
    "import os\n",
    "if not notebook_fixed_dir:\n",
    "    os.chdir('..')\n",
    "    notebook_fixed_dir = True\n",
    "print(os.getcwd())"
   ]
  },
  {
   "cell_type": "code",
   "execution_count": 7,
   "metadata": {
    "ExecuteTime": {
     "end_time": "2020-09-28T22:29:43.058125Z",
     "start_time": "2020-09-28T22:29:43.016359Z"
    }
   },
   "outputs": [],
   "source": [
    "import pickle\n",
    "import pprint\n",
    "import glob\n",
    "\n",
    "import trimesh\n",
    "import torch\n",
    "import pandas as pd\n",
    "from tqdm.autonotebook import tqdm\n",
    "from PIL import Image\n",
    "import numpy as np\n",
    "from pytorch3d.io import save_obj\n",
    "\n",
    "from utils import utils, eval_utils\n",
    "from evaluation import compute_iou_2d, compute_iou_2d_given_pose, compute_iou_3d, compute_chamfer_L1\n",
    "from utils.visualization_tools import show_refinement_results\n",
    "from utils.brute_force_pose_est import brute_force_estimate_pose"
   ]
  },
  {
   "cell_type": "code",
   "execution_count": 36,
   "metadata": {
    "ExecuteTime": {
     "end_time": "2020-09-29T02:07:09.870169Z",
     "start_time": "2020-09-29T02:07:07.384381Z"
    }
   },
   "outputs": [
    {
     "name": "stdout",
     "output_type": "stream",
     "text": [
      "tensor([[-1.0000, -0.9814,  0.8959],\n",
      "        [-0.9976, -0.9819, -0.9055],\n",
      "        [-0.9959, -0.9810,  0.9377],\n",
      "        ...,\n",
      "        [ 0.9652, -0.9815,  0.8690],\n",
      "        [ 0.9212, -0.9025,  0.9065],\n",
      "        [ 1.0000, -0.9823,  0.9088]])\n",
      "tensor([[-1.0000, -0.9814,  0.8959],\n",
      "        [-0.9976, -0.9819, -0.9055],\n",
      "        [-0.9959, -0.9810,  0.9377],\n",
      "        ...,\n",
      "        [ 0.9652, -0.9815,  0.8690],\n",
      "        [ 0.9212, -0.9025,  0.9065],\n",
      "        [ 1.0000, -0.9823,  0.9088]])\n",
      "True\n"
     ]
    }
   ],
   "source": [
    "mesh_original_path = os.path.join(\"notebooks/test.obj\")\n",
    "device = torch.device(\"cuda:0\")\n",
    "with torch.no_grad():\n",
    "    mesh_original = utils.load_untextured_mesh(mesh_original_path, device)\n",
    "resized_verts_slow = torch.tensor(eval_utils.normalize_pointclouds_numpy_all_axes_slow(mesh_original.verts_packed().cpu().numpy()))\n",
    "resized_verts_fast = torch.tensor(eval_utils.normalize_pointclouds_numpy_all_axes(mesh_original.verts_packed().cpu().numpy()))\n",
    "print(resized_verts_slow)\n",
    "print(resized_verts_fast)\n",
    "print(torch.allclose(resized_verts_slow, resized_verts_fast))\n",
    "#print(torch.max(mesh_original.verts_packed(), 0))\n",
    "#print(torch.min(mesh_original.verts_packed(), 0))\n",
    "#print(torch.max(resized_verts, 0))\n",
    "#print(torch.min(resized_verts, 0))\n",
    "#save_obj(\"notebooks/test_resized.obj\", resized_verts, mesh_resized.faces_packed())"
   ]
  },
  {
   "cell_type": "code",
   "execution_count": 28,
   "metadata": {
    "ExecuteTime": {
     "end_time": "2020-09-29T02:01:35.248724Z",
     "start_time": "2020-09-29T02:01:35.209427Z"
    }
   },
   "outputs": [
    {
     "name": "stdout",
     "output_type": "stream",
     "text": [
      "[-3 -2 -1  1  2  3  4  5]\n",
      "[-3 -2 -1 44 55 66 77 88]\n"
     ]
    }
   ],
   "source": [
    "x = np.array([-3, -2, -1, 1,2,3,4,5])\n",
    "print(x)\n",
    "x[x>0] = np.array([44,55,66,77,88])\n",
    "print(x)\n",
    "#x[np.array([1,4])] = np.array([99, 94])\n",
    "#print(x)"
   ]
  },
  {
   "cell_type": "code",
   "execution_count": null,
   "metadata": {},
   "outputs": [],
   "source": []
  },
  {
   "cell_type": "code",
   "execution_count": null,
   "metadata": {},
   "outputs": [],
   "source": []
  }
 ],
 "metadata": {
  "kernelspec": {
   "display_name": "Python [conda env:standard] *",
   "language": "python",
   "name": "conda-env-standard-py"
  },
  "language_info": {
   "codemirror_mode": {
    "name": "ipython",
    "version": 3
   },
   "file_extension": ".py",
   "mimetype": "text/x-python",
   "name": "python",
   "nbconvert_exporter": "python",
   "pygments_lexer": "ipython3",
   "version": "3.6.9"
  }
 },
 "nbformat": 4,
 "nbformat_minor": 4
}
