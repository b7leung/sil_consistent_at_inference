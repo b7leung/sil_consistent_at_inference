{
 "cells": [
  {
   "cell_type": "code",
   "execution_count": 1,
   "metadata": {
    "ExecuteTime": {
     "end_time": "2020-08-21T08:17:53.156231Z",
     "start_time": "2020-08-21T08:17:53.141147Z"
    }
   },
   "outputs": [],
   "source": [
    "%load_ext autoreload\n",
    "%autoreload 2\n",
    "notebook_fixed_dir = False"
   ]
  },
  {
   "cell_type": "code",
   "execution_count": 2,
   "metadata": {
    "ExecuteTime": {
     "end_time": "2020-08-21T08:17:53.864017Z",
     "start_time": "2020-08-21T08:17:53.851696Z"
    }
   },
   "outputs": [
    {
     "name": "stdout",
     "output_type": "stream",
     "text": [
      "/home/svcl-oowl/brandon/research/sil_consistent_at_inference\n"
     ]
    }
   ],
   "source": [
    "# this cell can only be called once\n",
    "import os\n",
    "if not notebook_fixed_dir:\n",
    "    os.chdir('..')\n",
    "    notebook_fixed_dir = True\n",
    "print(os.getcwd())"
   ]
  },
  {
   "cell_type": "code",
   "execution_count": 3,
   "metadata": {
    "ExecuteTime": {
     "end_time": "2020-08-21T08:17:54.726580Z",
     "start_time": "2020-08-21T08:17:54.716509Z"
    }
   },
   "outputs": [],
   "source": [
    "import pprint\n",
    "import glob\n",
    "from pathlib import Path"
   ]
  },
  {
   "cell_type": "code",
   "execution_count": 7,
   "metadata": {
    "ExecuteTime": {
     "end_time": "2020-08-21T08:18:59.130828Z",
     "start_time": "2020-08-21T08:18:59.120384Z"
    }
   },
   "outputs": [],
   "source": [
    "# generates a partition .list file for the training/validation set for both the real and fake dataset\n",
    "OUTPUT_RENDER_DIR_REAL = \"data/semantic_dis/real_renders\"\n",
    "OUTPUT_RENDER_DIR_FAKE = \"data/semantic_dis/fake_renders\"\n",
    "val_split_percentage = 0.25"
   ]
  },
  {
   "cell_type": "code",
   "execution_count": 5,
   "metadata": {
    "ExecuteTime": {
     "end_time": "2020-08-21T08:17:58.041627Z",
     "start_time": "2020-08-21T08:17:58.022293Z"
    }
   },
   "outputs": [],
   "source": [
    "def create_train_val_partitions(dataset_dir_path, num_img_total, val_split_percentage):\n",
    "    render_paths = list(Path(dataset_dir_path).rglob('*.jpg'))\n",
    "    # list of filenames w/o _#.jpg suffix\n",
    "    render_filename_stubs = [str(path).split('/')[-1] for path in render_paths]\n",
    "    render_filename_stubs = [\"_\".join(filename.split('_')[:-1]) for filename in render_filename_stubs]\n",
    "    render_filename_stubs = list(set(render_filename_stubs))\n",
    "\n",
    "    render_i = 0\n",
    "    train_img_names = []\n",
    "    val_img_names = []\n",
    "    for render_filename_stub in render_filename_stubs:\n",
    "        if render_i < num_img_to_render * val_split_percentage:\n",
    "            for i in range(num_azims):\n",
    "                val_img_names.append(\"{}_{}.jpg\".format(render_filename_stub, i))\n",
    "                render_i += 1\n",
    "        else:\n",
    "            for i in range(num_azims):\n",
    "                train_img_names.append(\"{}_{}.jpg\".format(render_filename_stub, i))\n",
    "                render_i += 1\n",
    "        if render_i >= num_img_total:\n",
    "            break\n",
    "\n",
    "    # creating .lst files to record train/val partition info\n",
    "    with open(os.path.join(dataset_dir_path, \"train.lst\"), \"w\") as f:\n",
    "        for i, img_name in enumerate(train_img_names):\n",
    "            if i < len(train_img_names)-1:\n",
    "                f.write(img_name+\"\\n\")\n",
    "            else:\n",
    "                f.write(img_name)\n",
    "\n",
    "    with open(os.path.join(dataset_dir_path, \"val.lst\"), \"w\") as f:\n",
    "        for i, img_name in enumerate(val_img_names):\n",
    "            if i < len(val_img_names)-1:\n",
    "                f.write(img_name+\"\\n\")\n",
    "            else:\n",
    "                f.write(img_name)"
   ]
  },
  {
   "cell_type": "code",
   "execution_count": 8,
   "metadata": {
    "ExecuteTime": {
     "end_time": "2020-08-21T08:19:00.690218Z",
     "start_time": "2020-08-21T08:19:00.624973Z"
    }
   },
   "outputs": [
    {
     "name": "stdout",
     "output_type": "stream",
     "text": [
      "dataset will have 72 fake & real images\n"
     ]
    }
   ],
   "source": [
    "num_img_to_render = min(len(list(Path(OUTPUT_RENDER_DIR_REAL).rglob('*.jpg'))), len(list(Path(OUTPUT_RENDER_DIR_FAKE).rglob('*.jpg'))))\n",
    "print(\"dataset will have {} fake & real images\".format(num_img_to_render))\n",
    "create_train_val_partitions(OUTPUT_RENDER_DIR_REAL, num_img_to_render, val_split_percentage)\n",
    "create_train_val_partitions(OUTPUT_RENDER_DIR_FAKE, num_img_to_render, val_split_percentage)"
   ]
  },
  {
   "cell_type": "code",
   "execution_count": null,
   "metadata": {},
   "outputs": [],
   "source": []
  },
  {
   "cell_type": "code",
   "execution_count": null,
   "metadata": {},
   "outputs": [],
   "source": []
  },
  {
   "cell_type": "code",
   "execution_count": null,
   "metadata": {},
   "outputs": [],
   "source": []
  }
 ],
 "metadata": {
  "kernelspec": {
   "display_name": "Python [conda env:standard] *",
   "language": "python",
   "name": "conda-env-standard-py"
  },
  "language_info": {
   "codemirror_mode": {
    "name": "ipython",
    "version": 3
   },
   "file_extension": ".py",
   "mimetype": "text/x-python",
   "name": "python",
   "nbconvert_exporter": "python",
   "pygments_lexer": "ipython3",
   "version": "3.6.9"
  }
 },
 "nbformat": 4,
 "nbformat_minor": 4
}
