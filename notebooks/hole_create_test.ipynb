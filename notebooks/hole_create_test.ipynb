{
 "cells": [
  {
   "cell_type": "code",
   "execution_count": 1,
   "metadata": {
    "ExecuteTime": {
     "end_time": "2020-12-06T04:14:48.831205Z",
     "start_time": "2020-12-06T04:14:48.817181Z"
    }
   },
   "outputs": [
    {
     "name": "stdout",
     "output_type": "stream",
     "text": [
      "/home/svcl-oowl/brandon/research/CVPR_2021_REFINE/sil_consistent_at_inference\n"
     ]
    }
   ],
   "source": [
    "%load_ext autoreload\n",
    "%autoreload 2\n",
    "import os\n",
    "os.chdir('/home/svcl-oowl/brandon/research/CVPR_2021_REFINE/sil_consistent_at_inference')\n",
    "print(os.getcwd())"
   ]
  },
  {
   "cell_type": "code",
   "execution_count": 2,
   "metadata": {
    "ExecuteTime": {
     "end_time": "2020-12-06T04:14:53.138944Z",
     "start_time": "2020-12-06T04:14:49.535379Z"
    }
   },
   "outputs": [],
   "source": [
    "import pprint\n",
    "import glob\n",
    "from pathlib import Path\n",
    "import pickle\n",
    "import random\n",
    "\n",
    "import torch\n",
    "from PIL import Image\n",
    "import numpy as np\n",
    "from pytorch3d.renderer import look_at_view_transform, PointLights, TexturesVertex, Textures\n",
    "import matplotlib.pyplot as plt\n",
    "import trimesh\n",
    "import cv2\n",
    "import pytorch3d\n",
    "from pytorch3d.io import save_obj\n",
    "\n",
    "from utils import general_utils\n",
    "from utils import visualization_tools\n",
    "from utils.eval_utils import eval_metrics\n",
    "#from evaluation import compute_iou_2d, compute_iou_2d_given_pose, compute_iou_3d, compute_chamfer_L1"
   ]
  },
  {
   "cell_type": "code",
   "execution_count": 3,
   "metadata": {
    "ExecuteTime": {
     "end_time": "2020-12-06T04:14:53.162871Z",
     "start_time": "2020-12-06T04:14:53.140860Z"
    }
   },
   "outputs": [],
   "source": [
    "def midpoint(points_list_original):\n",
    "    # gotcha: need to operate on a copy, or else the underlying data will be changed\n",
    "    points_list = [points.detach().clone() for points in points_list_original]\n",
    "    midpoint = points_list[0]\n",
    "    for point in points_list[1:]:\n",
    "        midpoint += point\n",
    "    midpoint = midpoint/(len(points_list))\n",
    "    return midpoint"
   ]
  },
  {
   "cell_type": "code",
   "execution_count": 192,
   "metadata": {
    "ExecuteTime": {
     "end_time": "2020-12-05T08:55:55.879447Z",
     "start_time": "2020-12-05T08:55:55.836066Z"
    },
    "code_folding": [
     0
    ]
   },
   "outputs": [],
   "source": [
    "def create_hole_in_mesh_old(mesh, face_idx):\n",
    "    mesh_verts = mesh.verts_packed().detach().clone()\n",
    "    mesh_faces = mesh.faces_packed().detach().clone()\n",
    "    mesh_device = mesh_verts.device\n",
    "    \n",
    "    face_idx_x = mesh_faces[face_idx][0].item()\n",
    "    face_idx_y = mesh_faces[face_idx][1].item()\n",
    "    face_idx_z = mesh_faces[face_idx][2].item()\n",
    "    vertex_x = mesh_verts[face_idx_x]\n",
    "    vertex_y = mesh_verts[face_idx_y]\n",
    "    vertex_z = mesh_verts[face_idx_z]\n",
    "    vertex_c = midpoint([vertex_x, vertex_y, vertex_z])\n",
    "    \n",
    "    # creating 6 new vertices\n",
    "    vertex_xy_0 = midpoint([vertex_x, vertex_y]).unsqueeze(0)\n",
    "    vertex_xz_1 = midpoint([vertex_x, vertex_z]).unsqueeze(0)\n",
    "    vertex_yz_2 = midpoint([vertex_y, vertex_z]).unsqueeze(0)\n",
    "    vertex_cx_3 = midpoint([vertex_c, vertex_x]).unsqueeze(0)\n",
    "    vertex_cy_4 = midpoint([vertex_c, vertex_y]).unsqueeze(0)\n",
    "    vertex_cz_5 = midpoint([vertex_c, vertex_z]).unsqueeze(0)\n",
    "    new_verts_list = [mesh_verts, vertex_xy_0, vertex_xz_1, vertex_yz_2, vertex_cx_3, vertex_cy_4, vertex_cz_5]\n",
    "    hole_mesh_verts = torch.cat(new_verts_list, dim=0)\n",
    "    \n",
    "    # removing original mesh face, and creating new 9 faces\n",
    "    new_faces_list = [mesh_faces[np.array([i for i in range(len(mesh_faces)) if i!= face_idx])]]\n",
    "    new_faces_list.append(torch.tensor([[face_idx_x, 1+len(mesh_verts), 3+len(mesh_verts)]]).to(mesh_device))\n",
    "    new_faces_list.append(torch.tensor([[face_idx_x, 0+len(mesh_verts), 3+len(mesh_verts)]]).to(mesh_device))\n",
    "    new_faces_list.append(torch.tensor([[face_idx_y, 0+len(mesh_verts), 4+len(mesh_verts)]]).to(mesh_device))\n",
    "    new_faces_list.append(torch.tensor([[face_idx_y, 2+len(mesh_verts), 4+len(mesh_verts)]]).to(mesh_device))\n",
    "    new_faces_list.append(torch.tensor([[face_idx_z, 1+len(mesh_verts), 5+len(mesh_verts)]]).to(mesh_device))\n",
    "    new_faces_list.append(torch.tensor([[face_idx_z, 2+len(mesh_verts), 5+len(mesh_verts)]]).to(mesh_device))\n",
    "    new_faces_list.append(torch.tensor([[0+len(mesh_verts), 3+len(mesh_verts), 4+len(mesh_verts)]]).to(mesh_device))\n",
    "    new_faces_list.append(torch.tensor([[2+len(mesh_verts), 4+len(mesh_verts), 5+len(mesh_verts)]]).to(mesh_device))\n",
    "    new_faces_list.append(torch.tensor([[1+len(mesh_verts), 3+len(mesh_verts), 5+len(mesh_verts)]]).to(mesh_device))\n",
    "    hole_mesh_faces = torch.cat(new_faces_list, dim=0)\n",
    "    hole_mesh = pytorch3d.structures.Meshes(verts=hole_mesh_verts.unsqueeze(0) , faces=hole_mesh_faces.unsqueeze(0))\n",
    "    return hole_mesh\n",
    "    "
   ]
  },
  {
   "cell_type": "code",
   "execution_count": 4,
   "metadata": {
    "ExecuteTime": {
     "end_time": "2020-12-06T04:14:53.958841Z",
     "start_time": "2020-12-06T04:14:53.923567Z"
    }
   },
   "outputs": [],
   "source": [
    "def create_hole_in_mesh(mesh, face_idx, num_new=1):\n",
    "    mesh_verts = mesh.verts_packed().detach().clone()\n",
    "    mesh_faces = mesh.faces_packed().detach().clone()\n",
    "    mesh_device = mesh_verts.device\n",
    "    \n",
    "    face_idx_x = mesh_faces[face_idx][0].item()\n",
    "    face_idx_y = mesh_faces[face_idx][1].item()\n",
    "    face_idx_z = mesh_faces[face_idx][2].item()\n",
    "    vertex_x = mesh_verts[face_idx_x]\n",
    "    vertex_y = mesh_verts[face_idx_y]\n",
    "    vertex_z = mesh_verts[face_idx_z]\n",
    "    \n",
    "    vertex_c = midpoint([vertex_x, vertex_y, vertex_z])\n",
    "    vertex_cx = midpoint([vertex_c, vertex_x]).unsqueeze(0)\n",
    "    vertex_cy = midpoint([vertex_c, vertex_y]).unsqueeze(0)\n",
    "    vertex_cz = midpoint([vertex_c, vertex_z]).unsqueeze(0)\n",
    "    \n",
    "    new_verts_list = [mesh_verts, vertex_cx, vertex_cy, vertex_cz]\n",
    "    new_faces_list = [mesh_faces[np.array([i for i in range(len(mesh_faces)) if i!= face_idx])]]\n",
    "    hole_mesh_verts = torch.cat(new_verts_list, dim=0)\n",
    "    \n",
    "    for LL, LL_idx, UL, UL_idx, UR, UR_idx, LR, LR_idx in [[vertex_x.unsqueeze(0), face_idx_x, vertex_cx, len(mesh_verts), vertex_cy, len(mesh_verts)+1, vertex_y.unsqueeze(0), face_idx_y],\n",
    "                                                           [vertex_y.unsqueeze(0), face_idx_y, vertex_cy, len(mesh_verts)+1, vertex_cz, len(mesh_verts)+2, vertex_z.unsqueeze(0), face_idx_z],\n",
    "                                                           [vertex_z.unsqueeze(0), face_idx_z, vertex_cz, len(mesh_verts)+2, vertex_cx, len(mesh_verts), vertex_x.unsqueeze(0), face_idx_x]]:\n",
    "        trap_verts_top = []\n",
    "        trap_verts_bottom = []\n",
    "        # creating vertices at top and bottom of trapezoid, by linear interpolation\n",
    "        for alpha in list(np.linspace(0,1,num=num_new+2))[1:-1]:\n",
    "            trap_verts_top.append((UL*(1-alpha)+UR*alpha))\n",
    "        for alpha in list(np.linspace(0,1,num=num_new+3))[1:-1]:\n",
    "            trap_verts_bottom.append((LL*(1-alpha)+LR*alpha))\n",
    "        # creating faces from left to right\n",
    "        trap_verts_interlaced = []\n",
    "        top_i = 0\n",
    "        bottom_i = 0\n",
    "        for i in range((2*num_new)+1):\n",
    "            if i%2 ==0:\n",
    "                trap_verts_interlaced.append(trap_verts_bottom[bottom_i])\n",
    "                bottom_i+=1\n",
    "            else:\n",
    "                trap_verts_interlaced.append(trap_verts_top[top_i])\n",
    "                top_i+=1\n",
    "        trap_idxs = [LL_idx, UL_idx] + list(range(len(hole_mesh_verts), len(hole_mesh_verts)+len(trap_verts_interlaced))) + [UR_idx, LR_idx]\n",
    "        for i in range(len(trap_idxs)-2):\n",
    "            new_faces_list.append(torch.tensor([[trap_idxs[i], trap_idxs[i+1], trap_idxs[i+2]]]).to(mesh_device))\n",
    "        hole_mesh_verts = torch.cat([hole_mesh_verts]+trap_verts_interlaced, dim=0)\n",
    "            \n",
    "    hole_mesh_faces = torch.cat(new_faces_list, dim=0)\n",
    "    hole_mesh = pytorch3d.structures.Meshes(verts=hole_mesh_verts.unsqueeze(0), faces=hole_mesh_faces.unsqueeze(0))\n",
    "    return hole_mesh"
   ]
  },
  {
   "cell_type": "code",
   "execution_count": 6,
   "metadata": {
    "ExecuteTime": {
     "end_time": "2020-12-06T04:15:08.838569Z",
     "start_time": "2020-12-06T04:15:06.670804Z"
    }
   },
   "outputs": [
    {
     "name": "stderr",
     "output_type": "stream",
     "text": [
      "/opt/conda/envs/standard/lib/python3.6/site-packages/pytorch3d/io/obj_io.py:495: UserWarning: Mtl file does not exist: notebooks/./asdf.obj.mtl\n",
      "  warnings.warn(f\"Mtl file does not exist: {f_mtl}\")\n"
     ]
    }
   ],
   "source": [
    "#model_path = \"notebooks/triangular_cube_8.obj\"\n",
    "model_path = \"notebooks/triangular_mesh_cube.obj\"\n",
    "device = torch.device(\"cuda:0\")\n",
    "mesh = general_utils.load_untextured_mesh(model_path, device)"
   ]
  },
  {
   "cell_type": "code",
   "execution_count": 9,
   "metadata": {
    "ExecuteTime": {
     "end_time": "2020-12-06T04:20:57.605008Z",
     "start_time": "2020-12-06T04:20:57.415418Z"
    }
   },
   "outputs": [],
   "source": [
    "mesh_with_hole = create_hole_in_mesh(mesh, 1236, num_new=7)\n",
    "save_obj(\"notebooks/hole.obj\", mesh_with_hole.verts_packed(), mesh_with_hole.faces_packed())"
   ]
  },
  {
   "cell_type": "code",
   "execution_count": null,
   "metadata": {},
   "outputs": [],
   "source": []
  },
  {
   "cell_type": "code",
   "execution_count": null,
   "metadata": {},
   "outputs": [],
   "source": []
  },
  {
   "cell_type": "code",
   "execution_count": null,
   "metadata": {},
   "outputs": [],
   "source": []
  },
  {
   "cell_type": "code",
   "execution_count": null,
   "metadata": {},
   "outputs": [],
   "source": []
  }
 ],
 "metadata": {
  "kernelspec": {
   "display_name": "Python 3",
   "language": "python",
   "name": "python3"
  },
  "language_info": {
   "codemirror_mode": {
    "name": "ipython",
    "version": 3
   },
   "file_extension": ".py",
   "mimetype": "text/x-python",
   "name": "python",
   "nbconvert_exporter": "python",
   "pygments_lexer": "ipython3",
   "version": "3.6.9"
  }
 },
 "nbformat": 4,
 "nbformat_minor": 4
}
