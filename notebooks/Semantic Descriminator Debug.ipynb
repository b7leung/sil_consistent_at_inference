{
 "cells": [
  {
   "cell_type": "code",
   "execution_count": null,
   "metadata": {
    "ExecuteTime": {
     "end_time": "2020-08-24T11:26:55.273214Z",
     "start_time": "2020-08-24T11:26:55.248970Z"
    }
   },
   "outputs": [],
   "source": [
    "%load_ext autoreload\n",
    "%autoreload 2\n",
    "notebook_fixed_dir = False"
   ]
  },
  {
   "cell_type": "code",
   "execution_count": null,
   "metadata": {
    "ExecuteTime": {
     "end_time": "2020-08-24T11:26:55.922568Z",
     "start_time": "2020-08-24T11:26:55.911669Z"
    }
   },
   "outputs": [],
   "source": [
    "# this cell can only be called once\n",
    "import os\n",
    "if not notebook_fixed_dir:\n",
    "    os.chdir('..')\n",
    "    notebook_fixed_dir = True\n",
    "print(os.getcwd())"
   ]
  },
  {
   "cell_type": "code",
   "execution_count": null,
   "metadata": {
    "ExecuteTime": {
     "end_time": "2020-08-24T11:33:58.442014Z",
     "start_time": "2020-08-24T11:33:58.296413Z"
    }
   },
   "outputs": [],
   "source": [
    "import pprint\n",
    "import pickle\n",
    "import glob\n",
    "import random\n",
    "from pathlib import Path\n",
    "\n",
    "import torch\n",
    "from tqdm import tqdm\n",
    "from PIL import Image\n",
    "import numpy as np\n",
    "from pytorch3d.renderer import (\n",
    "    look_at_view_transform\n",
    ")\n",
    "import matplotlib.pyplot as plt\n",
    "import pandas as pd\n",
    "import cv2\n",
    "\n",
    "from utils import utils\n",
    "import deformation.losses as def_losses\n",
    "from deformation.semantic_discriminator_loss import SemanticDiscriminatorLoss \n",
    "from semantic_discriminator_trainer import train\n",
    "from deformation.semantic_discriminator_dataset import SemanticDiscriminatorDataset\n",
    "from deformation.semantic_discriminator_net import SemanticDiscriminatorNetwork"
   ]
  },
  {
   "cell_type": "code",
   "execution_count": null,
   "metadata": {
    "ExecuteTime": {
     "end_time": "2020-08-24T11:27:00.010894Z",
     "start_time": "2020-08-24T11:26:59.889227Z"
    }
   },
   "outputs": [],
   "source": [
    "gpu_num = 0\n",
    "device = torch.device(\"cuda:\"+str(gpu_num))\n",
    "cfg_path = \"configs/testing.yaml\""
   ]
  },
  {
   "cell_type": "markdown",
   "metadata": {},
   "source": [
    "# Check raw training data images"
   ]
  },
  {
   "cell_type": "code",
   "execution_count": null,
   "metadata": {
    "ExecuteTime": {
     "end_time": "2020-08-24T11:34:03.609144Z",
     "start_time": "2020-08-24T11:34:00.032872Z"
    },
    "scrolled": true
   },
   "outputs": [],
   "source": [
    "cfg = utils.load_config(cfg_path, \"configs/default.yaml\")\n",
    "\n",
    "num_show = 3\n",
    "for render_dir_type in [\"real_dataset_dir\", \"fake_dataset_dir\"]:\n",
    "    print(\"{}==========================================================\".format(render_dir_type))\n",
    "    render_dir = os.path.join(cfg[\"semantic_dis_training\"][render_dir_type])\n",
    "    img_paths = glob.glob(os.path.join(render_dir, \"*.jpg\"))\n",
    "    random.shuffle(img_paths)\n",
    "    for img_path in img_paths[:num_show]:\n",
    "        print(img_path)\n",
    "        plt.imshow(cv2.imread(img_path))\n",
    "        plt.show()"
   ]
  },
  {
   "cell_type": "markdown",
   "metadata": {},
   "source": [
    "# Check dataloader training data"
   ]
  },
  {
   "cell_type": "code",
   "execution_count": null,
   "metadata": {
    "ExecuteTime": {
     "end_time": "2020-08-24T11:29:27.331366Z",
     "start_time": "2020-08-24T11:29:26.982764Z"
    }
   },
   "outputs": [],
   "source": [
    "dataset = SemanticDiscriminatorDataset(cfg, \"train\")\n",
    "print(len(dataset))"
   ]
  },
  {
   "cell_type": "code",
   "execution_count": null,
   "metadata": {
    "ExecuteTime": {
     "end_time": "2020-08-24T11:29:30.699572Z",
     "start_time": "2020-08-24T11:29:28.690820Z"
    }
   },
   "outputs": [],
   "source": [
    "chair_i = 95\n",
    "#chair_type = \"real\"\n",
    "chair_type = \"fake\"\n",
    "for i in range(10):\n",
    "    data_real = dataset[chair_i][chair_type]\n",
    "    plt.imshow(data_real.permute(1,2,0))\n",
    "    plt.show()"
   ]
  },
  {
   "cell_type": "markdown",
   "metadata": {},
   "source": [
    "# View discriminator training statistics"
   ]
  },
  {
   "cell_type": "code",
   "execution_count": null,
   "metadata": {
    "ExecuteTime": {
     "end_time": "2020-08-24T11:36:03.491566Z",
     "start_time": "2020-08-24T11:36:02.855051Z"
    }
   },
   "outputs": [],
   "source": [
    "# show results of experiment\n",
    "exp_name=\"2020_08_24--05_31_28_dropout\"\n",
    "#exp_name=\"2020_08_24--06_45_44_dcgan_dis_drop8\"\n",
    "\n",
    "exp_dir = os.path.join(\"out\", exp_name)\n",
    "print(exp_dir)\n",
    "exp_training_info_path = os.path.join(exp_dir, \"training_info.p\")\n",
    "\n",
    "exp_training_info = pickle.load(open(exp_training_info_path, \"rb\"))\n",
    "exp_training_info['train'].plot.line(x=\"iteration\", y=\"train_loss\")\n",
    "exp_training_info['val'].plot.line(x=\"epoch\", y=\"val_acc\")"
   ]
  },
  {
   "cell_type": "markdown",
   "metadata": {},
   "source": [
    "# Check semantic discriminator loss & renders for processed models"
   ]
  },
  {
   "cell_type": "code",
   "execution_count": null,
   "metadata": {
    "ExecuteTime": {
     "end_time": "2020-08-24T11:27:11.344590Z",
     "start_time": "2020-08-24T11:27:11.206802Z"
    }
   },
   "outputs": [],
   "source": [
    "#mesh_paths = [\"data/test_dataset/0001old.obj\"]\n",
    "mesh_paths = [\"data/test_dataset_one_processed/batch_1_of_1/0001old.obj\"]\n",
    "#mesh_paths = glob.glob(os.path.join(\"data/onet_chair_pix3d_dann_simplified_processed/batch_1_of_5\",\"*.obj\"))\n",
    "#mesh_paths = [str(path) for path in list(Path(os.path.join(\"data/misc/example_shapenet\")).rglob('*.obj'))]\n",
    "#pprint.pprint(mesh_paths)"
   ]
  },
  {
   "cell_type": "code",
   "execution_count": null,
   "metadata": {
    "ExecuteTime": {
     "end_time": "2020-08-24T11:27:14.762262Z",
     "start_time": "2020-08-24T11:27:12.343950Z"
    }
   },
   "outputs": [],
   "source": [
    "cfg = utils.load_config(cfg_path,\"configs/default.yaml\")\n",
    "semantic_loss_computer = SemanticDiscriminatorLoss(cfg, device)\n",
    "\n",
    "for mesh_path in mesh_paths:\n",
    "    with torch.no_grad():\n",
    "        mesh = utils.load_untextured_mesh(mesh_path, device)\n",
    "        semantic_dis_loss, semantic_loss_renders = semantic_loss_computer.compute_loss(mesh)\n",
    "    print(\"{}: {}\".format(mesh_path,semantic_dis_loss.item()))\n",
    "    print(semantic_loss_renders.shape)\n",
    "    for render in semantic_loss_renders:\n",
    "        plt.imshow(render.cpu().numpy())\n",
    "        plt.show()"
   ]
  },
  {
   "cell_type": "markdown",
   "metadata": {},
   "source": [
    "# Evaluate validation set accuracy from saved weights"
   ]
  },
  {
   "cell_type": "code",
   "execution_count": null,
   "metadata": {
    "ExecuteTime": {
     "end_time": "2020-08-24T07:26:48.426100Z",
     "start_time": "2020-08-24T07:26:30.746356Z"
    }
   },
   "outputs": [],
   "source": [
    "# initalize semantic loss computer and validation set dataloader\n",
    "cfg = utils.load_config(cfg_path,\"configs/default.yaml\")\n",
    "semantic_loss_computer = SemanticDiscriminatorLoss(cfg, device)\n",
    "val_dataset = SemanticDiscriminatorDataset(cfg, \"val\")\n",
    "val_loader = torch.utils.data.DataLoader(\n",
    "    val_dataset, batch_size=1, num_workers=4, shuffle=False,\n",
    "    collate_fn=None, worker_init_fn=None)"
   ]
  },
  {
   "cell_type": "code",
   "execution_count": null,
   "metadata": {
    "ExecuteTime": {
     "end_time": "2020-08-24T07:24:19.430427Z",
     "start_time": "2020-08-24T07:24:03.417362Z"
    },
    "scrolled": true
   },
   "outputs": [],
   "source": [
    "# load model with saved weights\n",
    "semantic_discriminator_net = SemanticDiscriminatorNetwork(cfg)\n",
    "semantic_discriminator_net.load_state_dict(torch.load(cfg[\"training\"][\"semantic_dis_weight_path\"]))\n",
    "semantic_discriminator_net.to(device)"
   ]
  },
  {
   "cell_type": "code",
   "execution_count": null,
   "metadata": {
    "ExecuteTime": {
     "end_time": "2020-08-24T07:26:49.264934Z",
     "start_time": "2020-08-24T07:26:48.427798Z"
    }
   },
   "outputs": [],
   "source": [
    "# compute validation set accuracy\n",
    "# TODO: when implemented, use the method in semantic_discriminator_trainer.py instead\n",
    "val_accuracies = []\n",
    "n = 100\n",
    "i = 0\n",
    "for val_batch in tqdm(val_loader):\n",
    "    semantic_discriminator_net.eval()\n",
    "    with torch.no_grad():\n",
    "        pred_logits_real = semantic_discriminator_net(val_batch['real'].to(device))\n",
    "        pred_logits_fake = semantic_discriminator_net(val_batch['fake'].to(device))\n",
    "        batch_size = val_batch['real'].shape[0]\n",
    "        real_labels = torch.zeros((batch_size, 1)).to(device)\n",
    "        fake_labels = torch.ones((batch_size, 1)).to(device)     \n",
    "        real_correct_vec = (torch.sigmoid(pred_logits_real) > 0.5) == real_labels.byte()\n",
    "        fake_correct_vec = (torch.sigmoid(pred_logits_fake) > 0.5) == fake_labels.byte()\n",
    "        val_accuracies.append(real_correct_vec.cpu().numpy())\n",
    "        val_accuracies.append(fake_correct_vec.cpu().numpy())\n",
    "    val_accuracy = np.mean(np.concatenate(val_accuracies, axis = 0))\n",
    "    print(val_accuracy)\n",
    "    i += 1\n",
    "    if i >= n:\n",
    "        break\n",
    "print(val_accuracy)"
   ]
  },
  {
   "cell_type": "code",
   "execution_count": null,
   "metadata": {
    "ExecuteTime": {
     "end_time": "2020-08-23T08:56:09.523656Z",
     "start_time": "2020-08-23T08:56:09.497686Z"
    }
   },
   "outputs": [],
   "source": []
  },
  {
   "cell_type": "code",
   "execution_count": null,
   "metadata": {},
   "outputs": [],
   "source": []
  },
  {
   "cell_type": "code",
   "execution_count": null,
   "metadata": {},
   "outputs": [],
   "source": []
  },
  {
   "cell_type": "code",
   "execution_count": null,
   "metadata": {},
   "outputs": [],
   "source": []
  }
 ],
 "metadata": {
  "kernelspec": {
   "display_name": "Python [conda env:standard] *",
   "language": "python",
   "name": "conda-env-standard-py"
  },
  "language_info": {
   "codemirror_mode": {
    "name": "ipython",
    "version": 3
   },
   "file_extension": ".py",
   "mimetype": "text/x-python",
   "name": "python",
   "nbconvert_exporter": "python",
   "pygments_lexer": "ipython3",
   "version": "3.6.9"
  }
 },
 "nbformat": 4,
 "nbformat_minor": 4
}
