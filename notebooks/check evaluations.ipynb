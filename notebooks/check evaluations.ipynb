{
 "cells": [
  {
   "cell_type": "code",
   "execution_count": 1,
   "metadata": {
    "ExecuteTime": {
     "end_time": "2020-09-30T06:13:48.409365Z",
     "start_time": "2020-09-30T06:13:48.390239Z"
    }
   },
   "outputs": [],
   "source": [
    "%load_ext autoreload\n",
    "%autoreload 2\n",
    "notebook_fixed_dir = False"
   ]
  },
  {
   "cell_type": "code",
   "execution_count": 2,
   "metadata": {
    "ExecuteTime": {
     "end_time": "2020-09-30T06:13:49.071659Z",
     "start_time": "2020-09-30T06:13:49.057521Z"
    }
   },
   "outputs": [
    {
     "name": "stdout",
     "output_type": "stream",
     "text": [
      "/home/svcl-oowl/brandon/research/sil_consistent_at_inference\n"
     ]
    }
   ],
   "source": [
    "# this cell can only be called once\n",
    "import os\n",
    "if not notebook_fixed_dir:\n",
    "    os.chdir('..')\n",
    "    notebook_fixed_dir = True\n",
    "print(os.getcwd())"
   ]
  },
  {
   "cell_type": "code",
   "execution_count": 22,
   "metadata": {
    "ExecuteTime": {
     "end_time": "2020-09-30T06:28:12.477852Z",
     "start_time": "2020-09-30T06:28:12.456240Z"
    }
   },
   "outputs": [],
   "source": [
    "# imports\n",
    "import pprint\n",
    "import pickle\n",
    "import glob\n",
    "import random\n",
    "from pathlib import Path\n",
    "import math\n",
    "\n",
    "import torch\n",
    "from tqdm import tqdm\n",
    "from PIL import Image\n",
    "import numpy as np\n",
    "from pytorch3d.renderer import look_at_view_transform\n",
    "import matplotlib.pyplot as plt\n",
    "import pandas as pd\n",
    "import cv2\n",
    "\n",
    "from utils import utils\n",
    "from utils import eval_utils\n",
    "import deformation.losses as def_losses"
   ]
  },
  {
   "cell_type": "code",
   "execution_count": 4,
   "metadata": {
    "ExecuteTime": {
     "end_time": "2020-09-30T06:14:02.041935Z",
     "start_time": "2020-09-30T06:14:01.659069Z"
    },
    "scrolled": true
   },
   "outputs": [
    {
     "name": "stdout",
     "output_type": "stream",
     "text": [
      "{'num_bad': 1584, 'num_good': 1590, 'num_medium': 664}\n"
     ]
    }
   ],
   "source": [
    "# processing pose quality annotations\n",
    "import xmltodict\n",
    "pose_annotation_path = \"notebooks/pix3d_chair_occnet_pose_quality_annotations.xml\"\n",
    "# processing xml from cvat\n",
    "# https://github.com/openvinotoolkit/cvat\n",
    "with open (pose_annotation_path, 'r') as f:\n",
    "    f = f.read()\n",
    "d = dict(xmltodict.parse(f))\n",
    "\n",
    "pose_annotation_dict = {}\n",
    "pose_quality_stats = {\"num_good\":0, \"num_medium\":0, \"num_bad\":0}\n",
    "for entry in d['annotations']['image']:\n",
    "    anno_dict = dict(entry)\n",
    "    entry_label = dict(anno_dict['tag'])['@label']\n",
    "    pose_annotation_dict[anno_dict['@name'].replace('.png', '')] = entry_label\n",
    "    pose_quality_stats[\"num_{}\".format(entry_label)] += 1\n",
    "    \n",
    "pprint.pprint(pose_quality_stats)\n"
   ]
  },
  {
   "cell_type": "code",
   "execution_count": 5,
   "metadata": {
    "ExecuteTime": {
     "end_time": "2020-09-30T06:14:04.407912Z",
     "start_time": "2020-09-30T06:14:04.384309Z"
    }
   },
   "outputs": [],
   "source": [
    "def filter_eval_df_by_quality(original_eval_df, pose_quality_dict, allowed_qualities=[\"good\"]):\n",
    "    instances_to_consider = [instance for instance in pose_quality_dict if pose_quality_dict[instance] in allowed_qualities]    \n",
    "    filtered_df = original_eval_df[original_eval_df[\"instance\"].isin(instances_to_consider)]\n",
    "    return filtered_df"
   ]
  },
  {
   "cell_type": "code",
   "execution_count": 45,
   "metadata": {
    "ExecuteTime": {
     "end_time": "2020-09-30T09:04:39.479532Z",
     "start_time": "2020-09-30T09:04:39.121548Z"
    }
   },
   "outputs": [
    {
     "name": "stdout",
     "output_type": "stream",
     "text": [
      "data_evaluation/shapenet_chair/occnet_refined.yaml\n"
     ]
    },
    {
     "data": {
      "text/html": [
       "<div>\n",
       "<style scoped>\n",
       "    .dataframe tbody tr th:only-of-type {\n",
       "        vertical-align: middle;\n",
       "    }\n",
       "\n",
       "    .dataframe tbody tr th {\n",
       "        vertical-align: top;\n",
       "    }\n",
       "\n",
       "    .dataframe thead th {\n",
       "        text-align: right;\n",
       "    }\n",
       "</style>\n",
       "<table border=\"1\" class=\"dataframe\">\n",
       "  <thead>\n",
       "    <tr style=\"text-align: right;\">\n",
       "      <th></th>\n",
       "      <th>2d_iou</th>\n",
       "      <th>3d_iou</th>\n",
       "      <th>chamfer_L1</th>\n",
       "      <th>gt_obj_path</th>\n",
       "      <th>input_img_path</th>\n",
       "      <th>instance</th>\n",
       "      <th>rec_obj_path</th>\n",
       "    </tr>\n",
       "  </thead>\n",
       "  <tbody>\n",
       "    <tr>\n",
       "      <th>0</th>\n",
       "      <td>0.699487</td>\n",
       "      <td>0.599933</td>\n",
       "      <td>0.000634</td>\n",
       "      <td>/home/svcl-oowl/dataset/ShapeNetCore.v1/030016...</td>\n",
       "      <td>/home/svcl-oowl/brandon/research/sil_consisten...</td>\n",
       "      <td>d409dbda0a34a953c9020fbe6b2ff6</td>\n",
       "      <td>/home/svcl-oowl/brandon/research/sil_consisten...</td>\n",
       "    </tr>\n",
       "    <tr>\n",
       "      <th>1</th>\n",
       "      <td>0.460778</td>\n",
       "      <td>0.101975</td>\n",
       "      <td>0.013970</td>\n",
       "      <td>/home/svcl-oowl/dataset/ShapeNetCore.v1/030016...</td>\n",
       "      <td>/home/svcl-oowl/brandon/research/sil_consisten...</td>\n",
       "      <td>d30e58a2361785683fb0851e9bc87551</td>\n",
       "      <td>/home/svcl-oowl/brandon/research/sil_consisten...</td>\n",
       "    </tr>\n",
       "    <tr>\n",
       "      <th>2</th>\n",
       "      <td>0.732516</td>\n",
       "      <td>0.560582</td>\n",
       "      <td>0.001338</td>\n",
       "      <td>/home/svcl-oowl/dataset/ShapeNetCore.v1/030016...</td>\n",
       "      <td>/home/svcl-oowl/brandon/research/sil_consisten...</td>\n",
       "      <td>d48dac046436a29ec3bd24f986301745</td>\n",
       "      <td>/home/svcl-oowl/brandon/research/sil_consisten...</td>\n",
       "    </tr>\n",
       "    <tr>\n",
       "      <th>3</th>\n",
       "      <td>0.867751</td>\n",
       "      <td>0.158617</td>\n",
       "      <td>0.005535</td>\n",
       "      <td>/home/svcl-oowl/dataset/ShapeNetCore.v1/030016...</td>\n",
       "      <td>/home/svcl-oowl/brandon/research/sil_consisten...</td>\n",
       "      <td>d32f32d76d7f53bf6996454765a52e50</td>\n",
       "      <td>/home/svcl-oowl/brandon/research/sil_consisten...</td>\n",
       "    </tr>\n",
       "    <tr>\n",
       "      <th>4</th>\n",
       "      <td>0.901836</td>\n",
       "      <td>0.098575</td>\n",
       "      <td>0.002315</td>\n",
       "      <td>/home/svcl-oowl/dataset/ShapeNetCore.v1/030016...</td>\n",
       "      <td>/home/svcl-oowl/brandon/research/sil_consisten...</td>\n",
       "      <td>cca975f4a6a4d9e9614871b18a2b1957</td>\n",
       "      <td>/home/svcl-oowl/brandon/research/sil_consisten...</td>\n",
       "    </tr>\n",
       "    <tr>\n",
       "      <th>...</th>\n",
       "      <td>...</td>\n",
       "      <td>...</td>\n",
       "      <td>...</td>\n",
       "      <td>...</td>\n",
       "      <td>...</td>\n",
       "      <td>...</td>\n",
       "      <td>...</td>\n",
       "    </tr>\n",
       "    <tr>\n",
       "      <th>1350</th>\n",
       "      <td>0.764315</td>\n",
       "      <td>0.263782</td>\n",
       "      <td>0.000808</td>\n",
       "      <td>/home/svcl-oowl/dataset/ShapeNetCore.v1/030016...</td>\n",
       "      <td>/home/svcl-oowl/brandon/research/sil_consisten...</td>\n",
       "      <td>ea762c2f1c6e966be464faca7dae7fdd</td>\n",
       "      <td>/home/svcl-oowl/brandon/research/sil_consisten...</td>\n",
       "    </tr>\n",
       "    <tr>\n",
       "      <th>1351</th>\n",
       "      <td>0.980921</td>\n",
       "      <td>0.235584</td>\n",
       "      <td>0.006981</td>\n",
       "      <td>/home/svcl-oowl/dataset/ShapeNetCore.v1/030016...</td>\n",
       "      <td>/home/svcl-oowl/brandon/research/sil_consisten...</td>\n",
       "      <td>f1645567130e99a878268642d8df40d1</td>\n",
       "      <td>/home/svcl-oowl/brandon/research/sil_consisten...</td>\n",
       "    </tr>\n",
       "    <tr>\n",
       "      <th>1352</th>\n",
       "      <td>0.800390</td>\n",
       "      <td>0.137328</td>\n",
       "      <td>0.002096</td>\n",
       "      <td>/home/svcl-oowl/dataset/ShapeNetCore.v1/030016...</td>\n",
       "      <td>/home/svcl-oowl/brandon/research/sil_consisten...</td>\n",
       "      <td>ee001ffa8483ae1b7f0e458a1629fd0a</td>\n",
       "      <td>/home/svcl-oowl/brandon/research/sil_consisten...</td>\n",
       "    </tr>\n",
       "    <tr>\n",
       "      <th>1353</th>\n",
       "      <td>0.792015</td>\n",
       "      <td>0.094485</td>\n",
       "      <td>0.004714</td>\n",
       "      <td>/home/svcl-oowl/dataset/ShapeNetCore.v1/030016...</td>\n",
       "      <td>/home/svcl-oowl/brandon/research/sil_consisten...</td>\n",
       "      <td>eaf231f17fccb96d81dff5c2e57ad46e</td>\n",
       "      <td>/home/svcl-oowl/brandon/research/sil_consisten...</td>\n",
       "    </tr>\n",
       "    <tr>\n",
       "      <th>1354</th>\n",
       "      <td>0.753845</td>\n",
       "      <td>0.489380</td>\n",
       "      <td>0.000510</td>\n",
       "      <td>/home/svcl-oowl/dataset/ShapeNetCore.v1/030016...</td>\n",
       "      <td>/home/svcl-oowl/brandon/research/sil_consisten...</td>\n",
       "      <td>f3fa7bd00b76f6a87a8a6b9421844d96</td>\n",
       "      <td>/home/svcl-oowl/brandon/research/sil_consisten...</td>\n",
       "    </tr>\n",
       "  </tbody>\n",
       "</table>\n",
       "<p>1355 rows × 7 columns</p>\n",
       "</div>"
      ],
      "text/plain": [
       "        2d_iou    3d_iou  chamfer_L1  \\\n",
       "0     0.699487  0.599933    0.000634   \n",
       "1     0.460778  0.101975    0.013970   \n",
       "2     0.732516  0.560582    0.001338   \n",
       "3     0.867751  0.158617    0.005535   \n",
       "4     0.901836  0.098575    0.002315   \n",
       "...        ...       ...         ...   \n",
       "1350  0.764315  0.263782    0.000808   \n",
       "1351  0.980921  0.235584    0.006981   \n",
       "1352  0.800390  0.137328    0.002096   \n",
       "1353  0.792015  0.094485    0.004714   \n",
       "1354  0.753845  0.489380    0.000510   \n",
       "\n",
       "                                            gt_obj_path  \\\n",
       "0     /home/svcl-oowl/dataset/ShapeNetCore.v1/030016...   \n",
       "1     /home/svcl-oowl/dataset/ShapeNetCore.v1/030016...   \n",
       "2     /home/svcl-oowl/dataset/ShapeNetCore.v1/030016...   \n",
       "3     /home/svcl-oowl/dataset/ShapeNetCore.v1/030016...   \n",
       "4     /home/svcl-oowl/dataset/ShapeNetCore.v1/030016...   \n",
       "...                                                 ...   \n",
       "1350  /home/svcl-oowl/dataset/ShapeNetCore.v1/030016...   \n",
       "1351  /home/svcl-oowl/dataset/ShapeNetCore.v1/030016...   \n",
       "1352  /home/svcl-oowl/dataset/ShapeNetCore.v1/030016...   \n",
       "1353  /home/svcl-oowl/dataset/ShapeNetCore.v1/030016...   \n",
       "1354  /home/svcl-oowl/dataset/ShapeNetCore.v1/030016...   \n",
       "\n",
       "                                         input_img_path  \\\n",
       "0     /home/svcl-oowl/brandon/research/sil_consisten...   \n",
       "1     /home/svcl-oowl/brandon/research/sil_consisten...   \n",
       "2     /home/svcl-oowl/brandon/research/sil_consisten...   \n",
       "3     /home/svcl-oowl/brandon/research/sil_consisten...   \n",
       "4     /home/svcl-oowl/brandon/research/sil_consisten...   \n",
       "...                                                 ...   \n",
       "1350  /home/svcl-oowl/brandon/research/sil_consisten...   \n",
       "1351  /home/svcl-oowl/brandon/research/sil_consisten...   \n",
       "1352  /home/svcl-oowl/brandon/research/sil_consisten...   \n",
       "1353  /home/svcl-oowl/brandon/research/sil_consisten...   \n",
       "1354  /home/svcl-oowl/brandon/research/sil_consisten...   \n",
       "\n",
       "                              instance  \\\n",
       "0       d409dbda0a34a953c9020fbe6b2ff6   \n",
       "1     d30e58a2361785683fb0851e9bc87551   \n",
       "2     d48dac046436a29ec3bd24f986301745   \n",
       "3     d32f32d76d7f53bf6996454765a52e50   \n",
       "4     cca975f4a6a4d9e9614871b18a2b1957   \n",
       "...                                ...   \n",
       "1350  ea762c2f1c6e966be464faca7dae7fdd   \n",
       "1351  f1645567130e99a878268642d8df40d1   \n",
       "1352  ee001ffa8483ae1b7f0e458a1629fd0a   \n",
       "1353  eaf231f17fccb96d81dff5c2e57ad46e   \n",
       "1354  f3fa7bd00b76f6a87a8a6b9421844d96   \n",
       "\n",
       "                                           rec_obj_path  \n",
       "0     /home/svcl-oowl/brandon/research/sil_consisten...  \n",
       "1     /home/svcl-oowl/brandon/research/sil_consisten...  \n",
       "2     /home/svcl-oowl/brandon/research/sil_consisten...  \n",
       "3     /home/svcl-oowl/brandon/research/sil_consisten...  \n",
       "4     /home/svcl-oowl/brandon/research/sil_consisten...  \n",
       "...                                                 ...  \n",
       "1350  /home/svcl-oowl/brandon/research/sil_consisten...  \n",
       "1351  /home/svcl-oowl/brandon/research/sil_consisten...  \n",
       "1352  /home/svcl-oowl/brandon/research/sil_consisten...  \n",
       "1353  /home/svcl-oowl/brandon/research/sil_consisten...  \n",
       "1354  /home/svcl-oowl/brandon/research/sil_consisten...  \n",
       "\n",
       "[1355 rows x 7 columns]"
      ]
     },
     "metadata": {},
     "output_type": "display_data"
    },
    {
     "name": "stdout",
     "output_type": "stream",
     "text": [
      "2d_iou        0.790675\n",
      "3d_iou        0.338008\n",
      "chamfer_L1    0.064688\n",
      "dtype: float64\n"
     ]
    }
   ],
   "source": [
    "#evaluation_yaml_path = \"data_evaluation/shapenet_chair/occnet.yaml\"\n",
    "evaluation_yaml_path = \"data_evaluation/shapenet_chair/occnet_refined.yaml\"\n",
    "\n",
    "#evaluation_yaml_path = \"data_evaluation/pix3d_chair/occnet.yaml\"\n",
    "#evaluation_yaml_path = \"data_evaluation/pix3d_chair/occnet_refined.yaml\"\n",
    "#evaluation_yaml_path = \"data_evaluation/pix3d_chair/occnet_refined_gridsearch1.yaml\"\n",
    "#evaluation_yaml_path = \"data_evaluation/pix3d_chair/occnet_refined_gridsearch2.yaml\"\n",
    "\n",
    "results_df = pd.read_pickle(evaluation_yaml_path.replace(\".yaml\",\"_eval_results.pkl\"))\n",
    "#q = [\"good\", \"medium\",\"bad\"]\n",
    "#q = [\"good\", \"medium\"]\n",
    "#q = [\"good\"]\n",
    "#results_df = filter_eval_df_by_quality(results_df, pose_annotation_dict, allowed_qualities=q)\n",
    "\n",
    "print(evaluation_yaml_path)\n",
    "display(results_df)\n",
    "print(results_df.mean())"
   ]
  },
  {
   "cell_type": "code",
   "execution_count": 10,
   "metadata": {
    "ExecuteTime": {
     "end_time": "2020-09-28T00:04:12.506126Z",
     "start_time": "2020-09-28T00:04:12.400679Z"
    }
   },
   "outputs": [
    {
     "name": "stdout",
     "output_type": "stream",
     "text": [
      "data_evaluation/pix3d_chair/occnet_refined.yaml\n"
     ]
    },
    {
     "data": {
      "text/html": [
       "<div>\n",
       "<style scoped>\n",
       "    .dataframe tbody tr th:only-of-type {\n",
       "        vertical-align: middle;\n",
       "    }\n",
       "\n",
       "    .dataframe tbody tr th {\n",
       "        vertical-align: top;\n",
       "    }\n",
       "\n",
       "    .dataframe thead th {\n",
       "        text-align: right;\n",
       "    }\n",
       "</style>\n",
       "<table border=\"1\" class=\"dataframe\">\n",
       "  <thead>\n",
       "    <tr style=\"text-align: right;\">\n",
       "      <th></th>\n",
       "      <th>2d_iou</th>\n",
       "      <th>3d_iou</th>\n",
       "      <th>chamfer_L1</th>\n",
       "      <th>gt_obj_path</th>\n",
       "      <th>input_img_path</th>\n",
       "      <th>instance</th>\n",
       "      <th>rec_obj_path</th>\n",
       "    </tr>\n",
       "  </thead>\n",
       "  <tbody>\n",
       "    <tr>\n",
       "      <th>7</th>\n",
       "      <td>0.71426</td>\n",
       "      <td>0.144171</td>\n",
       "      <td>0.008335</td>\n",
       "      <td>/home/svcl-oowl/dataset/pix3d/model/chair/IKEA...</td>\n",
       "      <td>/home/svcl-oowl/brandon/research/sil_consisten...</td>\n",
       "      <td>0085</td>\n",
       "      <td>/home/svcl-oowl/brandon/research/sil_consisten...</td>\n",
       "    </tr>\n",
       "  </tbody>\n",
       "</table>\n",
       "</div>"
      ],
      "text/plain": [
       "    2d_iou    3d_iou  chamfer_L1  \\\n",
       "7  0.71426  0.144171    0.008335   \n",
       "\n",
       "                                         gt_obj_path  \\\n",
       "7  /home/svcl-oowl/dataset/pix3d/model/chair/IKEA...   \n",
       "\n",
       "                                      input_img_path instance  \\\n",
       "7  /home/svcl-oowl/brandon/research/sil_consisten...     0085   \n",
       "\n",
       "                                        rec_obj_path  \n",
       "7  /home/svcl-oowl/brandon/research/sil_consisten...  "
      ]
     },
     "metadata": {},
     "output_type": "display_data"
    }
   ],
   "source": [
    "#evaluation_yaml_path = \"data_evaluation/shapenet_chair/occnet.yaml\"\n",
    "#evaluation_yaml_path = \"data_evaluation/shapenet_chair/occnet_refined.yaml\"\n",
    "\n",
    "evaluation_yaml_path = \"data_evaluation/pix3d_chair/occnet_refined.yaml\"\n",
    "#evaluation_yaml_path = \"data_evaluation/pix3d_chair/occnet.yaml\"\n",
    "\n",
    "results_df = pd.read_pickle(evaluation_yaml_path.replace(\".yaml\",\"_eval_results.pkl\"))\n",
    "print(evaluation_yaml_path)\n",
    "display(results_df[results_df[\"instance\"]==\"0085\"])\n",
    "#print(results_df.mean())"
   ]
  },
  {
   "cell_type": "code",
   "execution_count": 36,
   "metadata": {
    "ExecuteTime": {
     "end_time": "2020-09-30T06:33:25.857494Z",
     "start_time": "2020-09-30T06:33:25.833090Z"
    }
   },
   "outputs": [],
   "source": [
    "def compare_before_after_refinement(results_df_before, results_df_after):\n",
    "    \n",
    "    statistics = {\"num_3d_iou_improved\":0, \"avg_improve_amt\": 0, \"avg_improve_before_2d_iou\":0, \"num_3d_iou_worse\":0,  \"avg_worse_amt\":0, \"avg_worse_before_2d_iou\":0}\n",
    "    improved_instances = []\n",
    "    worse_instances = []\n",
    "    comparision_df = pd.DataFrame()\n",
    "    for instance in list(results_df_after[\"instance\"]):\n",
    "        before_result = results_df_before[results_df_before[\"instance\"]==instance]\n",
    "        before_3d_iou = float(before_result[\"3d_iou\"])\n",
    "        #before_2d_iou = float(before_result[\"2d_iou\"])\n",
    "        after_result = results_df_after[results_df_after[\"instance\"]==instance]\n",
    "        after_3d_iou = float(after_result[\"3d_iou\"])\n",
    "        #after_2d_iou = float(after_result[\"2d_iou\"])\n",
    "        \n",
    "        #iou_2d_change = after_2d_iou - before_2d_iou\n",
    "        iou_3d_change = after_3d_iou - before_3d_iou\n",
    "        \n",
    "        if math.isnan(iou_3d_change):\n",
    "            statistics[\"num_3d_iou_worse\"] += 1\n",
    "            continue\n",
    "        elif iou_3d_change > 0:\n",
    "            statistics[\"num_3d_iou_improved\"] += 1\n",
    "            statistics[\"avg_improve_amt\"] += iou_3d_change\n",
    "            #statistics[\"avg_improve_before_2d_iou\"] += before_2d_iou\n",
    "            improved_instances.append(instance)\n",
    "        else:\n",
    "            statistics[\"num_3d_iou_worse\"] += 1\n",
    "            statistics[\"avg_worse_amt\"] += iou_3d_change\n",
    "            #statistics[\"avg_worse_before_2d_iou\"] += before_2d_iou\n",
    "            worse_instances.append(instance)\n",
    "        comparision_df = comparision_df.append({\"instance\": instance, \"iou_3d_delta\": iou_3d_change}, ignore_index=True)\n",
    "    \n",
    "    statistics[\"avg_improve_amt\"] /= statistics[\"num_3d_iou_improved\"]\n",
    "    statistics[\"avg_improve_before_2d_iou\"] /= statistics[\"num_3d_iou_improved\"]\n",
    "    statistics[\"avg_worse_amt\"] /= statistics[\"num_3d_iou_worse\"]\n",
    "    statistics[\"avg_worse_before_2d_iou\"] /= statistics[\"num_3d_iou_worse\"]\n",
    "            \n",
    "    pprint.pprint(statistics)\n",
    "    #print(\"example improved instances\")\n",
    "    #print(improved_instances[:100])\n",
    "    #print(\"example worse instances\")\n",
    "    #print(worse_instances[:100])\n",
    "    return comparision_df"
   ]
  },
  {
   "cell_type": "code",
   "execution_count": 37,
   "metadata": {
    "ExecuteTime": {
     "end_time": "2020-09-30T06:33:42.931850Z",
     "start_time": "2020-09-30T06:33:27.533256Z"
    }
   },
   "outputs": [
    {
     "name": "stdout",
     "output_type": "stream",
     "text": [
      "{'avg_improve_amt': 0.044575240195526715,\n",
      " 'avg_improve_before_2d_iou': 0.0,\n",
      " 'avg_worse_amt': -0.06602537977024246,\n",
      " 'avg_worse_before_2d_iou': 0.0,\n",
      " 'num_3d_iou_improved': 1524,\n",
      " 'num_3d_iou_worse': 2314}\n"
     ]
    }
   ],
   "source": [
    "dataset = \"pix3d\"\n",
    "evaluation_yaml_path_before = \"data_evaluation/{}_chair/occnet.yaml\".format(dataset)\n",
    "#evaluation_yaml_path_after = \"data_evaluation/{}_chair/occnet_refined.yaml\".format(dataset)\n",
    "evaluation_yaml_path_after = \"data_evaluation/{}_chair/occnet_refined_gridsearch2.yaml\".format(dataset)\n",
    "\n",
    "quals = [\"good\", \"medium\", \"bad\"]\n",
    "results_df_before = pd.read_pickle(evaluation_yaml_path_before.replace(\".yaml\",\"_eval_results.pkl\"))\n",
    "results_df_before = filter_eval_df_by_quality(results_df_before, pose_annotation_dict, allowed_qualities=quals)\n",
    "results_df_after = pd.read_pickle(evaluation_yaml_path_after.replace(\".yaml\",\"_eval_results.pkl\"))\n",
    "results_df_after = filter_eval_df_by_quality(results_df_after, pose_annotation_dict, allowed_qualities=quals)\n",
    "comp_df = compare_before_after_refinement(results_df_before, results_df_after)"
   ]
  },
  {
   "cell_type": "code",
   "execution_count": 39,
   "metadata": {
    "ExecuteTime": {
     "end_time": "2020-09-30T06:33:51.954934Z",
     "start_time": "2020-09-30T06:33:51.632192Z"
    }
   },
   "outputs": [
    {
     "data": {
      "text/plain": [
       "array([[<matplotlib.axes._subplots.AxesSubplot object at 0x7ffaf98673c8>]],\n",
       "      dtype=object)"
      ]
     },
     "execution_count": 39,
     "metadata": {},
     "output_type": "execute_result"
    },
    {
     "data": {
      "image/png": "[encoded data removed]",
      "text/plain": [
       "<Figure size 432x288 with 1 Axes>"
      ]
     },
     "metadata": {
      "needs_background": "light"
     },
     "output_type": "display_data"
    }
   ],
   "source": [
    "comp_df.hist(column=\"iou_3d_delta\", bins=100)"
   ]
  },
  {
   "cell_type": "code",
   "execution_count": null,
   "metadata": {},
   "outputs": [],
   "source": []
  },
  {
   "cell_type": "code",
   "execution_count": null,
   "metadata": {},
   "outputs": [],
   "source": []
  }
 ],
 "metadata": {
  "kernelspec": {
   "display_name": "Python [conda env:standard] *",
   "language": "python",
   "name": "conda-env-standard-py"
  },
  "language_info": {
   "codemirror_mode": {
    "name": "ipython",
    "version": 3
   },
   "file_extension": ".py",
   "mimetype": "text/x-python",
   "name": "python",
   "nbconvert_exporter": "python",
   "pygments_lexer": "ipython3",
   "version": "3.6.9"
  }
 },
 "nbformat": 4,
 "nbformat_minor": 4
}
