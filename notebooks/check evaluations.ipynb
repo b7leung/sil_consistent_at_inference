{
 "cells": [
  {
   "cell_type": "code",
   "execution_count": 1,
   "metadata": {
    "ExecuteTime": {
     "end_time": "2020-09-20T08:33:12.924906Z",
     "start_time": "2020-09-20T08:33:12.906411Z"
    }
   },
   "outputs": [],
   "source": [
    "%load_ext autoreload\n",
    "%autoreload 2\n",
    "notebook_fixed_dir = False"
   ]
  },
  {
   "cell_type": "code",
   "execution_count": 2,
   "metadata": {
    "ExecuteTime": {
     "end_time": "2020-09-20T08:33:13.462731Z",
     "start_time": "2020-09-20T08:33:13.446920Z"
    }
   },
   "outputs": [
    {
     "name": "stdout",
     "output_type": "stream",
     "text": [
      "/home/svcl-oowl/brandon/research/sil_consistent_at_inference\n"
     ]
    }
   ],
   "source": [
    "# this cell can only be called once\n",
    "import os\n",
    "if not notebook_fixed_dir:\n",
    "    os.chdir('..')\n",
    "    notebook_fixed_dir = True\n",
    "print(os.getcwd())"
   ]
  },
  {
   "cell_type": "code",
   "execution_count": 3,
   "metadata": {
    "ExecuteTime": {
     "end_time": "2020-09-20T08:33:19.322072Z",
     "start_time": "2020-09-20T08:33:15.362652Z"
    }
   },
   "outputs": [],
   "source": [
    "# imports\n",
    "import pprint\n",
    "import pickle\n",
    "import glob\n",
    "import random\n",
    "from pathlib import Path\n",
    "\n",
    "import torch\n",
    "from tqdm import tqdm\n",
    "from PIL import Image\n",
    "import numpy as np\n",
    "from pytorch3d.renderer import (\n",
    "    look_at_view_transform\n",
    ")\n",
    "import matplotlib.pyplot as plt\n",
    "import pandas as pd\n",
    "import cv2\n",
    "import numpy as np\n",
    "\n",
    "from utils import utils\n",
    "from utils import eval_utils\n",
    "import deformation.losses as def_losses\n"
   ]
  },
  {
   "cell_type": "code",
   "execution_count": 17,
   "metadata": {
    "ExecuteTime": {
     "end_time": "2020-09-20T08:45:28.817773Z",
     "start_time": "2020-09-20T08:45:28.539576Z"
    }
   },
   "outputs": [
    {
     "name": "stdout",
     "output_type": "stream",
     "text": [
      "data_evaluation/pix3d_chair/occnet.yaml\n"
     ]
    },
    {
     "data": {
      "text/html": [
       "<div>\n",
       "<style scoped>\n",
       "    .dataframe tbody tr th:only-of-type {\n",
       "        vertical-align: middle;\n",
       "    }\n",
       "\n",
       "    .dataframe tbody tr th {\n",
       "        vertical-align: top;\n",
       "    }\n",
       "\n",
       "    .dataframe thead th {\n",
       "        text-align: right;\n",
       "    }\n",
       "</style>\n",
       "<table border=\"1\" class=\"dataframe\">\n",
       "  <thead>\n",
       "    <tr style=\"text-align: right;\">\n",
       "      <th></th>\n",
       "      <th>2d_iou</th>\n",
       "      <th>3d_iou</th>\n",
       "      <th>chamfer_L1</th>\n",
       "      <th>gt_obj_path</th>\n",
       "      <th>input_img_path</th>\n",
       "      <th>instance</th>\n",
       "      <th>rec_obj_path</th>\n",
       "    </tr>\n",
       "  </thead>\n",
       "  <tbody>\n",
       "    <tr>\n",
       "      <th>0</th>\n",
       "      <td>0.528296</td>\n",
       "      <td>0.035151</td>\n",
       "      <td>0.004484</td>\n",
       "      <td>/home/svcl-oowl/dataset/pix3d/model/chair/IKEA...</td>\n",
       "      <td>/home/svcl-oowl/brandon/research/sil_consisten...</td>\n",
       "      <td>2394</td>\n",
       "      <td>/home/svcl-oowl/brandon/research/sil_consisten...</td>\n",
       "    </tr>\n",
       "    <tr>\n",
       "      <th>1</th>\n",
       "      <td>0.421457</td>\n",
       "      <td>0.016640</td>\n",
       "      <td>0.051016</td>\n",
       "      <td>/home/svcl-oowl/dataset/pix3d/model/chair/IKEA...</td>\n",
       "      <td>/home/svcl-oowl/brandon/research/sil_consisten...</td>\n",
       "      <td>3729</td>\n",
       "      <td>/home/svcl-oowl/brandon/research/sil_consisten...</td>\n",
       "    </tr>\n",
       "    <tr>\n",
       "      <th>2</th>\n",
       "      <td>0.510172</td>\n",
       "      <td>0.406378</td>\n",
       "      <td>0.006924</td>\n",
       "      <td>/home/svcl-oowl/dataset/pix3d/model/chair/SS_1...</td>\n",
       "      <td>/home/svcl-oowl/brandon/research/sil_consisten...</td>\n",
       "      <td>1517</td>\n",
       "      <td>/home/svcl-oowl/brandon/research/sil_consisten...</td>\n",
       "    </tr>\n",
       "    <tr>\n",
       "      <th>3</th>\n",
       "      <td>0.487056</td>\n",
       "      <td>0.380173</td>\n",
       "      <td>0.007306</td>\n",
       "      <td>/home/svcl-oowl/dataset/pix3d/model/chair/IKEA...</td>\n",
       "      <td>/home/svcl-oowl/brandon/research/sil_consisten...</td>\n",
       "      <td>3018</td>\n",
       "      <td>/home/svcl-oowl/brandon/research/sil_consisten...</td>\n",
       "    </tr>\n",
       "    <tr>\n",
       "      <th>4</th>\n",
       "      <td>0.596261</td>\n",
       "      <td>0.146900</td>\n",
       "      <td>0.002993</td>\n",
       "      <td>/home/svcl-oowl/dataset/pix3d/model/chair/SS_0...</td>\n",
       "      <td>/home/svcl-oowl/brandon/research/sil_consisten...</td>\n",
       "      <td>0191</td>\n",
       "      <td>/home/svcl-oowl/brandon/research/sil_consisten...</td>\n",
       "    </tr>\n",
       "    <tr>\n",
       "      <th>...</th>\n",
       "      <td>...</td>\n",
       "      <td>...</td>\n",
       "      <td>...</td>\n",
       "      <td>...</td>\n",
       "      <td>...</td>\n",
       "      <td>...</td>\n",
       "      <td>...</td>\n",
       "    </tr>\n",
       "    <tr>\n",
       "      <th>3833</th>\n",
       "      <td>0.451665</td>\n",
       "      <td>0.190980</td>\n",
       "      <td>0.017660</td>\n",
       "      <td>/home/svcl-oowl/dataset/pix3d/model/chair/IKEA...</td>\n",
       "      <td>/home/svcl-oowl/brandon/research/sil_consisten...</td>\n",
       "      <td>3661</td>\n",
       "      <td>/home/svcl-oowl/brandon/research/sil_consisten...</td>\n",
       "    </tr>\n",
       "    <tr>\n",
       "      <th>3834</th>\n",
       "      <td>0.533735</td>\n",
       "      <td>0.004346</td>\n",
       "      <td>0.014498</td>\n",
       "      <td>/home/svcl-oowl/dataset/pix3d/model/chair/IKEA...</td>\n",
       "      <td>/home/svcl-oowl/brandon/research/sil_consisten...</td>\n",
       "      <td>1913</td>\n",
       "      <td>/home/svcl-oowl/brandon/research/sil_consisten...</td>\n",
       "    </tr>\n",
       "    <tr>\n",
       "      <th>3835</th>\n",
       "      <td>0.647188</td>\n",
       "      <td>0.051326</td>\n",
       "      <td>0.018265</td>\n",
       "      <td>/home/svcl-oowl/dataset/pix3d/model/chair/SS_1...</td>\n",
       "      <td>/home/svcl-oowl/brandon/research/sil_consisten...</td>\n",
       "      <td>1025</td>\n",
       "      <td>/home/svcl-oowl/brandon/research/sil_consisten...</td>\n",
       "    </tr>\n",
       "    <tr>\n",
       "      <th>3836</th>\n",
       "      <td>0.216825</td>\n",
       "      <td>0.006111</td>\n",
       "      <td>0.042926</td>\n",
       "      <td>/home/svcl-oowl/dataset/pix3d/model/chair/SS_1...</td>\n",
       "      <td>/home/svcl-oowl/brandon/research/sil_consisten...</td>\n",
       "      <td>1055</td>\n",
       "      <td>/home/svcl-oowl/brandon/research/sil_consisten...</td>\n",
       "    </tr>\n",
       "    <tr>\n",
       "      <th>3837</th>\n",
       "      <td>0.489490</td>\n",
       "      <td>0.305763</td>\n",
       "      <td>0.002845</td>\n",
       "      <td>/home/svcl-oowl/dataset/pix3d/model/chair/IKEA...</td>\n",
       "      <td>/home/svcl-oowl/brandon/research/sil_consisten...</td>\n",
       "      <td>0115</td>\n",
       "      <td>/home/svcl-oowl/brandon/research/sil_consisten...</td>\n",
       "    </tr>\n",
       "  </tbody>\n",
       "</table>\n",
       "<p>3838 rows × 7 columns</p>\n",
       "</div>"
      ],
      "text/plain": [
       "        2d_iou    3d_iou  chamfer_L1  \\\n",
       "0     0.528296  0.035151    0.004484   \n",
       "1     0.421457  0.016640    0.051016   \n",
       "2     0.510172  0.406378    0.006924   \n",
       "3     0.487056  0.380173    0.007306   \n",
       "4     0.596261  0.146900    0.002993   \n",
       "...        ...       ...         ...   \n",
       "3833  0.451665  0.190980    0.017660   \n",
       "3834  0.533735  0.004346    0.014498   \n",
       "3835  0.647188  0.051326    0.018265   \n",
       "3836  0.216825  0.006111    0.042926   \n",
       "3837  0.489490  0.305763    0.002845   \n",
       "\n",
       "                                            gt_obj_path  \\\n",
       "0     /home/svcl-oowl/dataset/pix3d/model/chair/IKEA...   \n",
       "1     /home/svcl-oowl/dataset/pix3d/model/chair/IKEA...   \n",
       "2     /home/svcl-oowl/dataset/pix3d/model/chair/SS_1...   \n",
       "3     /home/svcl-oowl/dataset/pix3d/model/chair/IKEA...   \n",
       "4     /home/svcl-oowl/dataset/pix3d/model/chair/SS_0...   \n",
       "...                                                 ...   \n",
       "3833  /home/svcl-oowl/dataset/pix3d/model/chair/IKEA...   \n",
       "3834  /home/svcl-oowl/dataset/pix3d/model/chair/IKEA...   \n",
       "3835  /home/svcl-oowl/dataset/pix3d/model/chair/SS_1...   \n",
       "3836  /home/svcl-oowl/dataset/pix3d/model/chair/SS_1...   \n",
       "3837  /home/svcl-oowl/dataset/pix3d/model/chair/IKEA...   \n",
       "\n",
       "                                         input_img_path instance  \\\n",
       "0     /home/svcl-oowl/brandon/research/sil_consisten...     2394   \n",
       "1     /home/svcl-oowl/brandon/research/sil_consisten...     3729   \n",
       "2     /home/svcl-oowl/brandon/research/sil_consisten...     1517   \n",
       "3     /home/svcl-oowl/brandon/research/sil_consisten...     3018   \n",
       "4     /home/svcl-oowl/brandon/research/sil_consisten...     0191   \n",
       "...                                                 ...      ...   \n",
       "3833  /home/svcl-oowl/brandon/research/sil_consisten...     3661   \n",
       "3834  /home/svcl-oowl/brandon/research/sil_consisten...     1913   \n",
       "3835  /home/svcl-oowl/brandon/research/sil_consisten...     1025   \n",
       "3836  /home/svcl-oowl/brandon/research/sil_consisten...     1055   \n",
       "3837  /home/svcl-oowl/brandon/research/sil_consisten...     0115   \n",
       "\n",
       "                                           rec_obj_path  \n",
       "0     /home/svcl-oowl/brandon/research/sil_consisten...  \n",
       "1     /home/svcl-oowl/brandon/research/sil_consisten...  \n",
       "2     /home/svcl-oowl/brandon/research/sil_consisten...  \n",
       "3     /home/svcl-oowl/brandon/research/sil_consisten...  \n",
       "4     /home/svcl-oowl/brandon/research/sil_consisten...  \n",
       "...                                                 ...  \n",
       "3833  /home/svcl-oowl/brandon/research/sil_consisten...  \n",
       "3834  /home/svcl-oowl/brandon/research/sil_consisten...  \n",
       "3835  /home/svcl-oowl/brandon/research/sil_consisten...  \n",
       "3836  /home/svcl-oowl/brandon/research/sil_consisten...  \n",
       "3837  /home/svcl-oowl/brandon/research/sil_consisten...  \n",
       "\n",
       "[3838 rows x 7 columns]"
      ]
     },
     "metadata": {},
     "output_type": "display_data"
    },
    {
     "name": "stdout",
     "output_type": "stream",
     "text": [
      "2d_iou        0.500264\n",
      "3d_iou        0.172550\n",
      "chamfer_L1    0.019179\n",
      "instance           inf\n",
      "dtype: float64\n"
     ]
    }
   ],
   "source": [
    "evaluation_yaml_path = \"data_evaluation/pix3d_chair/occnet.yaml\"\n",
    "#evaluation_yaml_path = \"data_evaluation/shapenet_chair/occnet.yaml\"\n",
    "#evaluation_yaml_path = \"data_evaluation/pix3d_chair/occnet_uda.yaml\"\n",
    "\n",
    "results_df = pd.read_pickle(evaluation_yaml_path.replace(\".yaml\",\"_eval_results.pkl\"))\n",
    "print(evaluation_yaml_path)\n",
    "display(results_df)\n",
    "print(results_df.mean())"
   ]
  },
  {
   "cell_type": "code",
   "execution_count": null,
   "metadata": {},
   "outputs": [],
   "source": []
  },
  {
   "cell_type": "code",
   "execution_count": null,
   "metadata": {},
   "outputs": [],
   "source": []
  },
  {
   "cell_type": "code",
   "execution_count": null,
   "metadata": {},
   "outputs": [],
   "source": []
  },
  {
   "cell_type": "code",
   "execution_count": null,
   "metadata": {},
   "outputs": [],
   "source": []
  },
  {
   "cell_type": "code",
   "execution_count": null,
   "metadata": {},
   "outputs": [],
   "source": []
  },
  {
   "cell_type": "code",
   "execution_count": null,
   "metadata": {},
   "outputs": [],
   "source": []
  }
 ],
 "metadata": {
  "kernelspec": {
   "display_name": "Python [conda env:standard] *",
   "language": "python",
   "name": "conda-env-standard-py"
  },
  "language_info": {
   "codemirror_mode": {
    "name": "ipython",
    "version": 3
   },
   "file_extension": ".py",
   "mimetype": "text/x-python",
   "name": "python",
   "nbconvert_exporter": "python",
   "pygments_lexer": "ipython3",
   "version": "3.6.9"
  }
 },
 "nbformat": 4,
 "nbformat_minor": 4
}
