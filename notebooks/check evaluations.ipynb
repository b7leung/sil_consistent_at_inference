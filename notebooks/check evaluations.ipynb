{
 "cells": [
  {
   "cell_type": "code",
   "execution_count": 3,
   "metadata": {
    "ExecuteTime": {
     "end_time": "2020-09-26T07:55:03.563872Z",
     "start_time": "2020-09-26T07:55:03.356649Z"
    }
   },
   "outputs": [],
   "source": [
    "%load_ext autoreload\n",
    "%autoreload 2\n",
    "notebook_fixed_dir = False"
   ]
  },
  {
   "cell_type": "code",
   "execution_count": 4,
   "metadata": {
    "ExecuteTime": {
     "end_time": "2020-09-26T07:55:04.077384Z",
     "start_time": "2020-09-26T07:55:04.063879Z"
    }
   },
   "outputs": [
    {
     "name": "stdout",
     "output_type": "stream",
     "text": [
      "/home/svcl-oowl/brandon/research/sil_consistent_at_inference\n"
     ]
    }
   ],
   "source": [
    "# this cell can only be called once\n",
    "import os\n",
    "if not notebook_fixed_dir:\n",
    "    os.chdir('..')\n",
    "    notebook_fixed_dir = True\n",
    "print(os.getcwd())"
   ]
  },
  {
   "cell_type": "code",
   "execution_count": 5,
   "metadata": {
    "ExecuteTime": {
     "end_time": "2020-09-26T07:55:08.038110Z",
     "start_time": "2020-09-26T07:55:05.095476Z"
    }
   },
   "outputs": [],
   "source": [
    "# imports\n",
    "import pprint\n",
    "import pickle\n",
    "import glob\n",
    "import random\n",
    "from pathlib import Path\n",
    "\n",
    "import torch\n",
    "from tqdm import tqdm\n",
    "from PIL import Image\n",
    "import numpy as np\n",
    "from pytorch3d.renderer import (\n",
    "    look_at_view_transform\n",
    ")\n",
    "import matplotlib.pyplot as plt\n",
    "import pandas as pd\n",
    "import cv2\n",
    "import numpy as np\n",
    "\n",
    "from utils import utils\n",
    "from utils import eval_utils\n",
    "import deformation.losses as def_losses\n"
   ]
  },
  {
   "cell_type": "code",
   "execution_count": 9,
   "metadata": {
    "ExecuteTime": {
     "end_time": "2020-09-26T07:56:39.472528Z",
     "start_time": "2020-09-26T07:56:39.063368Z"
    }
   },
   "outputs": [
    {
     "name": "stdout",
     "output_type": "stream",
     "text": [
      "data_evaluation/pix3d_chair/occnet_refined.yaml\n"
     ]
    },
    {
     "data": {
      "text/html": [
       "<div>\n",
       "<style scoped>\n",
       "    .dataframe tbody tr th:only-of-type {\n",
       "        vertical-align: middle;\n",
       "    }\n",
       "\n",
       "    .dataframe tbody tr th {\n",
       "        vertical-align: top;\n",
       "    }\n",
       "\n",
       "    .dataframe thead th {\n",
       "        text-align: right;\n",
       "    }\n",
       "</style>\n",
       "<table border=\"1\" class=\"dataframe\">\n",
       "  <thead>\n",
       "    <tr style=\"text-align: right;\">\n",
       "      <th></th>\n",
       "      <th>2d_iou</th>\n",
       "      <th>3d_iou</th>\n",
       "      <th>chamfer_L1</th>\n",
       "      <th>gt_obj_path</th>\n",
       "      <th>input_img_path</th>\n",
       "      <th>instance</th>\n",
       "      <th>rec_obj_path</th>\n",
       "    </tr>\n",
       "  </thead>\n",
       "  <tbody>\n",
       "    <tr>\n",
       "      <th>0</th>\n",
       "      <td>0.398359</td>\n",
       "      <td>0.051361</td>\n",
       "      <td>0.024908</td>\n",
       "      <td>/home/svcl-oowl/dataset/pix3d/model/chair/SS_0...</td>\n",
       "      <td>/home/svcl-oowl/brandon/research/sil_consisten...</td>\n",
       "      <td>0191</td>\n",
       "      <td>/home/svcl-oowl/brandon/research/sil_consisten...</td>\n",
       "    </tr>\n",
       "    <tr>\n",
       "      <th>1</th>\n",
       "      <td>0.716822</td>\n",
       "      <td>0.025357</td>\n",
       "      <td>0.014278</td>\n",
       "      <td>/home/svcl-oowl/dataset/pix3d/model/chair/SS_0...</td>\n",
       "      <td>/home/svcl-oowl/brandon/research/sil_consisten...</td>\n",
       "      <td>0225</td>\n",
       "      <td>/home/svcl-oowl/brandon/research/sil_consisten...</td>\n",
       "    </tr>\n",
       "    <tr>\n",
       "      <th>2</th>\n",
       "      <td>0.197343</td>\n",
       "      <td>0.082071</td>\n",
       "      <td>0.098394</td>\n",
       "      <td>/home/svcl-oowl/dataset/pix3d/model/chair/IKEA...</td>\n",
       "      <td>/home/svcl-oowl/brandon/research/sil_consisten...</td>\n",
       "      <td>0103</td>\n",
       "      <td>/home/svcl-oowl/brandon/research/sil_consisten...</td>\n",
       "    </tr>\n",
       "    <tr>\n",
       "      <th>3</th>\n",
       "      <td>0.616212</td>\n",
       "      <td>0.112327</td>\n",
       "      <td>0.075430</td>\n",
       "      <td>/home/svcl-oowl/dataset/pix3d/model/chair/SS_0...</td>\n",
       "      <td>/home/svcl-oowl/brandon/research/sil_consisten...</td>\n",
       "      <td>0649</td>\n",
       "      <td>/home/svcl-oowl/brandon/research/sil_consisten...</td>\n",
       "    </tr>\n",
       "    <tr>\n",
       "      <th>4</th>\n",
       "      <td>0.720145</td>\n",
       "      <td>0.133940</td>\n",
       "      <td>0.013872</td>\n",
       "      <td>/home/svcl-oowl/dataset/pix3d/model/chair/SS_0...</td>\n",
       "      <td>/home/svcl-oowl/brandon/research/sil_consisten...</td>\n",
       "      <td>0699</td>\n",
       "      <td>/home/svcl-oowl/brandon/research/sil_consisten...</td>\n",
       "    </tr>\n",
       "    <tr>\n",
       "      <th>...</th>\n",
       "      <td>...</td>\n",
       "      <td>...</td>\n",
       "      <td>...</td>\n",
       "      <td>...</td>\n",
       "      <td>...</td>\n",
       "      <td>...</td>\n",
       "      <td>...</td>\n",
       "    </tr>\n",
       "    <tr>\n",
       "      <th>2819</th>\n",
       "      <td>0.264988</td>\n",
       "      <td>0.108234</td>\n",
       "      <td>0.051982</td>\n",
       "      <td>/home/svcl-oowl/dataset/pix3d/model/chair/IKEA...</td>\n",
       "      <td>/home/svcl-oowl/brandon/research/sil_consisten...</td>\n",
       "      <td>3131</td>\n",
       "      <td>/home/svcl-oowl/brandon/research/sil_consisten...</td>\n",
       "    </tr>\n",
       "    <tr>\n",
       "      <th>2820</th>\n",
       "      <td>0.399162</td>\n",
       "      <td>0.039422</td>\n",
       "      <td>0.010355</td>\n",
       "      <td>/home/svcl-oowl/dataset/pix3d/model/chair/IKEA...</td>\n",
       "      <td>/home/svcl-oowl/brandon/research/sil_consisten...</td>\n",
       "      <td>3189</td>\n",
       "      <td>/home/svcl-oowl/brandon/research/sil_consisten...</td>\n",
       "    </tr>\n",
       "    <tr>\n",
       "      <th>2821</th>\n",
       "      <td>0.331584</td>\n",
       "      <td>0.034754</td>\n",
       "      <td>0.017136</td>\n",
       "      <td>/home/svcl-oowl/dataset/pix3d/model/chair/IKEA...</td>\n",
       "      <td>/home/svcl-oowl/brandon/research/sil_consisten...</td>\n",
       "      <td>3712</td>\n",
       "      <td>/home/svcl-oowl/brandon/research/sil_consisten...</td>\n",
       "    </tr>\n",
       "    <tr>\n",
       "      <th>2822</th>\n",
       "      <td>0.554682</td>\n",
       "      <td>0.021351</td>\n",
       "      <td>0.041058</td>\n",
       "      <td>/home/svcl-oowl/dataset/pix3d/model/chair/IKEA...</td>\n",
       "      <td>/home/svcl-oowl/brandon/research/sil_consisten...</td>\n",
       "      <td>3275</td>\n",
       "      <td>/home/svcl-oowl/brandon/research/sil_consisten...</td>\n",
       "    </tr>\n",
       "    <tr>\n",
       "      <th>2823</th>\n",
       "      <td>0.432848</td>\n",
       "      <td>0.002578</td>\n",
       "      <td>0.037320</td>\n",
       "      <td>/home/svcl-oowl/dataset/pix3d/model/chair/IKEA...</td>\n",
       "      <td>/home/svcl-oowl/brandon/research/sil_consisten...</td>\n",
       "      <td>3407</td>\n",
       "      <td>/home/svcl-oowl/brandon/research/sil_consisten...</td>\n",
       "    </tr>\n",
       "  </tbody>\n",
       "</table>\n",
       "<p>2824 rows × 7 columns</p>\n",
       "</div>"
      ],
      "text/plain": [
       "        2d_iou    3d_iou  chamfer_L1  \\\n",
       "0     0.398359  0.051361    0.024908   \n",
       "1     0.716822  0.025357    0.014278   \n",
       "2     0.197343  0.082071    0.098394   \n",
       "3     0.616212  0.112327    0.075430   \n",
       "4     0.720145  0.133940    0.013872   \n",
       "...        ...       ...         ...   \n",
       "2819  0.264988  0.108234    0.051982   \n",
       "2820  0.399162  0.039422    0.010355   \n",
       "2821  0.331584  0.034754    0.017136   \n",
       "2822  0.554682  0.021351    0.041058   \n",
       "2823  0.432848  0.002578    0.037320   \n",
       "\n",
       "                                            gt_obj_path  \\\n",
       "0     /home/svcl-oowl/dataset/pix3d/model/chair/SS_0...   \n",
       "1     /home/svcl-oowl/dataset/pix3d/model/chair/SS_0...   \n",
       "2     /home/svcl-oowl/dataset/pix3d/model/chair/IKEA...   \n",
       "3     /home/svcl-oowl/dataset/pix3d/model/chair/SS_0...   \n",
       "4     /home/svcl-oowl/dataset/pix3d/model/chair/SS_0...   \n",
       "...                                                 ...   \n",
       "2819  /home/svcl-oowl/dataset/pix3d/model/chair/IKEA...   \n",
       "2820  /home/svcl-oowl/dataset/pix3d/model/chair/IKEA...   \n",
       "2821  /home/svcl-oowl/dataset/pix3d/model/chair/IKEA...   \n",
       "2822  /home/svcl-oowl/dataset/pix3d/model/chair/IKEA...   \n",
       "2823  /home/svcl-oowl/dataset/pix3d/model/chair/IKEA...   \n",
       "\n",
       "                                         input_img_path instance  \\\n",
       "0     /home/svcl-oowl/brandon/research/sil_consisten...     0191   \n",
       "1     /home/svcl-oowl/brandon/research/sil_consisten...     0225   \n",
       "2     /home/svcl-oowl/brandon/research/sil_consisten...     0103   \n",
       "3     /home/svcl-oowl/brandon/research/sil_consisten...     0649   \n",
       "4     /home/svcl-oowl/brandon/research/sil_consisten...     0699   \n",
       "...                                                 ...      ...   \n",
       "2819  /home/svcl-oowl/brandon/research/sil_consisten...     3131   \n",
       "2820  /home/svcl-oowl/brandon/research/sil_consisten...     3189   \n",
       "2821  /home/svcl-oowl/brandon/research/sil_consisten...     3712   \n",
       "2822  /home/svcl-oowl/brandon/research/sil_consisten...     3275   \n",
       "2823  /home/svcl-oowl/brandon/research/sil_consisten...     3407   \n",
       "\n",
       "                                           rec_obj_path  \n",
       "0     /home/svcl-oowl/brandon/research/sil_consisten...  \n",
       "1     /home/svcl-oowl/brandon/research/sil_consisten...  \n",
       "2     /home/svcl-oowl/brandon/research/sil_consisten...  \n",
       "3     /home/svcl-oowl/brandon/research/sil_consisten...  \n",
       "4     /home/svcl-oowl/brandon/research/sil_consisten...  \n",
       "...                                                 ...  \n",
       "2819  /home/svcl-oowl/brandon/research/sil_consisten...  \n",
       "2820  /home/svcl-oowl/brandon/research/sil_consisten...  \n",
       "2821  /home/svcl-oowl/brandon/research/sil_consisten...  \n",
       "2822  /home/svcl-oowl/brandon/research/sil_consisten...  \n",
       "2823  /home/svcl-oowl/brandon/research/sil_consisten...  \n",
       "\n",
       "[2824 rows x 7 columns]"
      ]
     },
     "metadata": {},
     "output_type": "display_data"
    },
    {
     "name": "stdout",
     "output_type": "stream",
     "text": [
      "2d_iou        0.555858\n",
      "3d_iou        0.124136\n",
      "chamfer_L1    0.197908\n",
      "instance           inf\n",
      "dtype: float64\n"
     ]
    }
   ],
   "source": [
    "#evaluation_yaml_path = \"data_evaluation/shapenet_chair/occnet.yaml\"\n",
    "#evaluation_yaml_path = \"data_evaluation/shapenet_chair/occnet_refined.yaml\"\n",
    "\n",
    "evaluation_yaml_path = \"data_evaluation/pix3d_chair/occnet_refined.yaml\"\n",
    "#evaluation_yaml_path = \"data_evaluation/pix3d_chair/occnet.yaml\"\n",
    "\n",
    "results_df = pd.read_pickle(evaluation_yaml_path.replace(\".yaml\",\"_eval_results.pkl\"))\n",
    "print(evaluation_yaml_path)\n",
    "display(results_df)\n",
    "print(results_df.mean())"
   ]
  },
  {
   "cell_type": "code",
   "execution_count": 10,
   "metadata": {
    "ExecuteTime": {
     "end_time": "2020-09-26T07:59:02.313814Z",
     "start_time": "2020-09-26T07:59:02.061048Z"
    }
   },
   "outputs": [],
   "source": [
    "def compare_before_after_refinement(yaml_path_before, yaml_path_after):\n",
    "    results_df_before = pd.read_pickle(yaml_path_before.replace(\".yaml\",\"_eval_results.pkl\"))\n",
    "    results_df_after = pd.read_pickle(yaml_path_after.replace(\".yaml\",\"_eval_results.pkl\"))\n",
    "    \n",
    "    statistics = {\"num_3d_iou_improved\":0, \"avg_improve_amt\": 0, \"avg_improve_before_2d_iou\":0, \"num_3d_iou_worse\":0,  \"avg_worse_amt\":0, \"avg_worse_before_2d_iou\":0}\n",
    "    improved_instances = []\n",
    "    worse_instances = []\n",
    "    for instance in list(results_df_after[\"instance\"]):\n",
    "        before_result = results_df_before[results_df_before[\"instance\"]==instance]\n",
    "        before_3d_iou = float(before_result[\"3d_iou\"])\n",
    "        before_2d_iou = float(before_result[\"2d_iou\"])\n",
    "        after_result = results_df_after[results_df_after[\"instance\"]==instance]\n",
    "        after_3d_iou = float(after_result[\"3d_iou\"])\n",
    "        after_2d_iou = float(after_result[\"2d_iou\"])\n",
    "        \n",
    "        iou_2d_change = after_2d_iou - before_2d_iou\n",
    "        iou_3d_change = after_3d_iou - before_3d_iou\n",
    "        \n",
    "        if iou_3d_change > 0:\n",
    "            statistics[\"num_3d_iou_improved\"] += 1\n",
    "            statistics[\"avg_improve_amt\"] += iou_3d_change\n",
    "            statistics[\"avg_improve_before_2d_iou\"] += before_2d_iou\n",
    "            improved_instances.append(instance)\n",
    "        else:\n",
    "            statistics[\"num_3d_iou_worse\"] += 1\n",
    "            statistics[\"avg_worse_amt\"] += iou_3d_change\n",
    "            statistics[\"avg_worse_before_2d_iou\"] += before_2d_iou\n",
    "            worse_instances.append(instance)\n",
    "    \n",
    "    statistics[\"avg_improve_amt\"] /= statistics[\"num_3d_iou_improved\"]\n",
    "    statistics[\"avg_improve_before_2d_iou\"] /= statistics[\"num_3d_iou_improved\"]\n",
    "    statistics[\"avg_worse_amt\"] /= statistics[\"num_3d_iou_worse\"]\n",
    "    statistics[\"avg_worse_before_2d_iou\"] /= statistics[\"num_3d_iou_worse\"]\n",
    "            \n",
    "    pprint.pprint(statistics)\n",
    "    print(\"example improved instances\")\n",
    "    print(improved_instances[:100])\n",
    "    print(\"example worse instances\")\n",
    "    print(worse_instances[:100])"
   ]
  },
  {
   "cell_type": "code",
   "execution_count": 11,
   "metadata": {
    "ExecuteTime": {
     "end_time": "2020-09-26T07:59:10.238172Z",
     "start_time": "2020-09-26T07:59:03.781283Z"
    }
   },
   "outputs": [
    {
     "name": "stdout",
     "output_type": "stream",
     "text": [
      "{'avg_improve_amt': 0.05432854915685779,\n",
      " 'avg_improve_before_2d_iou': 0.5134864536233673,\n",
      " 'avg_worse_amt': -0.1112035454593573,\n",
      " 'avg_worse_before_2d_iou': 0.5005666220267182,\n",
      " 'num_3d_iou_improved': 872,\n",
      " 'num_3d_iou_worse': 1961}\n",
      "example improved instances\n",
      "['0103', '0701', '0073', '0069', '0607', '0681', '0208', '0757', '0254', '0166', '0514', '0767', '0292', '0529', '0356', '0702', '0318', '0625', '0596', '0031', '0606', '0067', '0552', '0246', '0068', '0435', '0426', '0632', '0689', '0535', '0741', '0258', '0631', '0139', '0171', '0104', '0709', '0144', '0413', '0233', '0719', '0748', '0411', '0336', '0065', '0398', '0619', '0597', '0329', '0380', '0707', '0553', '0494', '0743', '0043', '0588', '0305', '0647', '0252', '0271', '0150', '0509', '0014', '0708', '0490', '0684', '0573', '0167', '0558', '0763', '0396', '0752', '0201', '0412', '0543', '0125', '0070', '0484', '0766', '0691', '0546', '0064', '0034', '0710', '0234', '0353', '0533', '0638', '0549', '0592', '0075', '0485', '0281', '0683', '0028', '0235', '0018', '0357', '0079', '0737']\n",
      "example worse instances\n",
      "['0191', '0225', '0649', '0699', '0556', '0085', '0564', '0333', '0046', '0756', '0372', '0118', '0394', '0029', '0332', '0405', '0122', '0352', '0634', '0049', '0294', '0688', '0287', '0511', '0220', '0284', '0454', '0541', '0480', '0455', '0152', '0732', '0022', '0383', '0534', '0011', '0290', '0210', '0395', '0177', '0126', '0728', '0312', '0730', '0660', '0654', '0214', '0149', '0637', '0090', '0238', '0102', '0052', '0151', '0476', '0042', '0370', '0675', '0627', '0030', '0409', '0496', '0274', '0644', '0036', '0578', '0260', '0215', '0243', '0539', '0321', '0523', '0655', '0475', '0566', '0557', '0328', '0055', '0740', '0268', '0527', '0264', '0499', '0129', '0605', '0645', '0700', '0760', '0280', '0487', '0400', '0720', '0339', '0561', '0438', '0232', '0145', '0219', '0666', '0315']\n"
     ]
    }
   ],
   "source": [
    "dataset = \"pix3d\"\n",
    "evaluation_yaml_path_before = \"data_evaluation/{}_chair/occnet.yaml\".format(dataset)\n",
    "evaluation_yaml_path_after = \"data_evaluation/{}_chair/occnet_refined.yaml\".format(dataset)\n",
    "compare_before_after_refinement(evaluation_yaml_path_before, evaluation_yaml_path_after)"
   ]
  },
  {
   "cell_type": "code",
   "execution_count": null,
   "metadata": {},
   "outputs": [],
   "source": [
    "# 0356, 0702, 0596, 0281, 0737\n",
    "# 0085, 0372, 0151, 0409, 0578"
   ]
  },
  {
   "cell_type": "code",
   "execution_count": null,
   "metadata": {},
   "outputs": [],
   "source": []
  },
  {
   "cell_type": "code",
   "execution_count": null,
   "metadata": {},
   "outputs": [],
   "source": []
  },
  {
   "cell_type": "code",
   "execution_count": null,
   "metadata": {},
   "outputs": [],
   "source": []
  }
 ],
 "metadata": {
  "kernelspec": {
   "display_name": "Python [conda env:standard] *",
   "language": "python",
   "name": "conda-env-standard-py"
  },
  "language_info": {
   "codemirror_mode": {
    "name": "ipython",
    "version": 3
   },
   "file_extension": ".py",
   "mimetype": "text/x-python",
   "name": "python",
   "nbconvert_exporter": "python",
   "pygments_lexer": "ipython3",
   "version": "3.6.9"
  }
 },
 "nbformat": 4,
 "nbformat_minor": 4
}
