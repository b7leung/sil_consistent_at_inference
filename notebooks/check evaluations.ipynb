{
 "cells": [
  {
   "cell_type": "code",
   "execution_count": 3,
   "metadata": {
    "ExecuteTime": {
     "end_time": "2020-10-08T10:14:54.721391Z",
     "start_time": "2020-10-08T10:14:54.695090Z"
    }
   },
   "outputs": [],
   "source": [
    "%load_ext autoreload\n",
    "%autoreload 2\n",
    "notebook_fixed_dir = False"
   ]
  },
  {
   "cell_type": "code",
   "execution_count": 4,
   "metadata": {
    "ExecuteTime": {
     "end_time": "2020-10-08T10:14:55.361107Z",
     "start_time": "2020-10-08T10:14:55.350719Z"
    }
   },
   "outputs": [
    {
     "name": "stdout",
     "output_type": "stream",
     "text": [
      "/home/svcl-oowl/brandon/research/sil_consistent_at_inference\n"
     ]
    }
   ],
   "source": [
    "# this cell can only be called once\n",
    "import os\n",
    "if not notebook_fixed_dir:\n",
    "    os.chdir('..')\n",
    "    notebook_fixed_dir = True\n",
    "print(os.getcwd())"
   ]
  },
  {
   "cell_type": "code",
   "execution_count": 5,
   "metadata": {
    "ExecuteTime": {
     "end_time": "2020-10-08T10:15:01.406765Z",
     "start_time": "2020-10-08T10:14:56.387122Z"
    }
   },
   "outputs": [],
   "source": [
    "# imports\n",
    "import pprint\n",
    "import pickle\n",
    "import glob\n",
    "import random\n",
    "from pathlib import Path\n",
    "import math\n",
    "\n",
    "import torch\n",
    "from tqdm import tqdm\n",
    "from PIL import Image\n",
    "import numpy as np\n",
    "from pytorch3d.renderer import look_at_view_transform\n",
    "import matplotlib.pyplot as plt\n",
    "import pandas as pd\n",
    "import cv2\n",
    "\n",
    "from utils import utils\n",
    "from utils import eval_utils\n",
    "import deformation.losses as def_losses"
   ]
  },
  {
   "cell_type": "code",
   "execution_count": 6,
   "metadata": {
    "ExecuteTime": {
     "end_time": "2020-10-08T10:15:01.642560Z",
     "start_time": "2020-10-08T10:15:01.409107Z"
    },
    "scrolled": true
   },
   "outputs": [
    {
     "ename": "ModuleNotFoundError",
     "evalue": "No module named 'xmltodict'",
     "output_type": "error",
     "traceback": [
      "\u001b[0;31m---------------------------------------------------------------------------\u001b[0m",
      "\u001b[0;31mModuleNotFoundError\u001b[0m                       Traceback (most recent call last)",
      "\u001b[0;32m<ipython-input-6-800971d95e46>\u001b[0m in \u001b[0;36m<module>\u001b[0;34m\u001b[0m\n\u001b[1;32m      1\u001b[0m \u001b[0;31m# processing pose quality annotations\u001b[0m\u001b[0;34m\u001b[0m\u001b[0;34m\u001b[0m\u001b[0;34m\u001b[0m\u001b[0m\n\u001b[0;32m----> 2\u001b[0;31m \u001b[0;32mimport\u001b[0m \u001b[0mxmltodict\u001b[0m\u001b[0;34m\u001b[0m\u001b[0;34m\u001b[0m\u001b[0m\n\u001b[0m\u001b[1;32m      3\u001b[0m \u001b[0mpose_annotation_path\u001b[0m \u001b[0;34m=\u001b[0m \u001b[0;34m\"notebooks/pix3d_chair_occnet_pose_quality_annotations.xml\"\u001b[0m\u001b[0;34m\u001b[0m\u001b[0;34m\u001b[0m\u001b[0m\n\u001b[1;32m      4\u001b[0m \u001b[0;31m# processing xml from cvat\u001b[0m\u001b[0;34m\u001b[0m\u001b[0;34m\u001b[0m\u001b[0;34m\u001b[0m\u001b[0m\n\u001b[1;32m      5\u001b[0m \u001b[0;31m# https://github.com/openvinotoolkit/cvat\u001b[0m\u001b[0;34m\u001b[0m\u001b[0;34m\u001b[0m\u001b[0;34m\u001b[0m\u001b[0m\n",
      "\u001b[0;31mModuleNotFoundError\u001b[0m: No module named 'xmltodict'"
     ]
    }
   ],
   "source": [
    "# processing pose quality annotations\n",
    "import xmltodict\n",
    "pose_annotation_path = \"notebooks/pix3d_chair_occnet_pose_quality_annotations.xml\"\n",
    "# processing xml from cvat\n",
    "# https://github.com/openvinotoolkit/cvat\n",
    "with open (pose_annotation_path, 'r') as f:\n",
    "    f = f.read()\n",
    "d = dict(xmltodict.parse(f))\n",
    "\n",
    "pose_annotation_dict = {}\n",
    "pose_quality_stats = {\"num_good\":0, \"num_medium\":0, \"num_bad\":0}\n",
    "for entry in d['annotations']['image']:\n",
    "    anno_dict = dict(entry)\n",
    "    entry_label = dict(anno_dict['tag'])['@label']\n",
    "    pose_annotation_dict[anno_dict['@name'].replace('.png', '')] = entry_label\n",
    "    pose_quality_stats[\"num_{}\".format(entry_label)] += 1\n",
    "    \n",
    "pprint.pprint(pose_quality_stats)\n"
   ]
  },
  {
   "cell_type": "code",
   "execution_count": null,
   "metadata": {
    "ExecuteTime": {
     "end_time": "2020-09-30T06:14:04.407912Z",
     "start_time": "2020-09-30T06:14:04.384309Z"
    }
   },
   "outputs": [],
   "source": [
    "def filter_eval_df_by_quality(original_eval_df, pose_quality_dict, allowed_qualities=[\"good\"]):\n",
    "    instances_to_consider = [instance for instance in pose_quality_dict if pose_quality_dict[instance] in allowed_qualities]    \n",
    "    filtered_df = original_eval_df[original_eval_df[\"instance\"].isin(instances_to_consider)]\n",
    "    return filtered_df"
   ]
  },
  {
   "cell_type": "code",
   "execution_count": null,
   "metadata": {},
   "outputs": [],
   "source": [
    "#q = [\"good\", \"medium\",\"bad\"]\n",
    "#q = [\"good\", \"medium\"]\n",
    "#q = [\"good\"]\n",
    "#results_df = filter_eval_df_by_quality(results_df, pose_annotation_dict, allowed_qualities=q)"
   ]
  },
  {
   "cell_type": "code",
   "execution_count": null,
   "metadata": {},
   "outputs": [],
   "source": []
  },
  {
   "cell_type": "code",
   "execution_count": null,
   "metadata": {},
   "outputs": [],
   "source": []
  },
  {
   "cell_type": "code",
   "execution_count": 7,
   "metadata": {
    "ExecuteTime": {
     "end_time": "2020-10-08T10:15:04.244602Z",
     "start_time": "2020-10-08T10:15:04.208804Z"
    }
   },
   "outputs": [],
   "source": [
    "def compare_before_after_refinement(results_df_before, results_df_after):\n",
    "    \n",
    "    statistics = {\"num_3d_iou_improved\":0, \"avg_improve_amt\": 0, \"avg_improve_before_2d_iou\":0, \"num_3d_iou_worse\":0,  \"avg_worse_amt\":0, \"avg_worse_before_2d_iou\":0}\n",
    "    improved_instances = []\n",
    "    worse_instances = []\n",
    "    comparision_df = pd.DataFrame()\n",
    "    for instance in list(results_df_after[\"instance\"]):\n",
    "        if instance in list(results_df_before[\"instance\"]):\n",
    "            before_result = results_df_before[results_df_before[\"instance\"]==instance]\n",
    "            before_3d_iou = float(before_result[\"3d_iou\"])\n",
    "            #before_2d_iou = float(before_result[\"2d_iou\"])\n",
    "            after_result = results_df_after[results_df_after[\"instance\"]==instance]\n",
    "            after_3d_iou = float(after_result[\"3d_iou\"])\n",
    "            #after_2d_iou = float(after_result[\"2d_iou\"])\n",
    "\n",
    "            #iou_2d_change = after_2d_iou - before_2d_iou\n",
    "            iou_3d_change = after_3d_iou - before_3d_iou\n",
    "\n",
    "            if math.isnan(iou_3d_change):\n",
    "                statistics[\"num_3d_iou_worse\"] += 1\n",
    "                continue\n",
    "            elif iou_3d_change > 0:\n",
    "                statistics[\"num_3d_iou_improved\"] += 1\n",
    "                statistics[\"avg_improve_amt\"] += iou_3d_change\n",
    "                #statistics[\"avg_improve_before_2d_iou\"] += before_2d_iou\n",
    "                improved_instances.append(instance)\n",
    "            else:\n",
    "                statistics[\"num_3d_iou_worse\"] += 1\n",
    "                statistics[\"avg_worse_amt\"] += iou_3d_change\n",
    "                #statistics[\"avg_worse_before_2d_iou\"] += before_2d_iou\n",
    "                worse_instances.append(instance)\n",
    "            comparision_df = comparision_df.append({\"instance\": instance, \"iou_3d_delta\": iou_3d_change}, ignore_index=True)\n",
    "\n",
    "    statistics[\"avg_improve_amt\"] /= statistics[\"num_3d_iou_improved\"]\n",
    "    statistics[\"avg_improve_before_2d_iou\"] /= statistics[\"num_3d_iou_improved\"]\n",
    "    statistics[\"avg_worse_amt\"] /= statistics[\"num_3d_iou_worse\"]\n",
    "    statistics[\"avg_worse_before_2d_iou\"] /= statistics[\"num_3d_iou_worse\"]\n",
    "            \n",
    "    pprint.pprint(statistics)\n",
    "    #print(\"example improved instances\")\n",
    "    #print(improved_instances[:100])\n",
    "    #print(\"example worse instances\")\n",
    "    #print(worse_instances[:100])\n",
    "    return comparision_df"
   ]
  },
  {
   "cell_type": "code",
   "execution_count": 8,
   "metadata": {
    "ExecuteTime": {
     "end_time": "2020-10-08T10:15:05.832301Z",
     "start_time": "2020-10-08T10:15:05.793450Z"
    }
   },
   "outputs": [],
   "source": [
    "def filter_eval_df_warnings(original_df, warnings_to_filter=[\"NaN nodes\", \"compute_iou_3d: gt mesh < 200 occupancies\", \"compute_iou_3d: rec mesh < 200 occupancies\"]):\n",
    "    filter_array = []\n",
    "    warnings_list = original_df[\"eval_warnings\"].tolist()\n",
    "    for i in range(len(original_df)):\n",
    "        warnings = warnings_list[i]\n",
    "        keep=True\n",
    "        for warning in warnings:\n",
    "            if warning in warnings_to_filter:\n",
    "                keep=False\n",
    "        filter_array.append(keep)\n",
    "    return original_df[filter_array]\n",
    "\n",
    "def filter_and_sort_eval_dfs(df1, df2):\n",
    "    df1 = filter_eval_df_warnings(df1)\n",
    "    df2 = filter_eval_df_warnings(df2)\n",
    "    df1_instances = df1[\"instance\"].tolist()\n",
    "    df2_instances = df2[\"instance\"].tolist()\n",
    "    \n",
    "    df1_filters = [(True if df1_instance in df2_instances else False) for df1_instance in df1_instances]\n",
    "    df1_filtered = df1[df1_filters].sort_values(by=\"instance\")\n",
    "    \n",
    "    df2_filters = [(True if df2_instance in df1_instances else False) for df2_instance in df2_instances]\n",
    "    df2_filtered = df2[df2_filters].sort_values(by=\"instance\")\n",
    "    \n",
    "    return df1_filtered, df2_filtered\n",
    "\n",
    "def update_2d_iou_input_to_bf(original_df, bf_2d_iou_df):\n",
    "    if (original_df[\"instance\"].tolist() != bf_2d_iou_df[\"instance\"].tolist() ):\n",
    "        raise ValueError(\"Instances don't match\")\n",
    "    original_df[\"2d_iou_input\"] = bf_2d_iou_df[\"2d_iou_input\"]\n",
    "    return original_df\n",
    "    "
   ]
  },
  {
   "cell_type": "code",
   "execution_count": 42,
   "metadata": {
    "ExecuteTime": {
     "end_time": "2020-10-08T11:27:25.421649Z",
     "start_time": "2020-10-08T11:27:25.390406Z"
    }
   },
   "outputs": [],
   "source": [
    "#class_ids = [\"02691156\", \"02828884\", \"02933112\", \"02958343\", \"03001627\", \"03211117\", \"03636649\", \"03691459\", \"04090263\", \"04256520\", \"04379243\", \"04401088\", \"04530566\"]\n",
    "#class_ids = [\"02691156\", \"02828884\", \"02933112\", \"03001627\", \"03211117\", \"03636649\", \"03691459\", \"04090263\", \"04256520\", \"04401088\", \"04530566\"]\n",
    "class_ids = [\"02933112\"]\n",
    "#python evaluation.py /home/svcl-oowl/brandon/research/occupancy_networks/out/pytorch3d_renders/02933112/generation/meshes --metrics 2d_iou_input --output_filename eval_results_bf_pose"
   ]
  },
  {
   "cell_type": "code",
   "execution_count": 44,
   "metadata": {
    "ExecuteTime": {
     "end_time": "2020-10-08T11:27:41.559063Z",
     "start_time": "2020-10-08T11:27:41.495424Z"
    },
    "scrolled": true
   },
   "outputs": [
    {
     "name": "stdout",
     "output_type": "stream",
     "text": [
      "------------------------------------------------------------------------------------------------------------------------------------------------------------------------------------------\n",
      "/home/svcl-oowl/brandon/research/occupancy_networks/out/pytorch3d_renders/02933112/generation/meshes -> data/pytorch3d_02933112_bf_pose\n",
      "Note: filtering results from 190 to 185\n",
      "\n",
      "\n",
      " Delta: \n",
      "\n",
      "2d_iou_input    1.215097\n",
      "2d_iou_multi    0.966686\n",
      "3d_iou          0.963224\n",
      "chamfer_L1      1.677842\n",
      "dtype: float64\n",
      "3d_iou -- num improved: 47 avg amount: 1.2512263651454982\n",
      "3d_iou -- num worse: 138 avg amount: 0.8651361371976897\n",
      "2d_iou_multi -- num improved: 62 avg amount: 1.0223306352730588\n",
      "2d_iou_multi -- num worse: 123 avg amount: 0.9386374926954606\n"
     ]
    }
   ],
   "source": [
    "pose_type = \"bf\"\n",
    "for class_id in class_ids:\n",
    "    print(\"------------------------------------------------------------------------------------------------------------------------------------------------------------------------------------------\")\n",
    "    evaluation_dir_before = \"/home/svcl-oowl/brandon/research/occupancy_networks/out/pytorch3d_renders/{}/generation/meshes\".format(class_id)\n",
    "    evaluation_dir_after = \"data/pytorch3d_{}_{}_pose\".format(class_id, pose_type)\n",
    "    results_df_before_raw = pd.read_pickle(os.path.join(evaluation_dir_before, \"eval_results.pkl\"))\n",
    "    results_df_after_raw = pd.read_pickle(os.path.join(evaluation_dir_after, \"eval_results.pkl\"))\n",
    "    if pose_type == \"bf\":\n",
    "        results_df_before_raw_bf = pd.read_pickle(os.path.join(evaluation_dir_before, \"eval_results_bf_pose.pkl\"))\n",
    "        results_df_before_raw = update_2d_iou_input_to_bf(results_df_before_raw, results_df_before_raw_bf)\n",
    "\n",
    "    results_df_before, results_df_after = filter_and_sort_eval_dfs(results_df_before_raw, results_df_after_raw)\n",
    "    results_df_before[\"chamfer_L1\"] = results_df_before[\"chamfer_L1\"] * 10\n",
    "    results_df_after[\"chamfer_L1\"] = results_df_after[\"chamfer_L1\"] * 10\n",
    "\n",
    "    metrics = [\"2d_iou_input\", \"2d_iou_multi\", \"3d_iou\", \"chamfer_L1\"]\n",
    "    delta_df = results_df_after[metrics].reset_index(drop=True) / results_df_before[metrics].reset_index(drop=True)\n",
    "    delta_df = delta_df.replace([np.inf, -np.inf], np.nan)\n",
    "    delta_df[\"3d_iou\"] = delta_df[\"3d_iou\"].apply(lambda x: (np.nan if x > 20 else x))\n",
    "    #display(delta_df)\n",
    "    #with pd.option_context('display.max_rows', None, 'display.max_columns', None):  # more options can be specified also\n",
    "    #    display(delta_df.sort_values(\"chamfer_L1\"))\n",
    "    print(\"{} -> {}\".format(evaluation_dir_before, evaluation_dir_after))\n",
    "    print(\"Note: filtering results from {} to {}\\n\".format(max(len(results_df_before_raw), len(results_df_after_raw)), len(results_df_after)))\n",
    "    #print(results_df_before.mean())\n",
    "    #print(\"\\n -> \\n\")\n",
    "    #print(results_df_after.mean())\n",
    "    print(\"\\n Delta: \\n\")\n",
    "    print((delta_df).mean(skipna=True))\n",
    "    \n",
    "    for metric in [\"3d_iou\", \"2d_iou_multi\"]:\n",
    "        num_improved = len(delta_df[delta_df[metric]>1])\n",
    "        avg_improve_amt = delta_df[delta_df[metric]>1][metric].mean()\n",
    "        num_worse = len(delta_df[delta_df[metric]<1])\n",
    "        avg_worse_amt = delta_df[delta_df[metric]<1][metric].mean()\n",
    "        print(\"{} -- num improved: {} avg amount: {}\".format(metric, num_improved, avg_improve_amt))\n",
    "        print(\"{} -- num worse: {} avg amount: {}\".format(metric, num_worse, avg_worse_amt))"
   ]
  },
  {
   "cell_type": "code",
   "execution_count": 24,
   "metadata": {
    "ExecuteTime": {
     "end_time": "2020-10-08T10:40:17.541265Z",
     "start_time": "2020-10-08T10:40:16.921046Z"
    },
    "scrolled": true
   },
   "outputs": [
    {
     "data": {
      "text/html": [
       "<div>\n",
       "<style scoped>\n",
       "    .dataframe tbody tr th:only-of-type {\n",
       "        vertical-align: middle;\n",
       "    }\n",
       "\n",
       "    .dataframe tbody tr th {\n",
       "        vertical-align: top;\n",
       "    }\n",
       "\n",
       "    .dataframe thead th {\n",
       "        text-align: right;\n",
       "    }\n",
       "</style>\n",
       "<table border=\"1\" class=\"dataframe\">\n",
       "  <thead>\n",
       "    <tr style=\"text-align: right;\">\n",
       "      <th></th>\n",
       "      <th>2d_iou_input</th>\n",
       "      <th>2d_iou_multi</th>\n",
       "      <th>3d_iou</th>\n",
       "      <th>chamfer_L1</th>\n",
       "    </tr>\n",
       "  </thead>\n",
       "  <tbody>\n",
       "    <tr>\n",
       "      <th>0</th>\n",
       "      <td>1.975243</td>\n",
       "      <td>0.815484</td>\n",
       "      <td>1.608230</td>\n",
       "      <td>1.181595</td>\n",
       "    </tr>\n",
       "    <tr>\n",
       "      <th>1</th>\n",
       "      <td>1.181669</td>\n",
       "      <td>1.025871</td>\n",
       "      <td>1.724641</td>\n",
       "      <td>0.416722</td>\n",
       "    </tr>\n",
       "    <tr>\n",
       "      <th>2</th>\n",
       "      <td>1.228916</td>\n",
       "      <td>1.061102</td>\n",
       "      <td>1.230691</td>\n",
       "      <td>0.677872</td>\n",
       "    </tr>\n",
       "    <tr>\n",
       "      <th>3</th>\n",
       "      <td>1.106557</td>\n",
       "      <td>0.995610</td>\n",
       "      <td>1.105675</td>\n",
       "      <td>0.989744</td>\n",
       "    </tr>\n",
       "    <tr>\n",
       "      <th>4</th>\n",
       "      <td>1.508282</td>\n",
       "      <td>0.955031</td>\n",
       "      <td>0.432736</td>\n",
       "      <td>1.488205</td>\n",
       "    </tr>\n",
       "    <tr>\n",
       "      <th>...</th>\n",
       "      <td>...</td>\n",
       "      <td>...</td>\n",
       "      <td>...</td>\n",
       "      <td>...</td>\n",
       "    </tr>\n",
       "    <tr>\n",
       "      <th>207</th>\n",
       "      <td>1.102462</td>\n",
       "      <td>1.005924</td>\n",
       "      <td>0.897272</td>\n",
       "      <td>0.918204</td>\n",
       "    </tr>\n",
       "    <tr>\n",
       "      <th>208</th>\n",
       "      <td>1.900759</td>\n",
       "      <td>0.865227</td>\n",
       "      <td>0.727176</td>\n",
       "      <td>3.683845</td>\n",
       "    </tr>\n",
       "    <tr>\n",
       "      <th>209</th>\n",
       "      <td>1.499369</td>\n",
       "      <td>0.824535</td>\n",
       "      <td>0.784320</td>\n",
       "      <td>1.860376</td>\n",
       "    </tr>\n",
       "    <tr>\n",
       "      <th>210</th>\n",
       "      <td>1.443181</td>\n",
       "      <td>0.860426</td>\n",
       "      <td>1.196103</td>\n",
       "      <td>1.761883</td>\n",
       "    </tr>\n",
       "    <tr>\n",
       "      <th>211</th>\n",
       "      <td>2.071218</td>\n",
       "      <td>0.830704</td>\n",
       "      <td>0.671190</td>\n",
       "      <td>4.033290</td>\n",
       "    </tr>\n",
       "  </tbody>\n",
       "</table>\n",
       "<p>212 rows × 4 columns</p>\n",
       "</div>"
      ],
      "text/plain": [
       "     2d_iou_input  2d_iou_multi    3d_iou  chamfer_L1\n",
       "0        1.975243      0.815484  1.608230    1.181595\n",
       "1        1.181669      1.025871  1.724641    0.416722\n",
       "2        1.228916      1.061102  1.230691    0.677872\n",
       "3        1.106557      0.995610  1.105675    0.989744\n",
       "4        1.508282      0.955031  0.432736    1.488205\n",
       "..            ...           ...       ...         ...\n",
       "207      1.102462      1.005924  0.897272    0.918204\n",
       "208      1.900759      0.865227  0.727176    3.683845\n",
       "209      1.499369      0.824535  0.784320    1.860376\n",
       "210      1.443181      0.860426  1.196103    1.761883\n",
       "211      2.071218      0.830704  0.671190    4.033290\n",
       "\n",
       "[212 rows x 4 columns]"
      ]
     },
     "metadata": {},
     "output_type": "display_data"
    },
    {
     "data": {
      "text/plain": [
       "<matplotlib.axes._subplots.AxesSubplot at 0x7feadd9f80f0>"
      ]
     },
     "execution_count": 24,
     "metadata": {},
     "output_type": "execute_result"
    },
    {
     "data": {
      "image/png": "[encoded data removed]",
      "text/plain": [
       "<Figure size 432x288 with 1 Axes>"
      ]
     },
     "metadata": {
      "needs_background": "light"
     },
     "output_type": "display_data"
    },
    {
     "data": {
      "image/png": "[encoded data removed]",
      "text/plain": [
       "<Figure size 432x288 with 1 Axes>"
      ]
     },
     "metadata": {
      "needs_background": "light"
     },
     "output_type": "display_data"
    },
    {
     "data": {
      "image/png": "[encoded data removed]",
      "text/plain": [
       "<Figure size 432x288 with 1 Axes>"
      ]
     },
     "metadata": {
      "needs_background": "light"
     },
     "output_type": "display_data"
    }
   ],
   "source": [
    "display(delta_df)\n",
    "delta_df.plot.scatter(x=\"2d_iou_input\", y=\"2d_iou_multi\")\n",
    "delta_df.plot.scatter(x=\"2d_iou_input\", y=\"3d_iou\")\n",
    "delta_df.plot.scatter(x=\"2d_iou_input\", y=\"chamfer_L1\")"
   ]
  },
  {
   "cell_type": "code",
   "execution_count": null,
   "metadata": {
    "ExecuteTime": {
     "end_time": "2020-10-08T08:05:04.017042Z",
     "start_time": "2020-10-08T08:05:03.918004Z"
    }
   },
   "outputs": [],
   "source": [
    "#display(results_df_before)\n",
    "iou_2d_delta_threshold = 0.17\n",
    "filtered_delta_df = delta_df[delta_df[\"2d_iou_input\"]<iou_2d_delta_threshold]\n",
    "print((filtered_delta_df).mean())\n",
    "print(len(filtered_delta_df))"
   ]
  },
  {
   "cell_type": "code",
   "execution_count": 25,
   "metadata": {
    "ExecuteTime": {
     "end_time": "2020-10-08T11:15:06.645494Z",
     "start_time": "2020-10-08T11:15:05.097260Z"
    },
    "scrolled": false
   },
   "outputs": [
    {
     "name": "stdout",
     "output_type": "stream",
     "text": [
      "{'avg_improve_amt': 0.055270607874723585,\n",
      " 'avg_improve_before_2d_iou': 0.0,\n",
      " 'avg_worse_amt': -0.10630149623603188,\n",
      " 'avg_worse_before_2d_iou': 0.0,\n",
      " 'num_3d_iou_improved': 79,\n",
      " 'num_3d_iou_worse': 133}\n"
     ]
    },
    {
     "data": {
      "text/plain": [
       "array([[<matplotlib.axes._subplots.AxesSubplot object at 0x7feadd8f8be0>]],\n",
       "      dtype=object)"
      ]
     },
     "execution_count": 25,
     "metadata": {},
     "output_type": "execute_result"
    },
    {
     "data": {
      "image/png": "[encoded data removed]",
      "text/plain": [
       "<Figure size 432x288 with 1 Axes>"
      ]
     },
     "metadata": {
      "needs_background": "light"
     },
     "output_type": "display_data"
    }
   ],
   "source": [
    "comp_df = compare_before_after_refinement(results_df_before, results_df_after)\n",
    "comp_df.hist(column=\"iou_3d_delta\", bins=100)"
   ]
  },
  {
   "cell_type": "code",
   "execution_count": null,
   "metadata": {},
   "outputs": [],
   "source": []
  },
  {
   "cell_type": "code",
   "execution_count": null,
   "metadata": {},
   "outputs": [],
   "source": []
  }
 ],
 "metadata": {
  "kernelspec": {
   "display_name": "Python [conda env:standard] *",
   "language": "python",
   "name": "conda-env-standard-py"
  },
  "language_info": {
   "codemirror_mode": {
    "name": "ipython",
    "version": 3
   },
   "file_extension": ".py",
   "mimetype": "text/x-python",
   "name": "python",
   "nbconvert_exporter": "python",
   "pygments_lexer": "ipython3",
   "version": "3.6.9"
  }
 },
 "nbformat": 4,
 "nbformat_minor": 4
}
