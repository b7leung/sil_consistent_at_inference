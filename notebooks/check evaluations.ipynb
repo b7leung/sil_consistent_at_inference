{
 "cells": [
  {
   "cell_type": "code",
   "execution_count": 1,
   "metadata": {
    "ExecuteTime": {
     "end_time": "2020-10-06T23:01:22.654395Z",
     "start_time": "2020-10-06T23:01:22.633601Z"
    }
   },
   "outputs": [],
   "source": [
    "%load_ext autoreload\n",
    "%autoreload 2\n",
    "notebook_fixed_dir = False"
   ]
  },
  {
   "cell_type": "code",
   "execution_count": 2,
   "metadata": {
    "ExecuteTime": {
     "end_time": "2020-10-06T23:01:23.289381Z",
     "start_time": "2020-10-06T23:01:23.278128Z"
    }
   },
   "outputs": [
    {
     "name": "stdout",
     "output_type": "stream",
     "text": [
      "/home/svcl-oowl/brandon/research/sil_consistent_at_inference\n"
     ]
    }
   ],
   "source": [
    "# this cell can only be called once\n",
    "import os\n",
    "if not notebook_fixed_dir:\n",
    "    os.chdir('..')\n",
    "    notebook_fixed_dir = True\n",
    "print(os.getcwd())"
   ]
  },
  {
   "cell_type": "code",
   "execution_count": 3,
   "metadata": {
    "ExecuteTime": {
     "end_time": "2020-10-06T23:01:26.685350Z",
     "start_time": "2020-10-06T23:01:24.311111Z"
    }
   },
   "outputs": [],
   "source": [
    "# imports\n",
    "import pprint\n",
    "import pickle\n",
    "import glob\n",
    "import random\n",
    "from pathlib import Path\n",
    "import math\n",
    "\n",
    "import torch\n",
    "from tqdm import tqdm\n",
    "from PIL import Image\n",
    "import numpy as np\n",
    "from pytorch3d.renderer import look_at_view_transform\n",
    "import matplotlib.pyplot as plt\n",
    "import pandas as pd\n",
    "import cv2\n",
    "\n",
    "from utils import utils\n",
    "from utils import eval_utils\n",
    "import deformation.losses as def_losses"
   ]
  },
  {
   "cell_type": "code",
   "execution_count": null,
   "metadata": {
    "ExecuteTime": {
     "end_time": "2020-09-30T06:14:02.041935Z",
     "start_time": "2020-09-30T06:14:01.659069Z"
    },
    "scrolled": true
   },
   "outputs": [],
   "source": [
    "# processing pose quality annotations\n",
    "import xmltodict\n",
    "pose_annotation_path = \"notebooks/pix3d_chair_occnet_pose_quality_annotations.xml\"\n",
    "# processing xml from cvat\n",
    "# https://github.com/openvinotoolkit/cvat\n",
    "with open (pose_annotation_path, 'r') as f:\n",
    "    f = f.read()\n",
    "d = dict(xmltodict.parse(f))\n",
    "\n",
    "pose_annotation_dict = {}\n",
    "pose_quality_stats = {\"num_good\":0, \"num_medium\":0, \"num_bad\":0}\n",
    "for entry in d['annotations']['image']:\n",
    "    anno_dict = dict(entry)\n",
    "    entry_label = dict(anno_dict['tag'])['@label']\n",
    "    pose_annotation_dict[anno_dict['@name'].replace('.png', '')] = entry_label\n",
    "    pose_quality_stats[\"num_{}\".format(entry_label)] += 1\n",
    "    \n",
    "pprint.pprint(pose_quality_stats)\n"
   ]
  },
  {
   "cell_type": "code",
   "execution_count": null,
   "metadata": {
    "ExecuteTime": {
     "end_time": "2020-09-30T06:14:04.407912Z",
     "start_time": "2020-09-30T06:14:04.384309Z"
    }
   },
   "outputs": [],
   "source": [
    "def filter_eval_df_by_quality(original_eval_df, pose_quality_dict, allowed_qualities=[\"good\"]):\n",
    "    instances_to_consider = [instance for instance in pose_quality_dict if pose_quality_dict[instance] in allowed_qualities]    \n",
    "    filtered_df = original_eval_df[original_eval_df[\"instance\"].isin(instances_to_consider)]\n",
    "    return filtered_df"
   ]
  },
  {
   "cell_type": "code",
   "execution_count": null,
   "metadata": {},
   "outputs": [],
   "source": [
    "#q = [\"good\", \"medium\",\"bad\"]\n",
    "#q = [\"good\", \"medium\"]\n",
    "#q = [\"good\"]\n",
    "#results_df = filter_eval_df_by_quality(results_df, pose_annotation_dict, allowed_qualities=q)"
   ]
  },
  {
   "cell_type": "code",
   "execution_count": null,
   "metadata": {},
   "outputs": [],
   "source": []
  },
  {
   "cell_type": "code",
   "execution_count": null,
   "metadata": {},
   "outputs": [],
   "source": []
  },
  {
   "cell_type": "code",
   "execution_count": 4,
   "metadata": {
    "ExecuteTime": {
     "end_time": "2020-10-06T23:01:28.051177Z",
     "start_time": "2020-10-06T23:01:27.947432Z"
    }
   },
   "outputs": [],
   "source": [
    "def compare_before_after_refinement(results_df_before, results_df_after):\n",
    "    \n",
    "    statistics = {\"num_3d_iou_improved\":0, \"avg_improve_amt\": 0, \"avg_improve_before_2d_iou\":0, \"num_3d_iou_worse\":0,  \"avg_worse_amt\":0, \"avg_worse_before_2d_iou\":0}\n",
    "    improved_instances = []\n",
    "    worse_instances = []\n",
    "    comparision_df = pd.DataFrame()\n",
    "    for instance in list(results_df_after[\"instance\"]):\n",
    "        if instance in list(results_df_before[\"instance\"]):\n",
    "            before_result = results_df_before[results_df_before[\"instance\"]==instance]\n",
    "            before_3d_iou = float(before_result[\"3d_iou\"])\n",
    "            #before_2d_iou = float(before_result[\"2d_iou\"])\n",
    "            after_result = results_df_after[results_df_after[\"instance\"]==instance]\n",
    "            after_3d_iou = float(after_result[\"3d_iou\"])\n",
    "            #after_2d_iou = float(after_result[\"2d_iou\"])\n",
    "\n",
    "            #iou_2d_change = after_2d_iou - before_2d_iou\n",
    "            iou_3d_change = after_3d_iou - before_3d_iou\n",
    "\n",
    "            if math.isnan(iou_3d_change):\n",
    "                statistics[\"num_3d_iou_worse\"] += 1\n",
    "                continue\n",
    "            elif iou_3d_change > 0:\n",
    "                statistics[\"num_3d_iou_improved\"] += 1\n",
    "                statistics[\"avg_improve_amt\"] += iou_3d_change\n",
    "                #statistics[\"avg_improve_before_2d_iou\"] += before_2d_iou\n",
    "                improved_instances.append(instance)\n",
    "            else:\n",
    "                statistics[\"num_3d_iou_worse\"] += 1\n",
    "                statistics[\"avg_worse_amt\"] += iou_3d_change\n",
    "                #statistics[\"avg_worse_before_2d_iou\"] += before_2d_iou\n",
    "                worse_instances.append(instance)\n",
    "            comparision_df = comparision_df.append({\"instance\": instance, \"iou_3d_delta\": iou_3d_change}, ignore_index=True)\n",
    "\n",
    "    statistics[\"avg_improve_amt\"] /= statistics[\"num_3d_iou_improved\"]\n",
    "    statistics[\"avg_improve_before_2d_iou\"] /= statistics[\"num_3d_iou_improved\"]\n",
    "    statistics[\"avg_worse_amt\"] /= statistics[\"num_3d_iou_worse\"]\n",
    "    statistics[\"avg_worse_before_2d_iou\"] /= statistics[\"num_3d_iou_worse\"]\n",
    "            \n",
    "    pprint.pprint(statistics)\n",
    "    #print(\"example improved instances\")\n",
    "    #print(improved_instances[:100])\n",
    "    #print(\"example worse instances\")\n",
    "    #print(worse_instances[:100])\n",
    "    return comparision_df"
   ]
  },
  {
   "cell_type": "code",
   "execution_count": 35,
   "metadata": {
    "ExecuteTime": {
     "end_time": "2020-10-06T23:21:08.387828Z",
     "start_time": "2020-10-06T23:21:08.245028Z"
    }
   },
   "outputs": [],
   "source": [
    "def filter_eval_df_warnings(original_df, warnings_to_filter=[\"NaN nodes\", \"compute_iou_3d: gt mesh < 200 occupancies\", \"compute_iou_3d: rec mesh < 200 occupancies\"]):\n",
    "    filter_array = []\n",
    "    warnings_list = original_df[\"eval_warnings\"].tolist()\n",
    "    for i in range(len(original_df)):\n",
    "        warnings = warnings_list[i]\n",
    "        keep=True\n",
    "        for warning in warnings:\n",
    "            if warning in warnings_to_filter:\n",
    "                keep=False\n",
    "        filter_array.append(keep)\n",
    "    return original_df[filter_array]\n",
    "\n",
    "def filter_and_sort_eval_dfs(df1, df2):\n",
    "    df1 = filter_eval_df_warnings(df1)\n",
    "    df2 = filter_eval_df_warnings(df2)\n",
    "    df1_instances = df1[\"instance\"].tolist()\n",
    "    df2_instances = df2[\"instance\"].tolist()\n",
    "    \n",
    "    df1_filters = [(True if df1_instance in df2_instances else False) for df1_instance in df1_instances]\n",
    "    df1_filtered = df1[df1_filters].sort_values(by=\"instance\")\n",
    "    \n",
    "    df2_filters = [(True if df2_instance in df1_instances else False) for df2_instance in df2_instances]\n",
    "    df2_filtered = df2[df2_filters].sort_values(by=\"instance\")\n",
    "    \n",
    "    return df1_filtered, df2_filtered"
   ]
  },
  {
   "cell_type": "code",
   "execution_count": null,
   "metadata": {},
   "outputs": [],
   "source": [
    "class_ids = [\"02691156\", \"02828884\", \"02933112\", \"02958343\", \"03001627\", \"03211117\", \"03636649\", \"03691459\", \"04090263\", \"04256520\", \"04379243\", \"04401088\", \"04530566\"]"
   ]
  },
  {
   "cell_type": "code",
   "execution_count": 42,
   "metadata": {
    "ExecuteTime": {
     "end_time": "2020-10-06T23:25:14.662261Z",
     "start_time": "2020-10-06T23:25:14.267840Z"
    },
    "scrolled": false
   },
   "outputs": [
    {
     "name": "stdout",
     "output_type": "stream",
     "text": [
      "/home/svcl-oowl/brandon/research/occupancy_networks/out/pytorch3d_renders/03211117/generation/meshes -> data/pytorch3d_03211117_gt_pose\n",
      "Note: filtering results from 219 to 212\n",
      "\n",
      "\n",
      " Delta: \n",
      "\n",
      "2d_iou_input    0.092737\n",
      "2d_iou_multi    0.015911\n",
      "3d_iou         -0.043161\n",
      "chamfer_L1     -0.004319\n",
      "dtype: float64\n"
     ]
    }
   ],
   "source": [
    "class_id = \"03211117\"\n",
    "evaluation_dir_before = \"/home/svcl-oowl/brandon/research/occupancy_networks/out/pytorch3d_renders/{}/generation/meshes\".format(class_id)\n",
    "evaluation_dir_after = \"data/pytorch3d_{}_gt_pose\".format(class_id)\n",
    "results_df_before_raw = pd.read_pickle(os.path.join(evaluation_dir_before, \"eval_results.pkl\"))\n",
    "results_df_after_raw = pd.read_pickle(os.path.join(evaluation_dir_after, \"eval_results.pkl\"))\n",
    "\n",
    "results_df_before, results_df_after = filter_and_sort_eval_dfs(results_df_before_raw, results_df_after_raw)\n",
    "results_df_before[\"chamfer_L1\"] = results_df_before[\"chamfer_L1\"] * 10\n",
    "results_df_after[\"chamfer_L1\"] = results_df_after[\"chamfer_L1\"] * 10\n",
    "\n",
    "metrics = [\"2d_iou_input\", \"2d_iou_multi\", \"3d_iou\", \"chamfer_L1\"]\n",
    "delta_df = results_df_after[metrics] - results_df_before[metrics]\n",
    "\n",
    "print(\"{} -> {}\".format(evaluation_dir_before, evaluation_dir_after))\n",
    "print(\"Note: filtering results from {} to {}\\n\".format(max(len(results_df_before_raw), len(results_df_after_raw)), len(results_df_after)))\n",
    "#print(results_df_before.mean())\n",
    "#print(\"\\n -> \\n\")\n",
    "#print(results_df_after.mean())\n",
    "print(\"\\n Delta: \\n\")\n",
    "print((delta_df).mean())"
   ]
  },
  {
   "cell_type": "code",
   "execution_count": null,
   "metadata": {
    "ExecuteTime": {
     "end_time": "2020-10-06T21:08:43.248274Z",
     "start_time": "2020-10-06T21:08:38.486275Z"
    },
    "scrolled": true
   },
   "outputs": [],
   "source": [
    "comp_df = compare_before_after_refinement(results_df_before, results_df_after)\n",
    "comp_df.hist(column=\"iou_3d_delta\", bins=100)"
   ]
  },
  {
   "cell_type": "code",
   "execution_count": null,
   "metadata": {},
   "outputs": [],
   "source": []
  },
  {
   "cell_type": "code",
   "execution_count": null,
   "metadata": {},
   "outputs": [],
   "source": []
  }
 ],
 "metadata": {
  "kernelspec": {
   "display_name": "Python [conda env:standard] *",
   "language": "python",
   "name": "conda-env-standard-py"
  },
  "language_info": {
   "codemirror_mode": {
    "name": "ipython",
    "version": 3
   },
   "file_extension": ".py",
   "mimetype": "text/x-python",
   "name": "python",
   "nbconvert_exporter": "python",
   "pygments_lexer": "ipython3",
   "version": "3.6.9"
  }
 },
 "nbformat": 4,
 "nbformat_minor": 4
}
