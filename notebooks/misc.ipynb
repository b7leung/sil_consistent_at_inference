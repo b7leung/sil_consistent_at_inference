{
 "cells": [
  {
   "cell_type": "code",
   "execution_count": 1,
   "metadata": {
    "ExecuteTime": {
     "end_time": "2020-09-10T23:10:09.768181Z",
     "start_time": "2020-09-10T23:10:09.748698Z"
    }
   },
   "outputs": [],
   "source": [
    "%load_ext autoreload\n",
    "%autoreload 2\n",
    "notebook_fixed_dir = False"
   ]
  },
  {
   "cell_type": "code",
   "execution_count": 2,
   "metadata": {
    "ExecuteTime": {
     "end_time": "2020-09-10T23:10:10.273782Z",
     "start_time": "2020-09-10T23:10:10.261281Z"
    }
   },
   "outputs": [
    {
     "name": "stdout",
     "output_type": "stream",
     "text": [
      "/home/svcl-oowl/brandon/research/sil_consistent_at_inference\n"
     ]
    }
   ],
   "source": [
    "# this cell can only be called once\n",
    "import os\n",
    "if not notebook_fixed_dir:\n",
    "    os.chdir('..')\n",
    "    notebook_fixed_dir = True\n",
    "print(os.getcwd())"
   ]
  },
  {
   "cell_type": "code",
   "execution_count": 3,
   "metadata": {
    "ExecuteTime": {
     "end_time": "2020-09-10T23:10:13.511726Z",
     "start_time": "2020-09-10T23:10:11.124751Z"
    }
   },
   "outputs": [],
   "source": [
    "# imports\n",
    "import pprint\n",
    "import pickle\n",
    "import glob\n",
    "import random\n",
    "from pathlib import Path\n",
    "\n",
    "import torch\n",
    "from tqdm.autonotebook import tqdm\n",
    "from PIL import Image\n",
    "import numpy as np\n",
    "from pytorch3d.renderer import (\n",
    "    look_at_view_transform\n",
    ")\n",
    "import matplotlib.pyplot as plt\n",
    "import pandas as pd\n",
    "import cv2\n",
    "import numpy as np\n",
    "from mpl_toolkits.mplot3d import Axes3D\n",
    "import pytorch3d\n",
    "\n",
    "from utils import utils\n",
    "import deformation.losses as def_losses\n",
    "from deformation.semantic_discriminator_loss import SemanticDiscriminatorLoss \n",
    "from semantic_discriminator_trainer import train\n",
    "from deformation.semantic_discriminator_dataset import SemanticDiscriminatorDataset\n",
    "from deformation.semantic_discriminator_net import SemanticDiscriminatorNetwork\n",
    "from adversarial.datasets import GenerationDataset, ShapenetRendersDataset, ShapenetPointsDataset\n",
    "\n",
    "%matplotlib notebook"
   ]
  },
  {
   "cell_type": "code",
   "execution_count": 9,
   "metadata": {
    "ExecuteTime": {
     "end_time": "2020-09-10T23:17:56.977279Z",
     "start_time": "2020-09-10T23:17:56.923617Z"
    }
   },
   "outputs": [],
   "source": [
    "gpu_num = 0\n",
    "device = torch.device(\"cuda:\"+str(gpu_num))\n",
    "cfg_path = \"configs/default.yaml\"\n",
    "cfg = utils.load_config(cfg_path, \"configs/default.yaml\")"
   ]
  },
  {
   "cell_type": "code",
   "execution_count": null,
   "metadata": {
    "ExecuteTime": {
     "end_time": "2020-09-10T22:10:25.617734Z",
     "start_time": "2020-09-10T22:10:25.497805Z"
    }
   },
   "outputs": [],
   "source": [
    "shapenet_points_dataset = ShapenetPointsDataset(cfg)\n",
    "print(len(shapenet_points_dataset))\n",
    "points = shapenet_points_dataset.__getitem__(20)\n",
    "print(points.shape)"
   ]
  },
  {
   "cell_type": "code",
   "execution_count": null,
   "metadata": {
    "ExecuteTime": {
     "end_time": "2020-09-10T22:10:27.213298Z",
     "start_time": "2020-09-10T22:10:26.790483Z"
    },
    "scrolled": false
   },
   "outputs": [],
   "source": [
    "\n",
    "pointcloud = points.numpy()\n",
    "fig = plt.figure()\n",
    "ax = fig.add_subplot(111, projection='3d')\n",
    "x = pointcloud[:,0]\n",
    "y = pointcloud[:,1]\n",
    "z = pointcloud[:,2]\n",
    "ax.scatter(x,y,z, marker = '.')"
   ]
  },
  {
   "cell_type": "code",
   "execution_count": null,
   "metadata": {
    "ExecuteTime": {
     "end_time": "2020-09-10T22:21:10.305485Z",
     "start_time": "2020-09-10T22:21:09.788260Z"
    }
   },
   "outputs": [],
   "source": [
    "shapenet_points_dataset = ShapenetPointsDataset(cfg)\n",
    "semantic_dis_loader = torch.utils.data.DataLoader(shapenet_points_dataset, batch_size=16, num_workers=4, shuffle=True)\n",
    "for batch in tqdm(semantic_dis_loader):\n",
    "    pass"
   ]
  },
  {
   "cell_type": "code",
   "execution_count": 10,
   "metadata": {
    "ExecuteTime": {
     "end_time": "2020-09-10T23:18:06.023947Z",
     "start_time": "2020-09-10T23:17:58.148967Z"
    }
   },
   "outputs": [
    {
     "name": "stdout",
     "output_type": "stream",
     "text": [
      "Loading cached generation dataset...\n"
     ]
    }
   ],
   "source": [
    "from torch.utils.data.dataloader import default_collate\n",
    "# input should be a list of dicts\n",
    "def gen_data_collate(batch):\n",
    "    elem = batch[0]\n",
    "    out = {}\n",
    "    for key in elem:\n",
    "        if isinstance(elem[key], pytorch3d.structures.meshes.Meshes):\n",
    "            out[key] = pytorch3d.structures.join_meshes_as_batch([d[key] for d in batch], include_textures=True)\n",
    "        else:\n",
    "            out[key] = default_collate([d[key] for d in batch])\n",
    "\n",
    "    #out =  {key: default_collate([d[key] for d in batch]) for key in elem}\n",
    "    return out\n",
    "\n",
    "generation_dataset = GenerationDataset(cfg)\n"
   ]
  },
  {
   "cell_type": "code",
   "execution_count": 11,
   "metadata": {
    "ExecuteTime": {
     "end_time": "2020-09-10T23:18:14.410626Z",
     "start_time": "2020-09-10T23:18:13.762034Z"
    }
   },
   "outputs": [
    {
     "data": {
      "application/vnd.jupyter.widget-view+json": {
       "model_id": "98014b35ca1949e4895c962d2ad4833c",
       "version_major": 2,
       "version_minor": 0
      },
      "text/plain": [
       "HBox(children=(FloatProgress(value=0.0, max=30.0), HTML(value='')))"
      ]
     },
     "metadata": {},
     "output_type": "display_data"
    },
    {
     "name": "stdout",
     "output_type": "stream",
     "text": [
      "{'image': tensor([[[[0., 0., 0.,  ..., 0., 0., 0.],\n",
      "          [0., 0., 0.,  ..., 0., 0., 0.],\n",
      "          [0., 0., 0.,  ..., 0., 0., 0.],\n",
      "          ...,\n",
      "          [0., 0., 0.,  ..., 0., 0., 0.],\n",
      "          [0., 0., 0.,  ..., 0., 0., 0.],\n",
      "          [0., 0., 0.,  ..., 0., 0., 0.]],\n",
      "\n",
      "         [[0., 0., 0.,  ..., 0., 0., 0.],\n",
      "          [0., 0., 0.,  ..., 0., 0., 0.],\n",
      "          [0., 0., 0.,  ..., 0., 0., 0.],\n",
      "          ...,\n",
      "          [0., 0., 0.,  ..., 0., 0., 0.],\n",
      "          [0., 0., 0.,  ..., 0., 0., 0.],\n",
      "          [0., 0., 0.,  ..., 0., 0., 0.]],\n",
      "\n",
      "         [[0., 0., 0.,  ..., 0., 0., 0.],\n",
      "          [0., 0., 0.,  ..., 0., 0., 0.],\n",
      "          [0., 0., 0.,  ..., 0., 0., 0.],\n",
      "          ...,\n",
      "          [0., 0., 0.,  ..., 0., 0., 0.],\n",
      "          [0., 0., 0.,  ..., 0., 0., 0.],\n",
      "          [0., 0., 0.,  ..., 0., 0., 0.]]],\n",
      "\n",
      "\n",
      "        [[[0., 0., 0.,  ..., 0., 0., 0.],\n",
      "          [0., 0., 0.,  ..., 0., 0., 0.],\n",
      "          [0., 0., 0.,  ..., 0., 0., 0.],\n",
      "          ...,\n",
      "          [0., 0., 0.,  ..., 0., 0., 0.],\n",
      "          [0., 0., 0.,  ..., 0., 0., 0.],\n",
      "          [0., 0., 0.,  ..., 0., 0., 0.]],\n",
      "\n",
      "         [[0., 0., 0.,  ..., 0., 0., 0.],\n",
      "          [0., 0., 0.,  ..., 0., 0., 0.],\n",
      "          [0., 0., 0.,  ..., 0., 0., 0.],\n",
      "          ...,\n",
      "          [0., 0., 0.,  ..., 0., 0., 0.],\n",
      "          [0., 0., 0.,  ..., 0., 0., 0.],\n",
      "          [0., 0., 0.,  ..., 0., 0., 0.]],\n",
      "\n",
      "         [[0., 0., 0.,  ..., 0., 0., 0.],\n",
      "          [0., 0., 0.,  ..., 0., 0., 0.],\n",
      "          [0., 0., 0.,  ..., 0., 0., 0.],\n",
      "          ...,\n",
      "          [0., 0., 0.,  ..., 0., 0., 0.],\n",
      "          [0., 0., 0.,  ..., 0., 0., 0.],\n",
      "          [0., 0., 0.,  ..., 0., 0., 0.]]],\n",
      "\n",
      "\n",
      "        [[[0., 0., 0.,  ..., 0., 0., 0.],\n",
      "          [0., 0., 0.,  ..., 0., 0., 0.],\n",
      "          [0., 0., 0.,  ..., 0., 0., 0.],\n",
      "          ...,\n",
      "          [0., 0., 0.,  ..., 0., 0., 0.],\n",
      "          [0., 0., 0.,  ..., 0., 0., 0.],\n",
      "          [0., 0., 0.,  ..., 0., 0., 0.]],\n",
      "\n",
      "         [[0., 0., 0.,  ..., 0., 0., 0.],\n",
      "          [0., 0., 0.,  ..., 0., 0., 0.],\n",
      "          [0., 0., 0.,  ..., 0., 0., 0.],\n",
      "          ...,\n",
      "          [0., 0., 0.,  ..., 0., 0., 0.],\n",
      "          [0., 0., 0.,  ..., 0., 0., 0.],\n",
      "          [0., 0., 0.,  ..., 0., 0., 0.]],\n",
      "\n",
      "         [[0., 0., 0.,  ..., 0., 0., 0.],\n",
      "          [0., 0., 0.,  ..., 0., 0., 0.],\n",
      "          [0., 0., 0.,  ..., 0., 0., 0.],\n",
      "          ...,\n",
      "          [0., 0., 0.,  ..., 0., 0., 0.],\n",
      "          [0., 0., 0.,  ..., 0., 0., 0.],\n",
      "          [0., 0., 0.,  ..., 0., 0., 0.]]],\n",
      "\n",
      "\n",
      "        ...,\n",
      "\n",
      "\n",
      "        [[[0., 0., 0.,  ..., 0., 0., 0.],\n",
      "          [0., 0., 0.,  ..., 0., 0., 0.],\n",
      "          [0., 0., 0.,  ..., 0., 0., 0.],\n",
      "          ...,\n",
      "          [0., 0., 0.,  ..., 0., 0., 0.],\n",
      "          [0., 0., 0.,  ..., 0., 0., 0.],\n",
      "          [0., 0., 0.,  ..., 0., 0., 0.]],\n",
      "\n",
      "         [[0., 0., 0.,  ..., 0., 0., 0.],\n",
      "          [0., 0., 0.,  ..., 0., 0., 0.],\n",
      "          [0., 0., 0.,  ..., 0., 0., 0.],\n",
      "          ...,\n",
      "          [0., 0., 0.,  ..., 0., 0., 0.],\n",
      "          [0., 0., 0.,  ..., 0., 0., 0.],\n",
      "          [0., 0., 0.,  ..., 0., 0., 0.]],\n",
      "\n",
      "         [[0., 0., 0.,  ..., 0., 0., 0.],\n",
      "          [0., 0., 0.,  ..., 0., 0., 0.],\n",
      "          [0., 0., 0.,  ..., 0., 0., 0.],\n",
      "          ...,\n",
      "          [0., 0., 0.,  ..., 0., 0., 0.],\n",
      "          [0., 0., 0.,  ..., 0., 0., 0.],\n",
      "          [0., 0., 0.,  ..., 0., 0., 0.]]],\n",
      "\n",
      "\n",
      "        [[[0., 0., 0.,  ..., 0., 0., 0.],\n",
      "          [0., 0., 0.,  ..., 0., 0., 0.],\n",
      "          [0., 0., 0.,  ..., 0., 0., 0.],\n",
      "          ...,\n",
      "          [0., 0., 0.,  ..., 0., 0., 0.],\n",
      "          [0., 0., 0.,  ..., 0., 0., 0.],\n",
      "          [0., 0., 0.,  ..., 0., 0., 0.]],\n",
      "\n",
      "         [[0., 0., 0.,  ..., 0., 0., 0.],\n",
      "          [0., 0., 0.,  ..., 0., 0., 0.],\n",
      "          [0., 0., 0.,  ..., 0., 0., 0.],\n",
      "          ...,\n",
      "          [0., 0., 0.,  ..., 0., 0., 0.],\n",
      "          [0., 0., 0.,  ..., 0., 0., 0.],\n",
      "          [0., 0., 0.,  ..., 0., 0., 0.]],\n",
      "\n",
      "         [[0., 0., 0.,  ..., 0., 0., 0.],\n",
      "          [0., 0., 0.,  ..., 0., 0., 0.],\n",
      "          [0., 0., 0.,  ..., 0., 0., 0.],\n",
      "          ...,\n",
      "          [0., 0., 0.,  ..., 0., 0., 0.],\n",
      "          [0., 0., 0.,  ..., 0., 0., 0.],\n",
      "          [0., 0., 0.,  ..., 0., 0., 0.]]],\n",
      "\n",
      "\n",
      "        [[[0., 0., 0.,  ..., 0., 0., 0.],\n",
      "          [0., 0., 0.,  ..., 0., 0., 0.],\n",
      "          [0., 0., 0.,  ..., 0., 0., 0.],\n",
      "          ...,\n",
      "          [0., 0., 0.,  ..., 0., 0., 0.],\n",
      "          [0., 0., 0.,  ..., 0., 0., 0.],\n",
      "          [0., 0., 0.,  ..., 0., 0., 0.]],\n",
      "\n",
      "         [[0., 0., 0.,  ..., 0., 0., 0.],\n",
      "          [0., 0., 0.,  ..., 0., 0., 0.],\n",
      "          [0., 0., 0.,  ..., 0., 0., 0.],\n",
      "          ...,\n",
      "          [0., 0., 0.,  ..., 0., 0., 0.],\n",
      "          [0., 0., 0.,  ..., 0., 0., 0.],\n",
      "          [0., 0., 0.,  ..., 0., 0., 0.]],\n",
      "\n",
      "         [[0., 0., 0.,  ..., 0., 0., 0.],\n",
      "          [0., 0., 0.,  ..., 0., 0., 0.],\n",
      "          [0., 0., 0.,  ..., 0., 0., 0.],\n",
      "          ...,\n",
      "          [0., 0., 0.,  ..., 0., 0., 0.],\n",
      "          [0., 0., 0.,  ..., 0., 0., 0.],\n",
      "          [0., 0., 0.,  ..., 0., 0., 0.]]]]),\n",
      " 'instance_name': ['3330',\n",
      "                   '3341',\n",
      "                   '2481',\n",
      "                   '1630',\n",
      "                   '0396',\n",
      "                   '1134',\n",
      "                   '2353',\n",
      "                   '2329',\n",
      "                   '2185',\n",
      "                   '2141',\n",
      "                   '1010',\n",
      "                   '2627',\n",
      "                   '1762',\n",
      "                   '1351',\n",
      "                   '1514',\n",
      "                   '2689'],\n",
      " 'mask': tensor([[[0., 0., 0.,  ..., 0., 0., 0.],\n",
      "         [0., 0., 0.,  ..., 0., 0., 0.],\n",
      "         [0., 0., 0.,  ..., 0., 0., 0.],\n",
      "         ...,\n",
      "         [0., 0., 0.,  ..., 0., 0., 0.],\n",
      "         [0., 0., 0.,  ..., 0., 0., 0.],\n",
      "         [0., 0., 0.,  ..., 0., 0., 0.]],\n",
      "\n",
      "        [[0., 0., 0.,  ..., 0., 0., 0.],\n",
      "         [0., 0., 0.,  ..., 0., 0., 0.],\n",
      "         [0., 0., 0.,  ..., 0., 0., 0.],\n",
      "         ...,\n",
      "         [0., 0., 0.,  ..., 0., 0., 0.],\n",
      "         [0., 0., 0.,  ..., 0., 0., 0.],\n",
      "         [0., 0., 0.,  ..., 0., 0., 0.]],\n",
      "\n",
      "        [[0., 0., 0.,  ..., 0., 0., 0.],\n",
      "         [0., 0., 0.,  ..., 0., 0., 0.],\n",
      "         [0., 0., 0.,  ..., 0., 0., 0.],\n",
      "         ...,\n",
      "         [0., 0., 0.,  ..., 0., 0., 0.],\n",
      "         [0., 0., 0.,  ..., 0., 0., 0.],\n",
      "         [0., 0., 0.,  ..., 0., 0., 0.]],\n",
      "\n",
      "        ...,\n",
      "\n",
      "        [[0., 0., 0.,  ..., 0., 0., 0.],\n",
      "         [0., 0., 0.,  ..., 0., 0., 0.],\n",
      "         [0., 0., 0.,  ..., 0., 0., 0.],\n",
      "         ...,\n",
      "         [0., 0., 0.,  ..., 0., 0., 0.],\n",
      "         [0., 0., 0.,  ..., 0., 0., 0.],\n",
      "         [0., 0., 0.,  ..., 0., 0., 0.]],\n",
      "\n",
      "        [[0., 0., 0.,  ..., 0., 0., 0.],\n",
      "         [0., 0., 0.,  ..., 0., 0., 0.],\n",
      "         [0., 0., 0.,  ..., 0., 0., 0.],\n",
      "         ...,\n",
      "         [0., 0., 0.,  ..., 0., 0., 0.],\n",
      "         [0., 0., 0.,  ..., 0., 0., 0.],\n",
      "         [0., 0., 0.,  ..., 0., 0., 0.]],\n",
      "\n",
      "        [[0., 0., 0.,  ..., 0., 0., 0.],\n",
      "         [0., 0., 0.,  ..., 0., 0., 0.],\n",
      "         [0., 0., 0.,  ..., 0., 0., 0.],\n",
      "         ...,\n",
      "         [0., 0., 0.,  ..., 0., 0., 0.],\n",
      "         [0., 0., 0.,  ..., 0., 0., 0.],\n",
      "         [0., 0., 0.,  ..., 0., 0., 0.]]]),\n",
      " 'mesh': <pytorch3d.structures.meshes.Meshes object at 0x7f30750d1b70>,\n",
      " 'mesh_verts': tensor([[[-0.3264,  0.4596,  0.0142],\n",
      "         [-0.3271,  0.4680, -0.0268],\n",
      "         [-0.3281,  0.4812, -0.0575],\n",
      "         ...,\n",
      "         [ 0.2495,  0.1117, -0.0550],\n",
      "         [ 0.2510,  0.1117, -0.0365],\n",
      "         [ 0.2501,  0.1118, -0.0043]],\n",
      "\n",
      "        [[-0.2761,  0.4639, -0.0476],\n",
      "         [-0.2732,  0.4586, -0.0365],\n",
      "         [-0.2785,  0.4641, -0.0204],\n",
      "         ...,\n",
      "         [ 0.2433,  0.1031, -0.0967],\n",
      "         [ 0.2490,  0.0861, -0.0059],\n",
      "         [ 0.2494,  0.0863,  0.0215]],\n",
      "\n",
      "        [[-0.3996, -0.0157, -0.0469],\n",
      "         [-0.3937, -0.0245,  0.0301],\n",
      "         [-0.4004, -0.0127,  0.0422],\n",
      "         ...,\n",
      "         [ 0.4045,  0.0179, -0.1330],\n",
      "         [ 0.4037,  0.0226, -0.2581],\n",
      "         [ 0.4088,  0.0236, -0.1921]],\n",
      "\n",
      "        ...,\n",
      "\n",
      "        [[-0.2761, -0.1038, -0.0428],\n",
      "         [-0.2777, -0.1035,  0.0654],\n",
      "         [-0.2707, -0.1057,  0.0529],\n",
      "         ...,\n",
      "         [ 0.2989, -0.0768,  0.0734],\n",
      "         [ 0.2967, -0.0770,  0.1384],\n",
      "         [ 0.2953, -0.0773,  0.2386]],\n",
      "\n",
      "        [[-0.3098, -0.4892, -0.2437],\n",
      "         [-0.3130, -0.4812, -0.2363],\n",
      "         [-0.2994, -0.4902, -0.2260],\n",
      "         ...,\n",
      "         [ 0.3153, -0.3984, -0.2233],\n",
      "         [ 0.3320, -0.4898, -0.2148],\n",
      "         [ 0.3277, -0.4736, -0.2240]],\n",
      "\n",
      "        [[-0.3816,  0.4879,  0.0146],\n",
      "         [-0.3792,  0.4970, -0.0697],\n",
      "         [-0.3608,  0.5021, -0.1088],\n",
      "         ...,\n",
      "         [ 0.3110, -0.4693, -0.0008],\n",
      "         [ 0.3037, -0.4714, -0.0219],\n",
      "         [ 0.3165, -0.4513, -0.0091]]]),\n",
      " 'pose': tensor([[  1.2051, 170.5263,  56.8421],\n",
      "        [  1.1410, 170.5263,  37.8947],\n",
      "        [  1.3333,  94.7368, 265.2632],\n",
      "        [  1.0769, 142.1053, 303.1579],\n",
      "        [  1.0769,  28.4211, 113.6842],\n",
      "        [  1.1410,  37.8947, 303.1579],\n",
      "        [  1.0769,  28.4211, 132.6316],\n",
      "        [  1.2051,   9.4737, 303.1579],\n",
      "        [  1.1410, 142.1053,   0.0000],\n",
      "        [  1.1410,  28.4211, 360.0000],\n",
      "        [  1.1410, 142.1053, 113.6842],\n",
      "        [  1.0128, 142.1053, 132.6316],\n",
      "        [  1.3974,  28.4211, 113.6842],\n",
      "        [  1.0769,  28.4211,  94.7368],\n",
      "        [  1.0128, 104.2105,  94.7368],\n",
      "        [  1.2692,   0.0000, 303.1579]])}\n",
      "\n"
     ]
    }
   ],
   "source": [
    "generation_loader = torch.utils.data.DataLoader(generation_dataset, batch_size=16, num_workers=4, shuffle=True, collate_fn=gen_data_collate, drop_last=True)\n",
    "for batch in tqdm(generation_loader):\n",
    "    pprint.pprint(batch)\n",
    "    break"
   ]
  }
 ],
 "metadata": {
  "kernelspec": {
   "display_name": "Python [conda env:standard] *",
   "language": "python",
   "name": "conda-env-standard-py"
  },
  "language_info": {
   "codemirror_mode": {
    "name": "ipython",
    "version": 3
   },
   "file_extension": ".py",
   "mimetype": "text/x-python",
   "name": "python",
   "nbconvert_exporter": "python",
   "pygments_lexer": "ipython3",
   "version": "3.6.9"
  }
 },
 "nbformat": 4,
 "nbformat_minor": 4
}
